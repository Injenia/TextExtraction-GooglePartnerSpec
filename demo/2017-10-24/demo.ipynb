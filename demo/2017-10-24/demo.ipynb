{
 "cells": [
  {
   "cell_type": "markdown",
   "metadata": {
    "deletable": true,
    "editable": true
   },
   "source": [
    "# Demo 24/10/2017"
   ]
  },
  {
   "cell_type": "markdown",
   "metadata": {
    "deletable": true,
    "editable": true
   },
   "source": [
    "### IMPORTS & UTILITIES"
   ]
  },
  {
   "cell_type": "code",
   "execution_count": 1,
   "metadata": {
    "collapsed": false,
    "deletable": true,
    "editable": true
   },
   "outputs": [
    {
     "name": "stderr",
     "output_type": "stream",
     "text": [
      "Using TensorFlow backend.\n"
     ]
    }
   ],
   "source": [
    "# This Python file uses the following encoding: utf-8\n",
    "from lib.predict_pdf import predict_documents_pdf, predictions_dataframe, load_prediction_models\n",
    "from lib.utils import move_flattened_files\n",
    "from lib.untar import ExtractNested\n",
    "import os"
   ]
  },
  {
   "cell_type": "code",
   "execution_count": 8,
   "metadata": {
    "collapsed": false,
    "deletable": true,
    "editable": true
   },
   "outputs": [],
   "source": [
    "def basenames(files):\n",
    "    return [os.path.basename(f) for f in files]"
   ]
  },
  {
   "cell_type": "code",
   "execution_count": 5,
   "metadata": {
    "collapsed": true,
    "deletable": true,
    "editable": true
   },
   "outputs": [],
   "source": [
    "# Dimensione < 1MB con nome che termina per 001.pdf\n",
    "def file_filter(f):\n",
    "    return str(f).endswith(u'001.pdf') and os.path.getsize(str(f))<(1024**2)"
   ]
  },
  {
   "cell_type": "code",
   "execution_count": null,
   "metadata": {
    "collapsed": true
   },
   "outputs": [],
   "source": [
    "models_original = {'gensim_file':'models/gensim_model_5000.d2v', \n",
    "                  'keras_model_file':'models/keras_model.json',\n",
    "                  'keras_weights_file':'models/keras_weights_5000.h5',\n",
    "                  'permitted_words_file':'first_5000_words.json'}\n",
    "\n",
    "models_with_a05 = {'gensim_file':'models/gensim_5000_model_with_verb.d2v', \n",
    "                  'keras_model_file':'models/keras_model.json',\n",
    "                  'keras_weights_file':'models/keras_new_weights_with_verb_es.h5',\n",
    "                  'permitted_words_file':'first_5000_words_with_verb_cost.json'}"
   ]
  },
  {
   "cell_type": "markdown",
   "metadata": {
    "deletable": true,
    "editable": true
   },
   "source": [
    "### CONFIGURATION"
   ]
  },
  {
   "cell_type": "code",
   "execution_count": 2,
   "metadata": {
    "collapsed": false,
    "deletable": true,
    "editable": true
   },
   "outputs": [],
   "source": [
    "pdf_folder = 'work/lotto-infocamere/extracted'\n",
    "extract_from_tar = True\n",
    "tar_root = 'work/lotto-infocamere/M_L_lotto_17.tar.gz'\n",
    "\n",
    "do_ocr = False\n",
    "csv_out_file = 'predictions-20171023-01.csv'"
   ]
  },
  {
   "cell_type": "markdown",
   "metadata": {
    "deletable": true,
    "editable": true
   },
   "source": [
    "### TAR EXTRACTION"
   ]
  },
  {
   "cell_type": "code",
   "execution_count": null,
   "metadata": {
    "collapsed": false,
    "deletable": true,
    "editable": true
   },
   "outputs": [],
   "source": [
    "# Solo se si deve partire da una tar e non si è già estratto\n",
    "if extract_from_tar and not os.path.exists(tar_root[:-7]):\n",
    "    ExtractNested(tar_root)\n",
    "    move_flattened_files(tar_root[:-7], pdf_folder, file_filter)"
   ]
  },
  {
   "cell_type": "markdown",
   "metadata": {
    "deletable": true,
    "editable": true
   },
   "source": [
    "### MODELS SELECTION"
   ]
  },
  {
   "cell_type": "code",
   "execution_count": 16,
   "metadata": {
    "collapsed": false,
    "deletable": true,
    "editable": true
   },
   "outputs": [],
   "source": [
    "# Change the model here\n",
    "#models_demo = models_original\n",
    "models_demo = models_with_a05\n",
    "\n",
    "predict_pdfs = load_prediction_models(**models_demo)"
   ]
  },
  {
   "cell_type": "markdown",
   "metadata": {
    "deletable": true,
    "editable": true
   },
   "source": [
    "### RUN PREDICTION"
   ]
  },
  {
   "cell_type": "code",
   "execution_count": 17,
   "metadata": {
    "collapsed": false,
    "deletable": true,
    "editable": true
   },
   "outputs": [
    {
     "name": "stdout",
     "output_type": "stream",
     "text": [
      "'charmap' codec can't decode byte 0x9d in position 14541: character maps to <undefined>\n",
      "'charmap' codec can't decode byte 0x9d in position 7902: character maps to <undefined>\n",
      "'charmap' codec can't decode byte 0x9d in position 9605: character maps to <undefined>\n",
      "decode() argument 1 must be string, not None\n",
      "decode() argument 1 must be string, not None\n",
      "'charmap' codec can't decode byte 0x9d in position 9279: character maps to <undefined>\n",
      "'charmap' codec can't decode byte 0x9d in position 1176: character maps to <undefined>\n",
      "decode() argument 1 must be string, not None\n",
      "'charmap' codec can't decode byte 0x9d in position 4943: character maps to <undefined>\n"
     ]
    }
   ],
   "source": [
    "pdf_names = [os.path.join(pdf_folder, f) for f in os.listdir(pdf_folder)]\n",
    "#pdf_names = ['../files_to_predict/4908476390001.pdf']\n",
    "predictions, filtered_filenames = predict_pdfs(pdf_names, do_ocr=do_ocr)"
   ]
  },
  {
   "cell_type": "markdown",
   "metadata": {},
   "source": [
    "### ANALYSIS"
   ]
  },
  {
   "cell_type": "code",
   "execution_count": 18,
   "metadata": {
    "collapsed": true
   },
   "outputs": [],
   "source": [
    "df_2 = predictions_dataframe(basenames(pdf_names), basenames(filtered_filenames), predictions, csv_out_file)"
   ]
  },
  {
   "cell_type": "markdown",
   "metadata": {
    "deletable": true,
    "editable": true
   },
   "source": [
    "#### SAVE TO CSV"
   ]
  },
  {
   "cell_type": "code",
   "execution_count": 9,
   "metadata": {
    "collapsed": false,
    "deletable": true,
    "editable": true
   },
   "outputs": [],
   "source": [
    "df_2.to_csv(csv_out_file,  sep=',', index=False, encoding='utf-8')\n",
    "#df_2\n",
    "\n",
    "# 5169337840001 - ATTO COSTITUTIVO (STATUTO NON PRESENTE)\n",
    "# 5169141160001 - ATTO COSTITUTIVO (STATUTO NON PRESENTE)\n",
    "# 5169922270001 - ATTO COSTITUTIVO (STATUTO NON PRESENTE)\n",
    "\n",
    "# SCANSIONI:\n",
    "#work/test-infocamere-03/extracted/5169471370001.pdf Estrazione testo con Vision API.\n",
    "#work/test-infocamere-03/extracted/5170300980001.pdf Estrazione testo con Vision API.\n",
    "#work/test-infocamere-03/extracted/5170175060001.pdf Estrazione testo con Vision API.\n",
    "#work/test-infocamere-03/extracted/5169589600001.pdf Estrazione testo con Vision API.\n",
    "#work/test-infocamere-03/extracted/5169412510001.pdf Estrazione testo con Vision API.\n",
    "#work/test-infocamere-03/extracted/5169671840001.pdf Estrazione testo con Vision API.\n",
    "#work/test-infocamere-03/extracted/5169646140001.pdf Estrazione testo con Vision API.\n",
    "#work/test-infocamere-03/extracted/5169527970001.pdf Estrazione testo con Vision API.\n",
    "#invalid literal for int() with base 10: ''\n",
    "#work/test-infocamere-03/extracted/5169957430001.pdf Estrazione testo con Vision API."
   ]
  },
  {
   "cell_type": "markdown",
   "metadata": {},
   "source": [
    "#### SUMMARY"
   ]
  },
  {
   "cell_type": "code",
   "execution_count": 19,
   "metadata": {
    "collapsed": false,
    "deletable": true,
    "editable": true
   },
   "outputs": [
    {
     "data": {
      "text/plain": [
       "Predizione\n",
       "                    43\n",
       "NON COSTITUTIVO    801\n",
       "Name: Predizione, dtype: int64"
      ]
     },
     "execution_count": 19,
     "metadata": {},
     "output_type": "execute_result"
    }
   ],
   "source": [
    "df_2_X = df_2.groupby(df_2['Predizione'])['Predizione'].count()\n",
    "df_2_X"
   ]
  },
  {
   "cell_type": "markdown",
   "metadata": {},
   "source": [
    "#### TABELLA X TIPOLOGIA"
   ]
  },
  {
   "cell_type": "code",
   "execution_count": 13,
   "metadata": {
    "collapsed": false,
    "deletable": true,
    "editable": true
   },
   "outputs": [
    {
     "data": {
      "text/html": [
       "<div>\n",
       "<style>\n",
       "    .dataframe thead tr:only-child th {\n",
       "        text-align: right;\n",
       "    }\n",
       "\n",
       "    .dataframe thead th {\n",
       "        text-align: left;\n",
       "    }\n",
       "\n",
       "    .dataframe tbody tr th {\n",
       "        vertical-align: top;\n",
       "    }\n",
       "</style>\n",
       "<table border=\"1\" class=\"dataframe\">\n",
       "  <thead>\n",
       "    <tr style=\"text-align: right;\">\n",
       "      <th></th>\n",
       "      <th>Nome file</th>\n",
       "      <th>Errore</th>\n",
       "      <th>Messaggio errore</th>\n",
       "      <th>Output rete</th>\n",
       "      <th>Predizione</th>\n",
       "    </tr>\n",
       "  </thead>\n",
       "  <tbody>\n",
       "    <tr>\n",
       "      <th>22</th>\n",
       "      <td>5045904920001.pdf</td>\n",
       "      <td>No</td>\n",
       "      <td></td>\n",
       "      <td>0.216661</td>\n",
       "      <td>NON COSTITUTIVO</td>\n",
       "    </tr>\n",
       "    <tr>\n",
       "      <th>28</th>\n",
       "      <td>5047078000001.pdf</td>\n",
       "      <td>No</td>\n",
       "      <td></td>\n",
       "      <td>0.337055</td>\n",
       "      <td>NON COSTITUTIVO</td>\n",
       "    </tr>\n",
       "    <tr>\n",
       "      <th>81</th>\n",
       "      <td>5047659080001.pdf</td>\n",
       "      <td>No</td>\n",
       "      <td></td>\n",
       "      <td>0.291721</td>\n",
       "      <td>NON COSTITUTIVO</td>\n",
       "    </tr>\n",
       "    <tr>\n",
       "      <th>116</th>\n",
       "      <td>5045240100001.pdf</td>\n",
       "      <td>No</td>\n",
       "      <td></td>\n",
       "      <td>0.133355</td>\n",
       "      <td>NON COSTITUTIVO</td>\n",
       "    </tr>\n",
       "    <tr>\n",
       "      <th>131</th>\n",
       "      <td>5044763240001.pdf</td>\n",
       "      <td>No</td>\n",
       "      <td></td>\n",
       "      <td>0.20168</td>\n",
       "      <td>NON COSTITUTIVO</td>\n",
       "    </tr>\n",
       "    <tr>\n",
       "      <th>166</th>\n",
       "      <td>5047978910001.pdf</td>\n",
       "      <td>No</td>\n",
       "      <td></td>\n",
       "      <td>0.113453</td>\n",
       "      <td>NON COSTITUTIVO</td>\n",
       "    </tr>\n",
       "    <tr>\n",
       "      <th>310</th>\n",
       "      <td>5044717980001.pdf</td>\n",
       "      <td>No</td>\n",
       "      <td></td>\n",
       "      <td>0.246016</td>\n",
       "      <td>NON COSTITUTIVO</td>\n",
       "    </tr>\n",
       "    <tr>\n",
       "      <th>329</th>\n",
       "      <td>5047988090001.pdf</td>\n",
       "      <td>No</td>\n",
       "      <td></td>\n",
       "      <td>0.0930616</td>\n",
       "      <td>NON COSTITUTIVO</td>\n",
       "    </tr>\n",
       "    <tr>\n",
       "      <th>360</th>\n",
       "      <td>5046857020001.pdf</td>\n",
       "      <td>No</td>\n",
       "      <td></td>\n",
       "      <td>0.0276731</td>\n",
       "      <td>NON COSTITUTIVO</td>\n",
       "    </tr>\n",
       "    <tr>\n",
       "      <th>402</th>\n",
       "      <td>5044661780001.pdf</td>\n",
       "      <td>No</td>\n",
       "      <td></td>\n",
       "      <td>0.227685</td>\n",
       "      <td>NON COSTITUTIVO</td>\n",
       "    </tr>\n",
       "    <tr>\n",
       "      <th>408</th>\n",
       "      <td>5048747160001.pdf</td>\n",
       "      <td>No</td>\n",
       "      <td></td>\n",
       "      <td>0.488609</td>\n",
       "      <td>NON COSTITUTIVO</td>\n",
       "    </tr>\n",
       "    <tr>\n",
       "      <th>410</th>\n",
       "      <td>5044609360001.pdf</td>\n",
       "      <td>No</td>\n",
       "      <td></td>\n",
       "      <td>0.113643</td>\n",
       "      <td>NON COSTITUTIVO</td>\n",
       "    </tr>\n",
       "    <tr>\n",
       "      <th>495</th>\n",
       "      <td>5046437640001.pdf</td>\n",
       "      <td>No</td>\n",
       "      <td></td>\n",
       "      <td>0.399671</td>\n",
       "      <td>NON COSTITUTIVO</td>\n",
       "    </tr>\n",
       "    <tr>\n",
       "      <th>561</th>\n",
       "      <td>5046462500001.pdf</td>\n",
       "      <td>No</td>\n",
       "      <td></td>\n",
       "      <td>0.20864</td>\n",
       "      <td>NON COSTITUTIVO</td>\n",
       "    </tr>\n",
       "    <tr>\n",
       "      <th>568</th>\n",
       "      <td>5047981960001.pdf</td>\n",
       "      <td>No</td>\n",
       "      <td></td>\n",
       "      <td>0.214162</td>\n",
       "      <td>NON COSTITUTIVO</td>\n",
       "    </tr>\n",
       "    <tr>\n",
       "      <th>588</th>\n",
       "      <td>5044565020001.pdf</td>\n",
       "      <td>No</td>\n",
       "      <td></td>\n",
       "      <td>0.311735</td>\n",
       "      <td>NON COSTITUTIVO</td>\n",
       "    </tr>\n",
       "    <tr>\n",
       "      <th>723</th>\n",
       "      <td>5046356350001.pdf</td>\n",
       "      <td>No</td>\n",
       "      <td></td>\n",
       "      <td>0.138452</td>\n",
       "      <td>NON COSTITUTIVO</td>\n",
       "    </tr>\n",
       "    <tr>\n",
       "      <th>733</th>\n",
       "      <td>5044590930001.pdf</td>\n",
       "      <td>No</td>\n",
       "      <td></td>\n",
       "      <td>0.28691</td>\n",
       "      <td>NON COSTITUTIVO</td>\n",
       "    </tr>\n",
       "    <tr>\n",
       "      <th>751</th>\n",
       "      <td>5048306940001.pdf</td>\n",
       "      <td>No</td>\n",
       "      <td></td>\n",
       "      <td>0.2183</td>\n",
       "      <td>NON COSTITUTIVO</td>\n",
       "    </tr>\n",
       "    <tr>\n",
       "      <th>753</th>\n",
       "      <td>5048547840001.pdf</td>\n",
       "      <td>No</td>\n",
       "      <td></td>\n",
       "      <td>0.0493628</td>\n",
       "      <td>NON COSTITUTIVO</td>\n",
       "    </tr>\n",
       "    <tr>\n",
       "      <th>771</th>\n",
       "      <td>5047980860001.pdf</td>\n",
       "      <td>No</td>\n",
       "      <td></td>\n",
       "      <td>0.420965</td>\n",
       "      <td>NON COSTITUTIVO</td>\n",
       "    </tr>\n",
       "  </tbody>\n",
       "</table>\n",
       "</div>"
      ],
      "text/plain": [
       "             Nome file Errore Messaggio errore Output rete       Predizione\n",
       "22   5045904920001.pdf     No                     0.216661  NON COSTITUTIVO\n",
       "28   5047078000001.pdf     No                     0.337055  NON COSTITUTIVO\n",
       "81   5047659080001.pdf     No                     0.291721  NON COSTITUTIVO\n",
       "116  5045240100001.pdf     No                     0.133355  NON COSTITUTIVO\n",
       "131  5044763240001.pdf     No                      0.20168  NON COSTITUTIVO\n",
       "166  5047978910001.pdf     No                     0.113453  NON COSTITUTIVO\n",
       "310  5044717980001.pdf     No                     0.246016  NON COSTITUTIVO\n",
       "329  5047988090001.pdf     No                    0.0930616  NON COSTITUTIVO\n",
       "360  5046857020001.pdf     No                    0.0276731  NON COSTITUTIVO\n",
       "402  5044661780001.pdf     No                     0.227685  NON COSTITUTIVO\n",
       "408  5048747160001.pdf     No                     0.488609  NON COSTITUTIVO\n",
       "410  5044609360001.pdf     No                     0.113643  NON COSTITUTIVO\n",
       "495  5046437640001.pdf     No                     0.399671  NON COSTITUTIVO\n",
       "561  5046462500001.pdf     No                      0.20864  NON COSTITUTIVO\n",
       "568  5047981960001.pdf     No                     0.214162  NON COSTITUTIVO\n",
       "588  5044565020001.pdf     No                     0.311735  NON COSTITUTIVO\n",
       "723  5046356350001.pdf     No                     0.138452  NON COSTITUTIVO\n",
       "733  5044590930001.pdf     No                      0.28691  NON COSTITUTIVO\n",
       "751  5048306940001.pdf     No                       0.2183  NON COSTITUTIVO\n",
       "753  5048547840001.pdf     No                    0.0493628  NON COSTITUTIVO\n",
       "771  5047980860001.pdf     No                     0.420965  NON COSTITUTIVO"
      ]
     },
     "execution_count": 13,
     "metadata": {},
     "output_type": "execute_result"
    }
   ],
   "source": [
    "df_2[df_2['Predizione'] == 'NON COSTITUTIVO']"
   ]
  },
  {
   "cell_type": "markdown",
   "metadata": {},
   "source": [
    "#### FOCUS: SINGOLO FILE"
   ]
  },
  {
   "cell_type": "code",
   "execution_count": 15,
   "metadata": {
    "collapsed": false,
    "deletable": true,
    "editable": true
   },
   "outputs": [
    {
     "data": {
      "text/html": [
       "<div>\n",
       "<style>\n",
       "    .dataframe thead tr:only-child th {\n",
       "        text-align: right;\n",
       "    }\n",
       "\n",
       "    .dataframe thead th {\n",
       "        text-align: left;\n",
       "    }\n",
       "\n",
       "    .dataframe tbody tr th {\n",
       "        vertical-align: top;\n",
       "    }\n",
       "</style>\n",
       "<table border=\"1\" class=\"dataframe\">\n",
       "  <thead>\n",
       "    <tr style=\"text-align: right;\">\n",
       "      <th></th>\n",
       "      <th>Nome file</th>\n",
       "      <th>Errore</th>\n",
       "      <th>Messaggio errore</th>\n",
       "      <th>Output rete</th>\n",
       "      <th>Predizione</th>\n",
       "    </tr>\n",
       "  </thead>\n",
       "  <tbody>\n",
       "    <tr>\n",
       "      <th>753</th>\n",
       "      <td>5048547840001.pdf</td>\n",
       "      <td>No</td>\n",
       "      <td></td>\n",
       "      <td>0.0493628</td>\n",
       "      <td>NON COSTITUTIVO</td>\n",
       "    </tr>\n",
       "  </tbody>\n",
       "</table>\n",
       "</div>"
      ],
      "text/plain": [
       "             Nome file Errore Messaggio errore Output rete       Predizione\n",
       "753  5048547840001.pdf     No                    0.0493628  NON COSTITUTIVO"
      ]
     },
     "execution_count": 15,
     "metadata": {},
     "output_type": "execute_result"
    }
   ],
   "source": [
    "df_2[df_2['Nome file'] == '5048547840001.pdf']"
   ]
  }
 ],
 "metadata": {
  "kernelspec": {
   "display_name": "Python 2",
   "language": "python",
   "name": "python2"
  },
  "language_info": {
   "codemirror_mode": {
    "name": "ipython",
    "version": 2
   },
   "file_extension": ".py",
   "mimetype": "text/x-python",
   "name": "python",
   "nbconvert_exporter": "python",
   "pygments_lexer": "ipython2",
   "version": "2.7.12"
  }
 },
 "nbformat": 4,
 "nbformat_minor": 2
}

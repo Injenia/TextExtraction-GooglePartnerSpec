{
 "cells": [
  {
   "cell_type": "code",
   "execution_count": 1,
   "metadata": {
    "collapsed": false,
    "deletable": true,
    "editable": true
   },
   "outputs": [
    {
     "name": "stderr",
     "output_type": "stream",
     "text": [
      "Using TensorFlow backend.\n"
     ]
    },
    {
     "name": "stdout",
     "output_type": "stream",
     "text": [
      "Data loaded\n",
      "Data padded\n",
      "Data splitted\n"
     ]
    },
    {
     "name": "stderr",
     "output_type": "stream",
     "text": [
      "/usr/local/lib/python2.7/dist-packages/sklearn/model_selection/_split.py:2026: FutureWarning: From version 0.21, test_size will always complement train_size unless both are specified.\n",
      "  FutureWarning)\n"
     ]
    },
    {
     "name": "stdout",
     "output_type": "stream",
     "text": [
      "_________________________________________________________________\n",
      "Layer (type)                 Output Shape              Param #   \n",
      "=================================================================\n",
      "embedding_1 (Embedding)      (None, 500, 32)           320000    \n",
      "_________________________________________________________________\n",
      "lstm_1 (LSTM)                (None, 32)                8320      \n",
      "_________________________________________________________________\n",
      "dense_1 (Dense)              (None, 1)                 33        \n",
      "=================================================================\n",
      "Total params: 328,353\n",
      "Trainable params: 328,353\n",
      "Non-trainable params: 0\n",
      "_________________________________________________________________\n",
      "None\n",
      "()\n",
      "Test classification report\n",
      "Accuracy: 0.988180\n",
      "             precision    recall  f1-score   support\n",
      "\n",
      "          0       1.00      0.98      0.99      1903\n",
      "          1       0.98      1.00      0.99      1904\n",
      "\n",
      "avg / total       0.99      0.99      0.99      3807\n",
      "\n",
      "Test confusion Matrix\n",
      "             non_cost     cost\n",
      "    non_cost   1866.0     37.0\n",
      "        cost      8.0   1896.0\n",
      "\n",
      "Area under ROC curve: 0.994129680248\n"
     ]
    }
   ],
   "source": [
    "# This Python file uses the following encoding: utf-8\n",
    "from keras.models import Sequential\n",
    "from keras.models import model_from_json\n",
    "from keras.layers import Dense\n",
    "from keras.layers import LSTM\n",
    "from keras.layers import Dropout, Embedding\n",
    "from keras.models import model_from_json\n",
    "import signal\n",
    "from keras.optimizers import Adam, RMSprop\n",
    "from keras.preprocessing import sequence\n",
    "from sklearn.model_selection import train_test_split\n",
    "from keras.callbacks import EarlyStopping, ModelCheckpoint\n",
    "from lib.pretty_testing import predict_test, roc_curve_plot\n",
    "from sklearn.metrics import roc_curve, auc, precision_recall_fscore_support\n",
    "import numpy as np\n",
    "import pickle\n",
    "\n",
    "# fix random seed for reproducibility\n",
    "np.random.seed(8)\n",
    "\n",
    "dataset_file = '../datasets/word_embedded_docs.p'\n",
    "model_weights_file = '../models/keras_weights_word_embedding.h5'\n",
    "model_file = '../models/keras_model_word_embedding.json'\n",
    "roc_fig_filename = '../log_figs/roc_curve.png'\n",
    "lr = 0.0003\n",
    "epochs = 100\n",
    "training = False\n",
    "patience = 3\n",
    "top_words = 10000\n",
    "embedding_vector_length = 32\n",
    "maxlen = 500\n",
    "\n",
    "# load prepared data\n",
    "with open(dataset_file) as f:\n",
    "    data, labels = pickle.load(f)\n",
    "\n",
    "print 'Data loaded'\n",
    "    \n",
    "# padding for the rnn\n",
    "padded_data = sequence.pad_sequences(data, maxlen, padding=\"pre\", truncating=\"post\", value=0, dtype='uint32')\n",
    "labels = np.array(labels)\n",
    "del data\n",
    "\n",
    "print 'Data padded'\n",
    "\n",
    "# load the dataset but only keep the top n words, zero the rest\n",
    "X_train, X_test, y_train, y_test = train_test_split(padded_data, labels, train_size=0.9, stratify=labels)\n",
    "del padded_data\n",
    "\n",
    "X_train, X_val, y_train, y_val = train_test_split(X_train, y_train, train_size=0.95, stratify=y_train)\n",
    "\n",
    "print 'Data splitted'\n",
    "\n",
    "\n",
    "if training:\n",
    "    model = Sequential()\n",
    "    model.add(Embedding(top_words, embedding_vector_length, input_length=maxlen, mask_zero=True))\n",
    "    model.add(LSTM(32, dropout=0.2)) #return_sequences=True\n",
    "    model.add(Dense(1, activation='sigmoid'))\n",
    "    model.compile(loss='binary_crossentropy', optimizer=RMSprop(lr=lr), metrics=['accuracy'])\n",
    "    print(model.summary())\n",
    "    \n",
    "    with open(model_file,'w') as f:\n",
    "        f.write(model.to_json())\n",
    "    \n",
    "    print 'Start training'\n",
    "\n",
    "    model.fit(X_train, y_train, epochs=epochs, batch_size=64, validation_data=(X_val, y_val),\n",
    "              callbacks=[EarlyStopping(monitor='val_acc', patience=patience),\n",
    "                         ModelCheckpoint(model_weights_file, monitor='val_acc', save_best_only=True, save_weights_only=True)])\n",
    "else:\n",
    "    model = model_from_json(open(model_file).read())\n",
    "    model.load_weights(model_weights_file)\n",
    "    model.compile(loss='binary_crossentropy', optimizer=RMSprop(lr=lr), metrics=['accuracy'])\n",
    "    print(model.summary())\n",
    "\n",
    "# test\n",
    "y_pred = predict_test(model, X_test, y_test, ['non_cost', 'cost'])\n",
    "scores = model.predict(X_test, verbose=0).reshape(-1)\n",
    "\n",
    "fpr, tpr, _ = roc_curve(y_test, scores, pos_label=1)\n",
    "roc_auc = auc(fpr, tpr)\n",
    "print('\\nArea under ROC curve: {}'.format(roc_auc))\n",
    "#fig = roc_curve_plot(fpr, tpr, roc_auc)\n",
    "#fig.savefig(roc_fig_filename)"
   ]
  },
  {
   "cell_type": "code",
   "execution_count": 2,
   "metadata": {
    "collapsed": false,
    "deletable": true,
    "editable": true
   },
   "outputs": [
    {
     "data": {
      "text/plain": [
       "(array([ 0.99573106,  0.98085877]),\n",
       " array([ 0.98055702,  0.99579832]),\n",
       " array([ 0.98808578,  0.98827209]),\n",
       " array([1903, 1904]))"
      ]
     },
     "execution_count": 2,
     "metadata": {},
     "output_type": "execute_result"
    }
   ],
   "source": [
    "precision_recall_fscore_support(y_test, y_pred)"
   ]
  },
  {
   "cell_type": "code",
   "execution_count": null,
   "metadata": {
    "collapsed": true,
    "deletable": true,
    "editable": true
   },
   "outputs": [],
   "source": []
  }
 ],
 "metadata": {
  "kernelspec": {
   "display_name": "Python 2",
   "language": "python",
   "name": "python2"
  },
  "language_info": {
   "codemirror_mode": {
    "name": "ipython",
    "version": 2
   },
   "file_extension": ".py",
   "mimetype": "text/x-python",
   "name": "python",
   "nbconvert_exporter": "python",
   "pygments_lexer": "ipython2",
   "version": "2.7.12"
  }
 },
 "nbformat": 4,
 "nbformat_minor": 2
}

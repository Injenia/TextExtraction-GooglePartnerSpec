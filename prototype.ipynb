{
 "cells": [
  {
   "cell_type": "code",
   "execution_count": 6,
   "metadata": {
    "collapsed": false,
    "deletable": true,
    "editable": true
   },
   "outputs": [
    {
     "name": "stderr",
     "output_type": "stream",
     "text": [
      "Using TensorFlow backend.\n"
     ]
    }
   ],
   "source": [
    "from words import not_so_naive_split, reduce_dictionary, sentence_vector\n",
    "from keras.models import model_from_json\n",
    "from keras.preprocessing import sequence\n",
    "from pretty_testing import predict_test\n",
    "from gensim.models import Doc2Vec\n",
    "\n",
    "import numpy as np\n",
    "import textract\n",
    "import json\n",
    "import os"
   ]
  },
  {
   "cell_type": "code",
   "execution_count": 7,
   "metadata": {
    "collapsed": true,
    "deletable": true,
    "editable": true
   },
   "outputs": [],
   "source": [
    "pdf_names = ['../atti_costitutivi/5122462300001.pdf',\n",
    "             '../T3LAB-INJENIA_Analisi Preliminare.pdf',\n",
    "             '../5 Planning Robot.pdf',\n",
    "             '../atti_costitutivi/5122464750001.pdf']\n",
    "\n",
    "labels_map = ['NON COSTITUTIVO', 'COSTITUTIVO']"
   ]
  },
  {
   "cell_type": "code",
   "execution_count": 8,
   "metadata": {
    "collapsed": true,
    "deletable": true,
    "editable": true
   },
   "outputs": [],
   "source": [
    "gensim_model = Doc2Vec.load('gensim_model.d2v')\n",
    "\n",
    "with open('keras_model.json') as f:\n",
    "    keras_model = model_from_json(f.read())\n",
    "keras_model.load_weights(\"keras_weights.h5\")\n",
    "\n",
    "with open('reduced_dictionary.json') as f:\n",
    "    permitted_words = set(json.load(f))"
   ]
  },
  {
   "cell_type": "code",
   "execution_count": 9,
   "metadata": {
    "collapsed": true,
    "deletable": true,
    "editable": true
   },
   "outputs": [],
   "source": [
    "def embed_document(model, doc, permitted_words):\n",
    "    return [sentence_vector(model, sentence, permitted_words) for sentence in doc]\n",
    "\n",
    "def predict_documents_str(txts, gensim_model, keras_model, permitted_words):\n",
    "    splitted_txts = [not_so_naive_split(txt) for txt in txts]\n",
    "    filtered_txts = [list(reduce_dictionary(document, permitted_words)) for document in splitted_txts]\n",
    "    embedded_txts = [embed_document(gensim_model, doc, permitted_words) for doc in filtered_txts]\n",
    "    padded_data = sequence.pad_sequences(embedded_txts, maxlen=200, padding=\"pre\", truncating=\"post\", value=0.0, dtype='float32')\n",
    "    probs = keras_model.predict_proba(padded_data, verbose=0)\n",
    "    return [prob[0] for prob in probs]\n",
    "\n",
    "def predict_documents_pdf(filenames, gensim_model, keras_model, permitted_words):\n",
    "    try:\n",
    "        txts = [textract.process(filename) for filename in filenames]\n",
    "    except:\n",
    "        print \"C'è un documento illeggibile...\" \n",
    "        return\n",
    "    \n",
    "    return predict_documents_str(txts, gensim_model, keras_model, permitted_words)\n",
    "\n",
    "def predict_documents_txt(filenames, gensim_model, keras_model, permitted_words):\n",
    "    txts = [open(filename).read() for filename in filenames]\n",
    "    return predict_documents_str(txts, gensim_model, keras_model, permitted_words)"
   ]
  },
  {
   "cell_type": "code",
   "execution_count": 38,
   "metadata": {
    "collapsed": false,
    "deletable": true,
    "editable": true
   },
   "outputs": [],
   "source": [
    "predictions = predict_documents_pdf(pdf_names, gensim_model, keras_model, permitted_words)"
   ]
  },
  {
   "cell_type": "code",
   "execution_count": 39,
   "metadata": {
    "collapsed": false,
    "deletable": true,
    "editable": true
   },
   "outputs": [
    {
     "name": "stdout",
     "output_type": "stream",
     "text": [
      "5122462300001.pdf                                  \t-\tCOSTITUTIVO  (0.996299)\n",
      "T3LAB-INJENIA_Analisi Preliminare.pdf              \t-\tNON COSTITUTIVO  (0.038102)\n",
      "5 Planning Robot.pdf                               \t-\tNON COSTITUTIVO  (0.020943)\n",
      "5122464750001.pdf                                  \t-\tCOSTITUTIVO  (0.995850)\n"
     ]
    }
   ],
   "source": [
    "for name, pred in zip(pdf_names, predictions):\n",
    "    print os.path.basename(name)[:50].ljust(50), '\\t-\\t', labels_map[int(round(pred))], ' (%f)' % pred"
   ]
  },
  {
   "cell_type": "code",
   "execution_count": 10,
   "metadata": {
    "collapsed": false,
    "deletable": true,
    "editable": true
   },
   "outputs": [],
   "source": [
    "txt_names = ['../ocr/scanned_non_costitutivi/3591900710001.txt']\n",
    "\n",
    "pred2 = predict_documents_txt(txt_names, gensim_model, keras_model, permitted_words)"
   ]
  },
  {
   "cell_type": "code",
   "execution_count": 11,
   "metadata": {
    "collapsed": false
   },
   "outputs": [
    {
     "name": "stdout",
     "output_type": "stream",
     "text": [
      "5122462300001.pdf                                  \t-\tNON COSTITUTIVO  (0.028954)\n"
     ]
    }
   ],
   "source": [
    "for name, pred in zip(pdf_names, pred2):\n",
    "    print os.path.basename(name)[:50].ljust(50), '\\t-\\t', labels_map[int(round(pred))], ' (%f)' % pred"
   ]
  },
  {
   "cell_type": "code",
   "execution_count": null,
   "metadata": {
    "collapsed": true
   },
   "outputs": [],
   "source": []
  }
 ],
 "metadata": {
  "kernelspec": {
   "display_name": "Python 2",
   "language": "python",
   "name": "python2"
  },
  "language_info": {
   "codemirror_mode": {
    "name": "ipython",
    "version": 2
   },
   "file_extension": ".py",
   "mimetype": "text/x-python",
   "name": "python",
   "nbconvert_exporter": "python",
   "pygments_lexer": "ipython2",
   "version": "2.7.12"
  }
 },
 "nbformat": 4,
 "nbformat_minor": 2
}

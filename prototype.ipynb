{
 "cells": [
  {
   "cell_type": "code",
   "execution_count": 10,
   "metadata": {
    "collapsed": false
   },
   "outputs": [],
   "source": [
    "import textract\n",
    "from words import not_so_naive_split, reduce_dictionary, sentence_vector\n",
    "import numpy as np\n",
    "import json\n",
    "from gensim.models import Doc2Vec\n",
    "\n",
    "from keras.models import model_from_json\n",
    "from keras.preprocessing import sequence\n",
    "\n",
    "from pretty_testing import predict_test"
   ]
  },
  {
   "cell_type": "code",
   "execution_count": 20,
   "metadata": {
    "collapsed": true
   },
   "outputs": [],
   "source": [
    "pdf_names = ['T3LAB-INJENIA_Analisi Preliminare.pdf','../atti_costitutivi/5122462300001.pdf',\n",
    "             '../atti_costitutivi/5122464750001.pdf']\n",
    "#labels = ['...']"
   ]
  },
  {
   "cell_type": "code",
   "execution_count": 9,
   "metadata": {
    "collapsed": true
   },
   "outputs": [],
   "source": [
    "gensim_model = Doc2Vec.load('gensim_model.d2v')\n",
    "\n",
    "with open('keras_model.json') as f:\n",
    "    keras_model = model_from_json(f.read())\n",
    "keras_model.load_weights(\"keras_weights.h5\")\n",
    "\n",
    "with open('reduced_dictionary.json') as f:\n",
    "    permitted_words = set(json.load(f))"
   ]
  },
  {
   "cell_type": "code",
   "execution_count": 24,
   "metadata": {
    "collapsed": true
   },
   "outputs": [],
   "source": [
    "def embed_document(model, doc, permitted_words):\n",
    "    return [sentence_vector(model, sentence, permitted_words) for sentence in doc]\n",
    "\n",
    "def predict_documents(filenames, gensim_model, keras_model, permitted_words):\n",
    "    try:\n",
    "        txts = [textract.process(filename) for filename in filenames]\n",
    "    except:\n",
    "        print \"C'è un documento illeggibile...\" \n",
    "        return\n",
    "        \n",
    "    splitted_txts = [not_so_naive_split(txt) for txt in txts]\n",
    "    \n",
    "    filtered_txts = [list(reduce_dictionary(document, permitted_words)) for document in splitted_txts]\n",
    "    \n",
    "    embedded_txts = [embed_document(gensim_model, doc, permitted_words) for doc in filtered_txts]\n",
    "    \n",
    "    padded_data = sequence.pad_sequences(embedded_txts, maxlen=200, padding=\"pre\", truncating=\"post\", value=0.0, dtype='float32')\n",
    "    \n",
    "    labels_map = ['non costitutivo', 'costitutivo']\n",
    "    print [labels_map[pred[0]] for pred in keras_model.predict_classes(padded_data, verbose=0)]"
   ]
  },
  {
   "cell_type": "code",
   "execution_count": 23,
   "metadata": {
    "collapsed": false
   },
   "outputs": [
    {
     "name": "stdout",
     "output_type": "stream",
     "text": [
      "Documento illeggibile\n"
     ]
    }
   ],
   "source": [
    "predict_documents(pdf_names, gensim_model, keras_model, permitted_words)"
   ]
  },
  {
   "cell_type": "code",
   "execution_count": null,
   "metadata": {
    "collapsed": true
   },
   "outputs": [],
   "source": []
  }
 ],
 "metadata": {
  "kernelspec": {
   "display_name": "Python 2",
   "language": "python",
   "name": "python2"
  },
  "language_info": {
   "codemirror_mode": {
    "name": "ipython",
    "version": 2
   },
   "file_extension": ".py",
   "mimetype": "text/x-python",
   "name": "python",
   "nbconvert_exporter": "python",
   "pygments_lexer": "ipython2",
   "version": "2.7.12"
  }
 },
 "nbformat": 4,
 "nbformat_minor": 2
}

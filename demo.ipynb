{
 "cells": [
  {
   "cell_type": "markdown",
   "metadata": {
    "deletable": true,
    "editable": true
   },
   "source": [
    "# Demo"
   ]
  },
  {
   "cell_type": "markdown",
   "metadata": {
    "deletable": true,
    "editable": true
   },
   "source": [
    "###### Imports"
   ]
  },
  {
   "cell_type": "code",
   "execution_count": 1,
   "metadata": {
    "collapsed": false,
    "deletable": true,
    "editable": true
   },
   "outputs": [
    {
     "name": "stderr",
     "output_type": "stream",
     "text": [
      "Using TensorFlow backend.\n"
     ]
    }
   ],
   "source": [
    "# This Python file uses the following encoding: utf-8\n",
    "from lib.predict_pdf import predict_documents_pdf, predict_documents_str_we, predictions_dataframe, load_prediction_models, predict_documents_pdf_we, load_models_we\n",
    "from lib.utils import move_flattened_files\n",
    "from lib.untar import ExtractNested\n",
    "from functools import partial\n",
    "from lib.utils import download_from_storage_if_not_present\n",
    "import json\n",
    "import os\n",
    "\n",
    "#%load_ext line_profiler"
   ]
  },
  {
   "cell_type": "markdown",
   "metadata": {
    "deletable": true,
    "editable": true
   },
   "source": [
    "###### Input arguments"
   ]
  },
  {
   "cell_type": "code",
   "execution_count": 2,
   "metadata": {
    "collapsed": false,
    "deletable": true,
    "editable": true
   },
   "outputs": [],
   "source": [
    "pdf_folder = '../files_to_predict'\n",
    "csv_out_file = '../predictions2.csv'\n",
    "\n",
    "do_ocr = False\n",
    "extract_from_tar = False\n",
    "tar_root = '../prova.tar.gz'\n",
    "use_a05_model = True\n",
    "use_we_model = True #overrides use_a05_model"
   ]
  },
  {
   "cell_type": "markdown",
   "metadata": {
    "deletable": true,
    "editable": true
   },
   "source": [
    "###### Tar extraction (execute only the first time if starting from a tar)"
   ]
  },
  {
   "cell_type": "code",
   "execution_count": 3,
   "metadata": {
    "collapsed": true,
    "deletable": true,
    "editable": true
   },
   "outputs": [],
   "source": [
    "# Accetto solo file con dimensione < 1MB e che finiscono per 001.pdf (si può cambiare a piacere il filtro qui)\n",
    "def file_filter(f):\n",
    "    return str(f).endswith(u'001.pdf') and os.path.getsize(str(f))<(1024**2)"
   ]
  },
  {
   "cell_type": "code",
   "execution_count": 4,
   "metadata": {
    "collapsed": false,
    "deletable": true,
    "editable": true
   },
   "outputs": [],
   "source": [
    "# Solo se si deve partire da una tar e non si è già estratto\n",
    "if extract_from_tar and not os.path.exists(tar_root[:-7]):\n",
    "    ExtractNested(tar_root)\n",
    "    move_flattened_files(tar_root[:-7], pdf_folder, file_filter)"
   ]
  },
  {
   "cell_type": "markdown",
   "metadata": {
    "deletable": true,
    "editable": true
   },
   "source": [
    "###### Load models"
   ]
  },
  {
   "cell_type": "code",
   "execution_count": 5,
   "metadata": {
    "collapsed": false
   },
   "outputs": [],
   "source": [
    "# Download resources if not found\n",
    "with open(\"gs_resource_map.json\") as f:\n",
    "    gs_map = json.load(f)\n",
    "\n",
    "for k,v in gs_map.items():\n",
    "    download_from_storage_if_not_present(\"infocamere-poc\", v, k)"
   ]
  },
  {
   "cell_type": "code",
   "execution_count": 6,
   "metadata": {
    "collapsed": false,
    "deletable": true,
    "editable": true
   },
   "outputs": [],
   "source": [
    "models_original = {'gensim_file':'../models/gensim_model_5000.d2v', \n",
    "                  'keras_model_file':'../models/keras_model.json',\n",
    "                  'keras_weights_file':'../models/keras_weights_5000.h5',\n",
    "                  'permitted_words_file':'../dictionaries/first_5000_words.json'}\n",
    "\n",
    "model_with_a05 = {'gensim_file':'../models/gensim_5000_model_with_verb.d2v', \n",
    "                  'keras_model_file':'../models/keras_model_retry3.json',\n",
    "                  'keras_weights_file':'../models/keras_weights_verb_retry3.h5',\n",
    "                  'permitted_words_file':'../dictionaries/first_5000_words_with_verb_cost.json'}\n",
    "\n",
    "model_we = {'keras_model_file':'../models/keras_model_word_embedding.json',\n",
    "            'keras_weights_file':'../models/keras_weights_word_embedding.h5',\n",
    "            'reduced_dictionary_file':'../dictionaries/reduced_dictionary_cost.json'}\n",
    "\n",
    "if use_we_model:\n",
    "    loaded_models = load_models_we(**model_we)\n",
    "    predict_pdfs = partial(predict_documents_pdf_we, **loaded_models)\n",
    "else:\n",
    "    models_demo = model_with_a05 if use_a05_model else models_original\n",
    "    predict_pdfs = load_prediction_models(**models_demo)"
   ]
  },
  {
   "cell_type": "markdown",
   "metadata": {
    "deletable": true,
    "editable": true
   },
   "source": [
    "### Prediction"
   ]
  },
  {
   "cell_type": "code",
   "execution_count": 7,
   "metadata": {
    "collapsed": false,
    "deletable": true,
    "editable": true
   },
   "outputs": [],
   "source": [
    "pdf_names = [os.path.join(pdf_folder, f) for f in os.listdir(pdf_folder) if f.lower().endswith(\"pdf\")]\n",
    "#pdf_names = ['../files_to_predict/4908476390001.pdf']\n",
    "predictions, filtered_filenames = predict_pdfs(pdf_names, do_ocr=do_ocr)\n",
    "#%lprun -f predict_documents_pdf_we predict_documents_pdf_we(pdf_names, do_ocr=do_ocr, **loaded_models)\n",
    "#%timeit predict_pdfs(pdf_names, do_ocr=do_ocr)"
   ]
  },
  {
   "cell_type": "markdown",
   "metadata": {
    "deletable": true,
    "editable": true
   },
   "source": [
    "#### Save predictions to csv"
   ]
  },
  {
   "cell_type": "code",
   "execution_count": 8,
   "metadata": {
    "collapsed": false,
    "deletable": true,
    "editable": true
   },
   "outputs": [],
   "source": [
    "def basenames(files):\n",
    "    return [os.path.basename(f) for f in files]"
   ]
  },
  {
   "cell_type": "code",
   "execution_count": 9,
   "metadata": {
    "collapsed": false,
    "deletable": true,
    "editable": true
   },
   "outputs": [],
   "source": [
    "df = predictions_dataframe(basenames(pdf_names), basenames(filtered_filenames), predictions, csv_out_file)\n",
    "#df.to_csv(csv_out_file,  sep=',', index=False, encoding='utf-8')"
   ]
  },
  {
   "cell_type": "code",
   "execution_count": 10,
   "metadata": {
    "collapsed": false,
    "deletable": true,
    "editable": true
   },
   "outputs": [
    {
     "data": {
      "text/html": [
       "<div>\n",
       "<style>\n",
       "    .dataframe thead tr:only-child th {\n",
       "        text-align: right;\n",
       "    }\n",
       "\n",
       "    .dataframe thead th {\n",
       "        text-align: left;\n",
       "    }\n",
       "\n",
       "    .dataframe tbody tr th {\n",
       "        vertical-align: top;\n",
       "    }\n",
       "</style>\n",
       "<table border=\"1\" class=\"dataframe\">\n",
       "  <thead>\n",
       "    <tr style=\"text-align: right;\">\n",
       "      <th></th>\n",
       "      <th>Nome file</th>\n",
       "      <th>Errore</th>\n",
       "      <th>Messaggio errore</th>\n",
       "      <th>Output rete</th>\n",
       "      <th>Predizione</th>\n",
       "    </tr>\n",
       "  </thead>\n",
       "  <tbody>\n",
       "    <tr>\n",
       "      <th>11</th>\n",
       "      <td>4916506210001.pdf</td>\n",
       "      <td>No</td>\n",
       "      <td></td>\n",
       "      <td>0.926951</td>\n",
       "      <td>COSTITUTIVO</td>\n",
       "    </tr>\n",
       "    <tr>\n",
       "      <th>0</th>\n",
       "      <td>4950726610001.pdf</td>\n",
       "      <td>No</td>\n",
       "      <td></td>\n",
       "      <td>0.989937</td>\n",
       "      <td>COSTITUTIVO</td>\n",
       "    </tr>\n",
       "    <tr>\n",
       "      <th>14</th>\n",
       "      <td>4960295080001.pdf</td>\n",
       "      <td>No</td>\n",
       "      <td></td>\n",
       "      <td>0.987135</td>\n",
       "      <td>COSTITUTIVO</td>\n",
       "    </tr>\n",
       "    <tr>\n",
       "      <th>10</th>\n",
       "      <td>4963632530001.pdf</td>\n",
       "      <td>No</td>\n",
       "      <td></td>\n",
       "      <td>0.987968</td>\n",
       "      <td>COSTITUTIVO</td>\n",
       "    </tr>\n",
       "    <tr>\n",
       "      <th>1</th>\n",
       "      <td>4966811780001.pdf</td>\n",
       "      <td>No</td>\n",
       "      <td></td>\n",
       "      <td>0.922097</td>\n",
       "      <td>COSTITUTIVO</td>\n",
       "    </tr>\n",
       "    <tr>\n",
       "      <th>19</th>\n",
       "      <td>4984958010001.pdf</td>\n",
       "      <td>Si</td>\n",
       "      <td>scansione</td>\n",
       "      <td></td>\n",
       "      <td></td>\n",
       "    </tr>\n",
       "    <tr>\n",
       "      <th>15</th>\n",
       "      <td>4993074850001.pdf</td>\n",
       "      <td>No</td>\n",
       "      <td></td>\n",
       "      <td>0.965589</td>\n",
       "      <td>COSTITUTIVO</td>\n",
       "    </tr>\n",
       "    <tr>\n",
       "      <th>2</th>\n",
       "      <td>5005850400001.pdf</td>\n",
       "      <td>No</td>\n",
       "      <td></td>\n",
       "      <td>0.991594</td>\n",
       "      <td>COSTITUTIVO</td>\n",
       "    </tr>\n",
       "    <tr>\n",
       "      <th>7</th>\n",
       "      <td>5049727800001.pdf</td>\n",
       "      <td>No</td>\n",
       "      <td></td>\n",
       "      <td>0.988253</td>\n",
       "      <td>COSTITUTIVO</td>\n",
       "    </tr>\n",
       "    <tr>\n",
       "      <th>13</th>\n",
       "      <td>5061668290001.pdf</td>\n",
       "      <td>No</td>\n",
       "      <td></td>\n",
       "      <td>0.981479</td>\n",
       "      <td>COSTITUTIVO</td>\n",
       "    </tr>\n",
       "    <tr>\n",
       "      <th>12</th>\n",
       "      <td>5163494800002.pdf</td>\n",
       "      <td>No</td>\n",
       "      <td></td>\n",
       "      <td>0.58997</td>\n",
       "      <td>COSTITUTIVO</td>\n",
       "    </tr>\n",
       "    <tr>\n",
       "      <th>8</th>\n",
       "      <td>5167805400001.pdf</td>\n",
       "      <td>No</td>\n",
       "      <td></td>\n",
       "      <td>0.00519853</td>\n",
       "      <td>NON COSTITUTIVO</td>\n",
       "    </tr>\n",
       "    <tr>\n",
       "      <th>4</th>\n",
       "      <td>5169338460001.pdf</td>\n",
       "      <td>No</td>\n",
       "      <td></td>\n",
       "      <td>0.00381391</td>\n",
       "      <td>NON COSTITUTIVO</td>\n",
       "    </tr>\n",
       "    <tr>\n",
       "      <th>5</th>\n",
       "      <td>5170417660001.pdf</td>\n",
       "      <td>No</td>\n",
       "      <td></td>\n",
       "      <td>0.00688133</td>\n",
       "      <td>NON COSTITUTIVO</td>\n",
       "    </tr>\n",
       "    <tr>\n",
       "      <th>18</th>\n",
       "      <td>5170614520001.pdf</td>\n",
       "      <td>Si</td>\n",
       "      <td>scansione</td>\n",
       "      <td></td>\n",
       "      <td></td>\n",
       "    </tr>\n",
       "    <tr>\n",
       "      <th>3</th>\n",
       "      <td>5172820660001.pdf</td>\n",
       "      <td>No</td>\n",
       "      <td></td>\n",
       "      <td>0.0031365</td>\n",
       "      <td>NON COSTITUTIVO</td>\n",
       "    </tr>\n",
       "    <tr>\n",
       "      <th>6</th>\n",
       "      <td>5174273620001.pdf</td>\n",
       "      <td>No</td>\n",
       "      <td></td>\n",
       "      <td>0.00200557</td>\n",
       "      <td>NON COSTITUTIVO</td>\n",
       "    </tr>\n",
       "    <tr>\n",
       "      <th>16</th>\n",
       "      <td>5178049980002.pdf</td>\n",
       "      <td>No</td>\n",
       "      <td></td>\n",
       "      <td>0.984985</td>\n",
       "      <td>COSTITUTIVO</td>\n",
       "    </tr>\n",
       "    <tr>\n",
       "      <th>9</th>\n",
       "      <td>5182336380001.pdf</td>\n",
       "      <td>No</td>\n",
       "      <td></td>\n",
       "      <td>0.456028</td>\n",
       "      <td>NON COSTITUTIVO</td>\n",
       "    </tr>\n",
       "    <tr>\n",
       "      <th>17</th>\n",
       "      <td>5183092070002.pdf</td>\n",
       "      <td>Si</td>\n",
       "      <td>scansione</td>\n",
       "      <td></td>\n",
       "      <td></td>\n",
       "    </tr>\n",
       "  </tbody>\n",
       "</table>\n",
       "</div>"
      ],
      "text/plain": [
       "            Nome file Errore Messaggio errore Output rete       Predizione\n",
       "11  4916506210001.pdf     No                     0.926951      COSTITUTIVO\n",
       "0   4950726610001.pdf     No                     0.989937      COSTITUTIVO\n",
       "14  4960295080001.pdf     No                     0.987135      COSTITUTIVO\n",
       "10  4963632530001.pdf     No                     0.987968      COSTITUTIVO\n",
       "1   4966811780001.pdf     No                     0.922097      COSTITUTIVO\n",
       "19  4984958010001.pdf     Si        scansione                             \n",
       "15  4993074850001.pdf     No                     0.965589      COSTITUTIVO\n",
       "2   5005850400001.pdf     No                     0.991594      COSTITUTIVO\n",
       "7   5049727800001.pdf     No                     0.988253      COSTITUTIVO\n",
       "13  5061668290001.pdf     No                     0.981479      COSTITUTIVO\n",
       "12  5163494800002.pdf     No                      0.58997      COSTITUTIVO\n",
       "8   5167805400001.pdf     No                   0.00519853  NON COSTITUTIVO\n",
       "4   5169338460001.pdf     No                   0.00381391  NON COSTITUTIVO\n",
       "5   5170417660001.pdf     No                   0.00688133  NON COSTITUTIVO\n",
       "18  5170614520001.pdf     Si        scansione                             \n",
       "3   5172820660001.pdf     No                    0.0031365  NON COSTITUTIVO\n",
       "6   5174273620001.pdf     No                   0.00200557  NON COSTITUTIVO\n",
       "16  5178049980002.pdf     No                     0.984985      COSTITUTIVO\n",
       "9   5182336380001.pdf     No                     0.456028  NON COSTITUTIVO\n",
       "17  5183092070002.pdf     Si        scansione                             "
      ]
     },
     "execution_count": 10,
     "metadata": {},
     "output_type": "execute_result"
    }
   ],
   "source": [
    "df.sort_values(\"Nome file\")"
   ]
  },
  {
   "cell_type": "code",
   "execution_count": null,
   "metadata": {
    "collapsed": true,
    "deletable": true,
    "editable": true
   },
   "outputs": [],
   "source": []
  }
 ],
 "metadata": {
  "kernelspec": {
   "display_name": "Python 2",
   "language": "python",
   "name": "python2"
  },
  "language_info": {
   "codemirror_mode": {
    "name": "ipython",
    "version": 2
   },
   "file_extension": ".py",
   "mimetype": "text/x-python",
   "name": "python",
   "nbconvert_exporter": "python",
   "pygments_lexer": "ipython2",
   "version": "2.7.12"
  }
 },
 "nbformat": 4,
 "nbformat_minor": 2
}

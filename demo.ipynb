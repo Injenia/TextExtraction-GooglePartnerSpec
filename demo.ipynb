{
 "cells": [
  {
   "cell_type": "markdown",
   "metadata": {
    "deletable": true,
    "editable": true
   },
   "source": [
    "# Demo"
   ]
  },
  {
   "cell_type": "markdown",
   "metadata": {
    "deletable": true,
    "editable": true
   },
   "source": [
    "###### Imports"
   ]
  },
  {
   "cell_type": "code",
   "execution_count": 1,
   "metadata": {
    "collapsed": false,
    "deletable": true,
    "editable": true
   },
   "outputs": [
    {
     "name": "stderr",
     "output_type": "stream",
     "text": [
      "Using TensorFlow backend.\n"
     ]
    }
   ],
   "source": [
    "# This Python file uses the following encoding: utf-8\n",
    "from lib.predict_pdf import predict_documents_pdf, predictions_dataframe, load_prediction_models\n",
    "from lib.utils import move_flattened_files\n",
    "from lib.untar import ExtractNested\n",
    "import os"
   ]
  },
  {
   "cell_type": "markdown",
   "metadata": {
    "deletable": true,
    "editable": true
   },
   "source": [
    "###### Input arguments"
   ]
  },
  {
   "cell_type": "code",
   "execution_count": 2,
   "metadata": {
    "collapsed": false,
    "deletable": true,
    "editable": true
   },
   "outputs": [],
   "source": [
    "pdf_folder = '../files_to_predict'\n",
    "csv_out_file = '../predictions2.csv'\n",
    "\n",
    "do_ocr = False\n",
    "extract_from_tar = False\n",
    "tar_root = '../prova.tar.gz'\n",
    "use_a05_model = True"
   ]
  },
  {
   "cell_type": "markdown",
   "metadata": {
    "deletable": true,
    "editable": true
   },
   "source": [
    "###### Tar extraction (execute only the first time if starting from a tar)"
   ]
  },
  {
   "cell_type": "code",
   "execution_count": null,
   "metadata": {
    "collapsed": true,
    "deletable": true,
    "editable": true
   },
   "outputs": [],
   "source": [
    "# Accetto solo file con dimensione < 1MB e che finiscono per 001.pdf (si può cambiare a piacere il filtro qui)\n",
    "def file_filter(f):\n",
    "    return str(f).endswith(u'001.pdf') and os.path.getsize(str(f))<(1024**2)"
   ]
  },
  {
   "cell_type": "code",
   "execution_count": null,
   "metadata": {
    "collapsed": false,
    "deletable": true,
    "editable": true
   },
   "outputs": [],
   "source": [
    "# Solo se si deve partire da una tar e non si è già estratto\n",
    "if extract_from_tar and not os.path.exists(tar_root[:-7]):\n",
    "    ExtractNested(tar_root)\n",
    "    move_flattened_files(tar_root[:-7], pdf_folder, file_filter)"
   ]
  },
  {
   "cell_type": "markdown",
   "metadata": {
    "deletable": true,
    "editable": true
   },
   "source": [
    "###### Load models"
   ]
  },
  {
   "cell_type": "code",
   "execution_count": 3,
   "metadata": {
    "collapsed": false,
    "deletable": true,
    "editable": true
   },
   "outputs": [],
   "source": [
    "models_original = {'gensim_file':'models/gensim_model_5000.d2v', \n",
    "                  'keras_model_file':'models/keras_model.json',\n",
    "                  'keras_weights_file':'models/keras_weights_5000.h5',\n",
    "                  'permitted_words_file':'first_5000_words.json'}\n",
    "\n",
    "model_with_a05 = {'gensim_file':'models/gensim_5000_model_with_verb.d2v', \n",
    "                  'keras_model_file':'models/keras_model_retry3.json',\n",
    "                  'keras_weights_file':'models/keras_weights_verb_retry3.h5',\n",
    "                  'permitted_words_file':'first_5000_words_with_verb_cost.json'}\n",
    "'''\n",
    "model_with_a05_experimental = {'gensim_file':'models/gensim_5000_model_with_verb.d2v', \n",
    "                  'keras_model_file':'models/keras_model_deep.json',\n",
    "                  'keras_weights_file':'models/keras_weights_verb_deep.h5',\n",
    "                  'permitted_words_file':'first_5000_words_with_verb_cost.json'}\n",
    "'''\n",
    "\n",
    "# Change the model here\n",
    "models_demo = model_with_a05 if use_a05_model else models_original\n",
    "\n",
    "predict_pdfs = load_prediction_models(**models_demo)"
   ]
  },
  {
   "cell_type": "markdown",
   "metadata": {
    "deletable": true,
    "editable": true
   },
   "source": [
    "### Prediction"
   ]
  },
  {
   "cell_type": "code",
   "execution_count": 4,
   "metadata": {
    "collapsed": false,
    "deletable": true,
    "editable": true
   },
   "outputs": [],
   "source": [
    "pdf_names = [os.path.join(pdf_folder, f) for f in os.listdir(pdf_folder) if f.lower().endswith(\"pdf\")]\n",
    "#pdf_names = ['../files_to_predict/4908476390001.pdf']\n",
    "predictions, filtered_filenames = predict_pdfs(pdf_names, do_ocr=do_ocr)"
   ]
  },
  {
   "cell_type": "markdown",
   "metadata": {
    "deletable": true,
    "editable": true
   },
   "source": [
    "#### Save predictions to csv"
   ]
  },
  {
   "cell_type": "code",
   "execution_count": 5,
   "metadata": {
    "collapsed": false,
    "deletable": true,
    "editable": true
   },
   "outputs": [],
   "source": [
    "def basenames(files):\n",
    "    return [os.path.basename(f) for f in files]"
   ]
  },
  {
   "cell_type": "code",
   "execution_count": 6,
   "metadata": {
    "collapsed": false,
    "deletable": true,
    "editable": true
   },
   "outputs": [],
   "source": [
    "df = predictions_dataframe(basenames(pdf_names), basenames(filtered_filenames), predictions, csv_out_file)\n",
    "#df.to_csv(csv_out_file,  sep=',', index=False, encoding='utf-8')"
   ]
  },
  {
   "cell_type": "code",
   "execution_count": 7,
   "metadata": {
    "collapsed": false,
    "deletable": true,
    "editable": true
   },
   "outputs": [
    {
     "data": {
      "text/html": [
       "<div>\n",
       "<style>\n",
       "    .dataframe thead tr:only-child th {\n",
       "        text-align: right;\n",
       "    }\n",
       "\n",
       "    .dataframe thead th {\n",
       "        text-align: left;\n",
       "    }\n",
       "\n",
       "    .dataframe tbody tr th {\n",
       "        vertical-align: top;\n",
       "    }\n",
       "</style>\n",
       "<table border=\"1\" class=\"dataframe\">\n",
       "  <thead>\n",
       "    <tr style=\"text-align: right;\">\n",
       "      <th></th>\n",
       "      <th>Nome file</th>\n",
       "      <th>Errore</th>\n",
       "      <th>Messaggio errore</th>\n",
       "      <th>Output rete</th>\n",
       "      <th>Predizione</th>\n",
       "    </tr>\n",
       "  </thead>\n",
       "  <tbody>\n",
       "    <tr>\n",
       "      <th>0</th>\n",
       "      <td>5162093290002.pdf</td>\n",
       "      <td>No</td>\n",
       "      <td></td>\n",
       "      <td>0.685052</td>\n",
       "      <td>COSTITUTIVO</td>\n",
       "    </tr>\n",
       "    <tr>\n",
       "      <th>1</th>\n",
       "      <td>5162128590002.pdf</td>\n",
       "      <td>No</td>\n",
       "      <td></td>\n",
       "      <td>0.0284682</td>\n",
       "      <td>NON COSTITUTIVO</td>\n",
       "    </tr>\n",
       "    <tr>\n",
       "      <th>2</th>\n",
       "      <td>5162128480002.pdf</td>\n",
       "      <td>No</td>\n",
       "      <td></td>\n",
       "      <td>0.658475</td>\n",
       "      <td>COSTITUTIVO</td>\n",
       "    </tr>\n",
       "    <tr>\n",
       "      <th>3</th>\n",
       "      <td>5162167840002.pdf</td>\n",
       "      <td>No</td>\n",
       "      <td></td>\n",
       "      <td>0.651958</td>\n",
       "      <td>COSTITUTIVO</td>\n",
       "    </tr>\n",
       "    <tr>\n",
       "      <th>4</th>\n",
       "      <td>5162144110002.pdf</td>\n",
       "      <td>No</td>\n",
       "      <td></td>\n",
       "      <td>0.665002</td>\n",
       "      <td>COSTITUTIVO</td>\n",
       "    </tr>\n",
       "    <tr>\n",
       "      <th>5</th>\n",
       "      <td>5162128480001.pdf</td>\n",
       "      <td>No</td>\n",
       "      <td></td>\n",
       "      <td>0.173126</td>\n",
       "      <td>NON COSTITUTIVO</td>\n",
       "    </tr>\n",
       "    <tr>\n",
       "      <th>6</th>\n",
       "      <td>5162140190002.pdf</td>\n",
       "      <td>Si</td>\n",
       "      <td>scansione</td>\n",
       "      <td></td>\n",
       "      <td></td>\n",
       "    </tr>\n",
       "    <tr>\n",
       "      <th>7</th>\n",
       "      <td>5162093290001.pdf</td>\n",
       "      <td>Si</td>\n",
       "      <td>scansione</td>\n",
       "      <td></td>\n",
       "      <td></td>\n",
       "    </tr>\n",
       "    <tr>\n",
       "      <th>8</th>\n",
       "      <td>5162140190001.pdf</td>\n",
       "      <td>Si</td>\n",
       "      <td>scansione</td>\n",
       "      <td></td>\n",
       "      <td></td>\n",
       "    </tr>\n",
       "    <tr>\n",
       "      <th>9</th>\n",
       "      <td>5162167840001.pdf</td>\n",
       "      <td>Si</td>\n",
       "      <td>scansione</td>\n",
       "      <td></td>\n",
       "      <td></td>\n",
       "    </tr>\n",
       "  </tbody>\n",
       "</table>\n",
       "</div>"
      ],
      "text/plain": [
       "           Nome file Errore Messaggio errore Output rete       Predizione\n",
       "0  5162093290002.pdf     No                     0.685052      COSTITUTIVO\n",
       "1  5162128590002.pdf     No                    0.0284682  NON COSTITUTIVO\n",
       "2  5162128480002.pdf     No                     0.658475      COSTITUTIVO\n",
       "3  5162167840002.pdf     No                     0.651958      COSTITUTIVO\n",
       "4  5162144110002.pdf     No                     0.665002      COSTITUTIVO\n",
       "5  5162128480001.pdf     No                     0.173126  NON COSTITUTIVO\n",
       "6  5162140190002.pdf     Si        scansione                             \n",
       "7  5162093290001.pdf     Si        scansione                             \n",
       "8  5162140190001.pdf     Si        scansione                             \n",
       "9  5162167840001.pdf     Si        scansione                             "
      ]
     },
     "execution_count": 7,
     "metadata": {},
     "output_type": "execute_result"
    }
   ],
   "source": [
    "df"
   ]
  },
  {
   "cell_type": "code",
   "execution_count": null,
   "metadata": {
    "collapsed": false,
    "deletable": true,
    "editable": true
   },
   "outputs": [],
   "source": [
    "len(df.loc[df[\"Predizione\"]==\"NON COSTITUTIVO\"])"
   ]
  },
  {
   "cell_type": "code",
   "execution_count": null,
   "metadata": {
    "collapsed": false,
    "deletable": true,
    "editable": true
   },
   "outputs": [],
   "source": [
    "df.loc[df[\"Nome file\"] == \"5162093290002.pdf\"]"
   ]
  },
  {
   "cell_type": "code",
   "execution_count": null,
   "metadata": {
    "collapsed": false,
    "deletable": true,
    "editable": true
   },
   "outputs": [],
   "source": [
    "df.loc[df[\"Nome file\"] == \"5162128480001.pdf\"]"
   ]
  },
  {
   "cell_type": "code",
   "execution_count": null,
   "metadata": {
    "collapsed": false,
    "deletable": true,
    "editable": true
   },
   "outputs": [],
   "source": [
    "df.loc[df[\"Nome file\"] == \"5162128480002.pdf\"]"
   ]
  },
  {
   "cell_type": "code",
   "execution_count": null,
   "metadata": {
    "collapsed": true,
    "deletable": true,
    "editable": true
   },
   "outputs": [],
   "source": []
  }
 ],
 "metadata": {
  "kernelspec": {
   "display_name": "Python 2",
   "language": "python",
   "name": "python2"
  },
  "language_info": {
   "codemirror_mode": {
    "name": "ipython",
    "version": 2
   },
   "file_extension": ".py",
   "mimetype": "text/x-python",
   "name": "python",
   "nbconvert_exporter": "python",
   "pygments_lexer": "ipython2",
   "version": "2.7.12"
  }
 },
 "nbformat": 4,
 "nbformat_minor": 2
}

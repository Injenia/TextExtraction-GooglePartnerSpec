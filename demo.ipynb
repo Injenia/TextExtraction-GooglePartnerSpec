{
 "cells": [
  {
   "cell_type": "markdown",
   "metadata": {
    "deletable": true,
    "editable": true
   },
   "source": [
    "# Demo"
   ]
  },
  {
   "cell_type": "markdown",
   "metadata": {
    "deletable": true,
    "editable": true
   },
   "source": [
    "###### Imports"
   ]
  },
  {
   "cell_type": "code",
   "execution_count": 1,
   "metadata": {
    "collapsed": false,
    "deletable": true,
    "editable": true
   },
   "outputs": [
    {
     "name": "stderr",
     "output_type": "stream",
     "text": [
      "Using TensorFlow backend.\n"
     ]
    }
   ],
   "source": [
    "# This Python file uses the following encoding: utf-8\n",
    "from lib.predict_pdf import predict_documents_pdf, predictions_dataframe\n",
    "from keras.models import model_from_json\n",
    "from lib.untar import ExtractNested\n",
    "from gensim.models import Doc2Vec\n",
    "from functools import partial\n",
    "import pandas as pd\n",
    "import json\n",
    "import os"
   ]
  },
  {
   "cell_type": "markdown",
   "metadata": {
    "deletable": true,
    "editable": true
   },
   "source": [
    "###### Loading models"
   ]
  },
  {
   "cell_type": "code",
   "execution_count": 2,
   "metadata": {
    "collapsed": false,
    "deletable": true,
    "editable": true
   },
   "outputs": [],
   "source": [
    "models = {}\n",
    "models['gensim_model'] = Doc2Vec.load('models/gensim_model_5000.d2v')\n",
    "\n",
    "with open('models/keras_model.json') as f:\n",
    "    models['keras_model'] = model_from_json(f.read())\n",
    "models['keras_model'].load_weights(\"models/keras_weights_5000.h5\")\n",
    "\n",
    "with open('first_5000_words.json') as f:\n",
    "    models['permitted_words'] = set(json.load(f))\n",
    "    \n",
    "predict_pdfs = partial(predict_documents_pdf, **models)"
   ]
  },
  {
   "cell_type": "markdown",
   "metadata": {
    "deletable": true,
    "editable": true
   },
   "source": [
    "###### Input arguments"
   ]
  },
  {
   "cell_type": "code",
   "execution_count": 3,
   "metadata": {
    "collapsed": false,
    "deletable": true,
    "editable": true
   },
   "outputs": [],
   "source": [
    "pdf_folder = '../files_to_predict'\n",
    "csv_out_file = '../predictions2.csv'\n",
    "extract_from_tar = False\n",
    "\n",
    "labels_map = ['NON COSTITUTIVO', 'COSTITUTIVO']"
   ]
  },
  {
   "cell_type": "markdown",
   "metadata": {
    "deletable": true,
    "editable": true
   },
   "source": [
    "###### Tar extraction (execute only the first time if starting from a tar)"
   ]
  },
  {
   "cell_type": "code",
   "execution_count": 4,
   "metadata": {
    "collapsed": true,
    "deletable": true,
    "editable": true
   },
   "outputs": [],
   "source": [
    "# Accetto solo file con dimensione < 1MB\n",
    "def file_filter(f):\n",
    "    return os.path.getsize(str(f.absolute()))<(1024**2)\n",
    "    #return f.name.endswith(u'001.pdf') and os.path.getsize(str(f.absolute()))<(1024**2*5)"
   ]
  },
  {
   "cell_type": "code",
   "execution_count": 5,
   "metadata": {
    "collapsed": false,
    "deletable": true,
    "editable": true
   },
   "outputs": [],
   "source": [
    "# Solo se si deve partire da una tar\n",
    "if extract_from_tar:\n",
    "    tar_root = '../prova.tar.gz'\n",
    "    ExtractNested(tar_root)\n",
    "    move_flattened_files(tar_root[:-7], pdf_folder, file_filter)"
   ]
  },
  {
   "cell_type": "markdown",
   "metadata": {
    "deletable": true,
    "editable": true
   },
   "source": [
    "### Prediction"
   ]
  },
  {
   "cell_type": "code",
   "execution_count": 6,
   "metadata": {
    "collapsed": true
   },
   "outputs": [],
   "source": [
    "pdf_names = [os.path.join(pdf_folder, f) for f in os.listdir(pdf_folder)]"
   ]
  },
  {
   "cell_type": "code",
   "execution_count": 7,
   "metadata": {
    "collapsed": false,
    "deletable": true,
    "editable": true
   },
   "outputs": [
    {
     "name": "stdout",
     "output_type": "stream",
     "text": [
      "../files_to_predict/4908476390001.pdf è una scansione\n",
      "../files_to_predict/4908921960001.pdf è una scansione\n",
      "../files_to_predict/4909311650001.pdf è una scansione\n",
      "../files_to_predict/4908983690001.pdf è una scansione\n",
      "../files_to_predict/4138282530001.pdf è una scansione\n",
      "../files_to_predict/4137960290001.pdf è una scansione\n",
      "../files_to_predict/4908312250001.pdf è una scansione\n",
      "../files_to_predict/4907849390001.pdf è una scansione\n",
      "../files_to_predict/4138456320001.pdf è una scansione\n",
      "../files_to_predict/4137265570001.pdf è una scansione\n",
      "../files_to_predict/4908190400001.pdf è una scansione\n",
      "../files_to_predict/4908086720001.pdf è una scansione\n",
      "../files_to_predict/4908717640001.pdf è una scansione\n",
      "../files_to_predict/4137094820001.pdf è una scansione\n",
      "../files_to_predict/4908064870001.pdf è una scansione\n",
      "../files_to_predict/4138180200001.pdf è una scansione\n",
      "../files_to_predict/4136985860001.pdf è una scansione\n",
      "../files_to_predict/4138333080001.pdf è una scansione\n",
      "../files_to_predict/4138314780001.pdf è una scansione\n",
      "../files_to_predict/4137286660001.pdf è una scansione\n"
     ]
    }
   ],
   "source": [
    "predictions, filtered_filenames = predict_pdfs(pdf_names)"
   ]
  },
  {
   "cell_type": "markdown",
   "metadata": {},
   "source": [
    "#### Show predictions"
   ]
  },
  {
   "cell_type": "code",
   "execution_count": 8,
   "metadata": {
    "collapsed": false,
    "deletable": true,
    "editable": true
   },
   "outputs": [
    {
     "name": "stdout",
     "output_type": "stream",
     "text": [
      "T3LAB-INJENIA_Analisi Preliminare.pdf              \t-\tNON COSTITUTIVO  (0.015497)\n",
      "5 Planning Robot.pdf                               \t-\tNON COSTITUTIVO  (0.010652)\n",
      "5122462300001.pdf                                  \t-\tCOSTITUTIVO  (0.987089)\n"
     ]
    }
   ],
   "source": [
    "for name, pred in zip(filtered_filenames, predictions):\n",
    "    print os.path.basename(name)[:50].ljust(50), '\\t-\\t', labels_map[int(round(pred))], ' (%f)' % pred"
   ]
  },
  {
   "cell_type": "markdown",
   "metadata": {},
   "source": [
    "#### Save predictions to csv"
   ]
  },
  {
   "cell_type": "code",
   "execution_count": 9,
   "metadata": {
    "collapsed": false
   },
   "outputs": [],
   "source": [
    "def basenames(files):\n",
    "    return [os.path.basename(f) for f in files]"
   ]
  },
  {
   "cell_type": "code",
   "execution_count": 10,
   "metadata": {
    "collapsed": false
   },
   "outputs": [],
   "source": [
    "df = predictions_dataframe(basenames(pdf_names), basenames(filtered_filenames), predictions, csv_out_file, labels_map)\n",
    "df.to_csv(csv_out_file,  sep=',', index=False, encoding='utf-8')"
   ]
  },
  {
   "cell_type": "code",
   "execution_count": 11,
   "metadata": {
    "collapsed": false
   },
   "outputs": [
    {
     "data": {
      "text/html": [
       "<div>\n",
       "<style>\n",
       "    .dataframe thead tr:only-child th {\n",
       "        text-align: right;\n",
       "    }\n",
       "\n",
       "    .dataframe thead th {\n",
       "        text-align: left;\n",
       "    }\n",
       "\n",
       "    .dataframe tbody tr th {\n",
       "        vertical-align: top;\n",
       "    }\n",
       "</style>\n",
       "<table border=\"1\" class=\"dataframe\">\n",
       "  <thead>\n",
       "    <tr style=\"text-align: right;\">\n",
       "      <th></th>\n",
       "      <th>Nome file</th>\n",
       "      <th>Errore</th>\n",
       "      <th>Messaggio errore</th>\n",
       "      <th>Output rete</th>\n",
       "      <th>Predizione</th>\n",
       "    </tr>\n",
       "  </thead>\n",
       "  <tbody>\n",
       "    <tr>\n",
       "      <th>0</th>\n",
       "      <td>T3LAB-INJENIA_Analisi Preliminare.pdf</td>\n",
       "      <td>No</td>\n",
       "      <td></td>\n",
       "      <td>0.0154966</td>\n",
       "      <td>NON COSTITUTIVO</td>\n",
       "    </tr>\n",
       "    <tr>\n",
       "      <th>1</th>\n",
       "      <td>5 Planning Robot.pdf</td>\n",
       "      <td>No</td>\n",
       "      <td></td>\n",
       "      <td>0.0106523</td>\n",
       "      <td>NON COSTITUTIVO</td>\n",
       "    </tr>\n",
       "    <tr>\n",
       "      <th>2</th>\n",
       "      <td>5122462300001.pdf</td>\n",
       "      <td>No</td>\n",
       "      <td></td>\n",
       "      <td>0.987089</td>\n",
       "      <td>COSTITUTIVO</td>\n",
       "    </tr>\n",
       "    <tr>\n",
       "      <th>3</th>\n",
       "      <td>4908476390001.pdf</td>\n",
       "      <td>Si</td>\n",
       "      <td>scansione</td>\n",
       "      <td></td>\n",
       "      <td></td>\n",
       "    </tr>\n",
       "    <tr>\n",
       "      <th>4</th>\n",
       "      <td>4908921960001.pdf</td>\n",
       "      <td>Si</td>\n",
       "      <td>scansione</td>\n",
       "      <td></td>\n",
       "      <td></td>\n",
       "    </tr>\n",
       "    <tr>\n",
       "      <th>5</th>\n",
       "      <td>4909311650001.pdf</td>\n",
       "      <td>Si</td>\n",
       "      <td>scansione</td>\n",
       "      <td></td>\n",
       "      <td></td>\n",
       "    </tr>\n",
       "    <tr>\n",
       "      <th>6</th>\n",
       "      <td>4908983690001.pdf</td>\n",
       "      <td>Si</td>\n",
       "      <td>scansione</td>\n",
       "      <td></td>\n",
       "      <td></td>\n",
       "    </tr>\n",
       "    <tr>\n",
       "      <th>7</th>\n",
       "      <td>4138282530001.pdf</td>\n",
       "      <td>Si</td>\n",
       "      <td>scansione</td>\n",
       "      <td></td>\n",
       "      <td></td>\n",
       "    </tr>\n",
       "    <tr>\n",
       "      <th>8</th>\n",
       "      <td>4137960290001.pdf</td>\n",
       "      <td>Si</td>\n",
       "      <td>scansione</td>\n",
       "      <td></td>\n",
       "      <td></td>\n",
       "    </tr>\n",
       "    <tr>\n",
       "      <th>9</th>\n",
       "      <td>4908312250001.pdf</td>\n",
       "      <td>Si</td>\n",
       "      <td>scansione</td>\n",
       "      <td></td>\n",
       "      <td></td>\n",
       "    </tr>\n",
       "    <tr>\n",
       "      <th>10</th>\n",
       "      <td>4907849390001.pdf</td>\n",
       "      <td>Si</td>\n",
       "      <td>scansione</td>\n",
       "      <td></td>\n",
       "      <td></td>\n",
       "    </tr>\n",
       "    <tr>\n",
       "      <th>11</th>\n",
       "      <td>4138456320001.pdf</td>\n",
       "      <td>Si</td>\n",
       "      <td>scansione</td>\n",
       "      <td></td>\n",
       "      <td></td>\n",
       "    </tr>\n",
       "    <tr>\n",
       "      <th>12</th>\n",
       "      <td>4137265570001.pdf</td>\n",
       "      <td>Si</td>\n",
       "      <td>scansione</td>\n",
       "      <td></td>\n",
       "      <td></td>\n",
       "    </tr>\n",
       "    <tr>\n",
       "      <th>13</th>\n",
       "      <td>4908190400001.pdf</td>\n",
       "      <td>Si</td>\n",
       "      <td>scansione</td>\n",
       "      <td></td>\n",
       "      <td></td>\n",
       "    </tr>\n",
       "    <tr>\n",
       "      <th>14</th>\n",
       "      <td>4908086720001.pdf</td>\n",
       "      <td>Si</td>\n",
       "      <td>scansione</td>\n",
       "      <td></td>\n",
       "      <td></td>\n",
       "    </tr>\n",
       "    <tr>\n",
       "      <th>15</th>\n",
       "      <td>4908717640001.pdf</td>\n",
       "      <td>Si</td>\n",
       "      <td>scansione</td>\n",
       "      <td></td>\n",
       "      <td></td>\n",
       "    </tr>\n",
       "    <tr>\n",
       "      <th>16</th>\n",
       "      <td>4137094820001.pdf</td>\n",
       "      <td>Si</td>\n",
       "      <td>scansione</td>\n",
       "      <td></td>\n",
       "      <td></td>\n",
       "    </tr>\n",
       "    <tr>\n",
       "      <th>17</th>\n",
       "      <td>4908064870001.pdf</td>\n",
       "      <td>Si</td>\n",
       "      <td>scansione</td>\n",
       "      <td></td>\n",
       "      <td></td>\n",
       "    </tr>\n",
       "    <tr>\n",
       "      <th>18</th>\n",
       "      <td>4138180200001.pdf</td>\n",
       "      <td>Si</td>\n",
       "      <td>scansione</td>\n",
       "      <td></td>\n",
       "      <td></td>\n",
       "    </tr>\n",
       "    <tr>\n",
       "      <th>19</th>\n",
       "      <td>4136985860001.pdf</td>\n",
       "      <td>Si</td>\n",
       "      <td>scansione</td>\n",
       "      <td></td>\n",
       "      <td></td>\n",
       "    </tr>\n",
       "    <tr>\n",
       "      <th>20</th>\n",
       "      <td>4138333080001.pdf</td>\n",
       "      <td>Si</td>\n",
       "      <td>scansione</td>\n",
       "      <td></td>\n",
       "      <td></td>\n",
       "    </tr>\n",
       "    <tr>\n",
       "      <th>21</th>\n",
       "      <td>4138314780001.pdf</td>\n",
       "      <td>Si</td>\n",
       "      <td>scansione</td>\n",
       "      <td></td>\n",
       "      <td></td>\n",
       "    </tr>\n",
       "    <tr>\n",
       "      <th>22</th>\n",
       "      <td>4137286660001.pdf</td>\n",
       "      <td>Si</td>\n",
       "      <td>scansione</td>\n",
       "      <td></td>\n",
       "      <td></td>\n",
       "    </tr>\n",
       "  </tbody>\n",
       "</table>\n",
       "</div>"
      ],
      "text/plain": [
       "                                Nome file Errore Messaggio errore Output rete  \\\n",
       "0   T3LAB-INJENIA_Analisi Preliminare.pdf     No                    0.0154966   \n",
       "1                    5 Planning Robot.pdf     No                    0.0106523   \n",
       "2                       5122462300001.pdf     No                     0.987089   \n",
       "3                       4908476390001.pdf     Si        scansione               \n",
       "4                       4908921960001.pdf     Si        scansione               \n",
       "5                       4909311650001.pdf     Si        scansione               \n",
       "6                       4908983690001.pdf     Si        scansione               \n",
       "7                       4138282530001.pdf     Si        scansione               \n",
       "8                       4137960290001.pdf     Si        scansione               \n",
       "9                       4908312250001.pdf     Si        scansione               \n",
       "10                      4907849390001.pdf     Si        scansione               \n",
       "11                      4138456320001.pdf     Si        scansione               \n",
       "12                      4137265570001.pdf     Si        scansione               \n",
       "13                      4908190400001.pdf     Si        scansione               \n",
       "14                      4908086720001.pdf     Si        scansione               \n",
       "15                      4908717640001.pdf     Si        scansione               \n",
       "16                      4137094820001.pdf     Si        scansione               \n",
       "17                      4908064870001.pdf     Si        scansione               \n",
       "18                      4138180200001.pdf     Si        scansione               \n",
       "19                      4136985860001.pdf     Si        scansione               \n",
       "20                      4138333080001.pdf     Si        scansione               \n",
       "21                      4138314780001.pdf     Si        scansione               \n",
       "22                      4137286660001.pdf     Si        scansione               \n",
       "\n",
       "         Predizione  \n",
       "0   NON COSTITUTIVO  \n",
       "1   NON COSTITUTIVO  \n",
       "2       COSTITUTIVO  \n",
       "3                    \n",
       "4                    \n",
       "5                    \n",
       "6                    \n",
       "7                    \n",
       "8                    \n",
       "9                    \n",
       "10                   \n",
       "11                   \n",
       "12                   \n",
       "13                   \n",
       "14                   \n",
       "15                   \n",
       "16                   \n",
       "17                   \n",
       "18                   \n",
       "19                   \n",
       "20                   \n",
       "21                   \n",
       "22                   "
      ]
     },
     "execution_count": 11,
     "metadata": {},
     "output_type": "execute_result"
    }
   ],
   "source": [
    "df"
   ]
  }
 ],
 "metadata": {
  "kernelspec": {
   "display_name": "Python 2",
   "language": "python",
   "name": "python2"
  },
  "language_info": {
   "codemirror_mode": {
    "name": "ipython",
    "version": 2
   },
   "file_extension": ".py",
   "mimetype": "text/x-python",
   "name": "python",
   "nbconvert_exporter": "python",
   "pygments_lexer": "ipython2",
   "version": "2.7.12"
  }
 },
 "nbformat": 4,
 "nbformat_minor": 2
}

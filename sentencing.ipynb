{
 "cells": [
  {
   "cell_type": "markdown",
   "metadata": {
    "deletable": true,
    "editable": true
   },
   "source": [
    "# Sentencing"
   ]
  },
  {
   "cell_type": "code",
   "execution_count": 1,
   "metadata": {
    "collapsed": false,
    "deletable": true,
    "editable": true
   },
   "outputs": [],
   "source": [
    "# This Python file uses the following encoding: utf-8\n",
    "import os\n",
    "from lib.words import not_so_naive_split, replace_evil_dots_and_underscores, tokenize_doc\n",
    "from lib.parallel_run import parallel_run, parallelize\n",
    "import numpy as np\n",
    "import codecs"
   ]
  },
  {
   "cell_type": "markdown",
   "metadata": {
    "deletable": true,
    "editable": true
   },
   "source": [
    "Divisione del testo in frasi, rimozione di stop words, numeri, punteggiatura..."
   ]
  },
  {
   "cell_type": "code",
   "execution_count": 5,
   "metadata": {
    "collapsed": false,
    "deletable": true,
    "editable": true
   },
   "outputs": [],
   "source": [
    "# Esempio di split\n",
    "\n",
    "t = not_so_naive_split(text, split='.')\n",
    "#t"
   ]
  },
  {
   "cell_type": "code",
   "execution_count": 2,
   "metadata": {
    "collapsed": true,
    "deletable": true,
    "editable": true
   },
   "outputs": [],
   "source": [
    "# old, no utf-8...\n",
    "def sentence_splitting(src_dir, out_dir, digit_replacement='NUM', split='.', min_words=2, max_n=-1):\n",
    "    i = 0\n",
    "    for f in os.listdir(src_dir):\n",
    "        txt = open(src_dir+'/'+f).read()\n",
    "        splitted = not_so_naive_split(txt, digit_replacement, split, min_words)\n",
    "        with open(out_dir+'/'+f, 'w') as of:\n",
    "            for l in splitted:\n",
    "                of.write(' '.join(l)+'\\n')\n",
    "        if max_n>0 and i >= max_n:\n",
    "            break\n",
    "        i += 1\n",
    "        \n",
    "def sentence_tokenize_file(f, src_dir, out_dir, min_words=2):\n",
    "    txt = open(src_dir+'/'+f).read()\n",
    "    splitted = tokenize_doc(txt, min_words)\n",
    "    with codecs.open(out_dir+'/'+f, 'w', 'utf-8') as of:\n",
    "        for l in splitted:\n",
    "            of.write(u' '.join(l)+u'\\n')\n",
    "        \n",
    "def sentence_tokenization(src_dir, out_dir, min_words=2):\n",
    "    parallelize(sentence_tokenize_file)(os.listdir(src_dir), src_dir, out_dir, min_words)"
   ]
  },
  {
   "cell_type": "code",
   "execution_count": 3,
   "metadata": {
    "collapsed": false,
    "deletable": true,
    "editable": true
   },
   "outputs": [],
   "source": [
    "# Per atti costitutivi\n",
    "#sentence_splitting('../atti_costitutivi_txt','../atti_costitutivi_sentences')\n",
    "sentence_tokenization('../atti_costitutivi_txt','../atti_costitutivi_sentences')"
   ]
  },
  {
   "cell_type": "code",
   "execution_count": 3,
   "metadata": {
    "collapsed": true,
    "deletable": true,
    "editable": true
   },
   "outputs": [],
   "source": [
    "# Per atti non costitutivi\n",
    "#sentence_splitting('../atti_non_costitutivi_txt2','../atti_non_costitutivi_sentences')\n",
    "sentence_tokenization('../atti_non_costitutivi_txt','../atti_non_costitutivi_sentences')"
   ]
  },
  {
   "cell_type": "code",
   "execution_count": 3,
   "metadata": {
    "collapsed": true
   },
   "outputs": [],
   "source": [
    "# Per verbali\n",
    "sentence_tokenization('../verbali_a05_txt/','../verbali_a05_sentences/')"
   ]
  },
  {
   "cell_type": "code",
   "execution_count": 4,
   "metadata": {
    "collapsed": true,
    "deletable": true,
    "editable": true
   },
   "outputs": [],
   "source": [
    "# Per atti non costitutivi scansionati\n",
    "sentence_splitting('../ocr/scanned_non_costitutivi','../atti_non_costitutivi_sentences')"
   ]
  },
  {
   "cell_type": "code",
   "execution_count": 3,
   "metadata": {
    "collapsed": false,
    "deletable": true,
    "editable": true
   },
   "outputs": [],
   "source": [
    "# Esempio di testo elaborato\n",
    "\n",
    "text = open('../atti_non_costitutivi_sentences/'+'4578843770001.txt').read()\n",
    "print text"
   ]
  },
  {
   "cell_type": "markdown",
   "metadata": {
    "deletable": true,
    "editable": true
   },
   "source": [
    "## Conversione in CSV"
   ]
  },
  {
   "cell_type": "code",
   "execution_count": 5,
   "metadata": {
    "collapsed": false,
    "deletable": true,
    "editable": true
   },
   "outputs": [],
   "source": [
    "def folders_to_csv(csv_file, dirs, labels):\n",
    "    '''\n",
    "    Writes to a csv file the lines contained in a list of directories,\n",
    "    assuming each directory is associated to one label'''\n",
    "    with codecs.open(csv_file,'w', 'utf-8') as out_file:\n",
    "        out_file.write('filename,sentence,label\\n')\n",
    "        for d, label in zip(dirs, labels):\n",
    "            for f in os.listdir(d):\n",
    "                with codecs.open(d+u'/'+f, 'r', 'utf-8') as in_file:\n",
    "                    for line in in_file:\n",
    "                        out_file.write((u','.join([f[:-4],line.strip(),label]))+u'\\n')\n",
    " "
   ]
  },
  {
   "cell_type": "code",
   "execution_count": 6,
   "metadata": {
    "collapsed": false,
    "deletable": true,
    "editable": true
   },
   "outputs": [],
   "source": [
    "folders_to_csv('../atti2.csv', ['../atti_costitutivi_sentences/','../atti_non_costitutivi_sentences/','../verbali_a05_sentences/'],['costitutivo','non_costitutivo','non_costitutivo'])"
   ]
  },
  {
   "cell_type": "markdown",
   "metadata": {
    "collapsed": true,
    "deletable": true,
    "editable": true
   },
   "source": [
    "## Statistiche PANDAS"
   ]
  },
  {
   "cell_type": "code",
   "execution_count": 7,
   "metadata": {
    "collapsed": false,
    "deletable": true,
    "editable": true
   },
   "outputs": [],
   "source": [
    "import pandas as pd\n",
    "from matplotlib import pyplot as plt"
   ]
  },
  {
   "cell_type": "code",
   "execution_count": 8,
   "metadata": {
    "collapsed": false,
    "deletable": true,
    "editable": true
   },
   "outputs": [],
   "source": [
    "def print_column_stats(col):\n",
    "    print 'Mean', col.mean()\n",
    "    print 'Stddev', col.std()\n",
    "    print 'Min', col.min()\n",
    "    print 'Max', col.max()"
   ]
  },
  {
   "cell_type": "code",
   "execution_count": 9,
   "metadata": {
    "collapsed": false,
    "deletable": true,
    "editable": true
   },
   "outputs": [
    {
     "name": "stderr",
     "output_type": "stream",
     "text": [
      "/usr/local/lib/python2.7/dist-packages/IPython/core/interactiveshell.py:2717: DtypeWarning: Columns (0) have mixed types. Specify dtype option on import or set low_memory=False.\n",
      "  interactivity=interactivity, compiler=compiler, result=result)\n"
     ]
    }
   ],
   "source": [
    "df = pd.read_csv(\"../atti2.csv\", encoding='utf-8')\n",
    "#df"
   ]
  },
  {
   "cell_type": "code",
   "execution_count": 10,
   "metadata": {
    "collapsed": false,
    "deletable": true,
    "editable": true
   },
   "outputs": [
    {
     "data": {
      "text/html": [
       "<div>\n",
       "<style>\n",
       "    .dataframe thead tr:only-child th {\n",
       "        text-align: right;\n",
       "    }\n",
       "\n",
       "    .dataframe thead th {\n",
       "        text-align: left;\n",
       "    }\n",
       "\n",
       "    .dataframe tbody tr th {\n",
       "        vertical-align: top;\n",
       "    }\n",
       "</style>\n",
       "<table border=\"1\" class=\"dataframe\">\n",
       "  <thead>\n",
       "    <tr style=\"text-align: right;\">\n",
       "      <th></th>\n",
       "      <th>filename</th>\n",
       "      <th>sentence</th>\n",
       "      <th>label</th>\n",
       "    </tr>\n",
       "  </thead>\n",
       "  <tbody>\n",
       "    <tr>\n",
       "      <th>0</th>\n",
       "      <td>5049618730001</td>\n",
       "      <td>repertorio n NUM raccolta n NUM atto costituti...</td>\n",
       "      <td>costitutivo</td>\n",
       "    </tr>\n",
       "    <tr>\n",
       "      <th>1</th>\n",
       "      <td>5049618730001</td>\n",
       "      <td>codice fiscale bnd dnl ALPHANUM ALPHANUM detto...</td>\n",
       "      <td>costitutivo</td>\n",
       "    </tr>\n",
       "    <tr>\n",
       "      <th>2</th>\n",
       "      <td>5049618730001</td>\n",
       "      <td>i e costituita società responsabilità limitata...</td>\n",
       "      <td>costitutivo</td>\n",
       "    </tr>\n",
       "    <tr>\n",
       "      <th>3</th>\n",
       "      <td>5049618730001</td>\n",
       "      <td>ii la sede società fissata comune modena</td>\n",
       "      <td>costitutivo</td>\n",
       "    </tr>\n",
       "    <tr>\n",
       "      <th>4</th>\n",
       "      <td>5049618730001</td>\n",
       "      <td>ai soli fini iscrizione registro imprese compa...</td>\n",
       "      <td>costitutivo</td>\n",
       "    </tr>\n",
       "    <tr>\n",
       "      <th>5</th>\n",
       "      <td>5049618730001</td>\n",
       "      <td>b progettare erogare corsi formazione qualsivo...</td>\n",
       "      <td>costitutivo</td>\n",
       "    </tr>\n",
       "    <tr>\n",
       "      <th>6</th>\n",
       "      <td>5049618730001</td>\n",
       "      <td>erogare servizi tipo doposcuola rivolti studen...</td>\n",
       "      <td>costitutivo</td>\n",
       "    </tr>\n",
       "    <tr>\n",
       "      <th>7</th>\n",
       "      <td>5049618730001</td>\n",
       "      <td>d erogare prestazioni individuali collettive m...</td>\n",
       "      <td>costitutivo</td>\n",
       "    </tr>\n",
       "    <tr>\n",
       "      <th>8</th>\n",
       "      <td>5049618730001</td>\n",
       "      <td>progettare erogare prestazioni consulenze trai...</td>\n",
       "      <td>costitutivo</td>\n",
       "    </tr>\n",
       "    <tr>\n",
       "      <th>9</th>\n",
       "      <td>5049618730001</td>\n",
       "      <td>tali prestazioni potranno essere erogate forma...</td>\n",
       "      <td>costitutivo</td>\n",
       "    </tr>\n",
       "    <tr>\n",
       "      <th>10</th>\n",
       "      <td>5049618730001</td>\n",
       "      <td>f organizzare partecipare convegni conferenze ...</td>\n",
       "      <td>costitutivo</td>\n",
       "    </tr>\n",
       "    <tr>\n",
       "      <th>11</th>\n",
       "      <td>5049618730001</td>\n",
       "      <td>g progettare organizzare centri estivi inverna...</td>\n",
       "      <td>costitutivo</td>\n",
       "    </tr>\n",
       "    <tr>\n",
       "      <th>12</th>\n",
       "      <td>5049618730001</td>\n",
       "      <td>h attuare servizi discipline pratiche sede fuo...</td>\n",
       "      <td>costitutivo</td>\n",
       "    </tr>\n",
       "    <tr>\n",
       "      <th>13</th>\n",
       "      <td>5049618730001</td>\n",
       "      <td>pubblicare diffondere libri giornali riviste o...</td>\n",
       "      <td>costitutivo</td>\n",
       "    </tr>\n",
       "    <tr>\n",
       "      <th>14</th>\n",
       "      <td>5049618730001</td>\n",
       "      <td>svolgere attività ricerca documentazione speri...</td>\n",
       "      <td>costitutivo</td>\n",
       "    </tr>\n",
       "    <tr>\n",
       "      <th>15</th>\n",
       "      <td>5049618730001</td>\n",
       "      <td>m collaborare altre società associazioni enti ...</td>\n",
       "      <td>costitutivo</td>\n",
       "    </tr>\n",
       "    <tr>\n",
       "      <th>16</th>\n",
       "      <td>5049618730001</td>\n",
       "      <td>n compiere ogni operazione economica finanziar...</td>\n",
       "      <td>costitutivo</td>\n",
       "    </tr>\n",
       "    <tr>\n",
       "      <th>17</th>\n",
       "      <td>5049618730001</td>\n",
       "      <td>la società potrà assumere interessenze parteci...</td>\n",
       "      <td>costitutivo</td>\n",
       "    </tr>\n",
       "    <tr>\n",
       "      <th>18</th>\n",
       "      <td>5049618730001</td>\n",
       "      <td>iv la durata società fissata sino NUM trentuno...</td>\n",
       "      <td>costitutivo</td>\n",
       "    </tr>\n",
       "    <tr>\n",
       "      <th>19</th>\n",
       "      <td>5049618730001</td>\n",
       "      <td>v il capitale virgola sociale zero zero euro i...</td>\n",
       "      <td>costitutivo</td>\n",
       "    </tr>\n",
       "    <tr>\n",
       "      <th>20</th>\n",
       "      <td>5049618730001</td>\n",
       "      <td>il capitale sociale euro NUM NUM venticinquemi...</td>\n",
       "      <td>costitutivo</td>\n",
       "    </tr>\n",
       "    <tr>\n",
       "      <th>21</th>\n",
       "      <td>5049618730001</td>\n",
       "      <td>il comparente dichiara aver utilizzato denaro ...</td>\n",
       "      <td>costitutivo</td>\n",
       "    </tr>\n",
       "    <tr>\n",
       "      <th>22</th>\n",
       "      <td>5049618730001</td>\n",
       "      <td>vi la società regolata norme contenute statuto...</td>\n",
       "      <td>costitutivo</td>\n",
       "    </tr>\n",
       "    <tr>\n",
       "      <th>23</th>\n",
       "      <td>5049618730001</td>\n",
       "      <td>vii a comporre organo amministrativo tempo ind...</td>\n",
       "      <td>costitutivo</td>\n",
       "    </tr>\n",
       "    <tr>\n",
       "      <th>24</th>\n",
       "      <td>5049618730001</td>\n",
       "      <td>il medesimo poteri ordinaria straordinaria amm...</td>\n",
       "      <td>costitutivo</td>\n",
       "    </tr>\n",
       "    <tr>\n",
       "      <th>25</th>\n",
       "      <td>5049618730001</td>\n",
       "      <td>rappresentanza società salvo viii il primo ese...</td>\n",
       "      <td>costitutivo</td>\n",
       "    </tr>\n",
       "    <tr>\n",
       "      <th>26</th>\n",
       "      <td>5049618730001</td>\n",
       "      <td>ix il rappresentante legale viene delegato com...</td>\n",
       "      <td>costitutivo</td>\n",
       "    </tr>\n",
       "    <tr>\n",
       "      <th>27</th>\n",
       "      <td>5049618730001</td>\n",
       "      <td>x l importo globale approssimativo spese costi...</td>\n",
       "      <td>costitutivo</td>\n",
       "    </tr>\n",
       "    <tr>\n",
       "      <th>28</th>\n",
       "      <td>5049618730001</td>\n",
       "      <td>il comparente dispensa lettura allegato</td>\n",
       "      <td>costitutivo</td>\n",
       "    </tr>\n",
       "    <tr>\n",
       "      <th>29</th>\n",
       "      <td>5049618730001</td>\n",
       "      <td>del presente atto notaio dato lettura comparen...</td>\n",
       "      <td>costitutivo</td>\n",
       "    </tr>\n",
       "    <tr>\n",
       "      <th>...</th>\n",
       "      <td>...</td>\n",
       "      <td>...</td>\n",
       "      <td>...</td>\n",
       "    </tr>\n",
       "    <tr>\n",
       "      <th>4843138</th>\n",
       "      <td>5164569070001</td>\n",
       "      <td>le adunanze consiglio amministrazione possono ...</td>\n",
       "      <td>non_costitutivo</td>\n",
       "    </tr>\n",
       "    <tr>\n",
       "      <th>4843139</th>\n",
       "      <td>5164569070001</td>\n",
       "      <td>articolo NUM il consiglio viene convocato pres...</td>\n",
       "      <td>non_costitutivo</td>\n",
       "    </tr>\n",
       "    <tr>\n",
       "      <th>4843140</th>\n",
       "      <td>5164569070001</td>\n",
       "      <td>articolo NUM per validità deliberazioni consig...</td>\n",
       "      <td>non_costitutivo</td>\n",
       "    </tr>\n",
       "    <tr>\n",
       "      <th>4843141</th>\n",
       "      <td>5164569070001</td>\n",
       "      <td>le deliberazioni prese maggioranza assoluta vo...</td>\n",
       "      <td>non_costitutivo</td>\n",
       "    </tr>\n",
       "    <tr>\n",
       "      <th>4843142</th>\n",
       "      <td>5164569070001</td>\n",
       "      <td>caso parità prevale voto presiede purchè consi...</td>\n",
       "      <td>non_costitutivo</td>\n",
       "    </tr>\n",
       "    <tr>\n",
       "      <th>4843143</th>\n",
       "      <td>5164569070001</td>\n",
       "      <td>articolo NUM a meno componenti organo amminist...</td>\n",
       "      <td>non_costitutivo</td>\n",
       "    </tr>\n",
       "    <tr>\n",
       "      <th>4843144</th>\n",
       "      <td>5164569070001</td>\n",
       "      <td>articolo NUM il consiglio può nominare membri ...</td>\n",
       "      <td>non_costitutivo</td>\n",
       "    </tr>\n",
       "    <tr>\n",
       "      <th>4843145</th>\n",
       "      <td>5164569070001</td>\n",
       "      <td>articolo NUM qualunque sistema amministrazione...</td>\n",
       "      <td>non_costitutivo</td>\n",
       "    </tr>\n",
       "    <tr>\n",
       "      <th>4843146</th>\n",
       "      <td>5164569070001</td>\n",
       "      <td>articolo NUM agli amministratori spetta rimbor...</td>\n",
       "      <td>non_costitutivo</td>\n",
       "    </tr>\n",
       "    <tr>\n",
       "      <th>4843147</th>\n",
       "      <td>5164569070001</td>\n",
       "      <td>può altresì essere assegnato compenso annuo</td>\n",
       "      <td>non_costitutivo</td>\n",
       "    </tr>\n",
       "    <tr>\n",
       "      <th>4843148</th>\n",
       "      <td>5164569070001</td>\n",
       "      <td>agli può inoltre essere attribuita indennità c...</td>\n",
       "      <td>non_costitutivo</td>\n",
       "    </tr>\n",
       "    <tr>\n",
       "      <th>4843149</th>\n",
       "      <td>5164569070001</td>\n",
       "      <td>sotto forma attribuzione percentuale utili</td>\n",
       "      <td>non_costitutivo</td>\n",
       "    </tr>\n",
       "    <tr>\n",
       "      <th>4843150</th>\n",
       "      <td>5164569070001</td>\n",
       "      <td>articolo NUM la firma rappresentanza società f...</td>\n",
       "      <td>non_costitutivo</td>\n",
       "    </tr>\n",
       "    <tr>\n",
       "      <th>4843151</th>\n",
       "      <td>5164569070001</td>\n",
       "      <td>revisione legale dei conti articolo NUM l asse...</td>\n",
       "      <td>non_costitutivo</td>\n",
       "    </tr>\n",
       "    <tr>\n",
       "      <th>4843152</th>\n",
       "      <td>5164569070001</td>\n",
       "      <td>l organo controllo potrà essere monocratico co...</td>\n",
       "      <td>non_costitutivo</td>\n",
       "    </tr>\n",
       "    <tr>\n",
       "      <th>4843153</th>\n",
       "      <td>5164569070001</td>\n",
       "      <td>in ogni caso nomina organo controllo esso appl...</td>\n",
       "      <td>non_costitutivo</td>\n",
       "    </tr>\n",
       "    <tr>\n",
       "      <th>4843154</th>\n",
       "      <td>5164569070001</td>\n",
       "      <td>bilancio approvazione articolo NUM l esercizio...</td>\n",
       "      <td>non_costitutivo</td>\n",
       "    </tr>\n",
       "    <tr>\n",
       "      <th>4843155</th>\n",
       "      <td>5164569070001</td>\n",
       "      <td>l organo amministrativo provvederà entro termi...</td>\n",
       "      <td>non_costitutivo</td>\n",
       "    </tr>\n",
       "    <tr>\n",
       "      <th>4843156</th>\n",
       "      <td>5164569070001</td>\n",
       "      <td>il bilancio deve essere presentato soci approv...</td>\n",
       "      <td>non_costitutivo</td>\n",
       "    </tr>\n",
       "    <tr>\n",
       "      <th>4843157</th>\n",
       "      <td>5164569070001</td>\n",
       "      <td>bilancio può tuttavia essere presentato entro ...</td>\n",
       "      <td>non_costitutivo</td>\n",
       "    </tr>\n",
       "    <tr>\n",
       "      <th>4843158</th>\n",
       "      <td>5164569070001</td>\n",
       "      <td>articolo NUM gli utili netti risultanti bilanc...</td>\n",
       "      <td>non_costitutivo</td>\n",
       "    </tr>\n",
       "    <tr>\n",
       "      <th>4843159</th>\n",
       "      <td>5164569070001</td>\n",
       "      <td>residuo soci salvo diversa deliberazione assem...</td>\n",
       "      <td>non_costitutivo</td>\n",
       "    </tr>\n",
       "    <tr>\n",
       "      <th>4843160</th>\n",
       "      <td>5164569070001</td>\n",
       "      <td>scioglimento e liquidazione articolo NUM addiv...</td>\n",
       "      <td>non_costitutivo</td>\n",
       "    </tr>\n",
       "    <tr>\n",
       "      <th>4843161</th>\n",
       "      <td>5164569070001</td>\n",
       "      <td>clausola conciliatoria e clausola arbitrale ar...</td>\n",
       "      <td>non_costitutivo</td>\n",
       "    </tr>\n",
       "    <tr>\n",
       "      <th>4843162</th>\n",
       "      <td>5164569070001</td>\n",
       "      <td>l arbitro funzionerà giudicherà arbitrato ritu...</td>\n",
       "      <td>non_costitutivo</td>\n",
       "    </tr>\n",
       "    <tr>\n",
       "      <th>4843163</th>\n",
       "      <td>5164569070001</td>\n",
       "      <td>l arbitro dovrà pronunciarsi termine massimo p...</td>\n",
       "      <td>non_costitutivo</td>\n",
       "    </tr>\n",
       "    <tr>\n",
       "      <th>4843164</th>\n",
       "      <td>5164569070001</td>\n",
       "      <td>per tale ultima ipotesi parti convengono compe...</td>\n",
       "      <td>non_costitutivo</td>\n",
       "    </tr>\n",
       "    <tr>\n",
       "      <th>4843165</th>\n",
       "      <td>5164569070001</td>\n",
       "      <td>norma finale articolo NUM per stato disposto p...</td>\n",
       "      <td>non_costitutivo</td>\n",
       "    </tr>\n",
       "    <tr>\n",
       "      <th>4843166</th>\n",
       "      <td>5164569070001</td>\n",
       "      <td>fti mauro ghidini giorgio chiari notaio</td>\n",
       "      <td>non_costitutivo</td>\n",
       "    </tr>\n",
       "    <tr>\n",
       "      <th>4843167</th>\n",
       "      <td>5164569070001</td>\n",
       "      <td>bollo assolto ai sensi del decreto NUM NUM NUM...</td>\n",
       "      <td>non_costitutivo</td>\n",
       "    </tr>\n",
       "  </tbody>\n",
       "</table>\n",
       "<p>4843168 rows × 3 columns</p>\n",
       "</div>"
      ],
      "text/plain": [
       "              filename                                           sentence  \\\n",
       "0        5049618730001  repertorio n NUM raccolta n NUM atto costituti...   \n",
       "1        5049618730001  codice fiscale bnd dnl ALPHANUM ALPHANUM detto...   \n",
       "2        5049618730001  i e costituita società responsabilità limitata...   \n",
       "3        5049618730001           ii la sede società fissata comune modena   \n",
       "4        5049618730001  ai soli fini iscrizione registro imprese compa...   \n",
       "5        5049618730001  b progettare erogare corsi formazione qualsivo...   \n",
       "6        5049618730001  erogare servizi tipo doposcuola rivolti studen...   \n",
       "7        5049618730001  d erogare prestazioni individuali collettive m...   \n",
       "8        5049618730001  progettare erogare prestazioni consulenze trai...   \n",
       "9        5049618730001  tali prestazioni potranno essere erogate forma...   \n",
       "10       5049618730001  f organizzare partecipare convegni conferenze ...   \n",
       "11       5049618730001  g progettare organizzare centri estivi inverna...   \n",
       "12       5049618730001  h attuare servizi discipline pratiche sede fuo...   \n",
       "13       5049618730001  pubblicare diffondere libri giornali riviste o...   \n",
       "14       5049618730001  svolgere attività ricerca documentazione speri...   \n",
       "15       5049618730001  m collaborare altre società associazioni enti ...   \n",
       "16       5049618730001  n compiere ogni operazione economica finanziar...   \n",
       "17       5049618730001  la società potrà assumere interessenze parteci...   \n",
       "18       5049618730001  iv la durata società fissata sino NUM trentuno...   \n",
       "19       5049618730001  v il capitale virgola sociale zero zero euro i...   \n",
       "20       5049618730001  il capitale sociale euro NUM NUM venticinquemi...   \n",
       "21       5049618730001  il comparente dichiara aver utilizzato denaro ...   \n",
       "22       5049618730001  vi la società regolata norme contenute statuto...   \n",
       "23       5049618730001  vii a comporre organo amministrativo tempo ind...   \n",
       "24       5049618730001  il medesimo poteri ordinaria straordinaria amm...   \n",
       "25       5049618730001  rappresentanza società salvo viii il primo ese...   \n",
       "26       5049618730001  ix il rappresentante legale viene delegato com...   \n",
       "27       5049618730001  x l importo globale approssimativo spese costi...   \n",
       "28       5049618730001            il comparente dispensa lettura allegato   \n",
       "29       5049618730001  del presente atto notaio dato lettura comparen...   \n",
       "...                ...                                                ...   \n",
       "4843138  5164569070001  le adunanze consiglio amministrazione possono ...   \n",
       "4843139  5164569070001  articolo NUM il consiglio viene convocato pres...   \n",
       "4843140  5164569070001  articolo NUM per validità deliberazioni consig...   \n",
       "4843141  5164569070001  le deliberazioni prese maggioranza assoluta vo...   \n",
       "4843142  5164569070001  caso parità prevale voto presiede purchè consi...   \n",
       "4843143  5164569070001  articolo NUM a meno componenti organo amminist...   \n",
       "4843144  5164569070001  articolo NUM il consiglio può nominare membri ...   \n",
       "4843145  5164569070001  articolo NUM qualunque sistema amministrazione...   \n",
       "4843146  5164569070001  articolo NUM agli amministratori spetta rimbor...   \n",
       "4843147  5164569070001        può altresì essere assegnato compenso annuo   \n",
       "4843148  5164569070001  agli può inoltre essere attribuita indennità c...   \n",
       "4843149  5164569070001         sotto forma attribuzione percentuale utili   \n",
       "4843150  5164569070001  articolo NUM la firma rappresentanza società f...   \n",
       "4843151  5164569070001  revisione legale dei conti articolo NUM l asse...   \n",
       "4843152  5164569070001  l organo controllo potrà essere monocratico co...   \n",
       "4843153  5164569070001  in ogni caso nomina organo controllo esso appl...   \n",
       "4843154  5164569070001  bilancio approvazione articolo NUM l esercizio...   \n",
       "4843155  5164569070001  l organo amministrativo provvederà entro termi...   \n",
       "4843156  5164569070001  il bilancio deve essere presentato soci approv...   \n",
       "4843157  5164569070001  bilancio può tuttavia essere presentato entro ...   \n",
       "4843158  5164569070001  articolo NUM gli utili netti risultanti bilanc...   \n",
       "4843159  5164569070001  residuo soci salvo diversa deliberazione assem...   \n",
       "4843160  5164569070001  scioglimento e liquidazione articolo NUM addiv...   \n",
       "4843161  5164569070001  clausola conciliatoria e clausola arbitrale ar...   \n",
       "4843162  5164569070001  l arbitro funzionerà giudicherà arbitrato ritu...   \n",
       "4843163  5164569070001  l arbitro dovrà pronunciarsi termine massimo p...   \n",
       "4843164  5164569070001  per tale ultima ipotesi parti convengono compe...   \n",
       "4843165  5164569070001  norma finale articolo NUM per stato disposto p...   \n",
       "4843166  5164569070001            fti mauro ghidini giorgio chiari notaio   \n",
       "4843167  5164569070001  bollo assolto ai sensi del decreto NUM NUM NUM...   \n",
       "\n",
       "                   label  \n",
       "0            costitutivo  \n",
       "1            costitutivo  \n",
       "2            costitutivo  \n",
       "3            costitutivo  \n",
       "4            costitutivo  \n",
       "5            costitutivo  \n",
       "6            costitutivo  \n",
       "7            costitutivo  \n",
       "8            costitutivo  \n",
       "9            costitutivo  \n",
       "10           costitutivo  \n",
       "11           costitutivo  \n",
       "12           costitutivo  \n",
       "13           costitutivo  \n",
       "14           costitutivo  \n",
       "15           costitutivo  \n",
       "16           costitutivo  \n",
       "17           costitutivo  \n",
       "18           costitutivo  \n",
       "19           costitutivo  \n",
       "20           costitutivo  \n",
       "21           costitutivo  \n",
       "22           costitutivo  \n",
       "23           costitutivo  \n",
       "24           costitutivo  \n",
       "25           costitutivo  \n",
       "26           costitutivo  \n",
       "27           costitutivo  \n",
       "28           costitutivo  \n",
       "29           costitutivo  \n",
       "...                  ...  \n",
       "4843138  non_costitutivo  \n",
       "4843139  non_costitutivo  \n",
       "4843140  non_costitutivo  \n",
       "4843141  non_costitutivo  \n",
       "4843142  non_costitutivo  \n",
       "4843143  non_costitutivo  \n",
       "4843144  non_costitutivo  \n",
       "4843145  non_costitutivo  \n",
       "4843146  non_costitutivo  \n",
       "4843147  non_costitutivo  \n",
       "4843148  non_costitutivo  \n",
       "4843149  non_costitutivo  \n",
       "4843150  non_costitutivo  \n",
       "4843151  non_costitutivo  \n",
       "4843152  non_costitutivo  \n",
       "4843153  non_costitutivo  \n",
       "4843154  non_costitutivo  \n",
       "4843155  non_costitutivo  \n",
       "4843156  non_costitutivo  \n",
       "4843157  non_costitutivo  \n",
       "4843158  non_costitutivo  \n",
       "4843159  non_costitutivo  \n",
       "4843160  non_costitutivo  \n",
       "4843161  non_costitutivo  \n",
       "4843162  non_costitutivo  \n",
       "4843163  non_costitutivo  \n",
       "4843164  non_costitutivo  \n",
       "4843165  non_costitutivo  \n",
       "4843166  non_costitutivo  \n",
       "4843167  non_costitutivo  \n",
       "\n",
       "[4843168 rows x 3 columns]"
      ]
     },
     "execution_count": 10,
     "metadata": {},
     "output_type": "execute_result"
    }
   ],
   "source": [
    "df"
   ]
  },
  {
   "cell_type": "code",
   "execution_count": 11,
   "metadata": {
    "collapsed": true,
    "deletable": true,
    "editable": true
   },
   "outputs": [],
   "source": [
    "df_nc = df.loc[df['label'] == 'non_costitutivo']\n",
    "df_c = df.loc[df['label'] == 'costitutivo']"
   ]
  },
  {
   "cell_type": "markdown",
   "metadata": {
    "deletable": true,
    "editable": true
   },
   "source": [
    "## Distribuzione numero parole per linea"
   ]
  },
  {
   "cell_type": "code",
   "execution_count": 12,
   "metadata": {
    "collapsed": false,
    "deletable": true,
    "editable": true,
    "scrolled": true
   },
   "outputs": [],
   "source": [
    "s_len = df['sentence'].apply(lambda s:len(s.split()))"
   ]
  },
  {
   "cell_type": "code",
   "execution_count": 13,
   "metadata": {
    "collapsed": false,
    "deletable": true,
    "editable": true
   },
   "outputs": [
    {
     "name": "stdout",
     "output_type": "stream",
     "text": [
      "Mean 20.2754643242\n",
      "Stddev 22.1523874667\n",
      "Min 2\n",
      "Max 9742\n"
     ]
    }
   ],
   "source": [
    "print_column_stats(s_len)"
   ]
  },
  {
   "cell_type": "code",
   "execution_count": 14,
   "metadata": {
    "collapsed": false,
    "deletable": true,
    "editable": true,
    "scrolled": false
   },
   "outputs": [
    {
     "data": {
      "image/png": "[encoded data removed]",
      "text/plain": [
       "<matplotlib.figure.Figure at 0x7f6608858790>"
      ]
     },
     "metadata": {},
     "output_type": "display_data"
    }
   ],
   "source": [
    "plt.figure(figsize=(20,10))\n",
    "plt.hist([s for s in s_len if s<200], bins=100, normed=True) #[s for s in s_len if s<200]\n",
    "#plt.yscale('log', nonposy='clip')\n",
    "plt.show()"
   ]
  },
  {
   "cell_type": "code",
   "execution_count": null,
   "metadata": {
    "collapsed": true,
    "deletable": true,
    "editable": true
   },
   "outputs": [],
   "source": [
    "s_len_c = df_c['sentence'].apply(lambda s:len(s.split()))\n",
    "s_len_nc = df_nc['sentence'].apply(lambda s:len(s.split()))"
   ]
  },
  {
   "cell_type": "code",
   "execution_count": null,
   "metadata": {
    "collapsed": true,
    "deletable": true,
    "editable": true
   },
   "outputs": [],
   "source": [
    "def hist_len(s_len):\n",
    "    plt.figure(figsize=(20,10))\n",
    "    plt.hist([s for s in s_len if s<200], bins=100, normed=True)\n",
    "    #plt.yscale('log', nonposy='clip')\n",
    "    plt.show()"
   ]
  },
  {
   "cell_type": "code",
   "execution_count": null,
   "metadata": {
    "collapsed": false,
    "deletable": true,
    "editable": true
   },
   "outputs": [],
   "source": [
    "hist_len(s_len_c)\n",
    "hist_len(s_len_nc)"
   ]
  },
  {
   "cell_type": "markdown",
   "metadata": {
    "deletable": true,
    "editable": true
   },
   "source": [
    "## Distribuzione numero linee per file"
   ]
  },
  {
   "cell_type": "code",
   "execution_count": null,
   "metadata": {
    "collapsed": false,
    "deletable": true,
    "editable": true
   },
   "outputs": [],
   "source": [
    "lines_per_file = df[['filename','sentence']].groupby(['filename']).size()"
   ]
  },
  {
   "cell_type": "code",
   "execution_count": null,
   "metadata": {
    "collapsed": false,
    "deletable": true,
    "editable": true
   },
   "outputs": [],
   "source": [
    "print_column_stats(lines_per_file)"
   ]
  },
  {
   "cell_type": "code",
   "execution_count": null,
   "metadata": {
    "collapsed": false,
    "deletable": true,
    "editable": true
   },
   "outputs": [],
   "source": [
    "plt.figure(figsize=(20,10))\n",
    "plt.hist([l for l in lines_per_file if l<500], bins=300)\n",
    "#plt.yscale('log', nonposy='clip')\n",
    "plt.show()"
   ]
  },
  {
   "cell_type": "code",
   "execution_count": 20,
   "metadata": {
    "collapsed": true,
    "deletable": true,
    "editable": true
   },
   "outputs": [],
   "source": [
    "lines_per_file_nc = df_nc[['filename','sentence']].groupby(['filename']).size()\n",
    "lines_per_file_c = df_c[['filename','sentence']].groupby(['filename']).size()"
   ]
  },
  {
   "cell_type": "code",
   "execution_count": 21,
   "metadata": {
    "collapsed": false,
    "deletable": true,
    "editable": true
   },
   "outputs": [
    {
     "name": "stdout",
     "output_type": "stream",
     "text": [
      "Mean 95.2873114989\n",
      "Stddev 91.4655203665\n",
      "Min 1\n",
      "Max 1172\n",
      "Mean 40.6261514535\n",
      "Stddev 41.3417928061\n",
      "Min 1\n",
      "Max 934\n"
     ]
    }
   ],
   "source": [
    "print_column_stats(lines_per_file_c)\n",
    "print_column_stats(lines_per_file_nc)"
   ]
  },
  {
   "cell_type": "code",
   "execution_count": 22,
   "metadata": {
    "collapsed": true,
    "deletable": true,
    "editable": true
   },
   "outputs": [],
   "source": [
    "def hist_lines(lines):\n",
    "    plt.figure(figsize=(20,10))\n",
    "    plt.hist([l for l in lines if l<300], bins=300)\n",
    "    #plt.yscale('log', nonposy='clip')\n",
    "    plt.show()"
   ]
  },
  {
   "cell_type": "code",
   "execution_count": 34,
   "metadata": {
    "collapsed": false,
    "deletable": true,
    "editable": true
   },
   "outputs": [
    {
     "data": {
      "image/png": "[encoded data removed]",
      "text/plain": [
       "<matplotlib.figure.Figure at 0x7f7eb7a44090>"
      ]
     },
     "metadata": {},
     "output_type": "display_data"
    },
    {
     "data": {
      "image/png": "[encoded data removed]",
      "text/plain": [
       "<matplotlib.figure.Figure at 0x7f7ef54a7510>"
      ]
     },
     "metadata": {},
     "output_type": "display_data"
    }
   ],
   "source": [
    "hist_lines(lines_per_file_c)\n",
    "hist_lines(lines_per_file_nc)"
   ]
  },
  {
   "cell_type": "markdown",
   "metadata": {
    "collapsed": true,
    "deletable": true,
    "editable": true
   },
   "source": [
    "## NLTK test"
   ]
  },
  {
   "cell_type": "code",
   "execution_count": 3,
   "metadata": {
    "collapsed": false,
    "deletable": true,
    "editable": true
   },
   "outputs": [],
   "source": [
    "'''\n",
    "import nltk\n",
    "import re\n",
    "from nltk.tokenize import WordPunctTokenizer\n",
    "#tokenizer = nltk.data.load('tokenizers/punkt/italian.pickle')\n",
    "word_tokenizer = WordPunctTokenizer()\n",
    "from nltk.corpus import stopwords\n",
    "stop_words = set(stopwords.words('italian'))\n",
    "import string\n",
    "punctuation = set(string.punctuation)\n",
    "'''\n",
    "from lib.words import allowed_lower_chars, tokenize_doc, read_codec_file, replace_evil_dots_and_underscores, contains_not_allowed_chars, replace_alnum, replace_num"
   ]
  },
  {
   "cell_type": "code",
   "execution_count": 8,
   "metadata": {
    "collapsed": false,
    "deletable": true,
    "editable": true
   },
   "outputs": [
    {
     "name": "stdout",
     "output_type": "stream",
     "text": [
      "False\n",
      "ciao\n",
      "va\n",
      "super spa frase art affronterà\n",
      "allorchè poichè finchè èèèòòèòè beusjd fjkdhs 1 NUM molto bene ciao muahah\n"
     ]
    }
   ],
   "source": [
    "s = u'''ciao\\n\\n\\n. eravamo in sei come va? questa è una super S.P.A. frase ART. perché affronterà;\n",
    "allorchè poichè finchè èèèòòèòè beusjd fjkdhs §§§ 1 1223. molto  bene\\n ciao\\n muahah\\n\\n.'''\n",
    "\n",
    "#for s in tokenize_doc(s,1):\n",
    " #   for w in s:\n",
    "  #      print w\n",
    "\n",
    "#print replace_evil_dots_and_underscores(s)\n",
    "#print [l for l in u'fhdjkflasdààò fdàsaòùàòììì' if l in allowed_lower_chars]\n",
    "print contains_not_allowed_chars(u'fhdjkflasdààòfdàsaòùàòììì')\n",
    "\n",
    "\n",
    "for s in tokenize_doc(s, min_words=1):\n",
    "    print u' '.join(s)"
   ]
  },
  {
   "cell_type": "code",
   "execution_count": 9,
   "metadata": {
    "collapsed": false,
    "deletable": true,
    "editable": true
   },
   "outputs": [
    {
     "name": "stdout",
     "output_type": "stream",
     "text": [
      "n NUM repertorio n NUM raccolta atto costitutivo di societa a responsabilita limitata repubblica italiana l otto marzo duemiladiciassette\n",
      "in caserta corso trieste n NUM innanzi me avv onofrio caprio notaio orta atella studio ivi via fabrizio de andrè n NUM iscritto ruolo distretto notarile santa maria capua vetere intervengono 1 guarro gennaro nato torre greco na 8 maggio NUM domiciliato caserta frazione tredici via i ottobre n 4 codice fiscale grr gnr ALPHANUM ALPHANUM\n",
      "2 guarro ernesto nato torre greco na 7 dicembre NUM domiciliato caserta via perlasca n NUM codice fiscale grr rst ALPHANUM ALPHANUM\n",
      "3 ferracane emanuela nata napoli 5 marzo NUM domiciliata caserta frazione tredici via i ottobre n 4 codice fiscale frr mnl ALPHANUM ALPHANUM\n",
      "4 lubrano giunno maria rosaria nata napoli NUM giugno NUM domiciliata caserta via perlasca n NUM codice fiscale lbr mrs ALPHANUM ALPHANUM dell identità personale costituiti cittadini italiani notaio certo\n",
      "articolo 1 i comparenti guarro gennaro guarro ernesto ferracane emanuela lubrano giunno maria rosaria costituiscono società responsabilità limitata denominazione gasiashop srl\n",
      "sede caserta ce\n",
      "ai soli fini iscrizione registro imprese costituiti dichiarano indirizzo sede sociale via clanio n 5 b\n",
      "durata NUM dicembre NUM\n",
      "capitale euro NUM NUM diecimila virgola zero zero\n",
      "oggetto indicato articolo 4 statuto\n",
      "articolo 2 la società amministrata tempo indeterminato fino revoca rinunzia amministratore unico nominato persona lubrano giunno maria rosaria presente accetta carica\n",
      "articolo 3 il capitale pari euro NUM NUM diecimila virgola zero zero viene sottoscritto segue lubrano giunno maria rosaria quota nominali euro NUM NUM tremilacinquecento virgola zero zero pari NUM trentacinque cento capitale sociale\n",
      "ferracane emanuela quota nominali euro NUM NUM tremilacinquecento virgola zero zero pari NUM trentacinque cento capitale sociale\n",
      "guarro gennaro quota nominali euro NUM NUM millecinquecento virgola zero zero pari NUM quindici cento capitale sociale\n",
      "guarro ernesto quota nominali euro NUM NUM millecinquecento virgola zero zero pari NUM quindici cento capitale sociale\n",
      "il capitale sociale viene interamente versato mezzo assegno circolare pari importo trasferibile n NUM NUM emesso data 6 marzo NUM banco popolare ora banco bpm spa favore gasiashop srl\n",
      "l amministratore unico ritira indicati assegni rilascia quietanza\n",
      "articolo 4 il primo esercizio sociale chiude NUM dicembre NUM articolo 5 si conferiscono amministratore unico ampi poteri attuazione atto effettuare conseguenti adempimenti\n",
      "articolo 6 le spese costituzione importo circa euro NUM NUM millequattrocento virgola zero zero carico società\n",
      "statuto società gasiashop srl 1 denominazione NUM la società denomina gasiashop srl\n",
      "2 sede NUM la società sede caserta ce\n",
      "3 durata NUM la durata fissata NUM dicembre NUM 4 oggetto NUM la società oggetto seguenti attività commercio elettronico ingrosso dettaglio corrispondenza mediante assunzione concessioni mandati agenzia senza rappresentanza senza deposito beni consumo genere particolare macchine elettroniche computer simili calcolatori elaboratori macchine elettrocontabili accessori\n",
      "supporti magnetici supporti cartacei materiale genere annesso settore informatica elettronica\n",
      "prodotti telefonia sistemi hardware prodotti software qualunque tipo dimensione\n",
      "mobili attrezzature ufficio\n",
      "materiale elettrico radio televisori hi fi accessori\n",
      "casalinghi articoli regalo\n",
      "componenti elettrici elettronici sistemi videosorveglianza\n",
      "sistemi illuminazione ogni genere tipo ivi inclusa illuminazione led\n",
      "apparecchi fotografici cinematografici relativi accessori\n",
      "materiale cancelleria stampati libri cartoleria modulistica qualsiasi esigenza concessionaria mandataria ditte operanti relativi settori\n",
      "la società potrà avvalersi tutte agevolazioni finanziarie tributarie nonché ogni altra disposizione agevolativa presente futura\n",
      "la società può altresì compiere atti occorrenti esclusivo giudizio organo amministrativo attuazione oggetto sociale così fra altro fare operazioni immobiliari commerciali industriali bancarie ipotecarie compresi acquisto vendita permuta beni mobili registrati immobili diritti immobiliari\n",
      "ricorrere qualsiasi forma finanziamento istituti credito banche società privati concedendo opportune garanzie reali personali\n",
      "usufruire ove possibile tutte agevolazioni contributi forme finanziamento agevolato fondo perduto previste tutte norme emanate emanande\n",
      "partecipare consorzi raggruppamenti temporanei imprese\n",
      "sempre via strumentale conseguimento oggetto sociale società modo prevalente comunque confronti pubblico può\n",
      "concedere fideiussioni avalli garanzie reali obbli gazioni assunte terzi\n",
      "assumere partecipazioni interessenze altre società imprese rispetto disposizioni legge escluso ogni caso collocamento titoli\n",
      "la società potrà porre essere attività sopra descritte rispetto legislazione vigente particolare limiti legge NUM NUM dlgs NUM NUM dlgs NUM NUM esclusione attività professionali riservate determinate categorie soggetti\n",
      "ALPHANUM dei soci NUM il domicilio soci rapporti società risultante registro imprese\n",
      "6 capitale NUM il capitale euro NUM NUM diecimila virgola zero zero\n",
      "NUM il voto ogni socio vale misura proporzionale partecipazione\n",
      "7 partecipazioni diritti dei soci e recesso NUM le partecipazioni soci possono essere determinate misura proporzionale rispettivi conferimenti\n",
      "NUM non soci aventi diritti particolari relazione amministrazione distribuzione utili\n",
      "i diritti sociali spettano pertanto soci misura proporzionale partecipazione ciascuno posseduta\n",
      "NUM e consentito conferimento denaro beni na tura crediti nonchè qualsiasi altra entità suscettibile valutazione economica ivi compresa prestazione d opera servizi\n",
      "mancanza diversa indicazione conferimento deve essere effettuato denaro\n",
      "NUM nell ipotesi socio obblighi conferire prestazione d opera servizi stesso dovrà prestare polizza assicurazione fideiussione bancaria vengano garantiti intero valore essi assegnato obblighi assunti\n",
      "facoltà socio sostituzione richiamate garanzie versare società cauzione denaro importo pari valore attribuito conferimento\n",
      "NUM i soci diritto recedere casi effetti previsti legge\n",
      "il recesso esercitato mediante lettera raccomandata deve essere spedita entro quindici giorni iscrizione registro imprese decisione legittima indicazione generalità socio recedente domicilio comunicazioni inerenti procedimento\n",
      "se fatto legittima recesso diverso decisione esso può essere esercitato oltre trenta giorni conoscenza parte socio\n",
      "l organo amministrativo tenuto comunicare soci fatti possano dar luogo esercizio recesso entro trenta giorni data venuto esso stesso conoscenza\n",
      "8 versamenti e finanziamenti dei soci NUM la società può acquisire soci previo consenso individuale versamenti conto capitale fondo perduto senza obbligo rimborso ovvero stipulare soci finanziamenti obbligo rimborso presumono infruttiferi salvo altra determinazione risultante atto scritto sempre ricorrano requisiti considerare detti finanziamenti attività raccolta risparmio sensi normativa materia bancaria creditizia\n",
      "NUM il rimborso finanziamenti soci favore società effettuati momento risulta eccessivo squilibrio indebitamento rispetto patrimonio netto oppure situazione finanziaria stato ragionevole conferimento postergato rispetto soddisfazione altri creditori avvenuto anno precedente dichiarazione fallimento società rimborso deve essere restituito\n",
      "9 titoli di debito NUM la società può emettere titoli debito deliberazione unanime amministratori ammontare superiore capitale sociale\n",
      "amministratori potranno emettere altri titoli debito dopo integrale rimborso precedente emissione\n",
      "b decisione soci mezzo deliberazione assunta maggioranza 2 3 due terzi capitale ammontare pari capitale riserve disponibili risultanti ultimo bilancio approvato\n",
      "deliberazione soci potrà essere assunta solo caso stata estinta qualunque altra emissione titoli parte amministratori\n",
      "NUM la determinazione durata debito oggetto titoli ammontare interessi nonchè determinazione qualunque altra condizione prestito modalità rimborso compete organo amministrazione qualunque organismo emittente\n",
      "NUM gli interessi potranno comunque essere fissati misura superiore cinque punti rispetto interesse legale corrente epoca emissione\n",
      "NUM i titoli debito precedenti commi soggiacciono inderogabilmente disciplina ii comma art NUM cc NUM prelazione NUM il socio intende vendere propria quota partecipazione parte essa altro socio terzi deve informarne lettera raccomandata organo amministrativo darà comunicazione altri soci\n",
      "NUM questi potranno rendersi acquirenti quota offerta vendita proporzione quote rispettivamente possedute modo lasciare immutato preesistente rappor to partecipazione capitale sociale\n",
      "NUM il prezzo quota offerta vendita deve essere stabilito base reale valore patrimonio società tempo cessione\n",
      "NUM nel caso mancato accordo determinazione prezzo criteri sopra indicati ricorso collegio arbitrale seguito\n",
      "NUM entro trenta giorni fatta comunicazione soci dovranno comunicare organo amministrativo intendono acquistare\n",
      "NUM in mancanza tale comunicazione indicato termine considerano rinunciatari\n",
      "NUM in caso quota offerta vendita può essere acquistata socio proporzionalmente soci termini comunicato voler acquistare\n",
      "NUM se nessun socio esercita prelazione modalità indicate quota liberamente disponibile\n",
      "NUM il patto prelazione applica caso vendita diritto sottoscrizione nascente aumento capitale\n",
      "NUM il patto prelazione applica caso vendita fatta favore coniuge parenti linea retta collaterali secondo grado favore società controllanti controllate collegate comunque appartenenti medesimo gruppo ovvero caso intestazione società fiduciarie reintestazione originario fiduciante\n",
      "NUM decisioni dei soci NUM sono riservate competenza soci NUM approvazione bilancio distribuzione utili\n",
      "NUM nomina revoca amministratori nonchè determinazione compenso\n",
      "NUM nomina organo controllo caso nomina sindaco unico collegio sindacale presidente revisore nonchè determinazione compenso\n",
      "NUM modificazioni atto costitutivo\n",
      "NUM decisione compiere operazioni comportino sostanziale rilevante modificazione modificazione oggetto diritti sociale soci ovvero nonchè assunzione partecipazioni derivi responsabilità illimitata obbligazioni società partecipata\n",
      "NUM decisioni ordine anticipato scioglimento società\n",
      "NUM decisioni merito nomina revoca liquidatori modificano deliberazioni assunte sensi art NUM primo comma cc\n",
      "NUM decisioni relative aumenti riduzioni capitale sociale\n",
      "NUM decisioni ordine opposizioni amministratori ex art NUM cod civ caso amministrazione plurima disgiuntiva\n",
      "NUM decisioni relative trasferimento sede istituzione soppressione sedi secondarie\n",
      "NUM decisioni ordine introduzione soppressione modifica clausole compromissorie\n",
      "NUM decisioni relative emissione titoli debito caso previsto lettera b comma NUM statuto\n",
      "NUM decisioni aventi oggetto approvazione proposta concordato preventivo fallimentare richiesta ammissione procedura amministrazione controllata\n",
      "NUM decisioni forma assembleare NUM in NUM ordine NUM materie NUM punti NUM NUM NUM NUM NUM precedente comma dovranno essere assunte deliberazione assembleare\n",
      "NUM decisioni forma assembleare NUM tutte decisioni legge forza presente statuto debbano adottarsi deliberazione assembleare quest ultima espressamente richiesta amministratori tanti soci rappresentino almeno terzo capitale devono essere assunte base unico documento risulti chiaramente argomento oggetto decisione dovrà essere datato sottoscritto ciascun socio indicazione visto approvato oppure visto approvato oppure visto astenuto\n",
      "b pluralità documenti identico contenuto risulti chiaramente argomento oggetto decisione inviati proponente soci\n",
      "ciascun socio daterà sottoscriverà documento ricevuto indicazione visto approvato oppure visto approvato oppure visto astenuto provvedendo quindi trasmettere società documento sottoscritto\n",
      "NUM copia unico documento documenti inviata amministratori organo controllo revisore nominati\n",
      "NUM sono considerate forme idonee invii mezzo telefax posta elettronica purchè ultimo caso sottoscrizioni apposte forma digitale\n",
      "NUM tra data prima ultima sottoscrizione raccolte unico documento pluralità documenti può intercorrere periodo superiore trenta giorni\n",
      "NUM la decisione reputa validamente adottata qualora entro termine suddetto pervengano società dichia razioni approvazione tanti soci rappresentino metà capitale sociale assume data ulti dichiarazione pervenuta termine prescritto\n",
      "NUM tutte decisioni forma assembleare dovranno essere trascritte conservate sensi art NUM cc NUM l individuazione soci legittimati partecipare decisioni forma assembleare effettuata riferimento risultanze registro imprese data sottoscrizione\n",
      "qualora intervengano mutamenti compagine sociale data prima ultima sottoscrizione nuovo socio potrà sottoscrivere decisione luogo socio dante causa allegando attestazione amministratori risulti qualità socio\n",
      "NUM la delega poter sottoscrivere decisioni soci deve essere rilasciata iscritto dovrà essere trascritta conservata unitamente decisione riferisce\n",
      "titolare delega apporrà sottoscrizione dizione delega altra equivalente\n",
      "NUM assemblea NUM convocazione assemblea NUM l assemblea convocata presso sede sociale altro luogo purchè stato membro unione europea\n",
      "NUM l avviso convocazione deve contenere elenco materie trattare indicazione giorno ora luo go stabiliti adunanza\n",
      "NUM l avviso dovrà essere inviato cura amministratore unico presidente vice presidente consiglio amministrazione ciascuno amministratori soci nominato organo controllo revisore mezzi garantiscano tempestiva informazione interessati argomenti trattare\n",
      "NUM si potrà scegliere mezzo convocazione alternativamente seguenti lettera inviata almeno otto giorni prima data adunanza mezzo servizi postali od equiparati fornita avviso ricevimento\n",
      "b lettera semplice inviata almeno otto giorni prima data adunanza dovrà essere restituita soci entro data ora stabilite assemblea copia sottoscritta ricevuta apposta data ricevimento\n",
      "messaggio telefax posta elettronica inviato almeno otto giorni prima data adunanza\n",
      "soci dovranno entro data stabilita assemblea confermare iscritto stesso mezzo aver ricevuto avviso specificando data ricevimento\n",
      "NUM deliberazione totalitaria NUM in mancanza formalità convocazione deliberazione intende regolarmente adottata quando presente intero capitale sociale\n",
      "amministratori nominati componenti organo controllo presenti ovvero risultino informati riunione nessuno oppone trattazione argomento\n",
      "NUM affinchè sensi art NUM bis comma 5 cc assemblea possa considerarsi totalitaria occorre amministratori nominati componenti organo controllo assenti adunanza rilascino dichiarazione scritta redatta qualsiasi supporto cartaceo magnetico spedita società qualsiasi sistema comunicazione compresi telefax posta elettronica conservarsi atti società risulti essi informati riunione assembleare\n",
      "NUM diritto intervento assemblea\n",
      "possono intervenire assemblea coloro risultano soci risultanze registro imprese\n",
      "NUM riunioni l assemblea può riunirsi mediante videoconferenza luogo convocazione altri luoghi ove soci purchè rispettate seguenti condizioni presenti stesso luogo presidente segretario riunione provvederanno formazione sottoscrizione verbale\n",
      "consentito presidente assemblea accerta re identità legittimazione intervenuti regolare svolgimento adunanza constatare proclamare risultati votazione\n",
      "consentito soggetto verbalizzante percepire adeguatamente eventi assembleari oggetto verbalizza zione\n",
      "consentito intervenuti partecipare discussione votazione simultanea argomenti ordine giorno nonché visionare ricevere trasmettere documenti\n",
      "indicati avviso convocazione salvo caso assemblea totalitaria luoghi video collegati cura società quali intervenuti potranno affluire dovendosi ritenere svolta riunione luogo indicato avviso convocazione ove presenti presidente segretario\n",
      "dovranno inoltre essere predisposti tanti fogli presenza luoghi video collegati\n",
      "NUM rappresentanza NUM la rappresentanza può essere conferita amministratori nominati componenti organo controllo\n",
      "NUM spetta presidente assemblea constatare regolarità deleghe genere diritto interven to assemblea\n",
      "quando tale constatazione avvenuta validità costituzione assemblea potrà essere infirmata fatto alcuni intervenuti abbandonino adunanza\n",
      "NUM presidenza NUM la presidenza assemblea secondo sistemi amministrazione compete amministratore unico\n",
      "presidente consiglio amministrazione caso assenza od impedimento quest ultimo ordine vice presidente amministratore delegato nominati anziano amministratori\n",
      "coamministratore tempo carica subordine anziano età\n",
      "NUM qualora nè uni nè altri possano vogliano esercitare tale funzione intervenuti designano maggioranza assoluta capitale rappresentato presidente fra presenti\n",
      "NUM verbale assemblea NUM le deliberazioni assemblea devono constare verbale sottoscritto presidente nominato segretario scelto assemblea\n",
      "dal verbale relativi allegati devono risultare attestazione presidente verifica regolare costituzione assemblea\n",
      "accertamento identità legittimazione presenti\n",
      "accertamento modalità risultato vota zioni\n",
      "identificazione soci astenuti dissenzienti\n",
      "dichiarazioni intervenuti pertinenti ordine giorno fatta specifica richiesta verbalizzazione\n",
      "NUM il verbale deliberazione assemblea comporta modificazione atto costitutivo redatto notaio\n",
      "NUM quorum assembleari NUM salvi casi legge preveda maggioranze elevate assemblea delibera alzata mano voto favorevole tanti soci rappresentino maggioranza capitale sociale\n",
      "occorre voto favorevole tanti soci rappresentino almeno due terzi capitale sociale deliberare modificazioni atto costitutivo decisioni compiere operazioni comportano sostanziale modificazione oggetto sociale rilevante modificazione diritti soci scioglimento anticipato società trasformazione società persone fusione scissione emissione titoli debito caso previsto lettera b comma NUM precede introduzione soppressione modifica clausole compromissorie\n",
      "NUM aumento capitale NUM l aumento capitale potrà essere attuato mediante offerta parte esso terzi esclusione diritto sottoscrizione spettante soci salva ipotesi disciplinata art NUM ter cc\n",
      "tal caso spetta soci assenti astenuti dissenzienti diritto recesso norma articolo NUM cc\n",
      "NUM ogni comunicazione soci conseguente deliberazioni sopra dovrà essere effettuata cura amministratori mezzo raccomandata ar NUM riduzione capitale perdite NUM ai sensi art NUM bis cc relazione amministratori situazione patrimoniale società osservazioni organo controllo revisore nominati possono essere depositate presso sede sociale anteriormente assemblea esaurientemente illustrate stessa\n",
      "NUM in ogni caso amministratori corso assemblea dovranno dar conto fatti rilievo avvenuti data riferimento tale relazione sino data tiene assemblea stessa\n",
      "NUM amministrazione NUM la società può essere amministrata amministratore unico\n",
      "b consiglio amministrazione composto tre sette membri\n",
      "due amministratori possono agire disgiuntamente congiuntamente conseguenziale applicazione rispettivamente art NUM NUM cod civ\n",
      "per concerne amministrazione congiuntiva decisioni dovranno essere assunte consenso amministratori\n",
      "NUM i componenti organo amministrativo possono essere soci\n",
      "b rieleggibili\n",
      "durano carica secondo stabilito soci atto nomina tempo indeterminato fino revoca rinunzia ovvero periodo volta volta stabilito coincide soci\n",
      "sempre approvazione tale ultima data bilancio ipotesi assemblea relativo scadenza convocata ultimo esercizio carica\n",
      "NUM quando amministrazione società affidata persone decisione nomina stabilisce alternativamente amministratori costituiscono consiglio amministrazione\n",
      "b amministrazione invece affidata ciascun amministratore disgiuntamente ovvero congiuntamente\n",
      "nell ipotesi punto b precede amministratori dovranno comunque adottare forma collegiale delibera maggio ranza amministratori nominati deliberazioni decisioni relative redazione progetto bilancio progetti fusione scissione aumenti capitale delegati\n",
      "NUM consiglio amministrazione quando società amministrata consiglio funzionamento esso così regolato NUM presidenza il consiglio elegge fra membri presidente nominato assemblea\n",
      "può eleggere vice presidente sostituisca presidente casi assenza impedimento\n",
      "NUM riunioni il consiglio riunisce luogo indicato avviso convocazione sede sociale altrove purchè stati membri unione europea tutte volte presidente fa veci giudichi necessario quando fatta richiesta maggioranza amministratori carica oppure sindaco unico ovvero almeno due sindaci effettivi\n",
      "NUM di regola convocazione fatta almeno cinque giorni liberi prima riunione\n",
      "nei casi urgenza termine può essere breve inferiore giorno\n",
      "la convocazione viene fatta presidente lettera spedire almeno tre giorni prima ciascun membro consiglio organo controllo revisore nominati caso urgenza telegramma telefax messaggio posta elettronica spedire almeno giorno prima\n",
      "NUM le riunioni consiglio presiedute presidente assenza vice presidente qualora stato nominato mancanza quest ultimo consigliere designato consiglio stesso\n",
      "NUM il consiglio può riunirsi mediante teleconferenza videoconferenza luogo convocazione altri luoghi ove consiglieri amministrazione\n",
      "la condizione essenziale validità riunione teleconferenza videoconferenza partecipanti possano essere identificati presidente consentito seguire discussione intervenire visionare documenti tempo reale partecipare votazione\n",
      "verificandosi tali presupposti riunione considera tenuta luogo trova presidente segretario deve essere nominato medesimo luogo presidente onde consentire stesura sottoscrizione verbale relativo libro\n",
      "qualora ora prevista inizio riunione tecnicamente possibile collegamento consigliere seduta valida dovrà essere riconvocata data successiva\n",
      "caso corso riunione motivi tecnici venisse sospeso collegamento solo consigliere riunione verrà dichiarata sospesa presidente considerate valide deliberazioni adottate sino momento sospensione\n",
      "NUM deliberazioni salvo casi statuto stabilisce maggioranze diverse validità deliberazioni consiglio necessaria presenza maggioranza amministratori carica\n",
      "le deliberazioni prendono maggioranza assoluta intervenuti\n",
      "caso parità prevale voto presiede\n",
      "NUM verbalizzazioni le deliberazioni consiglio amministrazione comitato esecutivo nominato sensi successivo punto NUM devono risultare verbali trascritti apposito libro tenuto norma legge vengono firmati presiede segretario nominato volta volta estranei consiglio\n",
      "NUM decisioni le decisioni consiglio amministrazione potranno essere assunte base unico documento risulti chiaramente argomento oggetto decisione dovrà essere datato sottoscritto ciascun amministratore indicazione visto approvato oppure visto approvato oppure visto astenuto\n",
      "b pluralità documenti identico contenuto risulti chiaramente argomento oggetto decisione inviati proponente altri amministratori\n",
      "ciascun amministratore daterà sottoscri verà documento ricevuto indicazione visto approvato oppure visto approvato oppure visto astenuto provvedendo quindi trasmettere società documento sottoscritto\n",
      "NUM copia unico documento documenti inviato proponente organo controllo revisore nominati\n",
      "NUM sono considerate forme idonee invii mezzo telefax posta elettronica purchè ultimo caso sottoscrizioni apposte forma digitale\n",
      "NUM tra data prima ultima sottoscrizione raccolte unico documento pluralità documenti può intercorrere periodo superiore otto giorni\n",
      "NUM la decisione reputa validamente adottata qualora entro termine suddetto pervengano dichiarazioni approvazione maggioranza amministratori\n",
      "NUM la decisione assume data ultima dichiarazione pervenuta termine prescritto\n",
      "NUM le decisioni sopra devono essere trascritte conservate sensi art NUM cc NUM delega poteri il consiglio amministrazione può delegare proprie attribuzioni comitato esecutivo composto alcuni membri amministratori delegati determinando limiti delega\n",
      "NUM la carica amministratore delegato cumulabile presidente vice presidente\n",
      "NUM poteri organo amministrativo salvo sede nomina previsti limiti poteri amministratori qualunque sistema amministrazione adottato organo amministrativo investito ampi poteri amministrazione ordinaria straordinaria società può quindi compiere atti ritenga opportuni attuazione raggiungimento scopi sociali esclusi soltanto legge statuto riservano assemblea nonchè espressamente riservati soci\n",
      "NUM rappresentanza società NUM l amministratore unico amministratori rappresentanza generale società\n",
      "NUM quando amministratori costituiscono consiglio amministrazione rappresentanza generale società spetta presidente vice presidente nominato sostituto presidente altri consiglieri stata conferita nonchè amministratori delegati no minati limiti delega\n",
      "NUM in caso amministrazione affidata persone costituiscono consiglio amministrazione ciascuno amministratori così nominati spetta rappresentanza generale società\n",
      "esercizio tale potere via disgiuntiva congiuntiva determinato capo singoli amministratori deliberazione nomina\n",
      "NUM in caso omessa determinazione esercizio potere rappresentanza intende disgiuntivo\n",
      "NUM l organo amministrativo può nominare direttori generali amministrativi tecnici nonchè procuratori singoli affari categorie affari\n",
      "NUM compenso amministratori NUM agli amministratori spetta rimborso spese sostenute ragioni ufficio compenso stabilito soci decisione valida fino revoca\n",
      "NUM può essere accantonata favore amministratori forme reputate idonee assemblea indennità risoluzione rapporto liquidarsi estinzione esso\n",
      "NUM divieto concorrenza NUM gli amministratori possono società concorrenti assumere qualità soci illimitatamente responsabili ovvero essere amministratori direttori generali possono esercitare attività concorrente conto proprio terzi\n",
      "salvo autorizzazione soci\n",
      "NUM organo di controllo e revisione legale dei conti NUM la società decisione soci può attribuire congiuntamente funzione controllo gestione revisione legale conti organo controllo può essere alternativamente sindaco unico collegio sindacale revisore legale società revisione\n",
      "tale ipotesi sindaco unico membri collegio sindacale devono essere revisori legali iscritti apposito registro\n",
      "attribuire unicamente funzione controllo gestione sindaco unico collegio sindacale attribuire funzione revisore legale conti revisore legale società revisione\n",
      "tale ipotesi sindaco unico almeno membro effettivo supplente collegio sindacale devono essere revisori legali iscritti apposito registro\n",
      "NUM la nomina organo controllo revisore legale obbligatoria casi previsti art NUM commi ii iii cc NUM in casi procede nomina organo controllo monocratico applicano disposizioni artt NUM ss cc NUM il collegio sindacale compone cinque membri tre effettivi due supplenti\n",
      "il presidente colle gio sindacale nominato soci decisione nomina collegio stesso caso cessazione presidenza assunta sino decisione integrazione sindaco anziano età\n",
      "NUM i componenti organo controllo restano carica tre esercizi scadenza data assemblea convocata approvazione bilancio relativo terzo esercizio incarico rieleggibili\n",
      "NUM la retribuzione organo controllo organo revisione legale conti determinata soci atto nomina intero periodo durata ufficio\n",
      "NUM esercizio sociale bilanci NUM l esercizio sociale chiude NUM dicembre ogni anno\n",
      "NUM alla fine ogni esercizio organo amministrativo provvede conformità prescrizioni legge formazione bilancio sociale\n",
      "bilancio presentato soci entro centoventi giorni chiusura esercizio sociale entro centottanta giorni caso richiedano particolari esigenze relative struttura oggetto società\n",
      "NUM utili NUM l utile netto bilancio ripartito segue 5 cinque cento destinato riserva legale fino essa raggiunto quinto capitale sociale oppure riserva discesa sotto importo fino reintegrazione stessa\n",
      "b rimanente verrà assegnato conformità decisioni soci\n",
      "NUM scioglimento e liquidazione NUM in caso scioglimento società assemblea determinerà modalità liquidazione nominerà liquidatori fissandone poteri compensi\n",
      "NUM rinvio NUM per previsto applicano norme codice civile altre leggi materia\n",
      "NUM clausola arbitrale NUM qualsiasi controversia dovesse sorgere circa validità interpretazione esecuzione contratto dipendenza rapporti soci essi società organo amministrativo liquidatori organo controllo disposizione legge inderogabile competenza esclusiva autorità giudiziaria ordinaria previsto intervento obbligatorio pubblico ministero decisa arbitro amichevole compositore scelto presidente tribunale circoscrizione sede società\n",
      "NUM l arbitro deciderà entro NUM centottanta giorni accettazione nomina secondo equità regolando svolgimento giudizio modo riterrà opportuno rispettando comunque principio contraddittorio parti\n",
      "NUM si applicano articoli NUM NUM NUM decreto legislativo 5 NUM richiesto notaio ricevuto presente atto dato lettura parti richiesta approvano me sottoscrivono\n",
      "consta otto fogli trentuno sin qui scritte parte pugno parte sistema elettronico persona fiducia\n",
      "atto sottoscritto ore diciannove trenta minuti\n",
      "firmati guarro gennaro ernesto guarro emanuela ferracane maria rosaria lubrano di giunno onofrio caprio notaio segue sigillo la presente copia supporto informatico conforme originale documento supporto cartaceo sensi art NUM comma 3 dpr NUM NUM trasmette termine utile registrazione uso registro imprese\n",
      "imposta bollo assolta origine via telematica sensi decreto NUM NUM NUM mediante mui estesa atti documenti trasmessi via telematica\n"
     ]
    }
   ],
   "source": [
    "sents =  tokenize_doc(read_codec_file('../atti_costitutivi_txt/4957502190001.txt'), min_words=2)\n",
    "for s in sents:\n",
    "    print ' '.join(s)\n"
   ]
  },
  {
   "cell_type": "code",
   "execution_count": null,
   "metadata": {
    "collapsed": true,
    "deletable": true,
    "editable": true
   },
   "outputs": [],
   "source": []
  }
 ],
 "metadata": {
  "kernelspec": {
   "display_name": "Python 2",
   "language": "python",
   "name": "python2"
  },
  "language_info": {
   "codemirror_mode": {
    "name": "ipython",
    "version": 2
   },
   "file_extension": ".py",
   "mimetype": "text/x-python",
   "name": "python",
   "nbconvert_exporter": "python",
   "pygments_lexer": "ipython2",
   "version": "2.7.12"
  }
 },
 "nbformat": 4,
 "nbformat_minor": 2
}

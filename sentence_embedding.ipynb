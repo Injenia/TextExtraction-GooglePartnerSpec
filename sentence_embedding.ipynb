{
 "cells": [
  {
   "cell_type": "markdown",
   "metadata": {
    "deletable": true,
    "editable": true
   },
   "source": [
    "# Embedding delle Frasi"
   ]
  },
  {
   "cell_type": "code",
   "execution_count": 1,
   "metadata": {
    "collapsed": false,
    "deletable": true,
    "editable": true
   },
   "outputs": [
    {
     "name": "stderr",
     "output_type": "stream",
     "text": [
      "Using TensorFlow backend.\n"
     ]
    }
   ],
   "source": [
    "# This Python file uses the following encoding: utf-8\n",
    "from gensim import utils\n",
    "from gensim.models.doc2vec import LabeledSentence\n",
    "from gensim.models import Doc2Vec\n",
    "\n",
    "import numpy as np\n",
    "import re\n",
    "import string\n",
    "import os\n",
    "import json\n",
    "import operator\n",
    "import pickle\n",
    "\n",
    "import random\n",
    "import pandas as pd"
   ]
  },
  {
   "cell_type": "markdown",
   "metadata": {
    "deletable": true,
    "editable": true
   },
   "source": [
    "###### Creazione del dataset come sottoinsieme bilanciato dei documenti"
   ]
  },
  {
   "cell_type": "code",
   "execution_count": 2,
   "metadata": {
    "collapsed": false,
    "deletable": true,
    "editable": true
   },
   "outputs": [],
   "source": [
    "csv_filename = '../atti.csv'\n",
    "model_filename = 'models/gensim_model.d2v'"
   ]
  },
  {
   "cell_type": "code",
   "execution_count": 3,
   "metadata": {
    "collapsed": false,
    "deletable": true,
    "editable": true
   },
   "outputs": [],
   "source": [
    "df = pd.read_csv(csv_filename)"
   ]
  },
  {
   "cell_type": "code",
   "execution_count": 9,
   "metadata": {
    "collapsed": false,
    "deletable": true,
    "editable": true
   },
   "outputs": [
    {
     "data": {
      "text/html": [
       "<div>\n",
       "<style>\n",
       "    .dataframe thead tr:only-child th {\n",
       "        text-align: right;\n",
       "    }\n",
       "\n",
       "    .dataframe thead th {\n",
       "        text-align: left;\n",
       "    }\n",
       "\n",
       "    .dataframe tbody tr th {\n",
       "        vertical-align: top;\n",
       "    }\n",
       "</style>\n",
       "<table border=\"1\" class=\"dataframe\">\n",
       "  <thead>\n",
       "    <tr style=\"text-align: right;\">\n",
       "      <th></th>\n",
       "      <th>filename</th>\n",
       "      <th>sentence</th>\n",
       "      <th>label</th>\n",
       "    </tr>\n",
       "  </thead>\n",
       "  <tbody>\n",
       "    <tr>\n",
       "      <th>0</th>\n",
       "      <td>5049618730001</td>\n",
       "      <td>repertorio n NUM raccolta n NUM atto costituti...</td>\n",
       "      <td>costitutivo</td>\n",
       "    </tr>\n",
       "    <tr>\n",
       "      <th>1</th>\n",
       "      <td>5049618730001</td>\n",
       "      <td>costituita societ responsabilit limitata unipe...</td>\n",
       "      <td>costitutivo</td>\n",
       "    </tr>\n",
       "    <tr>\n",
       "      <th>2</th>\n",
       "      <td>5049618730001</td>\n",
       "      <td>ii sede societ fissata comune modena</td>\n",
       "      <td>costitutivo</td>\n",
       "    </tr>\n",
       "    <tr>\n",
       "      <th>3</th>\n",
       "      <td>5049618730001</td>\n",
       "      <td>soli fini iscrizione registro imprese comparen...</td>\n",
       "      <td>costitutivo</td>\n",
       "    </tr>\n",
       "    <tr>\n",
       "      <th>4</th>\n",
       "      <td>5049618730001</td>\n",
       "      <td>tali prestazioni potranno essere erogate forma...</td>\n",
       "      <td>costitutivo</td>\n",
       "    </tr>\n",
       "    <tr>\n",
       "      <th>5</th>\n",
       "      <td>5049618730001</td>\n",
       "      <td>societ potr assumere interessenze partecipazio...</td>\n",
       "      <td>costitutivo</td>\n",
       "    </tr>\n",
       "    <tr>\n",
       "      <th>6</th>\n",
       "      <td>5049618730001</td>\n",
       "      <td>iv durata societ fissata sino NUM trentuno dic...</td>\n",
       "      <td>costitutivo</td>\n",
       "    </tr>\n",
       "    <tr>\n",
       "      <th>7</th>\n",
       "      <td>5049618730001</td>\n",
       "      <td>v capitale virgola sociale zero zero euro inte...</td>\n",
       "      <td>costitutivo</td>\n",
       "    </tr>\n",
       "    <tr>\n",
       "      <th>8</th>\n",
       "      <td>5049618730001</td>\n",
       "      <td>capitale sociale euro NUM NUM venticinquemila ...</td>\n",
       "      <td>costitutivo</td>\n",
       "    </tr>\n",
       "    <tr>\n",
       "      <th>9</th>\n",
       "      <td>5049618730001</td>\n",
       "      <td>comparente dichiara aver utilizzato denaro per...</td>\n",
       "      <td>costitutivo</td>\n",
       "    </tr>\n",
       "    <tr>\n",
       "      <th>10</th>\n",
       "      <td>5049618730001</td>\n",
       "      <td>societ regolata norme contenute statuto compos...</td>\n",
       "      <td>costitutivo</td>\n",
       "    </tr>\n",
       "    <tr>\n",
       "      <th>11</th>\n",
       "      <td>5049618730001</td>\n",
       "      <td>vii comporre organo amministrativo indetermina...</td>\n",
       "      <td>costitutivo</td>\n",
       "    </tr>\n",
       "    <tr>\n",
       "      <th>12</th>\n",
       "      <td>5049618730001</td>\n",
       "      <td>medesimo avr poteri ordinaria straordinaria am...</td>\n",
       "      <td>costitutivo</td>\n",
       "    </tr>\n",
       "    <tr>\n",
       "      <th>13</th>\n",
       "      <td>5049618730001</td>\n",
       "      <td>rappresentanza societ salvo viii esercizio soc...</td>\n",
       "      <td>costitutivo</td>\n",
       "    </tr>\n",
       "    <tr>\n",
       "      <th>14</th>\n",
       "      <td>5049618730001</td>\n",
       "      <td>ix rappresentante legale viene delegato compie...</td>\n",
       "      <td>costitutivo</td>\n",
       "    </tr>\n",
       "    <tr>\n",
       "      <th>15</th>\n",
       "      <td>5049618730001</td>\n",
       "      <td>x importo globale approssimativo spese costitu...</td>\n",
       "      <td>costitutivo</td>\n",
       "    </tr>\n",
       "    <tr>\n",
       "      <th>16</th>\n",
       "      <td>5049618730001</td>\n",
       "      <td>comparente dispensa lettura allegato</td>\n",
       "      <td>costitutivo</td>\n",
       "    </tr>\n",
       "    <tr>\n",
       "      <th>17</th>\n",
       "      <td>5049618730001</td>\n",
       "      <td>presente atto notaio dato lettura comparente a...</td>\n",
       "      <td>costitutivo</td>\n",
       "    </tr>\n",
       "    <tr>\n",
       "      <th>18</th>\n",
       "      <td>5049618730001</td>\n",
       "      <td>firmato daniele bondi fabrizio figurelli notai...</td>\n",
       "      <td>costitutivo</td>\n",
       "    </tr>\n",
       "    <tr>\n",
       "      <th>19</th>\n",
       "      <td>5049618730001</td>\n",
       "      <td>art NUM sede NUM societ sede legale modena ind...</td>\n",
       "      <td>costitutivo</td>\n",
       "    </tr>\n",
       "    <tr>\n",
       "      <th>20</th>\n",
       "      <td>5049618730001</td>\n",
       "      <td>NUM trasferimento sede interno comune potr ess...</td>\n",
       "      <td>costitutivo</td>\n",
       "    </tr>\n",
       "    <tr>\n",
       "      <th>21</th>\n",
       "      <td>5049618730001</td>\n",
       "      <td>NUM decisione organo amministrativo societ pot...</td>\n",
       "      <td>costitutivo</td>\n",
       "    </tr>\n",
       "    <tr>\n",
       "      <th>22</th>\n",
       "      <td>5049618730001</td>\n",
       "      <td>art NUM durata durata societ fissata NUM trent...</td>\n",
       "      <td>costitutivo</td>\n",
       "    </tr>\n",
       "    <tr>\n",
       "      <th>23</th>\n",
       "      <td>5049618730001</td>\n",
       "      <td>art NUM oggetto societ oggetto seguenti attivi...</td>\n",
       "      <td>costitutivo</td>\n",
       "    </tr>\n",
       "    <tr>\n",
       "      <th>24</th>\n",
       "      <td>5049618730001</td>\n",
       "      <td>tali prestazioni potranno essere erogate forma...</td>\n",
       "      <td>costitutivo</td>\n",
       "    </tr>\n",
       "    <tr>\n",
       "      <th>25</th>\n",
       "      <td>5049618730001</td>\n",
       "      <td>f organizzare partecipare convegni conferenze ...</td>\n",
       "      <td>costitutivo</td>\n",
       "    </tr>\n",
       "    <tr>\n",
       "      <th>26</th>\n",
       "      <td>5049618730001</td>\n",
       "      <td>societ potr assumere interessenze partecipazio...</td>\n",
       "      <td>costitutivo</td>\n",
       "    </tr>\n",
       "    <tr>\n",
       "      <th>27</th>\n",
       "      <td>5049618730001</td>\n",
       "      <td>art NUM domicilio soci NUM domicilio soci rapp...</td>\n",
       "      <td>costitutivo</td>\n",
       "    </tr>\n",
       "    <tr>\n",
       "      <th>28</th>\n",
       "      <td>5049618730001</td>\n",
       "      <td>NUM onere soci comunicare societ iscritto moda...</td>\n",
       "      <td>costitutivo</td>\n",
       "    </tr>\n",
       "    <tr>\n",
       "      <th>29</th>\n",
       "      <td>5049618730001</td>\n",
       "      <td>titolo ii capitale partecipazioni titoli debit...</td>\n",
       "      <td>costitutivo</td>\n",
       "    </tr>\n",
       "    <tr>\n",
       "      <th>...</th>\n",
       "      <td>...</td>\n",
       "      <td>...</td>\n",
       "      <td>...</td>\n",
       "    </tr>\n",
       "    <tr>\n",
       "      <th>3066126</th>\n",
       "      <td>4578843770001</td>\n",
       "      <td>consiglio amministrazione udite proposte presi...</td>\n",
       "      <td>non_costitutivo</td>\n",
       "    </tr>\n",
       "    <tr>\n",
       "      <th>3066127</th>\n",
       "      <td>4578843770001</td>\n",
       "      <td>neo eletto presidente previa redazione lettura...</td>\n",
       "      <td>non_costitutivo</td>\n",
       "    </tr>\n",
       "    <tr>\n",
       "      <th>3066128</th>\n",
       "      <td>4578843770001</td>\n",
       "      <td>segretario presidente ludovica lamattina chiar...</td>\n",
       "      <td>non_costitutivo</td>\n",
       "    </tr>\n",
       "    <tr>\n",
       "      <th>3066129</th>\n",
       "      <td>4578843770001</td>\n",
       "      <td>imposta bollo assolta modo virtuale tramite ca...</td>\n",
       "      <td>non_costitutivo</td>\n",
       "    </tr>\n",
       "    <tr>\n",
       "      <th>3066130</th>\n",
       "      <td>4038159390001</td>\n",
       "      <td>water industrial services company spa verbale ...</td>\n",
       "      <td>non_costitutivo</td>\n",
       "    </tr>\n",
       "    <tr>\n",
       "      <th>3066131</th>\n",
       "      <td>4038159390001</td>\n",
       "      <td>inoltre presenti collegio sindacale presidente...</td>\n",
       "      <td>non_costitutivo</td>\n",
       "    </tr>\n",
       "    <tr>\n",
       "      <th>3066132</th>\n",
       "      <td>4038159390001</td>\n",
       "      <td>presidente ruocco alessandro dopo aver constat...</td>\n",
       "      <td>non_costitutivo</td>\n",
       "    </tr>\n",
       "    <tr>\n",
       "      <th>3066133</th>\n",
       "      <td>4038159390001</td>\n",
       "      <td>presidente invita svolgere consenso presenti f...</td>\n",
       "      <td>non_costitutivo</td>\n",
       "    </tr>\n",
       "    <tr>\n",
       "      <th>3066134</th>\n",
       "      <td>4038159390001</td>\n",
       "      <td>presidente passa poi trattazione argomenti pos...</td>\n",
       "      <td>non_costitutivo</td>\n",
       "    </tr>\n",
       "    <tr>\n",
       "      <th>3066135</th>\n",
       "      <td>4038159390001</td>\n",
       "      <td>assemblea gi designato presidente persona ales...</td>\n",
       "      <td>non_costitutivo</td>\n",
       "    </tr>\n",
       "    <tr>\n",
       "      <th>3066136</th>\n",
       "      <td>4038159390001</td>\n",
       "      <td>prende parola consigliere mario nigro propone ...</td>\n",
       "      <td>non_costitutivo</td>\n",
       "    </tr>\n",
       "    <tr>\n",
       "      <th>3066137</th>\n",
       "      <td>4038159390001</td>\n",
       "      <td>presidente dichiara seduta chiusa ore NUM NUM ...</td>\n",
       "      <td>non_costitutivo</td>\n",
       "    </tr>\n",
       "    <tr>\n",
       "      <th>3066138</th>\n",
       "      <td>4498305160001</td>\n",
       "      <td>appendice allegato modello procura speciale do...</td>\n",
       "      <td>non_costitutivo</td>\n",
       "    </tr>\n",
       "    <tr>\n",
       "      <th>3066139</th>\n",
       "      <td>4498305160001</td>\n",
       "      <td>presente modello inoltre essere allegata copia...</td>\n",
       "      <td>non_costitutivo</td>\n",
       "    </tr>\n",
       "    <tr>\n",
       "      <th>3066140</th>\n",
       "      <td>3666913910001</td>\n",
       "      <td>soc coop edilizia rl quadrifoglio sede NUM bit...</td>\n",
       "      <td>non_costitutivo</td>\n",
       "    </tr>\n",
       "    <tr>\n",
       "      <th>3066141</th>\n",
       "      <td>3666913910001</td>\n",
       "      <td>presenti neo eletti signori papapicco silvia c...</td>\n",
       "      <td>non_costitutivo</td>\n",
       "    </tr>\n",
       "    <tr>\n",
       "      <th>3066142</th>\n",
       "      <td>3666913910001</td>\n",
       "      <td>seduta presieduta consigliere marselli chiama ...</td>\n",
       "      <td>non_costitutivo</td>\n",
       "    </tr>\n",
       "    <tr>\n",
       "      <th>3066143</th>\n",
       "      <td>3666913910001</td>\n",
       "      <td>neo eletti assemblea soci NUM NUM NUM procedon...</td>\n",
       "      <td>non_costitutivo</td>\n",
       "    </tr>\n",
       "    <tr>\n",
       "      <th>3066144</th>\n",
       "      <td>3666913910001</td>\n",
       "      <td>viene nominato presidente consiglio amministra...</td>\n",
       "      <td>non_costitutivo</td>\n",
       "    </tr>\n",
       "    <tr>\n",
       "      <th>3066145</th>\n",
       "      <td>3666913910001</td>\n",
       "      <td>consiglieri nominati dichiarano accettare inca...</td>\n",
       "      <td>non_costitutivo</td>\n",
       "    </tr>\n",
       "    <tr>\n",
       "      <th>3066146</th>\n",
       "      <td>3666913910001</td>\n",
       "      <td>argomenti discutere deliberare previa lettura ...</td>\n",
       "      <td>non_costitutivo</td>\n",
       "    </tr>\n",
       "    <tr>\n",
       "      <th>3066147</th>\n",
       "      <td>3731842650001</td>\n",
       "      <td>acerbi industrial vehicles srl sede legale str...</td>\n",
       "      <td>non_costitutivo</td>\n",
       "    </tr>\n",
       "    <tr>\n",
       "      <th>3066148</th>\n",
       "      <td>3731842650001</td>\n",
       "      <td>signori bruno binasco presidente cda giampaolo...</td>\n",
       "      <td>non_costitutivo</td>\n",
       "    </tr>\n",
       "    <tr>\n",
       "      <th>3066149</th>\n",
       "      <td>3731842650001</td>\n",
       "      <td>presidente consiglio amministrazone dott bruno...</td>\n",
       "      <td>non_costitutivo</td>\n",
       "    </tr>\n",
       "    <tr>\n",
       "      <th>3066150</th>\n",
       "      <td>3731842650001</td>\n",
       "      <td>presidente assemblea constata fa constatare pr...</td>\n",
       "      <td>non_costitutivo</td>\n",
       "    </tr>\n",
       "    <tr>\n",
       "      <th>3066151</th>\n",
       "      <td>3731842650001</td>\n",
       "      <td>presidente dichiara assemblea appena conclusa ...</td>\n",
       "      <td>non_costitutivo</td>\n",
       "    </tr>\n",
       "    <tr>\n",
       "      <th>3066152</th>\n",
       "      <td>3731842650001</td>\n",
       "      <td>dopo esauriente discussione astenuto interessa...</td>\n",
       "      <td>non_costitutivo</td>\n",
       "    </tr>\n",
       "    <tr>\n",
       "      <th>3066153</th>\n",
       "      <td>3731842650001</td>\n",
       "      <td>conferire consigliere dott giampaolo acerbi po...</td>\n",
       "      <td>non_costitutivo</td>\n",
       "    </tr>\n",
       "    <tr>\n",
       "      <th>3066154</th>\n",
       "      <td>3731842650001</td>\n",
       "      <td>null essendovi deliberare nessuno chiedendo pa...</td>\n",
       "      <td>non_costitutivo</td>\n",
       "    </tr>\n",
       "    <tr>\n",
       "      <th>3066155</th>\n",
       "      <td>3731842650001</td>\n",
       "      <td>segretario dottssa monica franzosi presidente ...</td>\n",
       "      <td>non_costitutivo</td>\n",
       "    </tr>\n",
       "  </tbody>\n",
       "</table>\n",
       "<p>3066156 rows × 3 columns</p>\n",
       "</div>"
      ],
      "text/plain": [
       "              filename                                           sentence  \\\n",
       "0        5049618730001  repertorio n NUM raccolta n NUM atto costituti...   \n",
       "1        5049618730001  costituita societ responsabilit limitata unipe...   \n",
       "2        5049618730001               ii sede societ fissata comune modena   \n",
       "3        5049618730001  soli fini iscrizione registro imprese comparen...   \n",
       "4        5049618730001  tali prestazioni potranno essere erogate forma...   \n",
       "5        5049618730001  societ potr assumere interessenze partecipazio...   \n",
       "6        5049618730001  iv durata societ fissata sino NUM trentuno dic...   \n",
       "7        5049618730001  v capitale virgola sociale zero zero euro inte...   \n",
       "8        5049618730001  capitale sociale euro NUM NUM venticinquemila ...   \n",
       "9        5049618730001  comparente dichiara aver utilizzato denaro per...   \n",
       "10       5049618730001  societ regolata norme contenute statuto compos...   \n",
       "11       5049618730001  vii comporre organo amministrativo indetermina...   \n",
       "12       5049618730001  medesimo avr poteri ordinaria straordinaria am...   \n",
       "13       5049618730001  rappresentanza societ salvo viii esercizio soc...   \n",
       "14       5049618730001  ix rappresentante legale viene delegato compie...   \n",
       "15       5049618730001  x importo globale approssimativo spese costitu...   \n",
       "16       5049618730001               comparente dispensa lettura allegato   \n",
       "17       5049618730001  presente atto notaio dato lettura comparente a...   \n",
       "18       5049618730001  firmato daniele bondi fabrizio figurelli notai...   \n",
       "19       5049618730001  art NUM sede NUM societ sede legale modena ind...   \n",
       "20       5049618730001  NUM trasferimento sede interno comune potr ess...   \n",
       "21       5049618730001  NUM decisione organo amministrativo societ pot...   \n",
       "22       5049618730001  art NUM durata durata societ fissata NUM trent...   \n",
       "23       5049618730001  art NUM oggetto societ oggetto seguenti attivi...   \n",
       "24       5049618730001  tali prestazioni potranno essere erogate forma...   \n",
       "25       5049618730001  f organizzare partecipare convegni conferenze ...   \n",
       "26       5049618730001  societ potr assumere interessenze partecipazio...   \n",
       "27       5049618730001  art NUM domicilio soci NUM domicilio soci rapp...   \n",
       "28       5049618730001  NUM onere soci comunicare societ iscritto moda...   \n",
       "29       5049618730001  titolo ii capitale partecipazioni titoli debit...   \n",
       "...                ...                                                ...   \n",
       "3066126  4578843770001  consiglio amministrazione udite proposte presi...   \n",
       "3066127  4578843770001  neo eletto presidente previa redazione lettura...   \n",
       "3066128  4578843770001  segretario presidente ludovica lamattina chiar...   \n",
       "3066129  4578843770001  imposta bollo assolta modo virtuale tramite ca...   \n",
       "3066130  4038159390001  water industrial services company spa verbale ...   \n",
       "3066131  4038159390001  inoltre presenti collegio sindacale presidente...   \n",
       "3066132  4038159390001  presidente ruocco alessandro dopo aver constat...   \n",
       "3066133  4038159390001  presidente invita svolgere consenso presenti f...   \n",
       "3066134  4038159390001  presidente passa poi trattazione argomenti pos...   \n",
       "3066135  4038159390001  assemblea gi designato presidente persona ales...   \n",
       "3066136  4038159390001  prende parola consigliere mario nigro propone ...   \n",
       "3066137  4038159390001  presidente dichiara seduta chiusa ore NUM NUM ...   \n",
       "3066138  4498305160001  appendice allegato modello procura speciale do...   \n",
       "3066139  4498305160001  presente modello inoltre essere allegata copia...   \n",
       "3066140  3666913910001  soc coop edilizia rl quadrifoglio sede NUM bit...   \n",
       "3066141  3666913910001  presenti neo eletti signori papapicco silvia c...   \n",
       "3066142  3666913910001  seduta presieduta consigliere marselli chiama ...   \n",
       "3066143  3666913910001  neo eletti assemblea soci NUM NUM NUM procedon...   \n",
       "3066144  3666913910001  viene nominato presidente consiglio amministra...   \n",
       "3066145  3666913910001  consiglieri nominati dichiarano accettare inca...   \n",
       "3066146  3666913910001  argomenti discutere deliberare previa lettura ...   \n",
       "3066147  3731842650001  acerbi industrial vehicles srl sede legale str...   \n",
       "3066148  3731842650001  signori bruno binasco presidente cda giampaolo...   \n",
       "3066149  3731842650001  presidente consiglio amministrazone dott bruno...   \n",
       "3066150  3731842650001  presidente assemblea constata fa constatare pr...   \n",
       "3066151  3731842650001  presidente dichiara assemblea appena conclusa ...   \n",
       "3066152  3731842650001  dopo esauriente discussione astenuto interessa...   \n",
       "3066153  3731842650001  conferire consigliere dott giampaolo acerbi po...   \n",
       "3066154  3731842650001  null essendovi deliberare nessuno chiedendo pa...   \n",
       "3066155  3731842650001  segretario dottssa monica franzosi presidente ...   \n",
       "\n",
       "                   label  \n",
       "0            costitutivo  \n",
       "1            costitutivo  \n",
       "2            costitutivo  \n",
       "3            costitutivo  \n",
       "4            costitutivo  \n",
       "5            costitutivo  \n",
       "6            costitutivo  \n",
       "7            costitutivo  \n",
       "8            costitutivo  \n",
       "9            costitutivo  \n",
       "10           costitutivo  \n",
       "11           costitutivo  \n",
       "12           costitutivo  \n",
       "13           costitutivo  \n",
       "14           costitutivo  \n",
       "15           costitutivo  \n",
       "16           costitutivo  \n",
       "17           costitutivo  \n",
       "18           costitutivo  \n",
       "19           costitutivo  \n",
       "20           costitutivo  \n",
       "21           costitutivo  \n",
       "22           costitutivo  \n",
       "23           costitutivo  \n",
       "24           costitutivo  \n",
       "25           costitutivo  \n",
       "26           costitutivo  \n",
       "27           costitutivo  \n",
       "28           costitutivo  \n",
       "29           costitutivo  \n",
       "...                  ...  \n",
       "3066126  non_costitutivo  \n",
       "3066127  non_costitutivo  \n",
       "3066128  non_costitutivo  \n",
       "3066129  non_costitutivo  \n",
       "3066130  non_costitutivo  \n",
       "3066131  non_costitutivo  \n",
       "3066132  non_costitutivo  \n",
       "3066133  non_costitutivo  \n",
       "3066134  non_costitutivo  \n",
       "3066135  non_costitutivo  \n",
       "3066136  non_costitutivo  \n",
       "3066137  non_costitutivo  \n",
       "3066138  non_costitutivo  \n",
       "3066139  non_costitutivo  \n",
       "3066140  non_costitutivo  \n",
       "3066141  non_costitutivo  \n",
       "3066142  non_costitutivo  \n",
       "3066143  non_costitutivo  \n",
       "3066144  non_costitutivo  \n",
       "3066145  non_costitutivo  \n",
       "3066146  non_costitutivo  \n",
       "3066147  non_costitutivo  \n",
       "3066148  non_costitutivo  \n",
       "3066149  non_costitutivo  \n",
       "3066150  non_costitutivo  \n",
       "3066151  non_costitutivo  \n",
       "3066152  non_costitutivo  \n",
       "3066153  non_costitutivo  \n",
       "3066154  non_costitutivo  \n",
       "3066155  non_costitutivo  \n",
       "\n",
       "[3066156 rows x 3 columns]"
      ]
     },
     "execution_count": 9,
     "metadata": {},
     "output_type": "execute_result"
    }
   ],
   "source": [
    "df"
   ]
  },
  {
   "cell_type": "code",
   "execution_count": 4,
   "metadata": {
    "collapsed": false,
    "deletable": true,
    "editable": true
   },
   "outputs": [
    {
     "data": {
      "text/plain": [
       "14508"
      ]
     },
     "execution_count": 4,
     "metadata": {},
     "output_type": "execute_result"
    }
   ],
   "source": [
    "size_nc = len(df.loc[df['label'] == 'non_costitutivo'].groupby('filename'))\n",
    "size_nc"
   ]
  },
  {
   "cell_type": "code",
   "execution_count": 5,
   "metadata": {
    "collapsed": false,
    "deletable": true,
    "editable": true
   },
   "outputs": [],
   "source": [
    "grouped = df.loc[df['label'] == 'costitutivo'].groupby(df[\"filename\"])\n",
    "dfs = [g[1] for g in list(grouped)[:size_nc]]"
   ]
  },
  {
   "cell_type": "code",
   "execution_count": 6,
   "metadata": {
    "collapsed": true,
    "deletable": true,
    "editable": true
   },
   "outputs": [],
   "source": [
    "grouped_nc = df.loc[df['label'] == 'non_costitutivo'].groupby(df[\"filename\"])\n",
    "dfs_nc = [g[1] for g in list(grouped_nc)]"
   ]
  },
  {
   "cell_type": "code",
   "execution_count": 7,
   "metadata": {
    "collapsed": false,
    "deletable": true,
    "editable": true
   },
   "outputs": [],
   "source": [
    "df_balanced = pd.concat(dfs + dfs_nc)"
   ]
  },
  {
   "cell_type": "code",
   "execution_count": 17,
   "metadata": {
    "collapsed": false,
    "deletable": true,
    "editable": true
   },
   "outputs": [
    {
     "data": {
      "text/html": [
       "<div>\n",
       "<style>\n",
       "    .dataframe thead tr:only-child th {\n",
       "        text-align: right;\n",
       "    }\n",
       "\n",
       "    .dataframe thead th {\n",
       "        text-align: left;\n",
       "    }\n",
       "\n",
       "    .dataframe tbody tr th {\n",
       "        vertical-align: top;\n",
       "    }\n",
       "</style>\n",
       "<table border=\"1\" class=\"dataframe\">\n",
       "  <thead>\n",
       "    <tr style=\"text-align: right;\">\n",
       "      <th></th>\n",
       "      <th>filename</th>\n",
       "      <th>sentence</th>\n",
       "      <th>label</th>\n",
       "    </tr>\n",
       "  </thead>\n",
       "  <tbody>\n",
       "  </tbody>\n",
       "</table>\n",
       "</div>"
      ],
      "text/plain": [
       "Empty DataFrame\n",
       "Columns: [filename, sentence, label]\n",
       "Index: []"
      ]
     },
     "execution_count": 17,
     "metadata": {},
     "output_type": "execute_result"
    }
   ],
   "source": [
    "df_balanced.loc[df['filename'] == 5122462300001]"
   ]
  },
  {
   "cell_type": "code",
   "execution_count": 8,
   "metadata": {
    "collapsed": true,
    "deletable": true,
    "editable": true
   },
   "outputs": [],
   "source": [
    "pd_sentences = df_balanced['sentence']"
   ]
  },
  {
   "cell_type": "markdown",
   "metadata": {
    "deletable": true,
    "editable": true
   },
   "source": [
    "###### Creazione degli embedding"
   ]
  },
  {
   "cell_type": "code",
   "execution_count": 9,
   "metadata": {
    "collapsed": true,
    "deletable": true,
    "editable": true
   },
   "outputs": [],
   "source": [
    "def build_dictionary(sentences):\n",
    "    d = dict()\n",
    "    index = 0\n",
    "    for sentence in sentences:\n",
    "        for word in sentence:\n",
    "            if not word in d:\n",
    "                d[word] = index\n",
    "                index += 1\n",
    "    return d\n",
    "\n",
    "def word_counts(sentences):\n",
    "    d = dict()\n",
    "    for sentence in sentences:\n",
    "        for word in sentence:\n",
    "            if not word in d:\n",
    "                d[word] = 1\n",
    "            else:\n",
    "                d[word] += 1\n",
    "    return d\n",
    "\n",
    "def rev_dict(d):\n",
    "    rd = dict()\n",
    "    for w,i in d.items():\n",
    "        rd[i] = w\n",
    "    return rd\n"
   ]
  },
  {
   "cell_type": "code",
   "execution_count": 10,
   "metadata": {
    "collapsed": true,
    "deletable": true,
    "editable": true
   },
   "outputs": [],
   "source": [
    "#Sentence iterator for building the gensim model\n",
    "\n",
    "def iter_sentences(sents):\n",
    "    i = 0\n",
    "    for line in sents:\n",
    "        yield LabeledSentence(line, ['SENT_%s' % i])\n",
    "        i += 1\n",
    "\n",
    "# Modello dell'embedding\n",
    "\n",
    "def build_embedding(sentences):\n",
    "    if os.path.exists(model_filename):\n",
    "        model = Doc2Vec.load(model_filename)\n",
    "    else:\n",
    "        model = Doc2Vec(min_count=1, window=10, size=100, sample=1e-5, negative=5, workers=2)\n",
    "        model.build_vocab(sentences)\n",
    "        print 'Vocabulary built'\n",
    "        #for epoch in range(5):\n",
    "        #    print 'Epoch', epoch\n",
    "        model.train(sentences, model.corpus_count, epochs = 5)\n",
    "        model.save(model_filename)\n",
    "        print 'Model saved'\n",
    "    return model\n",
    "\n",
    "def first_n_words(dictionary, n):\n",
    "    rd = rev_dict(d)\n",
    "    wc = word_counts(s.split() for s in pd_sentences)\n",
    "    sorted_wc = sorted(wc.items(), key=operator.itemgetter(1))\n",
    "    return set(reversed([x[0] for x in sorted_wc[-n:]]))\n",
    "\n",
    "def substitute_word(word, permitted_words, unknown = 'UNK'):\n",
    "    return word if word in permitted_words else unknown\n",
    "\n",
    "def reduced_sentence(sentence, permitted_words):\n",
    "    return [substitute_word(word, permitted_words) for word in sentence]\n",
    "\n",
    "def reduce_dictionary(sentences, permitted_words, min_words=2):\n",
    "    for sentence in sentences:\n",
    "        new_sentence = reduced_sentence(sentence, permitted_words)\n",
    "        if len(new_sentence) >= min_words:\n",
    "            yield new_sentence\n",
    "            \n",
    "def sentence_vector(model, sentence, permitted_words):\n",
    "    return model.infer_vector(reduced_sentence(sentence.split(' '), permitted_words))"
   ]
  },
  {
   "cell_type": "code",
   "execution_count": 11,
   "metadata": {
    "collapsed": true,
    "deletable": true,
    "editable": true
   },
   "outputs": [],
   "source": [
    "d = build_dictionary(s.split() for s in pd_sentences)"
   ]
  },
  {
   "cell_type": "code",
   "execution_count": 12,
   "metadata": {
    "collapsed": false,
    "deletable": true,
    "editable": true
   },
   "outputs": [
    {
     "data": {
      "text/plain": [
       "199446"
      ]
     },
     "execution_count": 12,
     "metadata": {},
     "output_type": "execute_result"
    }
   ],
   "source": [
    "len(d)"
   ]
  },
  {
   "cell_type": "code",
   "execution_count": 13,
   "metadata": {
    "collapsed": true,
    "deletable": true,
    "editable": true
   },
   "outputs": [],
   "source": [
    "first_10000_words = first_n_words(d, 10000)"
   ]
  },
  {
   "cell_type": "code",
   "execution_count": 16,
   "metadata": {
    "collapsed": false,
    "deletable": true,
    "editable": true
   },
   "outputs": [],
   "source": [
    "with open('reduced_dictionary.json','w') as f:\n",
    "    json.dump(list(first_10000_words), f)"
   ]
  },
  {
   "cell_type": "code",
   "execution_count": 21,
   "metadata": {
    "collapsed": false,
    "deletable": true,
    "editable": true
   },
   "outputs": [],
   "source": [
    "filtered_sentences = reduce_dictionary((s.split() for s in pd_sentences), first_10000_words)\n",
    "filtered_sentences_list = list(filtered_sentences)"
   ]
  },
  {
   "cell_type": "code",
   "execution_count": 23,
   "metadata": {
    "collapsed": false,
    "deletable": true,
    "editable": true
   },
   "outputs": [
    {
     "name": "stdout",
     "output_type": "stream",
     "text": [
      "Vocabulary built\n",
      "Model saved\n"
     ]
    }
   ],
   "source": [
    "# Definizione del modello\n",
    "\n",
    "model = build_embedding(list(iter_sentences(filtered_sentences_list)))"
   ]
  },
  {
   "cell_type": "code",
   "execution_count": 24,
   "metadata": {
    "collapsed": false,
    "deletable": true,
    "editable": true
   },
   "outputs": [
    {
     "data": {
      "text/plain": [
       "[('presente', 0.8062084913253784),\n",
       " ('apportare', 0.7802978754043579),\n",
       " ('soppressioni', 0.7477972507476807),\n",
       " ('allega', 0.7333101034164429),\n",
       " ('aggiunte', 0.7322391271591187),\n",
       " ('statuto', 0.731306791305542),\n",
       " ('integrante', 0.7226213216781616),\n",
       " ('regolata', 0.7120342254638672),\n",
       " ('forza', 0.7065362930297852),\n",
       " ('allegano', 0.7060737609863281)]"
      ]
     },
     "execution_count": 24,
     "metadata": {},
     "output_type": "execute_result"
    }
   ],
   "source": [
    "model.most_similar('atto')"
   ]
  },
  {
   "cell_type": "code",
   "execution_count": 48,
   "metadata": {
    "collapsed": false,
    "deletable": true,
    "editable": true
   },
   "outputs": [
    {
     "data": {
      "text/plain": [
       "array([-0.00877847,  0.08421552, -0.00934239, -0.06026119, -0.0486962 ,\n",
       "       -0.10909535,  0.01427933,  0.0382507 ,  0.06857342, -0.05685881,\n",
       "       -0.01122126,  0.05149804, -0.07070133,  0.01299185,  0.08797149,\n",
       "       -0.02599948,  0.00463746, -0.02856188,  0.00580665,  0.01292427,\n",
       "        0.0679419 ,  0.0067199 ,  0.00769502,  0.07473454,  0.02272988,\n",
       "       -0.02177911, -0.05640026,  0.08370669,  0.01138843, -0.07007347,\n",
       "       -0.08425567, -0.00059223, -0.0390888 ,  0.0140768 , -0.11788081,\n",
       "        0.01243659, -0.06523187,  0.02117974, -0.00639699, -0.00492997,\n",
       "        0.01472021, -0.0201715 ,  0.00113072,  0.01332173, -0.02123491,\n",
       "       -0.01164006, -0.00858516,  0.06819962, -0.02509951,  0.02500732,\n",
       "        0.0713005 , -0.09450735, -0.04908381,  0.03631534, -0.08748867,\n",
       "        0.06206969,  0.00515663,  0.02944721,  0.0006274 ,  0.0327379 ,\n",
       "        0.0844673 , -0.06255493, -0.03983356, -0.07354014, -0.02518529,\n",
       "        0.05504263,  0.06384774, -0.05127484, -0.00868062,  0.00413347,\n",
       "       -0.01247259, -0.08092891,  0.00220306, -0.02664082,  0.01037841,\n",
       "       -0.04024276, -0.00314954, -0.08573674, -0.01097692, -0.00526486,\n",
       "       -0.01445304, -0.03740054,  0.10652575, -0.03080152,  0.00664233,\n",
       "        0.01077657,  0.00609271, -0.04949525,  0.05309283, -0.00489469,\n",
       "        0.00615434,  0.13082555,  0.04873852, -0.01660067,  0.02400776,\n",
       "        0.01225106, -0.00162087,  0.05861737, -0.01292208, -0.06704711], dtype=float32)"
      ]
     },
     "execution_count": 48,
     "metadata": {},
     "output_type": "execute_result"
    }
   ],
   "source": [
    "# Esempio di sentence vector\n",
    "\n",
    "sv = sentence_vector(model, pd_sentences[551068], first_10000_words)\n",
    "sv"
   ]
  },
  {
   "cell_type": "markdown",
   "metadata": {
    "deletable": true,
    "editable": true
   },
   "source": [
    "###### Costruzione del dataset"
   ]
  },
  {
   "cell_type": "code",
   "execution_count": 49,
   "metadata": {
    "collapsed": false,
    "deletable": true,
    "editable": true
   },
   "outputs": [],
   "source": [
    "def build_dataset(model, df, permitted_words):\n",
    "    filename = \"\"\n",
    "    docs = []\n",
    "    labels = []\n",
    "    curdoc = []                  # lista delle frasi del documento corrente\n",
    "    for i in xrange(len(df)):\n",
    "        row = df.iloc[i] \n",
    "        if filename == \"\":\n",
    "            filename = row[\"filename\"]\n",
    "            labels.append(row[\"label\"])\n",
    "            \n",
    "        embedding = sentence_vector(model, row['sentence'], permitted_words)\n",
    "        if filename == row[\"filename\"]:\n",
    "            curdoc.append(embedding)\n",
    "        else:\n",
    "            print \"%s with len: %d\" % (filename, len(curdoc))\n",
    "            docs.append(curdoc)\n",
    "            curdoc = [embedding]\n",
    "            labels.append(row[\"label\"])\n",
    "            filename = row['filename']\n",
    "    if len(curdoc)>0:\n",
    "        docs.append(curdoc)\n",
    "    return docs, labels"
   ]
  },
  {
   "cell_type": "code",
   "execution_count": 2,
   "metadata": {
    "collapsed": false,
    "deletable": true,
    "editable": true,
    "scrolled": true
   },
   "outputs": [],
   "source": [
    "docs, labels = build_dataset(model, df_balanced, first_10000_words)"
   ]
  },
  {
   "cell_type": "code",
   "execution_count": 53,
   "metadata": {
    "collapsed": true,
    "deletable": true,
    "editable": true
   },
   "outputs": [],
   "source": [
    "label_map = {'costitutivo':1, 'non_costitutivo':0}\n",
    "labels_n = [label_map[l] for l in labels]"
   ]
  },
  {
   "cell_type": "code",
   "execution_count": 58,
   "metadata": {
    "collapsed": false,
    "deletable": true,
    "editable": true
   },
   "outputs": [],
   "source": [
    "with open(\"embedded_docs.p\", \"w\") as fout:\n",
    "    pickle.dump([docs, labels_n], fout)"
   ]
  }
 ],
 "metadata": {
  "kernelspec": {
   "display_name": "Python 2",
   "language": "python",
   "name": "python2"
  },
  "language_info": {
   "codemirror_mode": {
    "name": "ipython",
    "version": 2
   },
   "file_extension": ".py",
   "mimetype": "text/x-python",
   "name": "python",
   "nbconvert_exporter": "python",
   "pygments_lexer": "ipython2",
   "version": "2.7.12"
  }
 },
 "nbformat": 4,
 "nbformat_minor": 2
}

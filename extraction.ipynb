{
 "cells": [
  {
   "cell_type": "code",
   "execution_count": 1,
   "metadata": {
    "collapsed": false,
    "deletable": true,
    "editable": true
   },
   "outputs": [
    {
     "name": "stderr",
     "output_type": "stream",
     "text": [
      "Using TensorFlow backend.\n"
     ]
    }
   ],
   "source": [
    "from __future__ import print_function\n",
    "from __future__ import division\n",
    "from gensim.models import Doc2Vec, Word2Vec\n",
    "import lib.text_extraction as te\n",
    "from functools import partial\n",
    "import matplotlib.pyplot as plt\n",
    "import matplotlib\n",
    "from lib.parallelize import parallelize\n",
    "from collections import OrderedDict\n",
    "import lib.embedding as em\n",
    "import lib.words as wd\n",
    "import pandas as pd\n",
    "import numpy as np\n",
    "import pickle\n",
    "import operator\n",
    "import codecs\n",
    "import math\n",
    "import json\n",
    "import csv\n",
    "import os\n",
    "import re\n",
    "\n",
    "matplotlib.style.use('ggplot')\n",
    "%matplotlib inline\n",
    "\n",
    "labels = ['poteri', 'scadenza', 'assemblea', 'clausola', 'non_riconducibile']"
   ]
  },
  {
   "cell_type": "markdown",
   "metadata": {
    "deletable": true,
    "editable": true
   },
   "source": [
    "## Sentencing"
   ]
  },
  {
   "cell_type": "code",
   "execution_count": 2,
   "metadata": {
    "collapsed": true,
    "deletable": true,
    "editable": true
   },
   "outputs": [],
   "source": [
    "def list_dir_full(d):\n",
    "    return [os.path.join(d, f) for f in os.listdir(d)]"
   ]
  },
  {
   "cell_type": "code",
   "execution_count": 3,
   "metadata": {
    "collapsed": false,
    "deletable": true,
    "editable": true
   },
   "outputs": [],
   "source": [
    "test_dir = '../extraction/esempi_descrizioni/'\n",
    "\n",
    "filenames = os.listdir(test_dir)\n",
    "full_filenames = list_dir_full(test_dir)\n",
    "\n",
    "#txts = [te.extract_text(f, do_ocr=False, pages=-1) for f in full_filenames]\n",
    "\n",
    "txts = parallelize(te.extract_text)(full_filenames, do_ocr=False, pages=-1) #Doesn't work with do_ocr=True"
   ]
  },
  {
   "cell_type": "code",
   "execution_count": null,
   "metadata": {
    "collapsed": true,
    "deletable": true,
    "editable": true
   },
   "outputs": [],
   "source": [
    "for i, txt in zip(filenames, txts):\n",
    "    print('Documento ', i)\n",
    "    print(txt[:1000])"
   ]
  },
  {
   "cell_type": "code",
   "execution_count": null,
   "metadata": {
    "collapsed": false,
    "deletable": true,
    "editable": true,
    "scrolled": true
   },
   "outputs": [],
   "source": [
    "extracted_txts_dir = '../extraction/esempi_extracted/'\n",
    "\n",
    "for fn, txt in zip(filenames, txts):\n",
    "    utxt = wd.to_utf8(txt)\n",
    "    with codecs.open(os.path.join(extracted_txts_dir, fn[:-3])+'txt', 'w', encoding='utf-8') as o:\n",
    "        o.write(utxt)\n"
   ]
  },
  {
   "cell_type": "code",
   "execution_count": null,
   "metadata": {
    "collapsed": false,
    "deletable": true,
    "editable": true
   },
   "outputs": [],
   "source": [
    "sentences_dir = '../extraction/esempi_sentences/'\n",
    "\n",
    "sentences = [wd.sentences_doc(txt) for txt in txts]\n",
    "\n",
    "for fn, txt in zip(filenames, sentences):\n",
    "    with codecs.open(os.path.join(sentences_dir, fn[:-3])+'txt', 'w', encoding='utf-8') as o:\n",
    "        o.write('\\n'.join(s.replace('\\n',' ').strip() for s in txt if s.strip()))"
   ]
  },
  {
   "cell_type": "markdown",
   "metadata": {
    "deletable": true,
    "editable": true
   },
   "source": [
    "## Saving sentences"
   ]
  },
  {
   "cell_type": "code",
   "execution_count": null,
   "metadata": {
    "collapsed": false,
    "deletable": true,
    "editable": true
   },
   "outputs": [],
   "source": [
    "sentenced_txts = [wd.sentences_doc(txt) for txt in txts]"
   ]
  },
  {
   "cell_type": "code",
   "execution_count": null,
   "metadata": {
    "collapsed": false,
    "deletable": true,
    "editable": true
   },
   "outputs": [],
   "source": [
    "def sentence_label_csv_empty(filenames, sentenced_txts, csv_out, sep=u'\\t', min_len=10):\n",
    "    csv_out.write(sep.join([u'filename',u'sent_index',u'sentence',u'label']) + u'\\n')\n",
    "    for f, sents in zip(filenames, sentenced_txts):\n",
    "        for i, sent in enumerate(sents):\n",
    "            clean_sent = sent.replace(sep,u'').replace(u'\\n',u' ').strip()\n",
    "            if len(clean_sent)>=min_len:\n",
    "                csv_out.write(sep.join([u'{}',u'{}',u'{}',u'non_riconducibile']).format(f,i,clean_sent)+u'\\n')\n",
    "    "
   ]
  },
  {
   "cell_type": "code",
   "execution_count": null,
   "metadata": {
    "collapsed": false,
    "deletable": true,
    "editable": true
   },
   "outputs": [],
   "source": [
    "csv_filename = '../extraction/sentence_labels.csv'\n",
    "with codecs.open(csv_filename, 'w', encoding='utf-8') as csv_out:\n",
    "    sentence_label_csv_empty(os.listdir(test_dir), sentenced_txts, csv_out)"
   ]
  },
  {
   "cell_type": "code",
   "execution_count": null,
   "metadata": {
    "collapsed": false,
    "deletable": true,
    "editable": true,
    "scrolled": true
   },
   "outputs": [],
   "source": [
    "df = pd.read_csv(csv_filename, sep='\\t', encoding='utf-8', quoting=csv.QUOTE_NONE)"
   ]
  },
  {
   "cell_type": "code",
   "execution_count": null,
   "metadata": {
    "collapsed": false,
    "deletable": true,
    "editable": true
   },
   "outputs": [],
   "source": [
    "df"
   ]
  },
  {
   "cell_type": "code",
   "execution_count": null,
   "metadata": {
    "collapsed": true,
    "deletable": true,
    "editable": true
   },
   "outputs": [],
   "source": [
    "labelled_filename = '../extraction/sentence_manual_labels.csv'\n",
    "dfm = pd.read_csv(labelled_filename, sep='\\t', encoding='utf-8', quoting=csv.QUOTE_NONE)"
   ]
  },
  {
   "cell_type": "markdown",
   "metadata": {
    "deletable": true,
    "editable": true
   },
   "source": [
    "## Save to excel files"
   ]
  },
  {
   "cell_type": "code",
   "execution_count": null,
   "metadata": {
    "collapsed": true,
    "deletable": true,
    "editable": true
   },
   "outputs": [],
   "source": [
    "def sentences_to_excel(sentences, filename, out_dir, sep=u'\\t', min_len=10):\n",
    "    clean_sents = [sent.replace(sep,u'').replace(u'\\n',u' ').strip() for sent in sentences]\n",
    "    clean_sents = [sent for sent in clean_sents if len(sent)>=min_len]\n",
    "    df = pd.DataFrame({'sentence':clean_sents,'label':['non_riconducibile']*len(clean_sents)})\n",
    "    df.to_excel(os.path.join(out_dir, os.path.basename(filename)[:-3]+'xlsx'), index=False, encoding='utf-8')"
   ]
  },
  {
   "cell_type": "code",
   "execution_count": null,
   "metadata": {
    "collapsed": false,
    "deletable": true,
    "editable": true
   },
   "outputs": [],
   "source": [
    "files_to_label = [f for f in list_dir_full('../extraction/files_to_label/') if f.endswith('.pdf')]\n",
    "txts_to_label = [te.extract_text(f, do_ocr=True, pages=-1) for f in files_to_label]\n",
    "sentences_to_label = [wd.sentences_doc(txt) for txt in txts_to_label]"
   ]
  },
  {
   "cell_type": "code",
   "execution_count": null,
   "metadata": {
    "collapsed": false,
    "deletable": true,
    "editable": true
   },
   "outputs": [],
   "source": [
    "for f, s in zip(files_to_label, sentences_to_label):\n",
    "    sentences_to_excel(s, f, '../extraction/excels_to_label/')"
   ]
  },
  {
   "cell_type": "code",
   "execution_count": null,
   "metadata": {
    "collapsed": false,
    "deletable": true,
    "editable": true
   },
   "outputs": [],
   "source": [
    "def build_dataframe_from_excels(filenames):\n",
    "    dfs = [pd.read_excel(f, encoding='utf-8') for f in filenames]\n",
    "    filename_col = [os.path.basename(f)[:-4]+'pdf' for f,df in zip(filenames, dfs) for _ in range(df.shape[0])]\n",
    "    sent_index_col = [i for df in dfs for i in range(df.shape[0])]\n",
    "    dfs_conc = pd.concat(dfs, ignore_index=True, axis=0)\n",
    "    sentence_col = dfs_conc['sentence']\n",
    "    label_col = dfs_conc['label']\n",
    "    #print('{} {} {} {}'.format(len(filename_col), len(sent_index_col), len(sentence_col), len(label_col)))\n",
    "    return pd.DataFrame(OrderedDict([\n",
    "        ('filename',filename_col),\n",
    "        ('sent_index', sent_index_col),\n",
    "        ('sentence', sentence_col),\n",
    "        ('label', label_col)\n",
    "    ]))"
   ]
  },
  {
   "cell_type": "code",
   "execution_count": null,
   "metadata": {
    "collapsed": false,
    "deletable": true,
    "editable": true
   },
   "outputs": [],
   "source": [
    "dfx = build_dataframe_from_excels([f for f in list_dir_full('../extraction/excels_labelled/') if f.endswith('.xlsx')])"
   ]
  },
  {
   "cell_type": "code",
   "execution_count": null,
   "metadata": {
    "collapsed": false,
    "deletable": true,
    "editable": true
   },
   "outputs": [],
   "source": [
    "#dfx.groupby(['filename', 'label']).count()\n",
    "dfx.groupby('label').count()['filename'].plot.bar()\n",
    "#dfx.loc[dfx['label'] != 'non_riconducibile'].groupby('label').count()['filename'].plot.pie()"
   ]
  },
  {
   "cell_type": "code",
   "execution_count": null,
   "metadata": {
    "collapsed": true,
    "deletable": true,
    "editable": true
   },
   "outputs": [],
   "source": [
    "dfx.to_csv('../extraction/merged_xlsx.csv', encoding='utf-8', sep='\\t', quoting=csv.QUOTE_NONE, index=False)"
   ]
  },
  {
   "cell_type": "markdown",
   "metadata": {
    "deletable": true,
    "editable": true
   },
   "source": [
    "## Experiments on labelled sentences"
   ]
  },
  {
   "cell_type": "code",
   "execution_count": 4,
   "metadata": {
    "collapsed": true,
    "deletable": true,
    "editable": true
   },
   "outputs": [],
   "source": [
    "def cosine_similarity(a,b):\n",
    "    return np.dot(a,b)/(np.linalg.norm(a)*np.linalg.norm(b))\n",
    "\n",
    "def splitted_words_lower(sentences):\n",
    "    return [[w.lower() for w in wd.splitted_words_utf8(s)] for s in sentences]\n"
   ]
  },
  {
   "cell_type": "code",
   "execution_count": 5,
   "metadata": {
    "collapsed": false,
    "deletable": true,
    "editable": true
   },
   "outputs": [],
   "source": [
    "labeled_csv_filename = '../extraction/merged_xlsx.csv' #'../extraction/sentence_manual_labels3.csv'\n",
    "\n",
    "ldf = pd.read_csv(labeled_csv_filename, sep='\\t', encoding='utf-8', quoting=csv.QUOTE_NONE)"
   ]
  },
  {
   "cell_type": "code",
   "execution_count": 6,
   "metadata": {
    "collapsed": false,
    "deletable": true,
    "editable": true
   },
   "outputs": [
    {
     "data": {
      "text/html": [
       "<div>\n",
       "<style>\n",
       "    .dataframe thead tr:only-child th {\n",
       "        text-align: right;\n",
       "    }\n",
       "\n",
       "    .dataframe thead th {\n",
       "        text-align: left;\n",
       "    }\n",
       "\n",
       "    .dataframe tbody tr th {\n",
       "        vertical-align: top;\n",
       "    }\n",
       "</style>\n",
       "<table border=\"1\" class=\"dataframe\">\n",
       "  <thead>\n",
       "    <tr style=\"text-align: right;\">\n",
       "      <th></th>\n",
       "      <th>filename</th>\n",
       "      <th>sent_index</th>\n",
       "      <th>sentence</th>\n",
       "    </tr>\n",
       "    <tr>\n",
       "      <th>label</th>\n",
       "      <th></th>\n",
       "      <th></th>\n",
       "      <th></th>\n",
       "    </tr>\n",
       "  </thead>\n",
       "  <tbody>\n",
       "    <tr>\n",
       "      <th>assemblea</th>\n",
       "      <td>120</td>\n",
       "      <td>120</td>\n",
       "      <td>120</td>\n",
       "    </tr>\n",
       "    <tr>\n",
       "      <th>clausola</th>\n",
       "      <td>173</td>\n",
       "      <td>173</td>\n",
       "      <td>173</td>\n",
       "    </tr>\n",
       "    <tr>\n",
       "      <th>non_riconducibile</th>\n",
       "      <td>955</td>\n",
       "      <td>955</td>\n",
       "      <td>955</td>\n",
       "    </tr>\n",
       "    <tr>\n",
       "      <th>poteri</th>\n",
       "      <td>219</td>\n",
       "      <td>219</td>\n",
       "      <td>219</td>\n",
       "    </tr>\n",
       "    <tr>\n",
       "      <th>scadenza</th>\n",
       "      <td>7</td>\n",
       "      <td>7</td>\n",
       "      <td>7</td>\n",
       "    </tr>\n",
       "  </tbody>\n",
       "</table>\n",
       "</div>"
      ],
      "text/plain": [
       "                   filename  sent_index  sentence\n",
       "label                                            \n",
       "assemblea               120         120       120\n",
       "clausola                173         173       173\n",
       "non_riconducibile       955         955       955\n",
       "poteri                  219         219       219\n",
       "scadenza                  7           7         7"
      ]
     },
     "execution_count": 6,
     "metadata": {},
     "output_type": "execute_result"
    }
   ],
   "source": [
    "ldf.groupby('label').count()"
   ]
  },
  {
   "cell_type": "code",
   "execution_count": 7,
   "metadata": {
    "collapsed": false,
    "deletable": true,
    "editable": true
   },
   "outputs": [
    {
     "data": {
      "image/png": "[encoded data removed]",
      "text/plain": [
       "<matplotlib.figure.Figure at 0x7faca0674350>"
      ]
     },
     "metadata": {},
     "output_type": "display_data"
    },
    {
     "data": {
      "image/png": "[encoded data removed]",
      "text/plain": [
       "<matplotlib.figure.Figure at 0x7fac3584b1d0>"
      ]
     },
     "metadata": {},
     "output_type": "display_data"
    }
   ],
   "source": [
    "df25 = ldf.groupby(['filename', 'label']).size().reset_index(name=\"Count\")\n",
    "df35 = pd.pivot_table(df25,  values='Count',  columns=['label'], index='filename')\n",
    "df45 = pd.pivot_table(df25,  values='Count',  columns=['filename'], index='label')\n",
    "df35.plot(kind=\"bar\", figsize=(16,6))\n",
    "plt.show()\n",
    "df45.plot(kind=\"bar\", figsize=(16,6))\n",
    "plt.show()"
   ]
  },
  {
   "cell_type": "code",
   "execution_count": null,
   "metadata": {
    "collapsed": false,
    "deletable": true,
    "editable": true,
    "scrolled": false
   },
   "outputs": [],
   "source": [
    "ldf.groupby('filename')['filename'].count().plot.bar()"
   ]
  },
  {
   "cell_type": "code",
   "execution_count": null,
   "metadata": {
    "collapsed": false,
    "deletable": true,
    "editable": true
   },
   "outputs": [],
   "source": [
    "sentences_rows = {l:ldf.loc[ldf['label'] == l]['sentence'] for l in labels}\n",
    "\n",
    "splits = {l:splitted_words_lower(sentences_rows[l]) for l in labels}"
   ]
  },
  {
   "cell_type": "code",
   "execution_count": null,
   "metadata": {
    "collapsed": false,
    "deletable": true,
    "editable": true
   },
   "outputs": [],
   "source": [
    "def word_counts(sentences):\n",
    "    d = dict()\n",
    "    for sentence in sentences:\n",
    "        for word in sentence:\n",
    "            if not word in d:\n",
    "                d[word] = 1\n",
    "            else:\n",
    "                d[word] += 1\n",
    "    return d\n",
    "\n",
    "def first_n_words(sentences, n):\n",
    "    wc = word_counts(sentences)\n",
    "    sorted_wc = sorted(wc.items(), key=operator.itemgetter(1))\n",
    "    return list(reversed([x for x in sorted_wc[-n:]]))\n"
   ]
  },
  {
   "cell_type": "markdown",
   "metadata": {
    "deletable": true,
    "editable": true
   },
   "source": [
    "## Tf Idf\n"
   ]
  },
  {
   "cell_type": "code",
   "execution_count": null,
   "metadata": {
    "collapsed": true,
    "deletable": true,
    "editable": true
   },
   "outputs": [],
   "source": [
    "def tf(word, sentence):\n",
    "    '''Term frequency in the sentence'''\n",
    "    return sum(1 for w in sentence if w == word)/len(sentence)\n",
    "\n",
    "def idf(word, documents):\n",
    "    '''Inverse document frequency'''\n",
    "    D = len(documents)\n",
    "    den = 1+sum(1 for sentence in documents if word in sentence)\n",
    "    return math.log(D/den)\n",
    "\n",
    "def idf_memo(documents):\n",
    "    '''Defines a memoized version of idf with the given set of documents'''\n",
    "    word_idf = {}\n",
    "    def memoized_idf(word):\n",
    "        if not word in word_idf:\n",
    "            word_idf[word] = idf(word, documents)\n",
    "        return word_idf[word]\n",
    "    return memoized_idf\n",
    "\n",
    "def tf_idf(word, sentence, sentences):\n",
    "    '''Simple tf-idf index'''\n",
    "    return tf(word, sentence)*idf(word, sentences)\n",
    "\n",
    "def tf_idf_memo(documents):\n",
    "    '''Defines a memoized version of tf-idf with the given set of documents'''\n",
    "    idf_memoized = idf_memo(documents)\n",
    "    def tf_idf_memoized(word, sentence):\n",
    "        return tf(word, sentence)*idf_memoized(word)\n",
    "    return tf_idf_memoized\n",
    "    "
   ]
  },
  {
   "cell_type": "code",
   "execution_count": null,
   "metadata": {
    "collapsed": false,
    "deletable": true,
    "editable": true
   },
   "outputs": [],
   "source": [
    "# On all sentences\n",
    "split_sentences = [[w.lower() for w in wd.splitted_words_utf8(s)] for s in ldf['sentence']]\n",
    "\n",
    "tf_idf_memoized = tf_idf_memo(split_sentences)"
   ]
  },
  {
   "cell_type": "code",
   "execution_count": null,
   "metadata": {
    "collapsed": true,
    "deletable": true,
    "editable": true
   },
   "outputs": [],
   "source": [
    "def sorted_tfidf_words(splitted_sentences , tf_idf_memoized):\n",
    "    words = set(word for sent in splitted_sentences for word in sent)\n",
    "    words_mean_tfidf = [(word, np.mean([tf_idf_memoized(word, s) for s in splitted_sentences])) for word in words]\n",
    "    return sorted(words_mean_tfidf, key=operator.itemgetter(1), reverse=True)"
   ]
  },
  {
   "cell_type": "code",
   "execution_count": null,
   "metadata": {
    "collapsed": true,
    "deletable": true,
    "editable": true
   },
   "outputs": [],
   "source": [
    "sorted_words = {k:sorted_tfidf_words(v, tf_idf_memoized) for k,v in splits.items()}\n"
   ]
  },
  {
   "cell_type": "code",
   "execution_count": null,
   "metadata": {
    "collapsed": false,
    "deletable": true,
    "editable": true,
    "scrolled": true
   },
   "outputs": [],
   "source": [
    "def print_parole_tf_idf(sorted_words, n = -1):\n",
    "    print(u'{:20}\\t{:20}\\n'.format(u'parola',u'mean tf-idf'))\n",
    "    if n < 0:\n",
    "        n = len(sorted_words)\n",
    "    for w, score in sorted_words[:n]:\n",
    "        print(u'{:20}\\t{:1.4f}'.format(w,score))"
   ]
  },
  {
   "cell_type": "code",
   "execution_count": null,
   "metadata": {
    "collapsed": false,
    "deletable": true,
    "editable": true
   },
   "outputs": [],
   "source": [
    "for k,v in sorted_words.items():\n",
    "    print('{}:'.format(k))\n",
    "    print_parole_tf_idf(v, 30)\n",
    "    print()"
   ]
  },
  {
   "cell_type": "code",
   "execution_count": null,
   "metadata": {
    "collapsed": false,
    "deletable": true,
    "editable": true
   },
   "outputs": [],
   "source": [
    "'compromissoria' in [e[0] for e in sorted_words['clausola']]"
   ]
  },
  {
   "cell_type": "code",
   "execution_count": null,
   "metadata": {
    "collapsed": false,
    "deletable": true,
    "editable": true
   },
   "outputs": [],
   "source": [
    "most_relevant_poteri_words = OrderedDict(sorted_words['poteri']) #[:8]"
   ]
  },
  {
   "cell_type": "code",
   "execution_count": null,
   "metadata": {
    "collapsed": true,
    "deletable": true,
    "editable": true
   },
   "outputs": [],
   "source": [
    "def score_sentence_frequency(sentence, most_relevant_words):\n",
    "    '''cosine distance between frequency of words in sentence and the most relevant words tf-idf'''\n",
    "    counts = OrderedDict((w, 0) for w in most_relevant_words.keys())\n",
    "    for w in sentence:\n",
    "        if w in counts:\n",
    "            counts[w] += 1\n",
    "    l = len(sentence)\n",
    "    frequencies = [v/l for v in counts.values()]\n",
    "    if np.linalg.norm(frequencies) == 0 or np.linalg.norm(most_relevant_words.values()) == 0:\n",
    "        return 0\n",
    "    return cosine_similarity(np.array(frequencies), np.array(most_relevant_words.values())) \n",
    "    \n",
    "def score_sentence_tf_idf(sentence, most_relevant_words, tf_idf_memoized):\n",
    "    '''cosine distance between tf-idf of words in sentence and the most relevant words tf-idf'''\n",
    "    tfidfs = OrderedDict((w, 0) for w in most_relevant_words.keys())\n",
    "    for w in sentence:\n",
    "        tfidfs[w] = tf_idf_memoized(w, sentence)\n",
    "    if np.linalg.norm(tfidfs.values()) == 0 or np.linalg.norm(most_relevant_words.values()) == 0:\n",
    "        return 0\n",
    "    l = min(len(tfidfs), len(most_relevant_words))\n",
    "    return cosine_similarity(np.array(tfidfs.values())[:l], np.array(most_relevant_words.values())[:l])"
   ]
  },
  {
   "cell_type": "code",
   "execution_count": null,
   "metadata": {
    "collapsed": true,
    "deletable": true,
    "editable": true
   },
   "outputs": [],
   "source": [
    "[score_sentence_tf_idf(split, OrderedDict(sorted_words['poteri']), tf_idf_memoized) for split in splits['poteri']]"
   ]
  },
  {
   "cell_type": "markdown",
   "metadata": {
    "deletable": true,
    "editable": true
   },
   "source": [
    "## Embeddings test"
   ]
  },
  {
   "cell_type": "code",
   "execution_count": null,
   "metadata": {
    "collapsed": false,
    "deletable": true,
    "editable": true
   },
   "outputs": [],
   "source": [
    "txts_tokenized = [wd.tokenize_doc(txt) for txt in txts]"
   ]
  },
  {
   "cell_type": "code",
   "execution_count": null,
   "metadata": {
    "collapsed": true,
    "deletable": true,
    "editable": true
   },
   "outputs": [],
   "source": [
    "reduced_dictionary_filename = 'first_5000_words.json'\n",
    "with open(reduced_dictionary_filename) as f:\n",
    "    reduced_dictionary = set(json.load(f))\n",
    "\n",
    "gensim_model_filename = 'models/gensim_model_5000.d2v'\n",
    "gensim_model = Doc2Vec.load(gensim_model_filename)"
   ]
  },
  {
   "cell_type": "code",
   "execution_count": null,
   "metadata": {
    "collapsed": false,
    "deletable": true,
    "editable": true
   },
   "outputs": [],
   "source": [
    "embeddings = [em.embed_document(gensim_model, txt, reduced_dictionary) for txt in txts_tokenized]"
   ]
  },
  {
   "cell_type": "code",
   "execution_count": null,
   "metadata": {
    "collapsed": false,
    "deletable": true,
    "editable": true
   },
   "outputs": [],
   "source": [
    "sv = partial(em.sentence_vector, model=gensim_model, permitted_words=reduced_dictionary)"
   ]
  },
  {
   "cell_type": "code",
   "execution_count": null,
   "metadata": {
    "collapsed": false,
    "deletable": true,
    "editable": true
   },
   "outputs": [],
   "source": [
    "p1 = u'All\\'organo amministrativo sono conferiti i più ampi poteri, sia per la gestione ordinaria che straordinaria della Società'\n",
    "p2 = u'ARTICOLO 19 - POTERI DELL\\'ORGANO AMMINISTRATIVO 191 L\\'organo amministrativo ha tutti i poteri di ordinaria e straordinaria amministrazione'\n",
    "cosine_similarity(sv(sentence=p1.lower()),sv(sentence=p2.lower())) "
   ]
  },
  {
   "cell_type": "code",
   "execution_count": null,
   "metadata": {
    "collapsed": false,
    "deletable": true,
    "editable": true
   },
   "outputs": [],
   "source": [
    "mean_cosines_poteri = [np.mean([cosine_similarity(sv(sentence=split_poteri[i]), sv(sentence=split_poteri[j]))\n",
    "                               for i in range(len(split_poteri)) if i != j])\n",
    "                                   for j in range(len(split_poteri))]"
   ]
  },
  {
   "cell_type": "markdown",
   "metadata": {
    "deletable": true,
    "editable": true
   },
   "source": [
    "## Sentence Word embedding"
   ]
  },
  {
   "cell_type": "code",
   "execution_count": 22,
   "metadata": {
    "collapsed": false,
    "deletable": true,
    "editable": true
   },
   "outputs": [
    {
     "name": "stdout",
     "output_type": "stream",
     "text": [
      "Sentences: 1474\n",
      "Labels: 1474\n"
     ]
    }
   ],
   "source": [
    "splitted_sentences = wd.tokenize_sentences(ldf['sentence'], min_words=1)\n",
    "labels_sentences = [labels.index(l) for l in ldf['label']]\n",
    "print('Sentences: {}\\nLabels: {}'.format(len(splitted_sentences), len(labels_sentences)))"
   ]
  },
  {
   "cell_type": "code",
   "execution_count": 23,
   "metadata": {
    "collapsed": false,
    "deletable": true,
    "editable": true
   },
   "outputs": [],
   "source": [
    "fnw = em.first_n_words(splitted_sentences, 4999)\n",
    "permitted_words = [e[0] for e in fnw]\n",
    "reduced_sentences = list(em.reduce_dictionary(splitted_sentences, permitted_words, min_words=1))\n",
    "reduced_dictionary = em.build_dictionary(reduced_sentences, start_index=1) #start from 1, 0 is padding!\n",
    "int_sentences = [[reduced_dictionary[w] for w in sent] for sent in reduced_sentences]"
   ]
  },
  {
   "cell_type": "code",
   "execution_count": 24,
   "metadata": {
    "collapsed": false,
    "deletable": true,
    "editable": true
   },
   "outputs": [
    {
     "data": {
      "text/plain": [
       "93.581000000000813"
      ]
     },
     "execution_count": 24,
     "metadata": {},
     "output_type": "execute_result"
    }
   ],
   "source": [
    "np.percentile([len(s) for s in int_sentences], 99.9)"
   ]
  },
  {
   "cell_type": "code",
   "execution_count": 27,
   "metadata": {
    "collapsed": false
   },
   "outputs": [
    {
     "data": {
      "text/plain": [
       "{u'utilizzata': 3563,\n",
       " u'recepite': 328,\n",
       " u'revocati': 3445,\n",
       " u'utilizzate': 962,\n",
       " u'rinunziare': 2129,\n",
       " u'comunque': 596,\n",
       " u'unici': 2575,\n",
       " u'motivazione': 1681,\n",
       " u'unico': 336,\n",
       " u'aeroporti': 3113,\n",
       " u'speculazione': 650,\n",
       " u'influenza': 3233,\n",
       " u'francesco': 229,\n",
       " u'assemblea': 344,\n",
       " u'nega': 1295,\n",
       " u'assemblee': 1248,\n",
       " u'presenta': 3020,\n",
       " u'verifica': 2874,\n",
       " u'figli': 2139,\n",
       " u'presente': 106,\n",
       " u'egli': 2721,\n",
       " u'determinando': 2983,\n",
       " u'fiscali': 3593,\n",
       " u'presenti': 923,\n",
       " u'compiler\\xe0': 1810,\n",
       " u'posteriori': 3391,\n",
       " u'seguire': 3028,\n",
       " u'considera': 1517,\n",
       " u'firmato': 2547,\n",
       " u'regolano': 3199,\n",
       " u'comodato': 791,\n",
       " u'semprech\\xe8': 2410,\n",
       " u'firmati': 2064,\n",
       " u'cenacoli': 770,\n",
       " u'eseguirne': 3275,\n",
       " u'introduttive': 2906,\n",
       " u'denominazioni': 1139,\n",
       " u'denominazione': 462,\n",
       " u'partecipanti': 1648,\n",
       " u'dell': 1343,\n",
       " u'concernenti': 1099,\n",
       " u'rappresentano': 2754,\n",
       " u'seggcodciv': 234,\n",
       " u'amichevoli': 2533,\n",
       " u'possano': 895,\n",
       " u'decimo': 3353,\n",
       " u'devolvere': 1865,\n",
       " u'arbitraggio': 2731,\n",
       " u'pregiudizio': 1275,\n",
       " u'soddisfazione': 3278,\n",
       " u'decima': 3214,\n",
       " u'rendano': 2408,\n",
       " u'rivestono': 3305,\n",
       " u'piva': 2364,\n",
       " u'osservazioni': 2075,\n",
       " u'amministrazione': 332,\n",
       " u'duemiladiciassette': 16,\n",
       " u'delegati': 1582,\n",
       " u'falco': 3046,\n",
       " u'istituito': 1109,\n",
       " u'costituente': 3552,\n",
       " u'mutamento': 2091,\n",
       " u'ente': 917,\n",
       " u'enti': 585,\n",
       " u'valgono': 1778,\n",
       " u'costituenti': 802,\n",
       " u'meramente': 3582,\n",
       " u'esibizione': 2147,\n",
       " u'pattuite': 3619,\n",
       " u'subordinato': 1000,\n",
       " u'emesse': 1027,\n",
       " u'posizione': 1375,\n",
       " u'menzionata': 946,\n",
       " u'emessi': 1238,\n",
       " u'allargata': 3259,\n",
       " u'possesso': 156,\n",
       " u'subordinata': 3185,\n",
       " u'menzionati': 271,\n",
       " u'nel': 1101,\n",
       " u'ammontare': 1121,\n",
       " u'tipo': 163,\n",
       " u'nei': 1631,\n",
       " u'originalit\\xe0': 3365,\n",
       " u'cinquantanove': 3522,\n",
       " u'designazione': 1774,\n",
       " u'deliberato': 1347,\n",
       " u'esercitarsi': 540,\n",
       " u'conduzione': 790,\n",
       " u'propri': 614,\n",
       " u'transazioni': 2323,\n",
       " u'organismo': 1145,\n",
       " u'organismi': 486,\n",
       " u'unanimit\\xe0': 329,\n",
       " u'relativamente': 1170,\n",
       " u'futura': 3602,\n",
       " u'lodo': 1891,\n",
       " u'nestech': 2580,\n",
       " u'inderogabile': 3003,\n",
       " u'informati': 1522,\n",
       " u'provvisti': 1351,\n",
       " u'inderogabili': 2098,\n",
       " u'istanza': 1389,\n",
       " u'informato': 1610,\n",
       " u'simili': 3078,\n",
       " u'met': 2263,\n",
       " u'avere': 983,\n",
       " u'compatibili': 149,\n",
       " u'improduttivi': 2669,\n",
       " u'constatate': 1731,\n",
       " u'gli': 105,\n",
       " u'bellosguardo': 96,\n",
       " u'condizioni': 246,\n",
       " u'sottoporsi': 1811,\n",
       " u'dissenziente': 1863,\n",
       " u'condizione': 1377,\n",
       " u'illimitata': 2811,\n",
       " u'dovuti': 3257,\n",
       " u'indicando': 2114,\n",
       " u'risulter\\xe0': 3220,\n",
       " u'credit': 2014,\n",
       " u'appaia': 2722,\n",
       " u'generale': 554,\n",
       " u'economico': 3134,\n",
       " u'generali': 1749,\n",
       " u'resta': 1616,\n",
       " u'distribuita': 3022,\n",
       " u'controllare': 2791,\n",
       " u'specifica': 2672,\n",
       " u'inattivit\\xe0': 1486,\n",
       " u'specifici': 3155,\n",
       " u'specifico': 1509,\n",
       " u'intendesse': 2120,\n",
       " u'scaduto': 2709,\n",
       " u'riguardano': 2758,\n",
       " u'pulizie': 2402,\n",
       " u'confermare': 2210,\n",
       " u'compromettibile': 2531,\n",
       " u'esemplificativo': 2320,\n",
       " u'decisa': 3337,\n",
       " u'motivato': 1299,\n",
       " u'promossa': 2328,\n",
       " u'inviato': 1604,\n",
       " u'commercializzazione': 685,\n",
       " u'dnc': 71,\n",
       " u'negativo': 629,\n",
       " u'negativa': 2988,\n",
       " u'contrada': 80,\n",
       " u'vietata': 3169,\n",
       " u'loro': 3484,\n",
       " u'qualunque': 1048,\n",
       " u'vietate': 597,\n",
       " u'volontariato': 3502,\n",
       " u'asporto': 3081,\n",
       " u'fronte': 1066,\n",
       " u'proposizione': 2855,\n",
       " u'raggiungimento': 847,\n",
       " u'yeso': 2373,\n",
       " u'cinquantamila': 2036,\n",
       " u'inadempiente': 1410,\n",
       " u'giovanni': 2557,\n",
       " u'dpcm': 1868,\n",
       " u'castellammare': 3546,\n",
       " u'quali': 209,\n",
       " u'affinch\\xe8': 645,\n",
       " u'quale': 1769,\n",
       " u'me': 29,\n",
       " u'oppone': 1525,\n",
       " u'produttivamente': 806,\n",
       " u'assicurare': 546,\n",
       " u'comunicazioni': 1326,\n",
       " u'trasferisce': 2882,\n",
       " u'agire': 136,\n",
       " u'occorrendo': 2876,\n",
       " u'perdita': 1854,\n",
       " u'garantisce': 973,\n",
       " u'comunicazione': 542,\n",
       " u'perdite': 1067,\n",
       " u'garantisca': 3395,\n",
       " u'verbalizzazione': 2242,\n",
       " u'riguardo': 2860,\n",
       " u'scommesse': 713,\n",
       " u'descritte': 3494,\n",
       " u'sottoscrivono': 303,\n",
       " u'annotare': 1598,\n",
       " u'risultino': 1513,\n",
       " u'esonerati': 1762,\n",
       " u'avocare': 3443,\n",
       " u'instaurando': 821,\n",
       " u'riguarda': 2164,\n",
       " u'redazione': 2310,\n",
       " u'carica': 365,\n",
       " u'ferie': 3158,\n",
       " u'sostituisca': 3630,\n",
       " u'carico': 430,\n",
       " u'farsi': 1577,\n",
       " u'sostituisce': 3440,\n",
       " u'prevedere': 2650,\n",
       " u'sostituite': 2659,\n",
       " u'ministro': 3133,\n",
       " u'autorizzo': 3668,\n",
       " u'ordinari': 1041,\n",
       " u'compie': 3433,\n",
       " u'motoveicoli': 3104,\n",
       " u'ogni': 236,\n",
       " u'remunerare': 1828,\n",
       " u'produttivo': 573,\n",
       " u'mediante': 541,\n",
       " u'uffici': 516,\n",
       " u'produttive': 3596,\n",
       " u'more': 3327,\n",
       " u'provveda': 1690,\n",
       " u'provvede': 1709,\n",
       " u'merito': 2172,\n",
       " u'bancari': 740,\n",
       " u'effettuarsi': 3608,\n",
       " u'calde': 667,\n",
       " u'giurisidizionale': 1404,\n",
       " u'erogazione': 722,\n",
       " u'definibile': 195,\n",
       " u'dispensa': 1890,\n",
       " u'prestare': 1763,\n",
       " u'sede': 201,\n",
       " u'diritto': 377,\n",
       " u'esito': 2903,\n",
       " u'diritti': 1028,\n",
       " u'applicazione': 876,\n",
       " u'ove': 1242,\n",
       " u'disciplinano': 2424,\n",
       " u'sedi': 517,\n",
       " u'mese': 19,\n",
       " u'consistenti': 992,\n",
       " u'approvati': 409,\n",
       " u'appartenenti': 1278,\n",
       " u'arbitrato': 1892,\n",
       " u'appartenente': 1483,\n",
       " u'mancante': 1413,\n",
       " u'deutsche': 3558,\n",
       " u'durer\\xe0': 2380,\n",
       " u'cinque': 453,\n",
       " u'paritetici': 479,\n",
       " u'centocinquanta': 318,\n",
       " u'pasticcerie': 659,\n",
       " u'danno': 2617,\n",
       " u'estende': 3372,\n",
       " u'approvazione': 393,\n",
       " u'procedurali': 2337,\n",
       " u'preventiva': 1415,\n",
       " u'direttivi': 908,\n",
       " u'castel': 3530,\n",
       " u'relazioni': 1793,\n",
       " u'fornire': 2633,\n",
       " u'optate': 3272,\n",
       " u'inabilitato': 1403,\n",
       " u'determinato': 1057,\n",
       " u'proclama': 2998,\n",
       " u'ciascun': 1575,\n",
       " u'chiusura': 1338,\n",
       " u'xi': 2886,\n",
       " u'mobiliari': 841,\n",
       " u'mobiliare': 1989,\n",
       " u'vita': 636,\n",
       " u'ridotto': 2662,\n",
       " u'relazione': 1385,\n",
       " u'cedute': 1286,\n",
       " u'venti': 3215,\n",
       " u'artigianato': 3096,\n",
       " u'irpino': 42,\n",
       " u'alcuno': 1273,\n",
       " u'crei': 2852,\n",
       " u'alcuni': 1739,\n",
       " u'secondario': 3043,\n",
       " u'prescriva': 3639,\n",
       " u'ipoteche': 2511,\n",
       " u'fin': 2642,\n",
       " u'secondarie': 526,\n",
       " u'alcuna': 368,\n",
       " u'assoggettata': 3516,\n",
       " u'riscontro': 2993,\n",
       " u'inviarsi': 1320,\n",
       " u'teatrale': 761,\n",
       " u'violazione': 3299,\n",
       " u'realizzare': 867,\n",
       " u'conferito': 1072,\n",
       " u'enrico': 3050,\n",
       " u'destinare': 2868,\n",
       " u'individuale': 1592,\n",
       " u'ammissione': 911,\n",
       " u'discriminatorie': 3286,\n",
       " u'concordemente': 2837,\n",
       " u'bank': 3559,\n",
       " u'germania': 90,\n",
       " u'plastica': 3576,\n",
       " u'renda': 3634,\n",
       " u'unitaria': 1851,\n",
       " u'giusta': 1400,\n",
       " u'l': 14,\n",
       " u'alloggio': 3157,\n",
       " u'garantiscano': 2200,\n",
       " u'alen': 89,\n",
       " u'associativo': 1444,\n",
       " u'internazionali': 747,\n",
       " u'averaimo': 3538,\n",
       " u'analoghi': 3399,\n",
       " u'compagine': 134,\n",
       " u'revisione': 1785,\n",
       " u'consolidato': 2311,\n",
       " u'annunziata': 3536,\n",
       " u'conferma': 2626,\n",
       " u'consenta': 2992,\n",
       " u'sedici': 440,\n",
       " u'adeguatamente': 2240,\n",
       " u'datato': 2178,\n",
       " u'centoottanta': 3329,\n",
       " u'suscettibili': 1274,\n",
       " u'essenziali': 864,\n",
       " u'integrativa': 1799,\n",
       " u'soddisfatti': 3450,\n",
       " u'suscettibile': 2981,\n",
       " u're': 1936,\n",
       " u'sml': 2927,\n",
       " u'sistemi': 2966,\n",
       " u'intender\\xe0': 534,\n",
       " u'ricavi': 3128,\n",
       " u'opportune': 3145,\n",
       " u'ri': 2338,\n",
       " u'archiviare': 3398,\n",
       " u'controllate': 2785,\n",
       " u'statuito': 1088,\n",
       " u'associati': 1148,\n",
       " u'specificatamente': 1794,\n",
       " u'propone': 135,\n",
       " u'trascrizione': 1322,\n",
       " u'anziano': 1534,\n",
       " u'abate': 65,\n",
       " u'ntn': 84,\n",
       " u'assicurativa': 2286,\n",
       " u'risulteranno': 1741,\n",
       " u'esercizi': 794,\n",
       " u'competer': 2319,\n",
       " u'informazione': 1504,\n",
       " u'investiti': 2291,\n",
       " u'informazioni': 3367,\n",
       " u'accetta': 364,\n",
       " u'riserva': 1178,\n",
       " u'passata': 2844,\n",
       " u'provvedono': 1599,\n",
       " u'elencate': 855,\n",
       " u'professioni': 890,\n",
       " u'accettare': 2383,\n",
       " u'biologici': 2404,\n",
       " u'formare': 2889,\n",
       " u'deferita': 2335,\n",
       " u'settanta': 3131,\n",
       " u'delegato': 2216,\n",
       " u'deferite': 1880,\n",
       " u'fatti': 1333,\n",
       " u'grado': 1595,\n",
       " u'prevenire': 562,\n",
       " u'disciplinandone': 3491,\n",
       " u'usufrutto': 3301,\n",
       " u'pratica': 3667,\n",
       " u'avverr\\xe0': 2730,\n",
       " u'indeterminato': 536,\n",
       " u'inserito': 2769,\n",
       " u'lege': 1640,\n",
       " u'quinto': 1471,\n",
       " u'partecipano': 1527,\n",
       " u'compiti': 1074,\n",
       " u'fideiussioni': 2598,\n",
       " u'ragioni': 1761,\n",
       " u'avvalendosi': 324,\n",
       " u'fideiussione': 2655,\n",
       " u'ragione': 1140,\n",
       " u'controllata': 2524,\n",
       " u'psichica': 570,\n",
       " u'soppressive': 2907,\n",
       " u'biocosmetics': 2374,\n",
       " u'trasferire': 1014,\n",
       " u'perduto': 1414,\n",
       " u'quattro': 1223,\n",
       " u'requisito': 902,\n",
       " u'dazione': 993,\n",
       " u'responsabilit': 1953,\n",
       " u'requisiti': 157,\n",
       " u'ispirazione': 3219,\n",
       " u'avanzi': 1847,\n",
       " u'piazza': 24,\n",
       " u'appurabile': 3378,\n",
       " u'nominato': 1388,\n",
       " u'nominati': 1077,\n",
       " u'mercato': 250,\n",
       " u'matteo': 1933,\n",
       " u'dichiarando': 367,\n",
       " u'specifiche': 1469,\n",
       " u'reintegrato': 2875,\n",
       " u'elezione': 1710,\n",
       " u'fruttiferi': 1825,\n",
       " u'andr\\xe0': 2839,\n",
       " u'documentate': 959,\n",
       " u'reintegrata': 3565,\n",
       " u'digitale': 2193,\n",
       " u'negozio': 2714,\n",
       " u'conforme': 1910,\n",
       " u'subordinati': 3477,\n",
       " u'assumer\\xe0': 3368,\n",
       " u'avvalersi': 261,\n",
       " u'cessionaria': 3506,\n",
       " u'ricreative': 772,\n",
       " u'menzionato': 2975,\n",
       " u'sospesa': 2476,\n",
       " u'socio': 920,\n",
       " u'tratti': 1587,\n",
       " u'rivolgersi': 3586,\n",
       " u'ci\\xf2': 2780,\n",
       " u'persegua': 642,\n",
       " u'persegue': 552,\n",
       " u'reali': 2088,\n",
       " u'conseguirlo': 3175,\n",
       " u'consorzi': 825,\n",
       " u'reale': 3029,\n",
       " u'diretta': 1472,\n",
       " u'immobiliari': 840,\n",
       " u'dirette': 3068,\n",
       " u'emesso': 2387,\n",
       " u'decidono': 2752,\n",
       " u'costitutivi': 2197,\n",
       " u'immobiliare': 1954,\n",
       " u'costitutivo': 5,\n",
       " u'osservare': 2695,\n",
       " u'acconsenta': 1361,\n",
       " u'fondo': 1070,\n",
       " u'oltre': 1081,\n",
       " u'avviene': 1284,\n",
       " u'telefoniche': 745,\n",
       " u'lucro': 237,\n",
       " u'gravi': 2853,\n",
       " u'deliberata': 1169,\n",
       " u'avvarr\\xe0': 836,\n",
       " u'visionare': 2244,\n",
       " u'virt\\xf9': 2787,\n",
       " u'altrettanto': 3366,\n",
       " u'ipso': 1270,\n",
       " u'somme': 1196,\n",
       " u'alimenti': 676,\n",
       " u'lavorative': 264,\n",
       " u'scheda': 1602,\n",
       " u'limitatamente': 1105,\n",
       " u'ristrutturazione': 976,\n",
       " u'spetter': 2033,\n",
       " u'hanno': 1311,\n",
       " u'sottopongono': 3345,\n",
       " u'lavorativi': 3321,\n",
       " u'efficacia': 1346,\n",
       " u'cambio': 341,\n",
       " u'esclusivo': 3631,\n",
       " u'esclusiva': 2330,\n",
       " u'funzionante': 3638,\n",
       " u'sostituiscono': 2482,\n",
       " u'riviste': 754,\n",
       " u'televisive': 746,\n",
       " u'funzionale': 3583,\n",
       " u'sottoscrizione': 1218,\n",
       " u'provocato': 3335,\n",
       " u'recapiti': 520,\n",
       " u'recapito': 1510,\n",
       " u'coloro': 886,\n",
       " u'peraltro': 1258,\n",
       " u'notificata': 1428,\n",
       " u'ottaviano': 3523,\n",
       " u'carattere': 1792,\n",
       " u'taluno': 2119,\n",
       " u'complessivamente': 3246,\n",
       " u'domicilio': 62,\n",
       " u'ancorch\\xe9': 3404,\n",
       " u'ghini': 2929,\n",
       " u'pesavento': 2568,\n",
       " u'ricevuta': 2112,\n",
       " u'meno': 1848,\n",
       " u'autorizzato': 2051,\n",
       " u'pegno': 3300,\n",
       " u'autorizzata': 1288,\n",
       " u'partecipando': 824,\n",
       " u'integrata': 3216,\n",
       " u'capacit\\xe0': 624,\n",
       " u'individuazione': 1900,\n",
       " u'ricevuto': 431,\n",
       " u'strumentali': 800,\n",
       " u'dm': 2439,\n",
       " u'di': 6,\n",
       " u'de': 3528,\n",
       " u'strumentale': 2596,\n",
       " u'partecipi': 1520,\n",
       " u'evidenziare': 1801,\n",
       " u'ecclesiastici': 3509,\n",
       " u'banche': 3482,\n",
       " u'partecipa': 2214,\n",
       " u'deliberativi': 2198,\n",
       " u'deliberativo': 1615,\n",
       " u'redditivit\\xe0': 1371,\n",
       " u'rego': 3569,\n",
       " u'bar': 658,\n",
       " u'situazione': 1369,\n",
       " u'rispetto': 196,\n",
       " u'ricettivit\\xe0': 3144,\n",
       " u'mediazione': 2436,\n",
       " u'esclusivamente': 588,\n",
       " u'millenovecentottantanove': 3539,\n",
       " u'creditore': 1449,\n",
       " u'ordini': 2442,\n",
       " u'realt\\xe0': 3499,\n",
       " u'democratica': 3260,\n",
       " u'compera': 788,\n",
       " u'ordine': 827,\n",
       " u'collegamento': 2493,\n",
       " u'concretatesi': 1192,\n",
       " u'milleseicento': 2396,\n",
       " u'caboto': 2363,\n",
       " u'discussione': 1812,\n",
       " u'funzioner\\xe0': 3019,\n",
       " u'quaranta': 414,\n",
       " u'erika': 2930,\n",
       " u'distanti': 2230,\n",
       " u'presumono': 2673,\n",
       " u'precisare': 1600,\n",
       " u'destinatario': 1512,\n",
       " u'assenti': 1896,\n",
       " u'sportello': 2892,\n",
       " u'presiede': 2498,\n",
       " u'sorta': 2501,\n",
       " u'tratta': 1424,\n",
       " u'concorrenza': 1676,\n",
       " u'valorizzazione': 3069,\n",
       " u'svantaggiato': 194,\n",
       " u'consentano': 3284,\n",
       " u'affidati': 3009,\n",
       " u'future': 3135,\n",
       " u'affidato': 1772,\n",
       " u'svantaggiati': 934,\n",
       " u'dichiarazione': 1126,\n",
       " u'svantaggiate': 605,\n",
       " u'dichiarazioni': 1653,\n",
       " u'mui': 1907,\n",
       " u'soluzioni': 1220,\n",
       " u'affidate': 3553,\n",
       " u'insorgere': 2326,\n",
       " u'lupo': 2926,\n",
       " u'natura': 1096,\n",
       " u'vendita': 743,\n",
       " u'comportanti': 2810,\n",
       " u'novembre': 120,\n",
       " u'interessenze': 1998,\n",
       " u'creda': 2488,\n",
       " u'souvenir': 3095,\n",
       " u'svantaggio': 859,\n",
       " u'continuit\\xe0': 2689,\n",
       " u'perseguimento': 1986,\n",
       " u'diminuzione': 3269,\n",
       " u'fetto': 3623,\n",
       " u'ferroviarie': 3111,\n",
       " u'cos': 2272,\n",
       " u'professionali': 807,\n",
       " u'consiglio': 846,\n",
       " u'interpreti': 3123,\n",
       " u'alimentati': 980,\n",
       " u'trasferita': 2680,\n",
       " u'elettromeccaniche': 2591,\n",
       " u'questo': 1917,\n",
       " u'autonomi': 3478,\n",
       " u'compromesso': 1879,\n",
       " u'destinazione': 1870,\n",
       " u'cod': 2252,\n",
       " u'convocare': 1687,\n",
       " u'studio': 22,\n",
       " u'futuri': 1209,\n",
       " u'con': 1394,\n",
       " u'rappresentato': 292,\n",
       " u'ispirandosi': 559,\n",
       " u'identificazione': 1650,\n",
       " u'rappresentati': 1265,\n",
       " u'rappresentate': 3282,\n",
       " u'durante': 1216,\n",
       " u'abbreviato': 3469,\n",
       " u'possedere': 2297,\n",
       " u'concorsuale': 1408,\n",
       " u'parenti': 1594,\n",
       " u'separazione': 871,\n",
       " u'consiliare': 3457,\n",
       " u'ricorrano': 2522,\n",
       " u'qualit\\xe0': 942,\n",
       " u'bingo': 729,\n",
       " u'fra': 2257,\n",
       " u'immobili': 986,\n",
       " u'rinunciato': 3414,\n",
       " u'detengono': 2454,\n",
       " u'convocazioni': 1590,\n",
       " u'privilegi': 1031,\n",
       " u'alcun': 2716,\n",
       " u'dovessero': 382,\n",
       " u'negozi': 2683,\n",
       " u'pro': 2121,\n",
       " u'designato': 357,\n",
       " u'ariano': 41,\n",
       " u'pubblicit\\xe0': 3656,\n",
       " u'restanti': 1685,\n",
       " u'dott': 30,\n",
       " u'alberghi': 3087,\n",
       " u'indicato': 1586,\n",
       " u'restante': 1221,\n",
       " u'nonch\\xe9': 1457,\n",
       " u'strettamente': 915,\n",
       " u'compatibilmente': 939,\n",
       " u'duemila': 2057,\n",
       " u'catering': 699,\n",
       " u'affittacamere': 755,\n",
       " u'apposta': 2207,\n",
       " u'illimitato': 880,\n",
       " u'efficace': 868,\n",
       " u'pubblicitario': 2977,\n",
       " u'spetter\\xe0': 1703,\n",
       " u'sanitaria': 186,\n",
       " u'guidati': 3126,\n",
       " u'n': 947,\n",
       " u'conservarsi': 1530,\n",
       " u'viii': 400,\n",
       " u'costituenda': 2018,\n",
       " u'th\\xe8': 662,\n",
       " u'attraverso': 572,\n",
       " u'procedura': 1407,\n",
       " u'delle': 99,\n",
       " u'precede': 2468,\n",
       " u'procedure': 1477,\n",
       " u'della': 461,\n",
       " u'ix': 94,\n",
       " u'ritorni': 2979,\n",
       " u'ritorno': 2113,\n",
       " u'percentuali': 3303,\n",
       " u'urbanizzazione': 1977,\n",
       " u'iv': 278,\n",
       " u'ii': 200,\n",
       " u'stipula': 3545,\n",
       " u'il': 283,\n",
       " u'in': 532,\n",
       " u'scegliendoli': 1542,\n",
       " u'risoluzione': 1435,\n",
       " u'trattare': 1492,\n",
       " u'pubblicitarie': 217,\n",
       " u'assolto': 2550,\n",
       " u'contrastanti': 1419,\n",
       " u'collegiale': 2301,\n",
       " u'eccezione': 1098,\n",
       " u'assolta': 1905,\n",
       " u'principale': 3066,\n",
       " u'vigilanza': 2880,\n",
       " u'quant': 763,\n",
       " u'esatto': 3618,\n",
       " u'prelevamenti': 3644,\n",
       " u'svolge': 2826,\n",
       " u'responsabili': 1448,\n",
       " u'esecutivamente': 1452,\n",
       " u'procedere': 1064,\n",
       " u'scorta': 1365,\n",
       " u'utenza': 656,\n",
       " u'economica': 2069,\n",
       " u'restituita': 2206,\n",
       " u'ritengono': 3389,\n",
       " u'materiale': 1022,\n",
       " u'funzionamento': 406,\n",
       " u'campo': 594,\n",
       " u'contestualmente': 2943,\n",
       " u'materiali': 1372,\n",
       " u'trasferente': 2987,\n",
       " u'settori': 2594,\n",
       " u'montante': 3217,\n",
       " u'considerate': 2189,\n",
       " u'presenze': 2249,\n",
       " u'capo': 1641,\n",
       " u'ricorso': 2856,\n",
       " u'rinnovata': 1163,\n",
       " u'roma': 2353,\n",
       " u'maggioritarie': 3285,\n",
       " u'attivamente': 3137,\n",
       " u'facto': 1271,\n",
       " u'incidono': 3181,\n",
       " u'delibera': 390,\n",
       " u'etico': 3349,\n",
       " u'diffusione': 2965,\n",
       " u'scoperto': 2416,\n",
       " u'cartaceo': 1913,\n",
       " u'confezionamento': 683,\n",
       " u'fissandone': 3648,\n",
       " u'lasso': 2472,\n",
       " u'citato': 227,\n",
       " u'eventualmente': 1087,\n",
       " u'ragusa': 3047,\n",
       " u'decaduti': 1705,\n",
       " u'citati': 410,\n",
       " u'adunanze': 1724,\n",
       " u'impiegando': 804,\n",
       " u'adunanza': 1491,\n",
       " u'esercitare': 1898,\n",
       " u'citata': 160,\n",
       " u'trasmissione': 2768,\n",
       " u'designati': 3657,\n",
       " u'passiva': 2506,\n",
       " u'affiliazione': 696,\n",
       " u'nonch\\xe8': 480,\n",
       " u'svolgano': 1418,\n",
       " u'cucina': 3079,\n",
       " u'designata': 1143,\n",
       " u'presuntivamente': 2056,\n",
       " u'chiarimenti': 3485,\n",
       " u'determinante': 3234,\n",
       " u'successivamente': 2280,\n",
       " u'scambiati': 3182,\n",
       " u'accrescere': 3322,\n",
       " u'bandi': 852,\n",
       " u'comunicher\\xe0': 2691,\n",
       " u'trasferite': 3607,\n",
       " u'ritengano': 2828,\n",
       " u'editoriali': 2429,\n",
       " u'codice': 69,\n",
       " u'rientrano': 3221,\n",
       " u'ottenuto': 2736,\n",
       " u'specie': 706,\n",
       " u'accresce': 2699,\n",
       " u'obblighi': 1411,\n",
       " u'nuda': 2732,\n",
       " u'gradimento': 1002,\n",
       " u'gelaterie': 660,\n",
       " u'sezione': 950,\n",
       " u'residuo': 3519,\n",
       " u'arbitri': 2532,\n",
       " u'documento': 1911,\n",
       " u'mansioni': 378,\n",
       " u'operare': 593,\n",
       " u'scout': 3051,\n",
       " u'amministratori': 1078,\n",
       " u'diffonde': 3060,\n",
       " u'detto': 1732,\n",
       " u'ricevo': 2540,\n",
       " u'autorit\\xe0': 185,\n",
       " u'spedirsi': 1721,\n",
       " u'realizzazione': 718,\n",
       " u'amministratore': 335,\n",
       " u'aziende': 797,\n",
       " u'intero': 1521,\n",
       " u'azienda': 799,\n",
       " u'verbalizza': 3452,\n",
       " u'immediato': 1694,\n",
       " u'intere': 2641,\n",
       " u'ristorni': 1834,\n",
       " u'fissa': 2283,\n",
       " u'incarico': 3432,\n",
       " u'intera': 2123,\n",
       " u'assumere': 1132,\n",
       " u'sura': 2462,\n",
       " u'esplicita': 2670,\n",
       " u'commercialisti': 1883,\n",
       " u'strade': 1974,\n",
       " u'indicare': 469,\n",
       " u'dimostrata': 2688,\n",
       " u'strada': 1940,\n",
       " u'carte': 744,\n",
       " u'derogare': 2074,\n",
       " u'complessivi': 3129,\n",
       " u'inadeguato': 2132,\n",
       " u'aumento': 1837,\n",
       " u'aumenti': 3407,\n",
       " u'nessun': 2706,\n",
       " u'munirsi': 1770,\n",
       " u'indivisibili': 1259,\n",
       " u'effettuare': 2077,\n",
       " u'buffet': 701,\n",
       " u'chimici': 1982,\n",
       " u'cooperare': 896,\n",
       " u'costituire': 3283,\n",
       " u'super': 680,\n",
       " u'vietato': 1830,\n",
       " u'dirigere': 2777,\n",
       " u'aumentato': 1826,\n",
       " u'arbitro': 1881,\n",
       " u'uniformarsi': 1674,\n",
       " u'giudicheranno': 2536,\n",
       " u'o': 2399,\n",
       " u'comparente': 3055,\n",
       " u'analisi': 2978,\n",
       " u'accogliere': 3340,\n",
       " u'cauzioni': 2600,\n",
       " u'dolosi': 3420,\n",
       " u'voglia': 2697,\n",
       " u'dignit\\xe0': 648,\n",
       " u'emilia': 1935,\n",
       " u'franceschi': 1932,\n",
       " u'cauzione': 1764,\n",
       " u'investito': 2831,\n",
       " u'corrispondenza': 471,\n",
       " u'umana': 557,\n",
       " u'ametist': 2934,\n",
       " u'rispettando': 2863,\n",
       " u'provenienti': 1201,\n",
       " u'cante': 3561,\n",
       " u'governance': 3268,\n",
       " u'motivata': 3342,\n",
       " u'accettano': 2030,\n",
       " u'n\\xe8': 48,\n",
       " u'rieleggono': 2483,\n",
       " u'art': 1965,\n",
       " u'risponde': 1212,\n",
       " u'promuovendo': 823,\n",
       " u'nove': 3213,\n",
       " u'noleggio': 3100,\n",
       " u'impartire': 3442,\n",
       " u'lago': 2372,\n",
       " u'cedere': 2111,\n",
       " u'compresa': 2982,\n",
       " u'committenza': 655,\n",
       " u'distretti': 38,\n",
       " u'creino': 3594,\n",
       " u'rosticcerie': 665,\n",
       " u'localit\\xe0': 93,\n",
       " u'aderire': 482,\n",
       " u'consti': 2663,\n",
       " u'autoveicoli': 3102,\n",
       " u'prioritaria': 3308,\n",
       " u'sostituzione': 1691,\n",
       " u'parametri': 960,\n",
       " u'particolari': 1206,\n",
       " u'onlus': 130,\n",
       " u'offrirla': 3307,\n",
       " u'particolare': 525,\n",
       " u'assegnata': 2812,\n",
       " u'contenuti': 411,\n",
       " u'contenuto': 1902,\n",
       " u'immateriali': 1373,\n",
       " u'modificazione': 922,\n",
       " u'vivi': 2089,\n",
       " u'modificazioni': 909,\n",
       " u'disciplinanti': 460,\n",
       " u'contenute': 1664,\n",
       " u'pagine': 2046,\n",
       " u'acquisire': 1549,\n",
       " u'fermo': 1034,\n",
       " u'fermi': 1580,\n",
       " u'prescelta': 2271,\n",
       " u'atto': 4,\n",
       " u'percentuale': 3264,\n",
       " u'ferma': 3002,\n",
       " u'attualmente': 1956,\n",
       " u'atti': 470,\n",
       " u'fisso': 2495,\n",
       " u'settantacinque': 2021,\n",
       " u'avviso': 1489,\n",
       " u'giovanna': 3045,\n",
       " u'febbraio': 20,\n",
       " u'corrado': 3540,\n",
       " u'oppongano': 3425,\n",
       " u'scritta': 1113,\n",
       " u'potuto': 3262,\n",
       " u'annua': 2814,\n",
       " u'legalmente': 714,\n",
       " u'esegue': 1307,\n",
       " u'accantonamenti': 2285,\n",
       " u'k': 3352,\n",
       " u'accantonamento': 1180,\n",
       " u'deduzione': 2873,\n",
       " u'ni': 2307,\n",
       " u'popolare': 2391,\n",
       " u'strutturazione': 1733,\n",
       " u'no': 3663,\n",
       " u'contengono': 2949,\n",
       " u'na': 3549,\n",
       " u'clausole': 2908,\n",
       " u'visto': 2179,\n",
       " u'pubbliche': 3194,\n",
       " u'commerciali': 795,\n",
       " u'controversia': 2324,\n",
       " u'adeguato': 1624,\n",
       " u'\\xf2': 3568,\n",
       " u'controversie': 1874,\n",
       " u'correttivo': 1056,\n",
       " u'adeguate': 623,\n",
       " u'decorso': 1084,\n",
       " u'andranno': 866,\n",
       " u'commerciale': 697,\n",
       " u'provvedesse': 387,\n",
       " u'cedono': 429,\n",
       " u'distribuibili': 1256,\n",
       " u'inerente': 2887,\n",
       " u'capoverso': 3636,\n",
       " u'autonomia': 3356,\n",
       " u'inerenti': 424,\n",
       " u'biciclette': 3099,\n",
       " u'contabili': 1787,\n",
       " u'avanti': 1924,\n",
       " u'fusco': 3534,\n",
       " u'contabile': 1773,\n",
       " u'stabilisca': 3271,\n",
       " u'comportano': 1473,\n",
       " u'soggette': 2143,\n",
       " u'emarginazione': 564,\n",
       " u'societ': 1952,\n",
       " u'quindi': 2188,\n",
       " u'signori': 124,\n",
       " u'assume': 2194,\n",
       " u'sesso': 3287,\n",
       " u'distribuire': 1823,\n",
       " u'signora': 349,\n",
       " u'rimborso': 956,\n",
       " u'blocco': 2321,\n",
       " u'darne': 1290,\n",
       " u'erbe': 3059,\n",
       " u'giurisdizione': 488,\n",
       " u'telefonico': 2494,\n",
       " u'mrc': 3543,\n",
       " u'telefonici': 741,\n",
       " u'impatto': 2976,\n",
       " u'revisore': 1771,\n",
       " u'scioglie': 1853,\n",
       " u'cos\\xec': 327,\n",
       " u'diviene': 3462,\n",
       " u'revisori': 1786,\n",
       " u'depositati': 3474,\n",
       " u'depositato': 2682,\n",
       " u'tribunale': 1304,\n",
       " u'segg': 464,\n",
       " u'viceversa': 2702,\n",
       " u'pel': 2925,\n",
       " u'compositori': 2534,\n",
       " u'avvenuta': 1089,\n",
       " u'avvenuto': 548,\n",
       " u'intermedi': 3666,\n",
       " u'0': 2342,\n",
       " u'gestorio': 398,\n",
       " u'sostiene': 3063,\n",
       " u'copertura': 1205,\n",
       " u'impugnato': 3236,\n",
       " u'conseguentemente': 1213,\n",
       " u'spedire': 2264,\n",
       " u'prestabilite': 3620,\n",
       " u'pugno': 2544,\n",
       " u'contemporaneo': 1166,\n",
       " u'riconducibili': 654,\n",
       " u'votare': 1597,\n",
       " u'qualsivoglia': 854,\n",
       " u'riservate': 1456,\n",
       " u'detenere': 3232,\n",
       " u'minuti': 2063,\n",
       " u'minuto': 2406,\n",
       " u'previo': 1001,\n",
       " u'totale': 2006,\n",
       " u'comunitaria': 3601,\n",
       " u'convenuto': 1495,\n",
       " u'previa': 1308,\n",
       " u'riservati': 3436,\n",
       " u'prescritti': 2840,\n",
       " u'registrazioni': 3397,\n",
       " u'speciale': 363,\n",
       " u'ristorazione': 774,\n",
       " u'comprovate': 3476,\n",
       " u'prelazione': 2105,\n",
       " u'speciali': 1661,\n",
       " u'dissentito': 3263,\n",
       " u'dia': 3311,\n",
       " u'iniziative': 3595,\n",
       " u'maggiore': 2362,\n",
       " u'impugnative': 1659,\n",
       " u'p': 72,\n",
       " u'maggiorato': 1038,\n",
       " u'posti': 1531,\n",
       " u'venissero': 1044,\n",
       " u'direttamente': 1996,\n",
       " u'ricevitoria': 723,\n",
       " u'posta': 1506,\n",
       " u'funzioni': 622,\n",
       " u'penali': 3190,\n",
       " u'funzione': 1537,\n",
       " u'risultanza': 3464,\n",
       " u'pronunciandosi': 3659,\n",
       " u'legittima': 1323,\n",
       " u'informatico': 1909,\n",
       " u'zanella': 2555,\n",
       " u'legittimi': 3616,\n",
       " u'stabilirsi': 1222,\n",
       " u'resteranno': 3627,\n",
       " u'prevista': 1232,\n",
       " u'finanziari': 1177,\n",
       " u'previste': 373,\n",
       " u'sociale': 9,\n",
       " u'previsti': 302,\n",
       " u'previsto': 883,\n",
       " u'vincolante': 1888,\n",
       " u'inalienabile': 2167,\n",
       " u'casse': 314,\n",
       " u'marketing': 2950,\n",
       " u'dlsg': 2438,\n",
       " u'dieci': 502,\n",
       " u'pervenuta': 1337,\n",
       " u'giudicato': 2845,\n",
       " u'valide': 1725,\n",
       " u'valida': 1421,\n",
       " ...}"
      ]
     },
     "execution_count": 27,
     "metadata": {},
     "output_type": "execute_result"
    }
   ],
   "source": [
    "reduced_dictionary"
   ]
  },
  {
   "cell_type": "code",
   "execution_count": 25,
   "metadata": {
    "collapsed": false,
    "deletable": true,
    "editable": true
   },
   "outputs": [],
   "source": [
    "with open('../extraction/dataset.p', 'wb') as o:\n",
    "    pickle.dump([int_sentences, labels_sentences], o)"
   ]
  },
  {
   "cell_type": "markdown",
   "metadata": {
    "deletable": true,
    "editable": true
   },
   "source": [
    "## Word2Vec\n"
   ]
  },
  {
   "cell_type": "code",
   "execution_count": null,
   "metadata": {
    "collapsed": true,
    "deletable": true,
    "editable": true
   },
   "outputs": [],
   "source": [
    "sentences_tokenized = [sent for doc in txts_tokenized for sent in doc] #i should reduce the dictionary also"
   ]
  },
  {
   "cell_type": "code",
   "execution_count": null,
   "metadata": {
    "collapsed": false,
    "deletable": true,
    "editable": true
   },
   "outputs": [],
   "source": [
    "w2v = Word2Vec(sentences_tokenized, size=100, window=5, min_count=5, workers=4)"
   ]
  },
  {
   "cell_type": "code",
   "execution_count": null,
   "metadata": {
    "collapsed": true,
    "deletable": true,
    "editable": true
   },
   "outputs": [],
   "source": [
    "w2v.wv['costitutivo']"
   ]
  },
  {
   "cell_type": "code",
   "execution_count": null,
   "metadata": {
    "collapsed": false,
    "deletable": true,
    "editable": true
   },
   "outputs": [],
   "source": [
    "cosine_similarity(w2v.wv['atto'], w2v.wv['costitutivo'])"
   ]
  },
  {
   "cell_type": "code",
   "execution_count": null,
   "metadata": {
    "collapsed": true,
    "deletable": true,
    "editable": true
   },
   "outputs": [],
   "source": [
    "w2v.most_similar('poteri')"
   ]
  },
  {
   "cell_type": "code",
   "execution_count": null,
   "metadata": {
    "collapsed": true,
    "deletable": true,
    "editable": true
   },
   "outputs": [],
   "source": [
    "w2v.most_similar(positive=['atto','costitutivo'])"
   ]
  },
  {
   "cell_type": "markdown",
   "metadata": {
    "deletable": true,
    "editable": true
   },
   "source": [
    "## Italian names"
   ]
  },
  {
   "cell_type": "code",
   "execution_count": null,
   "metadata": {
    "collapsed": true,
    "deletable": true,
    "editable": true
   },
   "outputs": [],
   "source": [
    "nomi = set(n.strip().lower() for n in open('lib/nomi_italiani.txt'))\n",
    "cognomi = set(n.strip().lower() for n in open('lib/cognomi.txt'))"
   ]
  },
  {
   "cell_type": "code",
   "execution_count": null,
   "metadata": {
    "collapsed": false,
    "deletable": true,
    "editable": true
   },
   "outputs": [],
   "source": [
    "docs = [wd.tokenize_doc(txt) for txt in txts]\n"
   ]
  },
  {
   "cell_type": "code",
   "execution_count": null,
   "metadata": {
    "collapsed": false,
    "deletable": true,
    "editable": true
   },
   "outputs": [],
   "source": [
    "for doc in docs:\n",
    "    print([n for sent in doc for n in sent if n in cognomi])"
   ]
  },
  {
   "cell_type": "code",
   "execution_count": null,
   "metadata": {
    "collapsed": true,
    "deletable": true,
    "editable": true
   },
   "outputs": [],
   "source": []
  }
 ],
 "metadata": {
  "kernelspec": {
   "display_name": "Python 2",
   "language": "python",
   "name": "python2"
  },
  "language_info": {
   "codemirror_mode": {
    "name": "ipython",
    "version": 2
   },
   "file_extension": ".py",
   "mimetype": "text/x-python",
   "name": "python",
   "nbconvert_exporter": "python",
   "pygments_lexer": "ipython2",
   "version": "2.7.12"
  }
 },
 "nbformat": 4,
 "nbformat_minor": 2
}

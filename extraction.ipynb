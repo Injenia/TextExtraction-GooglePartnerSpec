{
 "cells": [
  {
   "cell_type": "code",
   "execution_count": 109,
   "metadata": {
    "collapsed": false,
    "deletable": true,
    "editable": true
   },
   "outputs": [],
   "source": [
    "from __future__ import print_function\n",
    "from __future__ import division\n",
    "from gensim.models import Doc2Vec, Word2Vec\n",
    "import lib.text_extraction as te\n",
    "from functools import partial\n",
    "import matplotlib.pyplot as plt\n",
    "import matplotlib\n",
    "from lib.parallelize import parallelize\n",
    "from collections import OrderedDict\n",
    "import lib.embedding as em\n",
    "import lib.words as wd\n",
    "import pandas as pd\n",
    "import numpy as np\n",
    "import pickle\n",
    "import operator\n",
    "import codecs\n",
    "import math\n",
    "import json\n",
    "import csv\n",
    "import os\n",
    "import re\n",
    "\n",
    "matplotlib.style.use('ggplot')\n",
    "%matplotlib inline\n",
    "\n",
    "labels = ['poteri', 'scadenza', 'assemblea', 'clausola', 'non_riconducibile']\n",
    "labels2 = ['poteri', 'assemblea', 'clausola', 'non_riconducibile']"
   ]
  },
  {
   "cell_type": "markdown",
   "metadata": {
    "deletable": true,
    "editable": true
   },
   "source": [
    "## Sentencing"
   ]
  },
  {
   "cell_type": "code",
   "execution_count": 2,
   "metadata": {
    "collapsed": true,
    "deletable": true,
    "editable": true
   },
   "outputs": [],
   "source": [
    "def list_dir_full(d):\n",
    "    return [os.path.join(d, f) for f in os.listdir(d)]"
   ]
  },
  {
   "cell_type": "code",
   "execution_count": null,
   "metadata": {
    "collapsed": false,
    "deletable": true,
    "editable": true
   },
   "outputs": [],
   "source": [
    "test_dir = '../extraction/esempi_descrizioni/'\n",
    "\n",
    "filenames = os.listdir(test_dir)\n",
    "full_filenames = list_dir_full(test_dir)\n",
    "\n",
    "#txts = [te.extract_text(f, do_ocr=False, pages=-1) for f in full_filenames]\n",
    "\n",
    "txts = parallelize(te.extract_text)(full_filenames, do_ocr=False, pages=-1) #Doesn't work with do_ocr=True"
   ]
  },
  {
   "cell_type": "code",
   "execution_count": null,
   "metadata": {
    "collapsed": true,
    "deletable": true,
    "editable": true
   },
   "outputs": [],
   "source": [
    "for i, txt in zip(filenames, txts):\n",
    "    print('Documento ', i)\n",
    "    print(txt[:1000])"
   ]
  },
  {
   "cell_type": "code",
   "execution_count": null,
   "metadata": {
    "collapsed": false,
    "deletable": true,
    "editable": true,
    "scrolled": true
   },
   "outputs": [],
   "source": [
    "extracted_txts_dir = '../extraction/esempi_extracted/'\n",
    "\n",
    "for fn, txt in zip(filenames, txts):\n",
    "    utxt = wd.to_utf8(txt)\n",
    "    with codecs.open(os.path.join(extracted_txts_dir, fn[:-3])+'txt', 'w', encoding='utf-8') as o:\n",
    "        o.write(utxt)\n"
   ]
  },
  {
   "cell_type": "code",
   "execution_count": null,
   "metadata": {
    "collapsed": false,
    "deletable": true,
    "editable": true
   },
   "outputs": [],
   "source": [
    "sentences_dir = '../extraction/esempi_sentences/'\n",
    "\n",
    "sentences = [wd.sentences_doc(txt) for txt in txts]\n",
    "\n",
    "for fn, txt in zip(filenames, sentences):\n",
    "    with codecs.open(os.path.join(sentences_dir, fn[:-3])+'txt', 'w', encoding='utf-8') as o:\n",
    "        o.write('\\n'.join(s.replace('\\n',' ').strip() for s in txt if s.strip()))"
   ]
  },
  {
   "cell_type": "markdown",
   "metadata": {
    "deletable": true,
    "editable": true
   },
   "source": [
    "## Saving sentences"
   ]
  },
  {
   "cell_type": "code",
   "execution_count": null,
   "metadata": {
    "collapsed": false,
    "deletable": true,
    "editable": true
   },
   "outputs": [],
   "source": [
    "sentenced_txts = [wd.sentences_doc(txt) for txt in txts]"
   ]
  },
  {
   "cell_type": "code",
   "execution_count": null,
   "metadata": {
    "collapsed": false,
    "deletable": true,
    "editable": true
   },
   "outputs": [],
   "source": [
    "def sentence_label_csv_empty(filenames, sentenced_txts, csv_out, sep=u'\\t', min_len=10):\n",
    "    csv_out.write(sep.join([u'filename',u'sent_index',u'sentence',u'label']) + u'\\n')\n",
    "    for f, sents in zip(filenames, sentenced_txts):\n",
    "        for i, sent in enumerate(sents):\n",
    "            clean_sent = sent.replace(sep,u'').replace(u'\\n',u' ').strip()\n",
    "            if len(clean_sent)>=min_len:\n",
    "                csv_out.write(sep.join([u'{}',u'{}',u'{}',u'non_riconducibile']).format(f,i,clean_sent)+u'\\n')\n",
    "    "
   ]
  },
  {
   "cell_type": "code",
   "execution_count": null,
   "metadata": {
    "collapsed": false,
    "deletable": true,
    "editable": true
   },
   "outputs": [],
   "source": [
    "csv_filename = '../extraction/sentence_labels.csv'\n",
    "with codecs.open(csv_filename, 'w', encoding='utf-8') as csv_out:\n",
    "    sentence_label_csv_empty(os.listdir(test_dir), sentenced_txts, csv_out)"
   ]
  },
  {
   "cell_type": "code",
   "execution_count": null,
   "metadata": {
    "collapsed": false,
    "deletable": true,
    "editable": true,
    "scrolled": true
   },
   "outputs": [],
   "source": [
    "df = pd.read_csv(csv_filename, sep='\\t', encoding='utf-8', quoting=csv.QUOTE_NONE)"
   ]
  },
  {
   "cell_type": "code",
   "execution_count": null,
   "metadata": {
    "collapsed": false,
    "deletable": true,
    "editable": true
   },
   "outputs": [],
   "source": [
    "df.groupby(['filename'])['sentence'].apply(list).to_dict()"
   ]
  },
  {
   "cell_type": "code",
   "execution_count": null,
   "metadata": {
    "collapsed": true,
    "deletable": true,
    "editable": true
   },
   "outputs": [],
   "source": [
    "labelled_filename = '../extraction/sentence_manual_labels.csv'\n",
    "dfm = pd.read_csv(labelled_filename, sep='\\t', encoding='utf-8', quoting=csv.QUOTE_NONE)"
   ]
  },
  {
   "cell_type": "markdown",
   "metadata": {
    "deletable": true,
    "editable": true
   },
   "source": [
    "## Save to excel files"
   ]
  },
  {
   "cell_type": "code",
   "execution_count": null,
   "metadata": {
    "collapsed": true,
    "deletable": true,
    "editable": true
   },
   "outputs": [],
   "source": [
    "def sentences_to_excel(sentences, filename, out_dir, sep=u'\\t', min_len=10):\n",
    "    clean_sents = [sent.replace(sep,u'').replace(u'\\n',u' ').strip() for sent in sentences]\n",
    "    clean_sents = [sent for sent in clean_sents if len(sent)>=min_len]\n",
    "    df = pd.DataFrame({'sentence':clean_sents,'label':['non_riconducibile']*len(clean_sents)})\n",
    "    df.to_excel(os.path.join(out_dir, os.path.basename(filename)[:-3]+'xlsx'), index=False, encoding='utf-8')"
   ]
  },
  {
   "cell_type": "code",
   "execution_count": null,
   "metadata": {
    "collapsed": false,
    "deletable": true,
    "editable": true
   },
   "outputs": [],
   "source": [
    "files_to_label = [f for f in list_dir_full('../extraction/files_to_label/') if f.endswith('.pdf')]\n",
    "txts_to_label = [te.extract_text(f, do_ocr=True, pages=-1) for f in files_to_label]\n",
    "sentences_to_label = [wd.sentences_doc(txt) for txt in txts_to_label]"
   ]
  },
  {
   "cell_type": "code",
   "execution_count": null,
   "metadata": {
    "collapsed": false,
    "deletable": true,
    "editable": true
   },
   "outputs": [],
   "source": [
    "for f, s in zip(files_to_label, sentences_to_label):\n",
    "    sentences_to_excel(s, f, '../extraction/excels_to_label/')"
   ]
  },
  {
   "cell_type": "code",
   "execution_count": null,
   "metadata": {
    "collapsed": false,
    "deletable": true,
    "editable": true
   },
   "outputs": [],
   "source": [
    "dfm = pd.read_csv('../extraction/sentence_manual_labels3.csv', sep='\\t', encoding='utf-8', quoting=csv.QUOTE_NONE)"
   ]
  },
  {
   "cell_type": "code",
   "execution_count": null,
   "metadata": {
    "collapsed": false,
    "deletable": true,
    "editable": true,
    "scrolled": true
   },
   "outputs": [],
   "source": [
    "snts = dfm.groupby('filename')['sentence'].apply(list)\n",
    "lbls = dfm.groupby('filename')['label'].apply(list)\n",
    "for f in snts.keys():\n",
    "    cur_df = pd.DataFrame({'sentence':snts.loc[f],\n",
    "                            'label':['non_riconducibile' if l == 'non_rilevante' else l for l in lbls.loc[f]]})\n",
    "    cur_df.to_excel('../extraction/excels_labelled_from_csv/'+f+'.xlsx', index=False, encoding='utf-8')"
   ]
  },
  {
   "cell_type": "code",
   "execution_count": 169,
   "metadata": {
    "collapsed": false,
    "deletable": true,
    "editable": true
   },
   "outputs": [],
   "source": [
    "def build_dataframe_from_excels(filenames):\n",
    "    dfs = [pd.read_excel(f, encoding='utf-8') for f in filenames]\n",
    "    filename_col = [os.path.basename(f)[:-5] for f,df in zip(filenames, dfs) for _ in range(df.shape[0])]\n",
    "    sent_index_col = [i for df in dfs for i in range(df.shape[0])]\n",
    "    dfs_conc = pd.concat(dfs, ignore_index=True, axis=0)\n",
    "    sentence_col = dfs_conc['sentence']\n",
    "    label_col = dfs_conc['label']\n",
    "    #print('{} {} {} {}'.format(len(filename_col), len(sent_index_col), len(sentence_col), len(label_col)))\n",
    "    return pd.DataFrame(OrderedDict([\n",
    "        ('filename',filename_col),\n",
    "        ('sent_index', sent_index_col),\n",
    "        ('sentence', sentence_col),\n",
    "        ('label', label_col)\n",
    "    ]))"
   ]
  },
  {
   "cell_type": "code",
   "execution_count": 170,
   "metadata": {
    "collapsed": false,
    "deletable": true,
    "editable": true
   },
   "outputs": [],
   "source": [
    "x_files_n = [f for f in list_dir_full('../extraction/excels_labelled/') if f.endswith('.xlsx')]\n",
    "x_files_o = [f for f in list_dir_full('../extraction/excels_labelled/originals/') if f.endswith('.xlsx')]\n",
    "x_files = x_files_n +x_files_o\n",
    "dfx = build_dataframe_from_excels(x_files)"
   ]
  },
  {
   "cell_type": "code",
   "execution_count": 171,
   "metadata": {
    "collapsed": false,
    "deletable": true,
    "editable": true
   },
   "outputs": [
    {
     "data": {
      "text/plain": [
       "30"
      ]
     },
     "execution_count": 171,
     "metadata": {},
     "output_type": "execute_result"
    }
   ],
   "source": [
    "len(x_files)"
   ]
  },
  {
   "cell_type": "code",
   "execution_count": 172,
   "metadata": {
    "collapsed": true,
    "deletable": true,
    "editable": true
   },
   "outputs": [],
   "source": [
    "dfx.to_csv('../extraction/merged_xlsx.csv', encoding='utf-8', sep='\\t', quoting=csv.QUOTE_NONE, index=False)"
   ]
  },
  {
   "cell_type": "markdown",
   "metadata": {
    "deletable": true,
    "editable": true
   },
   "source": [
    "## Experiments on labelled sentences"
   ]
  },
  {
   "cell_type": "code",
   "execution_count": 173,
   "metadata": {
    "collapsed": true,
    "deletable": true,
    "editable": true
   },
   "outputs": [],
   "source": [
    "def cosine_similarity(a,b):\n",
    "    return np.dot(a,b)/(np.linalg.norm(a)*np.linalg.norm(b))\n",
    "\n",
    "def splitted_words_lower(sentences):\n",
    "    return [[w.lower() for w in wd.splitted_words_utf8(s)] for s in sentences]\n"
   ]
  },
  {
   "cell_type": "code",
   "execution_count": 174,
   "metadata": {
    "collapsed": false,
    "deletable": true,
    "editable": true
   },
   "outputs": [],
   "source": [
    "labeled_csv_filename = '../extraction/merged_xlsx.csv' #'../extraction/sentence_manual_labels3.csv'\n",
    "\n",
    "ldf = pd.read_csv(labeled_csv_filename, sep='\\t', encoding='utf-8', quoting=csv.QUOTE_NONE)"
   ]
  },
  {
   "cell_type": "code",
   "execution_count": 175,
   "metadata": {
    "collapsed": false,
    "deletable": true,
    "editable": true
   },
   "outputs": [
    {
     "data": {
      "text/html": [
       "<div>\n",
       "<style>\n",
       "    .dataframe thead tr:only-child th {\n",
       "        text-align: right;\n",
       "    }\n",
       "\n",
       "    .dataframe thead th {\n",
       "        text-align: left;\n",
       "    }\n",
       "\n",
       "    .dataframe tbody tr th {\n",
       "        vertical-align: top;\n",
       "    }\n",
       "</style>\n",
       "<table border=\"1\" class=\"dataframe\">\n",
       "  <thead>\n",
       "    <tr style=\"text-align: right;\">\n",
       "      <th></th>\n",
       "      <th>filename</th>\n",
       "      <th>sent_index</th>\n",
       "      <th>sentence</th>\n",
       "    </tr>\n",
       "    <tr>\n",
       "      <th>label</th>\n",
       "      <th></th>\n",
       "      <th></th>\n",
       "      <th></th>\n",
       "    </tr>\n",
       "  </thead>\n",
       "  <tbody>\n",
       "    <tr>\n",
       "      <th>assemblea</th>\n",
       "      <td>577</td>\n",
       "      <td>577</td>\n",
       "      <td>577</td>\n",
       "    </tr>\n",
       "    <tr>\n",
       "      <th>clausola</th>\n",
       "      <td>584</td>\n",
       "      <td>584</td>\n",
       "      <td>584</td>\n",
       "    </tr>\n",
       "    <tr>\n",
       "      <th>non_riconducibile</th>\n",
       "      <td>3790</td>\n",
       "      <td>3790</td>\n",
       "      <td>3790</td>\n",
       "    </tr>\n",
       "    <tr>\n",
       "      <th>poteri</th>\n",
       "      <td>587</td>\n",
       "      <td>587</td>\n",
       "      <td>587</td>\n",
       "    </tr>\n",
       "    <tr>\n",
       "      <th>scadenza</th>\n",
       "      <td>28</td>\n",
       "      <td>28</td>\n",
       "      <td>28</td>\n",
       "    </tr>\n",
       "  </tbody>\n",
       "</table>\n",
       "</div>"
      ],
      "text/plain": [
       "                   filename  sent_index  sentence\n",
       "label                                            \n",
       "assemblea               577         577       577\n",
       "clausola                584         584       584\n",
       "non_riconducibile      3790        3790      3790\n",
       "poteri                  587         587       587\n",
       "scadenza                 28          28        28"
      ]
     },
     "execution_count": 175,
     "metadata": {},
     "output_type": "execute_result"
    }
   ],
   "source": [
    "ldf.groupby('label').count()"
   ]
  },
  {
   "cell_type": "code",
   "execution_count": 176,
   "metadata": {
    "collapsed": false
   },
   "outputs": [
    {
     "data": {
      "text/html": [
       "<div>\n",
       "<style>\n",
       "    .dataframe thead tr:only-child th {\n",
       "        text-align: right;\n",
       "    }\n",
       "\n",
       "    .dataframe thead th {\n",
       "        text-align: left;\n",
       "    }\n",
       "\n",
       "    .dataframe tbody tr th {\n",
       "        vertical-align: top;\n",
       "    }\n",
       "</style>\n",
       "<table border=\"1\" class=\"dataframe\">\n",
       "  <thead>\n",
       "    <tr style=\"text-align: right;\">\n",
       "      <th></th>\n",
       "      <th>filename</th>\n",
       "      <th>sent_index</th>\n",
       "      <th>sentence</th>\n",
       "      <th>label</th>\n",
       "    </tr>\n",
       "  </thead>\n",
       "  <tbody>\n",
       "  </tbody>\n",
       "</table>\n",
       "</div>"
      ],
      "text/plain": [
       "Empty DataFrame\n",
       "Columns: [filename, sent_index, sentence, label]\n",
       "Index: []"
      ]
     },
     "execution_count": 176,
     "metadata": {},
     "output_type": "execute_result"
    }
   ],
   "source": [
    "ldf.loc[ldf['label'] == 'finanziario']"
   ]
  },
  {
   "cell_type": "code",
   "execution_count": 177,
   "metadata": {
    "collapsed": false,
    "deletable": true,
    "editable": true
   },
   "outputs": [
    {
     "data": {
      "image/png": "[encoded data removed]",
      "text/plain": [
       "<matplotlib.figure.Figure at 0x7f2eb9bd9f50>"
      ]
     },
     "metadata": {},
     "output_type": "display_data"
    },
    {
     "data": {
      "image/png": "[encoded data removed]",
      "text/plain": [
       "<matplotlib.figure.Figure at 0x7f2eaf38a450>"
      ]
     },
     "metadata": {},
     "output_type": "display_data"
    }
   ],
   "source": [
    "df25 = ldf.groupby(['filename', 'label']).size().reset_index(name=\"Count\")\n",
    "df35 = pd.pivot_table(df25,  values='Count',  columns=['label'], index='filename')\n",
    "df45 = pd.pivot_table(df25,  values='Count',  columns=['filename'], index='label')\n",
    "df35.plot(kind=\"bar\", figsize=(16,6))\n",
    "plt.show()\n",
    "df45.plot(kind=\"bar\", figsize=(16,6))\n",
    "plt.show()"
   ]
  },
  {
   "cell_type": "markdown",
   "metadata": {
    "deletable": true,
    "editable": true
   },
   "source": [
    "## Sentence Word embedding"
   ]
  },
  {
   "cell_type": "code",
   "execution_count": 178,
   "metadata": {
    "collapsed": true
   },
   "outputs": [],
   "source": [
    "no_s_df = ldf.copy()\n",
    "no_s_df['label'] = ldf['label'].apply(lambda l: 'non_riconducibile' if l == 'scadenza' else l)"
   ]
  },
  {
   "cell_type": "code",
   "execution_count": 179,
   "metadata": {
    "collapsed": false,
    "deletable": true,
    "editable": true
   },
   "outputs": [
    {
     "name": "stdout",
     "output_type": "stream",
     "text": [
      "Sentences: 5566\n",
      "Labels: 5566\n"
     ]
    }
   ],
   "source": [
    "splitted_sentences = wd.tokenize_sentences(no_s_df['sentence'], min_words=1)\n",
    "labels_sentences = [labels2.index(l) for l in no_s_df['label']]\n",
    "print('Sentences: {}\\nLabels: {}'.format(len(splitted_sentences), len(labels_sentences)))"
   ]
  },
  {
   "cell_type": "code",
   "execution_count": 180,
   "metadata": {
    "collapsed": false,
    "deletable": true,
    "editable": true
   },
   "outputs": [],
   "source": [
    "fnw = em.first_n_words(splitted_sentences, 4998)\n",
    "permitted_words = [e[0] for e in fnw]\n",
    "reduced_sentences = list(em.reduce_dictionary(splitted_sentences, permitted_words, min_words=1))\n",
    "reduced_dictionary = em.build_dictionary(reduced_sentences, start_index=1) #start from 1, 0 is padding!\n",
    "int_sentences = [[reduced_dictionary[w] for w in sent] for sent in reduced_sentences]"
   ]
  },
  {
   "cell_type": "code",
   "execution_count": 181,
   "metadata": {
    "collapsed": false,
    "deletable": true,
    "editable": true
   },
   "outputs": [
    {
     "data": {
      "text/plain": [
       "116.4350000000004"
      ]
     },
     "execution_count": 181,
     "metadata": {},
     "output_type": "execute_result"
    }
   ],
   "source": [
    "np.percentile([len(s) for s in int_sentences], 99.9)"
   ]
  },
  {
   "cell_type": "code",
   "execution_count": 182,
   "metadata": {
    "collapsed": false,
    "deletable": true,
    "editable": true
   },
   "outputs": [
    {
     "data": {
      "text/plain": [
       "4999"
      ]
     },
     "execution_count": 182,
     "metadata": {},
     "output_type": "execute_result"
    }
   ],
   "source": [
    "max(reduced_dictionary.values())"
   ]
  },
  {
   "cell_type": "code",
   "execution_count": 183,
   "metadata": {
    "collapsed": false,
    "deletable": true,
    "editable": true
   },
   "outputs": [],
   "source": [
    "with open('../extraction/dataset.p', 'wb') as o:\n",
    "    pickle.dump([int_sentences, labels_sentences], o)"
   ]
  },
  {
   "cell_type": "code",
   "execution_count": 71,
   "metadata": {
    "collapsed": false,
    "deletable": true,
    "editable": true
   },
   "outputs": [],
   "source": [
    "sdf = ldf.loc[ldf['label'] == 'scadenza']   #[['sentence','label']] # if u'primo esercizio' in l[0]"
   ]
  },
  {
   "cell_type": "code",
   "execution_count": 96,
   "metadata": {
    "collapsed": false
   },
   "outputs": [
    {
     "data": {
      "text/html": [
       "<div>\n",
       "<style>\n",
       "    .dataframe thead tr:only-child th {\n",
       "        text-align: right;\n",
       "    }\n",
       "\n",
       "    .dataframe thead th {\n",
       "        text-align: left;\n",
       "    }\n",
       "\n",
       "    .dataframe tbody tr th {\n",
       "        vertical-align: top;\n",
       "    }\n",
       "</style>\n",
       "<table border=\"1\" class=\"dataframe\">\n",
       "  <thead>\n",
       "    <tr style=\"text-align: right;\">\n",
       "      <th></th>\n",
       "      <th>filename</th>\n",
       "      <th>sent_index</th>\n",
       "      <th>sentence</th>\n",
       "      <th>label</th>\n",
       "    </tr>\n",
       "  </thead>\n",
       "  <tbody>\n",
       "    <tr>\n",
       "      <th>15</th>\n",
       "      <td>4907876150001.pdf</td>\n",
       "      <td>15</td>\n",
       "      <td>VI) Il primo esercizio sociale si chiuderà il ...</td>\n",
       "      <td>scadenza</td>\n",
       "    </tr>\n",
       "    <tr>\n",
       "      <th>298</th>\n",
       "      <td>4907876150001.pdf</td>\n",
       "      <td>298</td>\n",
       "      <td>Il primo esercizio si chiude alla data fissata...</td>\n",
       "      <td>scadenza</td>\n",
       "    </tr>\n",
       "    <tr>\n",
       "      <th>349</th>\n",
       "      <td>4907944100001.pdf</td>\n",
       "      <td>8</td>\n",
       "      <td>ARTICOLO SETTIMO Il primo esercizio sociale si...</td>\n",
       "      <td>scadenza</td>\n",
       "    </tr>\n",
       "    <tr>\n",
       "      <th>451</th>\n",
       "      <td>4908166250001.pdf</td>\n",
       "      <td>9</td>\n",
       "      <td>Il primo esercizio si chiuderà il 31 dicembre ...</td>\n",
       "      <td>scadenza</td>\n",
       "    </tr>\n",
       "    <tr>\n",
       "      <th>664</th>\n",
       "      <td>4907907730001.pdf</td>\n",
       "      <td>20</td>\n",
       "      <td>----------------------------------------------...</td>\n",
       "      <td>scadenza</td>\n",
       "    </tr>\n",
       "    <tr>\n",
       "      <th>844</th>\n",
       "      <td>4908123550001.pdf</td>\n",
       "      <td>23</td>\n",
       "      <td>ART 5 - Il primo esercizio sociale si chiuderà...</td>\n",
       "      <td>scadenza</td>\n",
       "    </tr>\n",
       "    <tr>\n",
       "      <th>985</th>\n",
       "      <td>4908140980001.pdf</td>\n",
       "      <td>14</td>\n",
       "      <td>Il primo esercizio si chiuderà il 31 dicembre ...</td>\n",
       "      <td>scadenza</td>\n",
       "    </tr>\n",
       "    <tr>\n",
       "      <th>1298</th>\n",
       "      <td>4907851720001.pdf</td>\n",
       "      <td>6</td>\n",
       "      <td>Il primo esercizio sociale si chiude il 31 dic...</td>\n",
       "      <td>scadenza</td>\n",
       "    </tr>\n",
       "    <tr>\n",
       "      <th>1404</th>\n",
       "      <td>4908128890001.pdf</td>\n",
       "      <td>21</td>\n",
       "      <td>4) Il primo esercizio sociale si chiuderà il 3...</td>\n",
       "      <td>scadenza</td>\n",
       "    </tr>\n",
       "    <tr>\n",
       "      <th>1655</th>\n",
       "      <td>4907913200001.pdf</td>\n",
       "      <td>8</td>\n",
       "      <td>5) Il primo esercizio sociale si chiuderà il 3...</td>\n",
       "      <td>scadenza</td>\n",
       "    </tr>\n",
       "    <tr>\n",
       "      <th>1755</th>\n",
       "      <td>4908101120001.pdf</td>\n",
       "      <td>14</td>\n",
       "      <td>Il primo esercizio sociale si chiuderà il 31 (...</td>\n",
       "      <td>scadenza</td>\n",
       "    </tr>\n",
       "    <tr>\n",
       "      <th>1965</th>\n",
       "      <td>4907923250001.pdf</td>\n",
       "      <td>48</td>\n",
       "      <td>il primo esercizio si chiuderà il 31 dicembre ...</td>\n",
       "      <td>scadenza</td>\n",
       "    </tr>\n",
       "    <tr>\n",
       "      <th>2302</th>\n",
       "      <td>4907951200001.pdf</td>\n",
       "      <td>21</td>\n",
       "      <td>ARTICOLO 9 Il primo esercizio sociale si chiud...</td>\n",
       "      <td>scadenza</td>\n",
       "    </tr>\n",
       "    <tr>\n",
       "      <th>2500</th>\n",
       "      <td>4907941200001.pdf</td>\n",
       "      <td>7</td>\n",
       "      <td>Il primo esercizio sociale si chiuderà il tren...</td>\n",
       "      <td>scadenza</td>\n",
       "    </tr>\n",
       "    <tr>\n",
       "      <th>2633</th>\n",
       "      <td>4908019380001.pdf</td>\n",
       "      <td>16</td>\n",
       "      <td>Il primo esercizio si chiuderà al trentuno dic...</td>\n",
       "      <td>scadenza</td>\n",
       "    </tr>\n",
       "    <tr>\n",
       "      <th>2927</th>\n",
       "      <td>4908166530001.pdf</td>\n",
       "      <td>10</td>\n",
       "      <td>1 Il primo esercizio si chiuderà il trentuno d...</td>\n",
       "      <td>scadenza</td>\n",
       "    </tr>\n",
       "    <tr>\n",
       "      <th>3192</th>\n",
       "      <td>4907989540001.pdf</td>\n",
       "      <td>20</td>\n",
       "      <td>Art 4) - Il primo esercizio sociale si chiuder...</td>\n",
       "      <td>scadenza</td>\n",
       "    </tr>\n",
       "    <tr>\n",
       "      <th>3348</th>\n",
       "      <td>4907990970001.pdf</td>\n",
       "      <td>43</td>\n",
       "      <td>6) Il primo esercizio sociale si chiuderà il 3...</td>\n",
       "      <td>scadenza</td>\n",
       "    </tr>\n",
       "    <tr>\n",
       "      <th>3587</th>\n",
       "      <td>4908183740001.pdf</td>\n",
       "      <td>9</td>\n",
       "      <td>Il primo esercizio si chiuderà il 31 dicembre ...</td>\n",
       "      <td>scadenza</td>\n",
       "    </tr>\n",
       "    <tr>\n",
       "      <th>3786</th>\n",
       "      <td>4907874650001.pdf</td>\n",
       "      <td>9</td>\n",
       "      <td>Articolo VI Il primo esercizio sociale si chiu...</td>\n",
       "      <td>scadenza</td>\n",
       "    </tr>\n",
       "    <tr>\n",
       "      <th>3933</th>\n",
       "      <td>4908143380001.pdf</td>\n",
       "      <td>13</td>\n",
       "      <td>Articolo 8) Il primo esercizio sociale si chiu...</td>\n",
       "      <td>scadenza</td>\n",
       "    </tr>\n",
       "  </tbody>\n",
       "</table>\n",
       "</div>"
      ],
      "text/plain": [
       "               filename  sent_index  \\\n",
       "15    4907876150001.pdf          15   \n",
       "298   4907876150001.pdf         298   \n",
       "349   4907944100001.pdf           8   \n",
       "451   4908166250001.pdf           9   \n",
       "664   4907907730001.pdf          20   \n",
       "844   4908123550001.pdf          23   \n",
       "985   4908140980001.pdf          14   \n",
       "1298  4907851720001.pdf           6   \n",
       "1404  4908128890001.pdf          21   \n",
       "1655  4907913200001.pdf           8   \n",
       "1755  4908101120001.pdf          14   \n",
       "1965  4907923250001.pdf          48   \n",
       "2302  4907951200001.pdf          21   \n",
       "2500  4907941200001.pdf           7   \n",
       "2633  4908019380001.pdf          16   \n",
       "2927  4908166530001.pdf          10   \n",
       "3192  4907989540001.pdf          20   \n",
       "3348  4907990970001.pdf          43   \n",
       "3587  4908183740001.pdf           9   \n",
       "3786  4907874650001.pdf           9   \n",
       "3933  4908143380001.pdf          13   \n",
       "\n",
       "                                               sentence     label  \n",
       "15    VI) Il primo esercizio sociale si chiuderà il ...  scadenza  \n",
       "298   Il primo esercizio si chiude alla data fissata...  scadenza  \n",
       "349   ARTICOLO SETTIMO Il primo esercizio sociale si...  scadenza  \n",
       "451   Il primo esercizio si chiuderà il 31 dicembre ...  scadenza  \n",
       "664   ----------------------------------------------...  scadenza  \n",
       "844   ART 5 - Il primo esercizio sociale si chiuderà...  scadenza  \n",
       "985   Il primo esercizio si chiuderà il 31 dicembre ...  scadenza  \n",
       "1298  Il primo esercizio sociale si chiude il 31 dic...  scadenza  \n",
       "1404  4) Il primo esercizio sociale si chiuderà il 3...  scadenza  \n",
       "1655  5) Il primo esercizio sociale si chiuderà il 3...  scadenza  \n",
       "1755  Il primo esercizio sociale si chiuderà il 31 (...  scadenza  \n",
       "1965  il primo esercizio si chiuderà il 31 dicembre ...  scadenza  \n",
       "2302  ARTICOLO 9 Il primo esercizio sociale si chiud...  scadenza  \n",
       "2500  Il primo esercizio sociale si chiuderà il tren...  scadenza  \n",
       "2633  Il primo esercizio si chiuderà al trentuno dic...  scadenza  \n",
       "2927  1 Il primo esercizio si chiuderà il trentuno d...  scadenza  \n",
       "3192  Art 4) - Il primo esercizio sociale si chiuder...  scadenza  \n",
       "3348  6) Il primo esercizio sociale si chiuderà il 3...  scadenza  \n",
       "3587  Il primo esercizio si chiuderà il 31 dicembre ...  scadenza  \n",
       "3786  Articolo VI Il primo esercizio sociale si chiu...  scadenza  \n",
       "3933  Articolo 8) Il primo esercizio sociale si chiu...  scadenza  "
      ]
     },
     "execution_count": 96,
     "metadata": {},
     "output_type": "execute_result"
    }
   ],
   "source": [
    "sdf"
   ]
  },
  {
   "cell_type": "code",
   "execution_count": 94,
   "metadata": {
    "collapsed": true
   },
   "outputs": [],
   "source": [
    "def is_scadenza(s):\n",
    "    return re.match(r'.*primo\\s+?esercizio.*', s) != None"
   ]
  },
  {
   "cell_type": "code",
   "execution_count": 95,
   "metadata": {
    "collapsed": false
   },
   "outputs": [
    {
     "data": {
      "text/plain": [
       "21"
      ]
     },
     "execution_count": 95,
     "metadata": {},
     "output_type": "execute_result"
    }
   ],
   "source": [
    "len(ldf.loc[lambda s: [ is_scadenza(s) for s in ldf['sentence']]])"
   ]
  },
  {
   "cell_type": "code",
   "execution_count": null,
   "metadata": {
    "collapsed": false,
    "deletable": true,
    "editable": true
   },
   "outputs": [],
   "source": [
    "sentences_rows = {l:ldf.loc[ldf['label'] == l]['sentence'] for l in labels}\n",
    "\n",
    "splits = {l:splitted_words_lower(sentences_rows[l]) for l in labels}"
   ]
  },
  {
   "cell_type": "markdown",
   "metadata": {
    "deletable": true,
    "editable": true
   },
   "source": [
    "## Tf Idf\n"
   ]
  },
  {
   "cell_type": "code",
   "execution_count": null,
   "metadata": {
    "collapsed": true,
    "deletable": true,
    "editable": true
   },
   "outputs": [],
   "source": [
    "def tf(word, sentence):\n",
    "    '''Term frequency in the sentence'''\n",
    "    return sum(1 for w in sentence if w == word)/len(sentence)\n",
    "\n",
    "def idf(word, documents):\n",
    "    '''Inverse document frequency'''\n",
    "    D = len(documents)\n",
    "    den = 1+sum(1 for sentence in documents if word in sentence)\n",
    "    return math.log(D/den)\n",
    "\n",
    "def idf_memo(documents):\n",
    "    '''Defines a memoized version of idf with the given set of documents'''\n",
    "    word_idf = {}\n",
    "    def memoized_idf(word):\n",
    "        if not word in word_idf:\n",
    "            word_idf[word] = idf(word, documents)\n",
    "        return word_idf[word]\n",
    "    return memoized_idf\n",
    "\n",
    "def tf_idf(word, sentence, sentences):\n",
    "    '''Simple tf-idf index'''\n",
    "    return tf(word, sentence)*idf(word, sentences)\n",
    "\n",
    "def tf_idf_memo(documents):\n",
    "    '''Defines a memoized version of tf-idf with the given set of documents'''\n",
    "    idf_memoized = idf_memo(documents)\n",
    "    def tf_idf_memoized(word, sentence):\n",
    "        return tf(word, sentence)*idf_memoized(word)\n",
    "    return tf_idf_memoized\n",
    "    "
   ]
  },
  {
   "cell_type": "code",
   "execution_count": null,
   "metadata": {
    "collapsed": false,
    "deletable": true,
    "editable": true
   },
   "outputs": [],
   "source": [
    "# On all sentences\n",
    "split_sentences = [[w.lower() for w in wd.splitted_words_utf8(s)] for s in ldf['sentence']]\n",
    "\n",
    "tf_idf_memoized = tf_idf_memo(split_sentences)"
   ]
  },
  {
   "cell_type": "code",
   "execution_count": null,
   "metadata": {
    "collapsed": true,
    "deletable": true,
    "editable": true
   },
   "outputs": [],
   "source": [
    "def sorted_tfidf_words(splitted_sentences , tf_idf_memoized):\n",
    "    words = set(word for sent in splitted_sentences for word in sent)\n",
    "    words_mean_tfidf = [(word, np.mean([tf_idf_memoized(word, s) for s in splitted_sentences])) for word in words]\n",
    "    return sorted(words_mean_tfidf, key=operator.itemgetter(1), reverse=True)"
   ]
  },
  {
   "cell_type": "code",
   "execution_count": null,
   "metadata": {
    "collapsed": false,
    "deletable": true,
    "editable": true
   },
   "outputs": [],
   "source": [
    "sorted_words = {k:sorted_tfidf_words(v, tf_idf_memoized) for k,v in splits.items()}\n"
   ]
  },
  {
   "cell_type": "code",
   "execution_count": null,
   "metadata": {
    "collapsed": false,
    "deletable": true,
    "editable": true,
    "scrolled": true
   },
   "outputs": [],
   "source": [
    "def print_parole_tf_idf(sorted_words, n = -1):\n",
    "    print(u'{:20}\\t{:20}\\n'.format(u'parola',u'mean tf-idf'))\n",
    "    if n < 0:\n",
    "        n = len(sorted_words)\n",
    "    for w, score in sorted_words[:n]:\n",
    "        print(u'{:20}\\t{:1.4f}'.format(w,score))"
   ]
  },
  {
   "cell_type": "code",
   "execution_count": null,
   "metadata": {
    "collapsed": false,
    "deletable": true,
    "editable": true
   },
   "outputs": [],
   "source": [
    "for k,v in sorted_words.items():\n",
    "    print('{}:'.format(k))\n",
    "    print_parole_tf_idf(v, 40)\n",
    "    print()"
   ]
  },
  {
   "cell_type": "code",
   "execution_count": null,
   "metadata": {
    "collapsed": false,
    "deletable": true,
    "editable": true
   },
   "outputs": [],
   "source": [
    "'compromissoria' in [e[0] for e in sorted_words['clausola']]"
   ]
  },
  {
   "cell_type": "code",
   "execution_count": null,
   "metadata": {
    "collapsed": false,
    "deletable": true,
    "editable": true
   },
   "outputs": [],
   "source": [
    "most_relevant_poteri_words = OrderedDict(sorted_words['poteri']) #[:8]"
   ]
  },
  {
   "cell_type": "code",
   "execution_count": null,
   "metadata": {
    "collapsed": true,
    "deletable": true,
    "editable": true
   },
   "outputs": [],
   "source": [
    "def score_sentence_frequency(sentence, most_relevant_words):\n",
    "    '''cosine distance between frequency of words in sentence and the most relevant words tf-idf'''\n",
    "    counts = OrderedDict((w, 0) for w in most_relevant_words.keys())\n",
    "    for w in sentence:\n",
    "        if w in counts:\n",
    "            counts[w] += 1\n",
    "    l = len(sentence)\n",
    "    frequencies = [v/l for v in counts.values()]\n",
    "    if np.linalg.norm(frequencies) == 0 or np.linalg.norm(most_relevant_words.values()) == 0:\n",
    "        return 0\n",
    "    return cosine_similarity(np.array(frequencies), np.array(most_relevant_words.values())) \n",
    "    \n",
    "def score_sentence_tf_idf(sentence, most_relevant_words, tf_idf_memoized):\n",
    "    '''cosine distance between tf-idf of words in sentence and the most relevant words tf-idf'''\n",
    "    tfidfs = OrderedDict((w, 0) for w in most_relevant_words.keys())\n",
    "    for w in sentence:\n",
    "        tfidfs[w] = tf_idf_memoized(w, sentence)\n",
    "    if np.linalg.norm(tfidfs.values()) == 0 or np.linalg.norm(most_relevant_words.values()) == 0:\n",
    "        return 0\n",
    "    l = min(len(tfidfs), len(most_relevant_words))\n",
    "    return cosine_similarity(np.array(tfidfs.values())[:l], np.array(most_relevant_words.values())[:l])"
   ]
  },
  {
   "cell_type": "code",
   "execution_count": null,
   "metadata": {
    "collapsed": true,
    "deletable": true,
    "editable": true
   },
   "outputs": [],
   "source": [
    "[score_sentence_tf_idf(split, OrderedDict(sorted_words['poteri']), tf_idf_memoized) for split in splits['poteri']]"
   ]
  },
  {
   "cell_type": "markdown",
   "metadata": {
    "deletable": true,
    "editable": true
   },
   "source": [
    "## Embeddings test"
   ]
  },
  {
   "cell_type": "code",
   "execution_count": null,
   "metadata": {
    "collapsed": false,
    "deletable": true,
    "editable": true
   },
   "outputs": [],
   "source": [
    "txts_tokenized = [wd.tokenize_doc(txt) for txt in txts]"
   ]
  },
  {
   "cell_type": "code",
   "execution_count": null,
   "metadata": {
    "collapsed": true,
    "deletable": true,
    "editable": true
   },
   "outputs": [],
   "source": [
    "reduced_dictionary_filename = 'first_5000_words.json'\n",
    "with open(reduced_dictionary_filename) as f:\n",
    "    reduced_dictionary = set(json.load(f))\n",
    "\n",
    "gensim_model_filename = 'models/gensim_model_5000.d2v'\n",
    "gensim_model = Doc2Vec.load(gensim_model_filename)"
   ]
  },
  {
   "cell_type": "code",
   "execution_count": null,
   "metadata": {
    "collapsed": false,
    "deletable": true,
    "editable": true
   },
   "outputs": [],
   "source": [
    "embeddings = [em.embed_document(gensim_model, txt, reduced_dictionary) for txt in txts_tokenized]"
   ]
  },
  {
   "cell_type": "code",
   "execution_count": null,
   "metadata": {
    "collapsed": false,
    "deletable": true,
    "editable": true
   },
   "outputs": [],
   "source": [
    "sv = partial(em.sentence_vector, model=gensim_model, permitted_words=reduced_dictionary)"
   ]
  },
  {
   "cell_type": "code",
   "execution_count": null,
   "metadata": {
    "collapsed": false,
    "deletable": true,
    "editable": true
   },
   "outputs": [],
   "source": [
    "p1 = u'All\\'organo amministrativo sono conferiti i più ampi poteri, sia per la gestione ordinaria che straordinaria della Società'\n",
    "p2 = u'ARTICOLO 19 - POTERI DELL\\'ORGANO AMMINISTRATIVO 191 L\\'organo amministrativo ha tutti i poteri di ordinaria e straordinaria amministrazione'\n",
    "cosine_similarity(sv(sentence=p1.lower()),sv(sentence=p2.lower())) "
   ]
  },
  {
   "cell_type": "code",
   "execution_count": null,
   "metadata": {
    "collapsed": false,
    "deletable": true,
    "editable": true
   },
   "outputs": [],
   "source": [
    "mean_cosines_poteri = [np.mean([cosine_similarity(sv(sentence=split_poteri[i]), sv(sentence=split_poteri[j]))\n",
    "                               for i in range(len(split_poteri)) if i != j])\n",
    "                                   for j in range(len(split_poteri))]"
   ]
  },
  {
   "cell_type": "markdown",
   "metadata": {
    "deletable": true,
    "editable": true
   },
   "source": [
    "## Word2Vec\n"
   ]
  },
  {
   "cell_type": "code",
   "execution_count": null,
   "metadata": {
    "collapsed": true,
    "deletable": true,
    "editable": true
   },
   "outputs": [],
   "source": [
    "sentences_tokenized = [sent for doc in txts_tokenized for sent in doc] #i should reduce the dictionary also"
   ]
  },
  {
   "cell_type": "code",
   "execution_count": null,
   "metadata": {
    "collapsed": false,
    "deletable": true,
    "editable": true
   },
   "outputs": [],
   "source": [
    "w2v = Word2Vec(sentences_tokenized, size=100, window=5, min_count=5, workers=4)"
   ]
  },
  {
   "cell_type": "code",
   "execution_count": null,
   "metadata": {
    "collapsed": true,
    "deletable": true,
    "editable": true
   },
   "outputs": [],
   "source": [
    "w2v.wv['costitutivo']"
   ]
  },
  {
   "cell_type": "code",
   "execution_count": null,
   "metadata": {
    "collapsed": false,
    "deletable": true,
    "editable": true
   },
   "outputs": [],
   "source": [
    "cosine_similarity(w2v.wv['atto'], w2v.wv['costitutivo'])"
   ]
  },
  {
   "cell_type": "code",
   "execution_count": null,
   "metadata": {
    "collapsed": true,
    "deletable": true,
    "editable": true
   },
   "outputs": [],
   "source": [
    "w2v.most_similar('poteri')"
   ]
  },
  {
   "cell_type": "code",
   "execution_count": null,
   "metadata": {
    "collapsed": true,
    "deletable": true,
    "editable": true
   },
   "outputs": [],
   "source": [
    "w2v.most_similar(positive=['atto','costitutivo'])"
   ]
  },
  {
   "cell_type": "markdown",
   "metadata": {
    "deletable": true,
    "editable": true
   },
   "source": [
    "## Italian names"
   ]
  },
  {
   "cell_type": "code",
   "execution_count": null,
   "metadata": {
    "collapsed": true,
    "deletable": true,
    "editable": true
   },
   "outputs": [],
   "source": [
    "nomi = set(n.strip().lower() for n in open('lib/nomi_italiani.txt'))\n",
    "cognomi = set(n.strip().lower() for n in open('lib/cognomi.txt'))"
   ]
  },
  {
   "cell_type": "code",
   "execution_count": null,
   "metadata": {
    "collapsed": false,
    "deletable": true,
    "editable": true
   },
   "outputs": [],
   "source": [
    "docs = [wd.tokenize_doc(txt) for txt in txts]\n"
   ]
  },
  {
   "cell_type": "code",
   "execution_count": null,
   "metadata": {
    "collapsed": false,
    "deletable": true,
    "editable": true
   },
   "outputs": [],
   "source": [
    "for doc in docs:\n",
    "    print([n for sent in doc for n in sent if n in cognomi])"
   ]
  },
  {
   "cell_type": "code",
   "execution_count": null,
   "metadata": {
    "collapsed": true,
    "deletable": true,
    "editable": true
   },
   "outputs": [],
   "source": []
  }
 ],
 "metadata": {
  "kernelspec": {
   "display_name": "Python 2",
   "language": "python",
   "name": "python2"
  },
  "language_info": {
   "codemirror_mode": {
    "name": "ipython",
    "version": 2
   },
   "file_extension": ".py",
   "mimetype": "text/x-python",
   "name": "python",
   "nbconvert_exporter": "python",
   "pygments_lexer": "ipython2",
   "version": "2.7.12"
  }
 },
 "nbformat": 4,
 "nbformat_minor": 2
}

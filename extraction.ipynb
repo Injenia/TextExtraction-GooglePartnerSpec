{
 "cells": [
  {
   "cell_type": "code",
   "execution_count": 92,
   "metadata": {
    "collapsed": false,
    "deletable": true,
    "editable": true
   },
   "outputs": [],
   "source": [
    "from __future__ import print_function\n",
    "from __future__ import division\n",
    "from gensim.models import Doc2Vec, Word2Vec\n",
    "import lib.text_extraction as te\n",
    "from functools import partial\n",
    "import matplotlib.pyplot as plt\n",
    "import matplotlib\n",
    "from lib.parallelize import parallelize\n",
    "from collections import OrderedDict\n",
    "import lib.embedding as em\n",
    "import lib.words as wd\n",
    "import pandas as pd\n",
    "import numpy as np\n",
    "import operator\n",
    "import codecs\n",
    "import math\n",
    "import json\n",
    "import csv\n",
    "import os\n",
    "import re\n",
    "\n",
    "matplotlib.style.use('ggplot')\n",
    "%matplotlib inline"
   ]
  },
  {
   "cell_type": "markdown",
   "metadata": {
    "deletable": true,
    "editable": true
   },
   "source": [
    "## Sentencing"
   ]
  },
  {
   "cell_type": "code",
   "execution_count": 100,
   "metadata": {
    "collapsed": true,
    "deletable": true,
    "editable": true
   },
   "outputs": [],
   "source": [
    "def list_dir_full(d):\n",
    "    return [os.path.join(d, f) for f in os.listdir(d)]"
   ]
  },
  {
   "cell_type": "code",
   "execution_count": null,
   "metadata": {
    "collapsed": false,
    "deletable": true,
    "editable": true
   },
   "outputs": [],
   "source": [
    "test_dir = '../extraction/esempi_descrizioni/'\n",
    "\n",
    "filenames = os.listdir(test_dir)\n",
    "full_filenames = list_dir_full(test_dir)\n",
    "\n",
    "txts = [te.extract_text(f, do_ocr=True, pages=-1) for f in full_filenames]\n",
    "\n",
    "#txts = parallelize(te.extract_text)(full_filenames, do_ocr=True, pages=-1) #Doesn't work with do_ocr=True"
   ]
  },
  {
   "cell_type": "code",
   "execution_count": null,
   "metadata": {
    "collapsed": true,
    "deletable": true,
    "editable": true
   },
   "outputs": [],
   "source": [
    "for i, txt in zip(filenames, txts):\n",
    "    print('Documento ', i)\n",
    "    print(txt[:1000])"
   ]
  },
  {
   "cell_type": "code",
   "execution_count": null,
   "metadata": {
    "collapsed": false,
    "deletable": true,
    "editable": true,
    "scrolled": true
   },
   "outputs": [],
   "source": [
    "extracted_txts_dir = '../extraction/esempi_extracted/'\n",
    "\n",
    "for fn, txt in zip(filenames, txts):\n",
    "    utxt = wd.to_utf8(txt)\n",
    "    with codecs.open(os.path.join(extracted_txts_dir, fn[:-3])+'txt', 'w', encoding='utf-8') as o:\n",
    "        o.write(utxt)\n"
   ]
  },
  {
   "cell_type": "code",
   "execution_count": null,
   "metadata": {
    "collapsed": false,
    "deletable": true,
    "editable": true
   },
   "outputs": [],
   "source": [
    "sentences_dir = '../extraction/esempi_sentences/'\n",
    "\n",
    "sentences = [wd.sentences_doc(txt) for txt in txts]\n",
    "\n",
    "for fn, txt in zip(filenames, sentences):\n",
    "    with codecs.open(os.path.join(sentences_dir, fn[:-3])+'txt', 'w', encoding='utf-8') as o:\n",
    "        o.write('\\n'.join(s.replace('\\n',' ').strip() for s in txt if s.strip()))"
   ]
  },
  {
   "cell_type": "markdown",
   "metadata": {
    "deletable": true,
    "editable": true
   },
   "source": [
    "## Saving sentences"
   ]
  },
  {
   "cell_type": "code",
   "execution_count": null,
   "metadata": {
    "collapsed": false,
    "deletable": true,
    "editable": true
   },
   "outputs": [],
   "source": [
    "sentenced_txts = [wd.sentences_doc(txt) for txt in txts]"
   ]
  },
  {
   "cell_type": "code",
   "execution_count": null,
   "metadata": {
    "collapsed": false,
    "deletable": true,
    "editable": true
   },
   "outputs": [],
   "source": [
    "def sentence_label_csv_empty(filenames, sentenced_txts, csv_out, sep=u'\\t', min_len=10):\n",
    "    csv_out.write(sep.join([u'filename',u'sent_index',u'sentence',u'label']) + u'\\n')\n",
    "    for f, sents in zip(filenames, sentenced_txts):\n",
    "        for i, sent in enumerate(sents):\n",
    "            clean_sent = sent.replace(sep,u'').replace(u'\\n',u' ').strip()\n",
    "            if len(clean_sent)>=min_len:\n",
    "                csv_out.write(sep.join([u'{}',u'{}',u'{}',u'non_riconducibile']).format(f,i,clean_sent)+u'\\n')\n",
    "    "
   ]
  },
  {
   "cell_type": "code",
   "execution_count": null,
   "metadata": {
    "collapsed": false,
    "deletable": true,
    "editable": true
   },
   "outputs": [],
   "source": [
    "csv_filename = '../extraction/sentence_labels.csv'\n",
    "with codecs.open(csv_filename, 'w', encoding='utf-8') as csv_out:\n",
    "    sentence_label_csv_empty(os.listdir(test_dir), sentenced_txts, csv_out)"
   ]
  },
  {
   "cell_type": "code",
   "execution_count": null,
   "metadata": {
    "collapsed": false,
    "deletable": true,
    "editable": true,
    "scrolled": true
   },
   "outputs": [],
   "source": [
    "df = pd.read_csv(csv_filename, sep='\\t', encoding='utf-8', quoting=csv.QUOTE_NONE)"
   ]
  },
  {
   "cell_type": "code",
   "execution_count": null,
   "metadata": {
    "collapsed": false,
    "deletable": true,
    "editable": true
   },
   "outputs": [],
   "source": [
    "df"
   ]
  },
  {
   "cell_type": "code",
   "execution_count": null,
   "metadata": {
    "collapsed": true,
    "deletable": true,
    "editable": true
   },
   "outputs": [],
   "source": [
    "labelled_filename = '../extraction/sentence_manual_labels.csv'\n",
    "dfm = pd.read_csv(labelled_filename, sep='\\t', encoding='utf-8', quoting=csv.QUOTE_NONE)"
   ]
  },
  {
   "cell_type": "markdown",
   "metadata": {
    "deletable": true,
    "editable": true
   },
   "source": [
    "## Save to excel files"
   ]
  },
  {
   "cell_type": "code",
   "execution_count": 101,
   "metadata": {
    "collapsed": true,
    "deletable": true,
    "editable": true
   },
   "outputs": [],
   "source": [
    "def sentences_to_excel(sentences, filename, out_dir, sep=u'\\t', min_len=10):\n",
    "    clean_sents = [sent.replace(sep,u'').replace(u'\\n',u' ').strip() for sent in sentences]\n",
    "    clean_sents = [sent for sent in clean_sents if len(sent)>=min_len]\n",
    "    df = pd.DataFrame({'sentence':clean_sents,'label':['non_riconducibile']*len(clean_sents)})\n",
    "    df.to_excel(os.path.join(out_dir, os.path.basename(filename)[:-3]+'xlsx'), index=False, encoding='utf-8')"
   ]
  },
  {
   "cell_type": "code",
   "execution_count": 102,
   "metadata": {
    "collapsed": false,
    "deletable": true,
    "editable": true
   },
   "outputs": [],
   "source": [
    "files_to_label = [f for f in list_dir_full('../extraction/files_to_label/') if f.endswith('.pdf')]\n",
    "txts_to_label = [te.extract_text(f, do_ocr=True, pages=-1) for f in files_to_label]\n",
    "sentences_to_label = [wd.sentences_doc(txt) for txt in txts_to_label]"
   ]
  },
  {
   "cell_type": "code",
   "execution_count": 103,
   "metadata": {
    "collapsed": false,
    "deletable": true,
    "editable": true
   },
   "outputs": [],
   "source": [
    "for f, s in zip(files_to_label, sentences_to_label):\n",
    "    sentences_to_excel(s, f, '../extraction/excels_to_label/')"
   ]
  },
  {
   "cell_type": "code",
   "execution_count": 75,
   "metadata": {
    "collapsed": false,
    "deletable": true,
    "editable": true
   },
   "outputs": [],
   "source": [
    "def build_dataframe_from_excels(filenames):\n",
    "    dfs = [pd.read_excel(f, encoding='utf-8') for f in filenames]\n",
    "    filename_col = [os.path.basename(f)[:-4]+'pdf' for f,df in zip(filenames, dfs) for _ in range(df.shape[0])]\n",
    "    sent_index_col = [i for df in dfs for i in range(df.shape[0])]\n",
    "    dfs_conc = pd.concat(dfs, ignore_index=True, axis=0)\n",
    "    sentence_col = dfs_conc['sentence']\n",
    "    label_col = dfs_conc['label']\n",
    "    #print('{} {} {} {}'.format(len(filename_col), len(sent_index_col), len(sentence_col), len(label_col)))\n",
    "    return pd.DataFrame(OrderedDict([\n",
    "        ('filename',filename_col),\n",
    "        ('sent_index', sent_index_col),\n",
    "        ('sentence', sentence_col),\n",
    "        ('label', label_col)\n",
    "    ]))"
   ]
  },
  {
   "cell_type": "code",
   "execution_count": 141,
   "metadata": {
    "collapsed": false,
    "deletable": true,
    "editable": true
   },
   "outputs": [],
   "source": [
    "dfx = build_dataframe_from_excels([f for f in list_dir_full('../extraction/excels_labelled/') if f.endswith('.xlsx')])"
   ]
  },
  {
   "cell_type": "code",
   "execution_count": 153,
   "metadata": {
    "collapsed": false,
    "deletable": true,
    "editable": true
   },
   "outputs": [
    {
     "data": {
      "text/plain": [
       "<matplotlib.axes._subplots.AxesSubplot at 0x7f6bb3c0fed0>"
      ]
     },
     "execution_count": 153,
     "metadata": {},
     "output_type": "execute_result"
    },
    {
     "data": {
      "image/png": "[encoded data removed]",
      "text/plain": [
       "<matplotlib.figure.Figure at 0x7f6bbb74c590>"
      ]
     },
     "metadata": {},
     "output_type": "display_data"
    }
   ],
   "source": [
    "#dfx.groupby(['filename', 'label']).count()\n",
    "dfx.groupby('label').count()['filename'].plot.bar()\n",
    "#dfx.loc[dfx['label'] != 'non_riconducibile'].groupby('label').count()['filename'].plot.pie()"
   ]
  },
  {
   "cell_type": "code",
   "execution_count": 169,
   "metadata": {
    "collapsed": false
   },
   "outputs": [
    {
     "data": {
      "text/plain": [
       "<matplotlib.axes._subplots.AxesSubplot at 0x7f6baaf81cd0>"
      ]
     },
     "execution_count": 169,
     "metadata": {},
     "output_type": "execute_result"
    },
    {
     "data": {
      "image/png": "[encoded data removed]",
      "text/plain": [
       "<matplotlib.figure.Figure at 0x7f6bab120610>"
      ]
     },
     "metadata": {},
     "output_type": "display_data"
    }
   ],
   "source": [
    "dfx.groupby(['filename','label'])['label'].count().plot.bar(figsize=(16,6))"
   ]
  },
  {
   "cell_type": "code",
   "execution_count": 143,
   "metadata": {
    "collapsed": true,
    "deletable": true,
    "editable": true
   },
   "outputs": [],
   "source": [
    "dfx.to_csv('../extraction/merged_xlsx.csv', encoding='utf-8', sep='\\t', quoting=csv.QUOTE_NONE, index=False)"
   ]
  },
  {
   "cell_type": "markdown",
   "metadata": {
    "deletable": true,
    "editable": true
   },
   "source": [
    "## Experiments on labelled sentences"
   ]
  },
  {
   "cell_type": "code",
   "execution_count": 3,
   "metadata": {
    "collapsed": true,
    "deletable": true,
    "editable": true
   },
   "outputs": [],
   "source": [
    "def cosine_similarity(a,b):\n",
    "    return np.dot(a,b)/(np.linalg.norm(a)*np.linalg.norm(b))\n",
    "\n",
    "def splitted_words_lower(sentences):\n",
    "    return [[w.lower() for w in wd.splitted_words_utf8(s)] for s in sentences]\n"
   ]
  },
  {
   "cell_type": "code",
   "execution_count": 144,
   "metadata": {
    "collapsed": false,
    "deletable": true,
    "editable": true
   },
   "outputs": [],
   "source": [
    "labeled_csv_filename = '../extraction/merged_xlsx.csv' #'../extraction/sentence_manual_labels3.csv'\n",
    "\n",
    "ldf = pd.read_csv(labeled_csv_filename, sep='\\t', encoding='utf-8', quoting=csv.QUOTE_NONE)"
   ]
  },
  {
   "cell_type": "code",
   "execution_count": 145,
   "metadata": {
    "collapsed": false,
    "deletable": true,
    "editable": true
   },
   "outputs": [
    {
     "data": {
      "text/html": [
       "<div>\n",
       "<style>\n",
       "    .dataframe thead tr:only-child th {\n",
       "        text-align: right;\n",
       "    }\n",
       "\n",
       "    .dataframe thead th {\n",
       "        text-align: left;\n",
       "    }\n",
       "\n",
       "    .dataframe tbody tr th {\n",
       "        vertical-align: top;\n",
       "    }\n",
       "</style>\n",
       "<table border=\"1\" class=\"dataframe\">\n",
       "  <thead>\n",
       "    <tr style=\"text-align: right;\">\n",
       "      <th></th>\n",
       "      <th>filename</th>\n",
       "      <th>sent_index</th>\n",
       "      <th>sentence</th>\n",
       "    </tr>\n",
       "    <tr>\n",
       "      <th>label</th>\n",
       "      <th></th>\n",
       "      <th></th>\n",
       "      <th></th>\n",
       "    </tr>\n",
       "  </thead>\n",
       "  <tbody>\n",
       "    <tr>\n",
       "      <th>assemblea</th>\n",
       "      <td>120</td>\n",
       "      <td>120</td>\n",
       "      <td>120</td>\n",
       "    </tr>\n",
       "    <tr>\n",
       "      <th>clausola</th>\n",
       "      <td>173</td>\n",
       "      <td>173</td>\n",
       "      <td>173</td>\n",
       "    </tr>\n",
       "    <tr>\n",
       "      <th>non_riconducibile</th>\n",
       "      <td>955</td>\n",
       "      <td>955</td>\n",
       "      <td>955</td>\n",
       "    </tr>\n",
       "    <tr>\n",
       "      <th>poteri</th>\n",
       "      <td>219</td>\n",
       "      <td>219</td>\n",
       "      <td>219</td>\n",
       "    </tr>\n",
       "    <tr>\n",
       "      <th>scadenza</th>\n",
       "      <td>7</td>\n",
       "      <td>7</td>\n",
       "      <td>7</td>\n",
       "    </tr>\n",
       "  </tbody>\n",
       "</table>\n",
       "</div>"
      ],
      "text/plain": [
       "                   filename  sent_index  sentence\n",
       "label                                            \n",
       "assemblea               120         120       120\n",
       "clausola                173         173       173\n",
       "non_riconducibile       955         955       955\n",
       "poteri                  219         219       219\n",
       "scadenza                  7           7         7"
      ]
     },
     "execution_count": 145,
     "metadata": {},
     "output_type": "execute_result"
    }
   ],
   "source": [
    "ldf.groupby('label').count()"
   ]
  },
  {
   "cell_type": "code",
   "execution_count": 146,
   "metadata": {
    "collapsed": false,
    "deletable": true,
    "editable": true
   },
   "outputs": [],
   "source": [
    "labels = ['poteri', 'scadenza', 'assemblea', 'clausola']\n",
    "\n",
    "sentences_rows = {l:ldf.loc[ldf['label'] == l]['sentence'] for l in labels}\n",
    "\n",
    "splits = {l:splitted_words_lower(sentences_rows[l]) for l in labels}"
   ]
  },
  {
   "cell_type": "code",
   "execution_count": 147,
   "metadata": {
    "collapsed": false,
    "deletable": true,
    "editable": true
   },
   "outputs": [],
   "source": [
    "def word_counts(sentences):\n",
    "    d = dict()\n",
    "    for sentence in sentences:\n",
    "        for word in sentence:\n",
    "            if not word in d:\n",
    "                d[word] = 1\n",
    "            else:\n",
    "                d[word] += 1\n",
    "    return d\n",
    "\n",
    "def first_n_words(sentences, n):\n",
    "    wc = word_counts(sentences)\n",
    "    sorted_wc = sorted(wc.items(), key=operator.itemgetter(1))\n",
    "    return list(reversed([x for x in sorted_wc[-n:]]))\n"
   ]
  },
  {
   "cell_type": "markdown",
   "metadata": {
    "deletable": true,
    "editable": true
   },
   "source": [
    "## Tf Idf\n"
   ]
  },
  {
   "cell_type": "code",
   "execution_count": 122,
   "metadata": {
    "collapsed": true,
    "deletable": true,
    "editable": true
   },
   "outputs": [],
   "source": [
    "def tf(word, sentence):\n",
    "    '''Term frequency in the sentence'''\n",
    "    return sum(1 for w in sentence if w == word)/len(sentence)\n",
    "\n",
    "def idf(word, documents):\n",
    "    '''Inverse document frequency'''\n",
    "    D = len(documents)\n",
    "    den = 1+sum(1 for sentence in documents if word in sentence)\n",
    "    return math.log(D/den)\n",
    "\n",
    "def idf_memo(documents):\n",
    "    '''Defines a memoized version of idf with the given set of documents'''\n",
    "    word_idf = {}\n",
    "    def memoized_idf(word):\n",
    "        if not word in word_idf:\n",
    "            word_idf[word] = idf(word, documents)\n",
    "        return word_idf[word]\n",
    "    return memoized_idf\n",
    "\n",
    "def tf_idf(word, sentence, sentences):\n",
    "    '''Simple tf-idf index'''\n",
    "    return tf(word, sentence)*idf(word, sentences)\n",
    "\n",
    "def tf_idf_memo(documents):\n",
    "    '''Defines a memoized version of tf-idf with the given set of documents'''\n",
    "    idf_memoized = idf_memo(documents)\n",
    "    def tf_idf_memoized(word, sentence):\n",
    "        return tf(word, sentence)*idf_memoized(word)\n",
    "    return tf_idf_memoized\n",
    "    "
   ]
  },
  {
   "cell_type": "code",
   "execution_count": 148,
   "metadata": {
    "collapsed": false,
    "deletable": true,
    "editable": true
   },
   "outputs": [],
   "source": [
    "# On all sentences\n",
    "split_sentences = [[w.lower() for w in wd.splitted_words_utf8(s)] for s in ldf['sentence']]\n",
    "tf_idf_memoized = tf_idf_memo(split_sentences)"
   ]
  },
  {
   "cell_type": "code",
   "execution_count": 149,
   "metadata": {
    "collapsed": true,
    "deletable": true,
    "editable": true
   },
   "outputs": [],
   "source": [
    "def sorted_tfidf_words(splitted_sentences , tf_idf_memoized):\n",
    "    words = set(word for sent in splitted_sentences for word in sent)\n",
    "    words_mean_tfidf = [(word, np.mean([tf_idf_memoized(word, s) for s in splitted_sentences])) for word in words]\n",
    "    return sorted(words_mean_tfidf, key=operator.itemgetter(1), reverse=True)"
   ]
  },
  {
   "cell_type": "code",
   "execution_count": 150,
   "metadata": {
    "collapsed": true,
    "deletable": true,
    "editable": true
   },
   "outputs": [],
   "source": [
    "sorted_words = {k:sorted_tfidf_words(v, tf_idf_memoized) for k,v in splits.items()}\n"
   ]
  },
  {
   "cell_type": "code",
   "execution_count": 151,
   "metadata": {
    "collapsed": false,
    "deletable": true,
    "editable": true,
    "scrolled": true
   },
   "outputs": [],
   "source": [
    "def print_parole_tf_idf(sorted_words, n = -1):\n",
    "    print(u'{:20}\\t{:20}\\n'.format(u'parola',u'mean tf-idf'))\n",
    "    if n < 0:\n",
    "        n = len(sorted_words)\n",
    "    for w, score in sorted_words[:n]:\n",
    "        print(u'{:20}\\t{:1.4f}'.format(w,score))"
   ]
  },
  {
   "cell_type": "code",
   "execution_count": 152,
   "metadata": {
    "collapsed": false,
    "deletable": true,
    "editable": true
   },
   "outputs": [
    {
     "name": "stdout",
     "output_type": "stream",
     "text": [
      "assemblea:\n",
      "parola              \tmean tf-idf         \n",
      "\n",
      "assemblea           \t0.0766\n",
      "l                   \t0.0361\n",
      "convocazione        \t0.0305\n",
      "dell                \t0.0268\n",
      "anche               \t0.0245\n",
      "convocata           \t0.0225\n",
      "essere              \t0.0211\n",
      "delega              \t0.0202\n",
      "verbale             \t0.0201\n",
      "deve                \t0.0191\n",
      "o                   \t0.0190\n",
      "soci                \t0.0187\n",
      "dal                 \t0.0186\n",
      "presidente          \t0.0182\n",
      "voto                \t0.0173\n",
      "che                 \t0.0169\n",
      "e                   \t0.0168\n",
      "dei                 \t0.0168\n",
      "per                 \t0.0167\n",
      "la                  \t0.0164\n",
      "\n",
      "clausola:\n",
      "parola              \tmean tf-idf         \n",
      "\n",
      "recesso             \t0.0446\n",
      "diritto             \t0.0422\n",
      "socio               \t0.0397\n",
      "prelazione          \t0.0287\n",
      "il                  \t0.0286\n",
      "partecipazione      \t0.0268\n",
      "della               \t0.0250\n",
      "la                  \t0.0234\n",
      "del                 \t0.0229\n",
      "società             \t0.0219\n",
      "esercitato          \t0.0217\n",
      "esclusione          \t0.0201\n",
      "per                 \t0.0194\n",
      "trasferimento       \t0.0188\n",
      "di                  \t0.0173\n",
      "al                  \t0.0173\n",
      "entro               \t0.0172\n",
      "giorni              \t0.0168\n",
      "dalla               \t0.0160\n",
      "che                 \t0.0157\n",
      "\n",
      "scadenza:\n",
      "parola              \tmean tf-idf         \n",
      "\n",
      "primo               \t0.2264\n",
      "dicembre            \t0.2190\n",
      "31                  \t0.2157\n",
      "2017                \t0.2150\n",
      "chiuderà            \t0.2010\n",
      "esercizio           \t0.1552\n",
      "si                  \t0.1241\n",
      "trentuno            \t0.1077\n",
      "il                  \t0.1005\n",
      "sociale             \t0.0894\n",
      "vi                  \t0.0827\n",
      "duemiladiciassette  \t0.0813\n",
      "chiude              \t0.0812\n",
      "4                   \t0.0383\n",
      "chiuderanno         \t0.0349\n",
      "comparenti          \t0.0274\n",
      "al                  \t0.0252\n",
      "successivi          \t0.0250\n",
      "autorizzano         \t0.0248\n",
      "soppressioni        \t0.0248\n",
      "\n",
      "poteri:\n",
      "parola              \tmean tf-idf         \n",
      "\n",
      "amministrazione     \t0.0386\n",
      "amministratori      \t0.0350\n",
      "consiglio           \t0.0303\n",
      "nomina              \t0.0264\n",
      "poteri              \t0.0260\n",
      "organo              \t0.0253\n",
      "un                  \t0.0240\n",
      "o                   \t0.0238\n",
      "amministratore      \t0.0218\n",
      "di                  \t0.0218\n",
      "rappresentanza      \t0.0217\n",
      "gli                 \t0.0200\n",
      "controllo           \t0.0191\n",
      "da                  \t0.0190\n",
      "l                   \t0.0172\n",
      "in                  \t0.0171\n",
      "la                  \t0.0169\n",
      "anche               \t0.0167\n",
      "ovvero              \t0.0160\n",
      "amministrativo      \t0.0158\n",
      "\n"
     ]
    }
   ],
   "source": [
    "for k,v in sorted_words.items():\n",
    "    print('{}:'.format(k))\n",
    "    print_parole_tf_idf(v, 20)\n",
    "    print()"
   ]
  },
  {
   "cell_type": "code",
   "execution_count": 134,
   "metadata": {
    "collapsed": false,
    "deletable": true,
    "editable": true
   },
   "outputs": [],
   "source": [
    "most_relevant_poteri_words = OrderedDict(sorted_words['poteri']) #[:8]"
   ]
  },
  {
   "cell_type": "code",
   "execution_count": 135,
   "metadata": {
    "collapsed": true,
    "deletable": true,
    "editable": true
   },
   "outputs": [],
   "source": [
    "def score_sentence_frequency(sentence, most_relevant_words):\n",
    "    '''cosine distance between frequency of words in sentence and the most relevant words tf-idf'''\n",
    "    counts = OrderedDict((w, 0) for w in most_relevant_words.keys())\n",
    "    for w in sentence:\n",
    "        if w in counts:\n",
    "            counts[w] += 1\n",
    "    l = len(sentence)\n",
    "    frequencies = [v/l for v in counts.values()]\n",
    "    if np.linalg.norm(frequencies) == 0 or np.linalg.norm(most_relevant_words.values()) == 0:\n",
    "        return 0\n",
    "    return cosine_similarity(np.array(frequencies), np.array(most_relevant_words.values())) \n",
    "    \n",
    "def score_sentence_tf_idf(sentence, most_relevant_words, tf_idf_memoized):\n",
    "    '''cosine distance between tf-idf of words in sentence and the most relevant words tf-idf'''\n",
    "    tfidfs = OrderedDict((w, 0) for w in most_relevant_words.keys())\n",
    "    for w in sentence:\n",
    "        tfidfs[w] = tf_idf_memoized(w, sentence)\n",
    "    if np.linalg.norm(tfidfs.values()) == 0 or np.linalg.norm(most_relevant_words.values()) == 0:\n",
    "        return 0\n",
    "    l = min(len(tfidfs), len(most_relevant_words))\n",
    "    return cosine_similarity(np.array(tfidfs.values())[:l], np.array(most_relevant_words.values())[:l])"
   ]
  },
  {
   "cell_type": "code",
   "execution_count": 136,
   "metadata": {
    "collapsed": false,
    "deletable": true,
    "editable": true
   },
   "outputs": [
    {
     "data": {
      "text/plain": [
       "[0.25926527663137583,\n",
       " 0.1430480380630795,\n",
       " 0.19433980044946894,\n",
       " 0.13916291796054067,\n",
       " 0.13630137787175242,\n",
       " 0.27905714646701257,\n",
       " 0.33748890398906622,\n",
       " 0.29757622638982756,\n",
       " 0.22781375782931532,\n",
       " 0.20360503131344332,\n",
       " 0.17855152303203395,\n",
       " 0.25208098753884584,\n",
       " 0.2144264916375111,\n",
       " 0.28223810246895209,\n",
       " 0.26478057059977939,\n",
       " 0.25301990381111489,\n",
       " 0.17285235341583943,\n",
       " 0.34118623083111266,\n",
       " 0.26315422154925139,\n",
       " 0.32351705203787789,\n",
       " 0.33235640999494936,\n",
       " 0.35721936693635425,\n",
       " 0.24494843426682048,\n",
       " 0.21558137712746286,\n",
       " 0.26479407237749575,\n",
       " 0.29453800069174052,\n",
       " 0.35401380641725944,\n",
       " 0.19309306761231576,\n",
       " 0.22903837288630363,\n",
       " 0.14756841284530392,\n",
       " 0.26946510685661584,\n",
       " 0.17639030057904212,\n",
       " 0.30450798165093906,\n",
       " 0.23088558220939756,\n",
       " 0.19956974089823901,\n",
       " 0.33374579153543882,\n",
       " 0.23283265339808379,\n",
       " 0.24689922294988861,\n",
       " 0.30058125959897408,\n",
       " 0.24079090669383751,\n",
       " 0.32261901919604496,\n",
       " 0.2194880587683892,\n",
       " 0.30174864790735795,\n",
       " 0.25853545632218133,\n",
       " 0.21294486160550741,\n",
       " 0.24049076030147004,\n",
       " 0.1859897718225226,\n",
       " 0.1936243998702456,\n",
       " 0.40776373941410604,\n",
       " 0.22451799152760069,\n",
       " 0.36907379831973197,\n",
       " 0.23670021556306067,\n",
       " 0.35316537578053309,\n",
       " 0.27130168238874597,\n",
       " 0.25146543220269152,\n",
       " 0.26841120913297994,\n",
       " 0.24378703742301178,\n",
       " 0.22037276407969414,\n",
       " 0.18728596915057685,\n",
       " 0.16701513650033983,\n",
       " 0.30114155648936741,\n",
       " 0.18285008631010799,\n",
       " 0.10104055241744149,\n",
       " 0.4148427668592215,\n",
       " 0.288795839394416,\n",
       " 0.32485385962764318,\n",
       " 0.21453370207534908,\n",
       " 0.25044945107215899,\n",
       " 0.10042293440936378,\n",
       " 0.21065980403574516,\n",
       " 0.35547104652816591,\n",
       " 0.2099263068087833,\n",
       " 0.30185816554282402,\n",
       " 0.28732246135050765,\n",
       " 0.23679488812751218,\n",
       " 0.26702780019569117,\n",
       " 0.30922094682194129,\n",
       " 0.29037404389168298,\n",
       " 0.22188463217232288,\n",
       " 0.19604816483775428,\n",
       " 0.15298758111007268,\n",
       " 0.27339895965797706,\n",
       " 0.22976081567677309,\n",
       " 0.36081667844586141,\n",
       " 0.38938427572884199,\n",
       " 0.33576053936379485,\n",
       " 0.29631221055363205,\n",
       " 0.39485104847894875,\n",
       " 0.21621665167043796,\n",
       " 0.14563651804201763,\n",
       " 0.14954073025856246,\n",
       " 0.10641947120110282,\n",
       " 0.18666659824494289,\n",
       " 0.12684034153648219,\n",
       " 0.24124249276621373,\n",
       " 0.34892190082783237,\n",
       " 0.31189563570500389,\n",
       " 0.25898888050140007,\n",
       " 0.29113859390461311,\n",
       " 0.36924774273237143,\n",
       " 0.27514686643732378,\n",
       " 0.2039601464108235,\n",
       " 0.2382685535382586,\n",
       " 0.27588734843556828,\n",
       " 0.29414045166364455,\n",
       " 0.27626431505624327,\n",
       " 0.3271394600910339,\n",
       " 0.14399669884661062,\n",
       " 0.22319057329144759,\n",
       " 0.21999267536111591,\n",
       " 0.17661457232459779,\n",
       " 0.21466497513534175,\n",
       " 0.22240366243736256,\n",
       " 0.21047081823172334,\n",
       " 0.30543014745706509,\n",
       " 0.21453333015183434,\n",
       " 0.27272313155463951,\n",
       " 0.31737102759491004,\n",
       " 0.1431672807868726,\n",
       " 0.17998930068158323,\n",
       " 0.19171783221388591,\n",
       " 0.12320401440570887,\n",
       " 0.14667299060868738,\n",
       " 0.3480999498954932,\n",
       " 0.1579189449434415,\n",
       " 0.26978424300421511,\n",
       " 0.28710854795258783,\n",
       " 0.35440578564199426,\n",
       " 0.21038354401270157,\n",
       " 0.14630426130815122,\n",
       " 0.33849134026213462,\n",
       " 0.33010131538828197,\n",
       " 0.22175058796127708,\n",
       " 0.29481523406695365,\n",
       " 0.31662891469307142,\n",
       " 0.1900654888177373,\n",
       " 0.23535044898231242,\n",
       " 0.29539237323561307,\n",
       " 0.26878862008952392,\n",
       " 0.18814331251750435,\n",
       " 0.16035463561719582,\n",
       " 0.11609902247887788,\n",
       " 0.22018920692004051,\n",
       " 0.30643217818197915,\n",
       " 0.30699684402744309,\n",
       " 0.30903909879995412,\n",
       " 0.29360046351324631,\n",
       " 0.27598545051543988,\n",
       " 0.23023993633432144,\n",
       " 0.41311336885468908,\n",
       " 0.23785576281748144,\n",
       " 0.19304334425784389,\n",
       " 0.24713354563982839,\n",
       " 0.23121029918593775,\n",
       " 0.32815563866521319,\n",
       " 0.32751871524332871,\n",
       " 0.33235640999494936,\n",
       " 0.35721807404924089,\n",
       " 0.2876595708291122,\n",
       " 0.21760663421595844,\n",
       " 0.26391295637638529,\n",
       " 0.27070503307513893,\n",
       " 0.2544284144004248,\n",
       " 0.39922532429150881,\n",
       " 0.28911889428818566,\n",
       " 0.34575939218328228,\n",
       " 0.32597808768966202,\n",
       " 0.21441778219167296,\n",
       " 0.25086194331652412]"
      ]
     },
     "execution_count": 136,
     "metadata": {},
     "output_type": "execute_result"
    }
   ],
   "source": [
    "[score_sentence_tf_idf(split, OrderedDict(sorted_words['poteri']), tf_idf_memoized) for split in splits['poteri']]"
   ]
  },
  {
   "cell_type": "markdown",
   "metadata": {
    "deletable": true,
    "editable": true
   },
   "source": [
    "## Embeddings test"
   ]
  },
  {
   "cell_type": "code",
   "execution_count": null,
   "metadata": {
    "collapsed": false,
    "deletable": true,
    "editable": true
   },
   "outputs": [],
   "source": [
    "txts_tokenized = [wd.tokenize_doc(txt) for txt in txts]"
   ]
  },
  {
   "cell_type": "code",
   "execution_count": null,
   "metadata": {
    "collapsed": true,
    "deletable": true,
    "editable": true
   },
   "outputs": [],
   "source": [
    "reduced_dictionary_filename = 'first_5000_words.json'\n",
    "with open(reduced_dictionary_filename) as f:\n",
    "    reduced_dictionary = set(json.load(f))\n",
    "\n",
    "gensim_model_filename = 'models/gensim_model_5000.d2v'\n",
    "gensim_model = Doc2Vec.load(gensim_model_filename)"
   ]
  },
  {
   "cell_type": "code",
   "execution_count": null,
   "metadata": {
    "collapsed": false,
    "deletable": true,
    "editable": true
   },
   "outputs": [],
   "source": [
    "embeddings = [em.embed_document(gensim_model, txt, reduced_dictionary) for txt in txts_tokenized]"
   ]
  },
  {
   "cell_type": "code",
   "execution_count": null,
   "metadata": {
    "collapsed": false,
    "deletable": true,
    "editable": true
   },
   "outputs": [],
   "source": [
    "sv = partial(em.sentence_vector, model=gensim_model, permitted_words=reduced_dictionary)"
   ]
  },
  {
   "cell_type": "code",
   "execution_count": null,
   "metadata": {
    "collapsed": false,
    "deletable": true,
    "editable": true
   },
   "outputs": [],
   "source": [
    "p1 = u'All\\'organo amministrativo sono conferiti i più ampi poteri, sia per la gestione ordinaria che straordinaria della Società'\n",
    "p2 = u'ARTICOLO 19 - POTERI DELL\\'ORGANO AMMINISTRATIVO 191 L\\'organo amministrativo ha tutti i poteri di ordinaria e straordinaria amministrazione'\n",
    "cosine_similarity(sv(sentence=p1.lower()),sv(sentence=p2.lower())) "
   ]
  },
  {
   "cell_type": "code",
   "execution_count": null,
   "metadata": {
    "collapsed": false,
    "deletable": true,
    "editable": true
   },
   "outputs": [],
   "source": [
    "mean_cosines_poteri = [np.mean([cosine_similarity(sv(sentence=split_poteri[i]), sv(sentence=split_poteri[j]))\n",
    "                               for i in range(len(split_poteri)) if i != j])\n",
    "                                   for j in range(len(split_poteri))]"
   ]
  },
  {
   "cell_type": "code",
   "execution_count": null,
   "metadata": {
    "collapsed": false,
    "deletable": true,
    "editable": true,
    "scrolled": true
   },
   "outputs": [],
   "source": [
    "mean_cosines_poteri"
   ]
  },
  {
   "cell_type": "markdown",
   "metadata": {
    "deletable": true,
    "editable": true
   },
   "source": [
    "## Word2Vec\n"
   ]
  },
  {
   "cell_type": "code",
   "execution_count": null,
   "metadata": {
    "collapsed": true,
    "deletable": true,
    "editable": true
   },
   "outputs": [],
   "source": [
    "sentences_tokenized = [sent for doc in txts_tokenized for sent in doc] #i should reduce the dictionary also"
   ]
  },
  {
   "cell_type": "code",
   "execution_count": null,
   "metadata": {
    "collapsed": false,
    "deletable": true,
    "editable": true
   },
   "outputs": [],
   "source": [
    "w2v = Word2Vec(sentences_tokenized, size=100, window=5, min_count=5, workers=4)"
   ]
  },
  {
   "cell_type": "code",
   "execution_count": null,
   "metadata": {
    "collapsed": true,
    "deletable": true,
    "editable": true
   },
   "outputs": [],
   "source": [
    "w2v.wv['costitutivo']"
   ]
  },
  {
   "cell_type": "code",
   "execution_count": null,
   "metadata": {
    "collapsed": false,
    "deletable": true,
    "editable": true
   },
   "outputs": [],
   "source": [
    "cosine_similarity(w2v.wv['atto'], w2v.wv['costitutivo'])"
   ]
  },
  {
   "cell_type": "code",
   "execution_count": null,
   "metadata": {
    "collapsed": true,
    "deletable": true,
    "editable": true
   },
   "outputs": [],
   "source": [
    "w2v.most_similar('poteri')"
   ]
  },
  {
   "cell_type": "code",
   "execution_count": null,
   "metadata": {
    "collapsed": true,
    "deletable": true,
    "editable": true
   },
   "outputs": [],
   "source": [
    "w2v.most_similar(positive=['atto','costitutivo'])"
   ]
  }
 ],
 "metadata": {
  "kernelspec": {
   "display_name": "Python 2",
   "language": "python",
   "name": "python2"
  },
  "language_info": {
   "codemirror_mode": {
    "name": "ipython",
    "version": 2
   },
   "file_extension": ".py",
   "mimetype": "text/x-python",
   "name": "python",
   "nbconvert_exporter": "python",
   "pygments_lexer": "ipython2",
   "version": "2.7.12"
  }
 },
 "nbformat": 4,
 "nbformat_minor": 2
}

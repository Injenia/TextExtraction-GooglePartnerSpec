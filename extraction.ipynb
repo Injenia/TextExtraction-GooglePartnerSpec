{
 "cells": [
  {
   "cell_type": "code",
   "execution_count": 1,
   "metadata": {
    "collapsed": false,
    "deletable": true,
    "editable": true
   },
   "outputs": [
    {
     "name": "stderr",
     "output_type": "stream",
     "text": [
      "Using TensorFlow backend.\n"
     ]
    }
   ],
   "source": [
    "from __future__ import print_function\n",
    "from __future__ import division\n",
    "from gensim.models import Doc2Vec, Word2Vec\n",
    "import lib.text_extraction as te\n",
    "from functools import partial\n",
    "import matplotlib.pyplot as plt\n",
    "import matplotlib\n",
    "from lib.parallelize import parallelize\n",
    "from collections import OrderedDict\n",
    "import lib.embedding as em\n",
    "import lib.words as wd\n",
    "from lib.utils import list_dir_full\n",
    "import pandas as pd\n",
    "import numpy as np\n",
    "import pickle\n",
    "import operator\n",
    "import codecs\n",
    "import math\n",
    "import json\n",
    "import csv\n",
    "import os\n",
    "import re\n",
    "\n",
    "matplotlib.style.use('ggplot')\n",
    "%matplotlib inline\n",
    "\n",
    "labels = ['poteri', 'scadenza', 'assemblea', 'clausola', 'non_riconducibile']\n",
    "labels2 = ['poteri', 'assemblea', 'clausola', 'non_riconducibile']"
   ]
  },
  {
   "cell_type": "markdown",
   "metadata": {
    "deletable": true,
    "editable": true
   },
   "source": [
    "## Sentencing"
   ]
  },
  {
   "cell_type": "code",
   "execution_count": null,
   "metadata": {
    "collapsed": false,
    "deletable": true,
    "editable": true
   },
   "outputs": [],
   "source": [
    "test_dir = '../extraction/esempi_descrizioni/'\n",
    "\n",
    "filenames = os.listdir(test_dir)\n",
    "full_filenames = list_dir_full(test_dir)\n",
    "\n",
    "#txts = [te.extract_text(f, do_ocr=False, pages=-1) for f in full_filenames]\n",
    "\n",
    "txts = parallelize(te.extract_text)(full_filenames, do_ocr=False, pages=-1) #Doesn't work with do_ocr=True"
   ]
  },
  {
   "cell_type": "code",
   "execution_count": null,
   "metadata": {
    "collapsed": true,
    "deletable": true,
    "editable": true
   },
   "outputs": [],
   "source": [
    "for i, txt in zip(filenames, txts):\n",
    "    print('Documento ', i)\n",
    "    print(txt[:1000])"
   ]
  },
  {
   "cell_type": "code",
   "execution_count": null,
   "metadata": {
    "collapsed": false,
    "deletable": true,
    "editable": true,
    "scrolled": true
   },
   "outputs": [],
   "source": [
    "extracted_txts_dir = '../extraction/esempi_extracted/'\n",
    "\n",
    "for fn, txt in zip(filenames, txts):\n",
    "    utxt = wd.to_utf8(txt)\n",
    "    with codecs.open(os.path.join(extracted_txts_dir, fn[:-3])+'txt', 'w', encoding='utf-8') as o:\n",
    "        o.write(utxt)\n"
   ]
  },
  {
   "cell_type": "code",
   "execution_count": null,
   "metadata": {
    "collapsed": false,
    "deletable": true,
    "editable": true
   },
   "outputs": [],
   "source": [
    "sentences_dir = '../extraction/esempi_sentences/'\n",
    "\n",
    "sentences = [wd.sentences_doc(txt) for txt in txts]\n",
    "\n",
    "for fn, txt in zip(filenames, sentences):\n",
    "    with codecs.open(os.path.join(sentences_dir, fn[:-3])+'txt', 'w', encoding='utf-8') as o:\n",
    "        o.write('\\n'.join(s.replace('\\n',' ').strip() for s in txt if s.strip()))"
   ]
  },
  {
   "cell_type": "markdown",
   "metadata": {
    "deletable": true,
    "editable": true
   },
   "source": [
    "## Saving sentences"
   ]
  },
  {
   "cell_type": "code",
   "execution_count": null,
   "metadata": {
    "collapsed": false,
    "deletable": true,
    "editable": true
   },
   "outputs": [],
   "source": [
    "sentenced_txts = [wd.sentences_doc(txt) for txt in txts]"
   ]
  },
  {
   "cell_type": "code",
   "execution_count": null,
   "metadata": {
    "collapsed": false,
    "deletable": true,
    "editable": true
   },
   "outputs": [],
   "source": [
    "def sentence_label_csv_empty(filenames, sentenced_txts, csv_out, sep=u'\\t', min_len=10):\n",
    "    csv_out.write(sep.join([u'filename',u'sent_index',u'sentence',u'label']) + u'\\n')\n",
    "    for f, sents in zip(filenames, sentenced_txts):\n",
    "        for i, sent in enumerate(sents):\n",
    "            clean_sent = sent.replace(sep,u'').replace(u'\\n',u' ').strip()\n",
    "            if len(clean_sent)>=min_len:\n",
    "                csv_out.write(sep.join([u'{}',u'{}',u'{}',u'non_riconducibile']).format(f,i,clean_sent)+u'\\n')\n",
    "    "
   ]
  },
  {
   "cell_type": "code",
   "execution_count": null,
   "metadata": {
    "collapsed": false,
    "deletable": true,
    "editable": true
   },
   "outputs": [],
   "source": [
    "csv_filename = '../extraction/sentence_labels.csv'\n",
    "with codecs.open(csv_filename, 'w', encoding='utf-8') as csv_out:\n",
    "    sentence_label_csv_empty(os.listdir(test_dir), sentenced_txts, csv_out)"
   ]
  },
  {
   "cell_type": "code",
   "execution_count": null,
   "metadata": {
    "collapsed": false,
    "deletable": true,
    "editable": true,
    "scrolled": true
   },
   "outputs": [],
   "source": [
    "df = pd.read_csv(csv_filename, sep='\\t', encoding='utf-8', quoting=csv.QUOTE_NONE)"
   ]
  },
  {
   "cell_type": "code",
   "execution_count": null,
   "metadata": {
    "collapsed": false,
    "deletable": true,
    "editable": true
   },
   "outputs": [],
   "source": [
    "df.groupby(['filename'])['sentence'].apply(list).to_dict()"
   ]
  },
  {
   "cell_type": "code",
   "execution_count": null,
   "metadata": {
    "collapsed": true,
    "deletable": true,
    "editable": true
   },
   "outputs": [],
   "source": [
    "labelled_filename = '../extraction/sentence_manual_labels.csv'\n",
    "dfm = pd.read_csv(labelled_filename, sep='\\t', encoding='utf-8', quoting=csv.QUOTE_NONE)"
   ]
  },
  {
   "cell_type": "markdown",
   "metadata": {
    "deletable": true,
    "editable": true
   },
   "source": [
    "## Save to excel files"
   ]
  },
  {
   "cell_type": "code",
   "execution_count": null,
   "metadata": {
    "collapsed": true,
    "deletable": true,
    "editable": true
   },
   "outputs": [],
   "source": [
    "def sentences_to_excel(sentences, filename, out_dir, sep=u'\\t', min_len=10):\n",
    "    clean_sents = [sent.replace(sep,u'').replace(u'\\n',u' ').strip() for sent in sentences]\n",
    "    clean_sents = [sent for sent in clean_sents if len(sent)>=min_len]\n",
    "    df = pd.DataFrame({'sentence':clean_sents,'label':['non_riconducibile']*len(clean_sents)})\n",
    "    df.to_excel(os.path.join(out_dir, os.path.basename(filename)[:-3]+'xlsx'), index=False, encoding='utf-8')"
   ]
  },
  {
   "cell_type": "code",
   "execution_count": null,
   "metadata": {
    "collapsed": false,
    "deletable": true,
    "editable": true
   },
   "outputs": [],
   "source": [
    "files_to_label = [f for f in list_dir_full('../extraction/files_to_label/') if f.endswith('.pdf')]\n",
    "txts_to_label = [te.extract_text(f, do_ocr=True, pages=-1) for f in files_to_label]\n",
    "sentences_to_label = [wd.sentences_doc(txt) for txt in txts_to_label]"
   ]
  },
  {
   "cell_type": "code",
   "execution_count": null,
   "metadata": {
    "collapsed": false,
    "deletable": true,
    "editable": true
   },
   "outputs": [],
   "source": [
    "for f, s in zip(files_to_label, sentences_to_label):\n",
    "    sentences_to_excel(s, f, '../extraction/excels_to_label/')"
   ]
  },
  {
   "cell_type": "code",
   "execution_count": null,
   "metadata": {
    "collapsed": false,
    "deletable": true,
    "editable": true
   },
   "outputs": [],
   "source": [
    "dfm = pd.read_csv('../extraction/sentence_manual_labels3.csv', sep='\\t', encoding='utf-8', quoting=csv.QUOTE_NONE)"
   ]
  },
  {
   "cell_type": "code",
   "execution_count": null,
   "metadata": {
    "collapsed": false,
    "deletable": true,
    "editable": true,
    "scrolled": true
   },
   "outputs": [],
   "source": [
    "snts = dfm.groupby('filename')['sentence'].apply(list)\n",
    "lbls = dfm.groupby('filename')['label'].apply(list)\n",
    "for f in snts.keys():\n",
    "    cur_df = pd.DataFrame({'sentence':snts.loc[f],\n",
    "                            'label':['non_riconducibile' if l == 'non_rilevante' else l for l in lbls.loc[f]]})\n",
    "    cur_df.to_excel('../extraction/excels_labelled_from_csv/'+f+'.xlsx', index=False, encoding='utf-8')"
   ]
  },
  {
   "cell_type": "code",
   "execution_count": 2,
   "metadata": {
    "collapsed": false,
    "deletable": true,
    "editable": true
   },
   "outputs": [],
   "source": [
    "def build_dataframe_from_excels(filenames):\n",
    "    dfs = [pd.read_excel(f, encoding='utf-8') for f in filenames]\n",
    "    filename_col = [os.path.basename(f)[:-5] for f,df in zip(filenames, dfs) for _ in range(df.shape[0])]\n",
    "    sent_index_col = [i for df in dfs for i in range(df.shape[0])]\n",
    "    dfs_conc = pd.concat(dfs, ignore_index=True, axis=0)\n",
    "    sentence_col = dfs_conc['sentence']\n",
    "    label_col = dfs_conc['label']\n",
    "    #print('{} {} {} {}'.format(len(filename_col), len(sent_index_col), len(sentence_col), len(label_col)))\n",
    "    return pd.DataFrame(OrderedDict([\n",
    "        ('filename',filename_col),\n",
    "        ('sent_index', sent_index_col),\n",
    "        ('sentence', sentence_col),\n",
    "        ('label', label_col)\n",
    "    ]))"
   ]
  },
  {
   "cell_type": "code",
   "execution_count": 18,
   "metadata": {
    "collapsed": false,
    "deletable": true,
    "editable": true
   },
   "outputs": [],
   "source": [
    "x_files_n = [f for f in list_dir_full('../extraction/excels_labelled/') if f.endswith('.xlsx')]\n",
    "x_files_o = [f for f in list_dir_full('../extraction/excels_labelled/originals/') if f.endswith('.xlsx')]\n",
    "x_files = (x_files_n +x_files_o)[:30]\n",
    "dfx = build_dataframe_from_excels(x_files)"
   ]
  },
  {
   "cell_type": "code",
   "execution_count": 19,
   "metadata": {
    "collapsed": false,
    "deletable": true,
    "editable": true
   },
   "outputs": [
    {
     "data": {
      "text/plain": [
       "30"
      ]
     },
     "execution_count": 19,
     "metadata": {},
     "output_type": "execute_result"
    }
   ],
   "source": [
    "len(x_files)"
   ]
  },
  {
   "cell_type": "code",
   "execution_count": 20,
   "metadata": {
    "collapsed": true,
    "deletable": true,
    "editable": true
   },
   "outputs": [],
   "source": [
    "dfx.to_csv('../extraction/merged_xlsx.csv', encoding='utf-8', sep='\\t', quoting=csv.QUOTE_NONE, index=False)"
   ]
  },
  {
   "cell_type": "markdown",
   "metadata": {
    "deletable": true,
    "editable": true
   },
   "source": [
    "## Experiments on labelled sentences"
   ]
  },
  {
   "cell_type": "code",
   "execution_count": 21,
   "metadata": {
    "collapsed": true,
    "deletable": true,
    "editable": true
   },
   "outputs": [],
   "source": [
    "def cosine_similarity(a,b):\n",
    "    return np.dot(a,b)/(np.linalg.norm(a)*np.linalg.norm(b))\n",
    "\n",
    "def splitted_words_lower(sentences):\n",
    "    return [[w.lower() for w in wd.splitted_words_utf8(s)] for s in sentences]\n"
   ]
  },
  {
   "cell_type": "code",
   "execution_count": 22,
   "metadata": {
    "collapsed": false,
    "deletable": true,
    "editable": true
   },
   "outputs": [],
   "source": [
    "labeled_csv_filename = '../extraction/merged_xlsx.csv' #'../extraction/sentence_manual_labels3.csv'\n",
    "\n",
    "ldf = pd.read_csv(labeled_csv_filename, sep='\\t', encoding='utf-8', quoting=csv.QUOTE_NONE)"
   ]
  },
  {
   "cell_type": "code",
   "execution_count": 23,
   "metadata": {
    "collapsed": false,
    "deletable": true,
    "editable": true
   },
   "outputs": [
    {
     "data": {
      "text/html": [
       "<div>\n",
       "<style>\n",
       "    .dataframe thead tr:only-child th {\n",
       "        text-align: right;\n",
       "    }\n",
       "\n",
       "    .dataframe thead th {\n",
       "        text-align: left;\n",
       "    }\n",
       "\n",
       "    .dataframe tbody tr th {\n",
       "        vertical-align: top;\n",
       "    }\n",
       "</style>\n",
       "<table border=\"1\" class=\"dataframe\">\n",
       "  <thead>\n",
       "    <tr style=\"text-align: right;\">\n",
       "      <th></th>\n",
       "      <th>filename</th>\n",
       "      <th>sent_index</th>\n",
       "      <th>sentence</th>\n",
       "    </tr>\n",
       "    <tr>\n",
       "      <th>label</th>\n",
       "      <th></th>\n",
       "      <th></th>\n",
       "      <th></th>\n",
       "    </tr>\n",
       "  </thead>\n",
       "  <tbody>\n",
       "    <tr>\n",
       "      <th>assemblea</th>\n",
       "      <td>577</td>\n",
       "      <td>577</td>\n",
       "      <td>577</td>\n",
       "    </tr>\n",
       "    <tr>\n",
       "      <th>clausola</th>\n",
       "      <td>584</td>\n",
       "      <td>584</td>\n",
       "      <td>584</td>\n",
       "    </tr>\n",
       "    <tr>\n",
       "      <th>non_riconducibile</th>\n",
       "      <td>3790</td>\n",
       "      <td>3790</td>\n",
       "      <td>3790</td>\n",
       "    </tr>\n",
       "    <tr>\n",
       "      <th>poteri</th>\n",
       "      <td>587</td>\n",
       "      <td>587</td>\n",
       "      <td>587</td>\n",
       "    </tr>\n",
       "    <tr>\n",
       "      <th>scadenza</th>\n",
       "      <td>28</td>\n",
       "      <td>28</td>\n",
       "      <td>28</td>\n",
       "    </tr>\n",
       "  </tbody>\n",
       "</table>\n",
       "</div>"
      ],
      "text/plain": [
       "                   filename  sent_index  sentence\n",
       "label                                            \n",
       "assemblea               577         577       577\n",
       "clausola                584         584       584\n",
       "non_riconducibile      3790        3790      3790\n",
       "poteri                  587         587       587\n",
       "scadenza                 28          28        28"
      ]
     },
     "execution_count": 23,
     "metadata": {},
     "output_type": "execute_result"
    }
   ],
   "source": [
    "ldf.groupby('label').count()"
   ]
  },
  {
   "cell_type": "code",
   "execution_count": 24,
   "metadata": {
    "collapsed": false,
    "deletable": true,
    "editable": true
   },
   "outputs": [
    {
     "data": {
      "image/png": "[encoded data removed]",
      "text/plain": [
       "<matplotlib.figure.Figure at 0x7fe9f902e310>"
      ]
     },
     "metadata": {},
     "output_type": "display_data"
    }
   ],
   "source": [
    "df25 = ldf.groupby(['filename', 'label']).size().reset_index(name=\"Count\")\n",
    "df35 = pd.pivot_table(df25,  values='Count',  columns=['label'], index='filename')\n",
    "#df45 = pd.pivot_table(df25,  values='Count',  columns=['filename'], index='label')\n",
    "df35.plot(kind=\"bar\", figsize=(16,6))\n",
    "plt.show()\n",
    "#df45.plot(kind=\"bar\", figsize=(16,6))\n",
    "#plt.show()"
   ]
  },
  {
   "cell_type": "markdown",
   "metadata": {
    "deletable": true,
    "editable": true
   },
   "source": [
    "## Sentence Word embedding"
   ]
  },
  {
   "cell_type": "code",
   "execution_count": 25,
   "metadata": {
    "collapsed": true,
    "deletable": true,
    "editable": true
   },
   "outputs": [],
   "source": [
    "no_s_df = ldf.copy()\n",
    "no_s_df['label'] = ldf['label'].apply(lambda l: 'non_riconducibile' if l == 'scadenza' else l)"
   ]
  },
  {
   "cell_type": "code",
   "execution_count": 26,
   "metadata": {
    "collapsed": false,
    "deletable": true,
    "editable": true
   },
   "outputs": [
    {
     "name": "stdout",
     "output_type": "stream",
     "text": [
      "Sentences: 5566\n",
      "Labels: 5566\n"
     ]
    }
   ],
   "source": [
    "splitted_sentences = wd.tokenize_sentences(no_s_df['sentence'], min_words=1)\n",
    "labels_sentences = [labels2.index(l) for l in no_s_df['label']]\n",
    "print('Sentences: {}\\nLabels: {}'.format(len(splitted_sentences), len(labels_sentences)))"
   ]
  },
  {
   "cell_type": "code",
   "execution_count": 27,
   "metadata": {
    "collapsed": false,
    "deletable": true,
    "editable": true
   },
   "outputs": [],
   "source": [
    "fnw = em.first_n_words(splitted_sentences, 4998)\n",
    "permitted_words = [e[0] for e in fnw]\n",
    "reduced_sentences = list(em.reduce_dictionary(splitted_sentences, permitted_words, min_words=1))\n",
    "reduced_dictionary = em.build_dictionary(reduced_sentences, start_index=1) #start from 1, 0 is padding!\n",
    "int_sentences = [[reduced_dictionary[w] for w in sent] for sent in reduced_sentences]"
   ]
  },
  {
   "cell_type": "code",
   "execution_count": 28,
   "metadata": {
    "collapsed": false,
    "deletable": true,
    "editable": true
   },
   "outputs": [
    {
     "data": {
      "text/plain": [
       "116.4350000000004"
      ]
     },
     "execution_count": 28,
     "metadata": {},
     "output_type": "execute_result"
    }
   ],
   "source": [
    "np.percentile([len(s) for s in int_sentences], 99.9)"
   ]
  },
  {
   "cell_type": "code",
   "execution_count": 29,
   "metadata": {
    "collapsed": false,
    "deletable": true,
    "editable": true
   },
   "outputs": [
    {
     "data": {
      "text/plain": [
       "4999"
      ]
     },
     "execution_count": 29,
     "metadata": {},
     "output_type": "execute_result"
    }
   ],
   "source": [
    "max(reduced_dictionary.values())"
   ]
  },
  {
   "cell_type": "code",
   "execution_count": 31,
   "metadata": {
    "collapsed": false
   },
   "outputs": [
    {
     "data": {
      "text/plain": [
       "{u'utilizzata': 1996,\n",
       " u'gegno': 4953,\n",
       " u'utilizzate': 817,\n",
       " u'rinunziare': 2505,\n",
       " u'comunque': 535,\n",
       " u'campioni': 4185,\n",
       " u'motivazione': 1475,\n",
       " u'unico': 303,\n",
       " u'consiste': 2947,\n",
       " u'convegni': 3417,\n",
       " u'speculazione': 573,\n",
       " u'attribuire': 2601,\n",
       " u'merceologiche': 3373,\n",
       " u'rappresenta': 3985,\n",
       " u'francesco': 207,\n",
       " u'assemblea': 311,\n",
       " u'francesca': 2647,\n",
       " u'nega': 1114,\n",
       " u'assemblee': 1074,\n",
       " u'stratore': 1724,\n",
       " u'taio': 2780,\n",
       " u'parcheggi': 1839,\n",
       " u'riservata': 3236,\n",
       " u'presenta': 2769,\n",
       " u'figli': 2511,\n",
       " u'presente': 90,\n",
       " u'egli': 2900,\n",
       " u'determinando': 1972,\n",
       " u'fiscali': 3827,\n",
       " u'presenti': 781,\n",
       " u'ali': 3346,\n",
       " u'xx': 4517,\n",
       " u'seguire': 3329,\n",
       " u'firmato': 2013,\n",
       " u'loro': 3683,\n",
       " u'fronte': 911,\n",
       " u'conse': 4961,\n",
       " u'semprech\\xe8': 3084,\n",
       " u'firmati': 2067,\n",
       " u'castellammare': 1700,\n",
       " u'carapelle': 2030,\n",
       " u'pensione': 4740,\n",
       " u'idraulica': 4298,\n",
       " u'cia': 4601,\n",
       " u'alluminio': 4172,\n",
       " u'consortili': 3424,\n",
       " u'sopraelencate': 4811,\n",
       " u'mutualistiche': 2240,\n",
       " u'consortile': 4248,\n",
       " u'denominazione': 415,\n",
       " u'partecipanti': 1444,\n",
       " u'dell': 1162,\n",
       " u'concernenti': 941,\n",
       " u'oleario': 4670,\n",
       " u'rappresentano': 2290,\n",
       " u'approvazione': 355,\n",
       " u'aeroporti': 3531,\n",
       " u'amichevoli': 3142,\n",
       " u'possano': 758,\n",
       " u'adige': 4331,\n",
       " u'stabilimenti': 3901,\n",
       " u'gastronomico': 4672,\n",
       " u'decimo': 1763,\n",
       " u'devolvere': 1638,\n",
       " u'arbitraggio': 2911,\n",
       " u'pregiudizio': 1095,\n",
       " u'lte': 4955,\n",
       " u'nascenti': 2163,\n",
       " u'centoottanta': 2714,\n",
       " u'rivestono': 3006,\n",
       " u'piva': 3067,\n",
       " u'osservazioni': 2480,\n",
       " u'amministrazione': 299,\n",
       " u'duemiladiciassette': 16,\n",
       " u'delegati': 1385,\n",
       " u'falco': 3486,\n",
       " u'istituito': 951,\n",
       " u'litografia': 4795,\n",
       " u'costituente': 4305,\n",
       " u'ente': 775,\n",
       " u'anticipata': 3994,\n",
       " u'enti': 524,\n",
       " u'valgono': 1564,\n",
       " u'diciotto': 2008,\n",
       " u'costituenti': 687,\n",
       " u'approssimativa': 3741,\n",
       " u'esibizione': 2518,\n",
       " u'pattuite': 3434,\n",
       " u'subordinato': 853,\n",
       " u'emesse': 877,\n",
       " u'posizione': 1190,\n",
       " u'emessi': 1065,\n",
       " u'accomandita': 4856,\n",
       " u'massimilla': 4068,\n",
       " u'possesso': 139,\n",
       " u'subordinata': 3583,\n",
       " u'menzionati': 242,\n",
       " u'fisici': 4824,\n",
       " u'nel': 943,\n",
       " u'ammontare': 962,\n",
       " u'tipo': 146,\n",
       " u'nei': 1428,\n",
       " u'paola': 3339,\n",
       " u'cooperativo': 3924,\n",
       " u'deliberati': 3782,\n",
       " u'designazione': 1560,\n",
       " u'deliberato': 1166,\n",
       " u'esercitarsi': 488,\n",
       " u'conduzione': 676,\n",
       " u'infungibile': 4417,\n",
       " u'propri': 549,\n",
       " u'banche': 2829,\n",
       " u'organismo': 984,\n",
       " u'allestimento': 1774,\n",
       " u'organismi': 437,\n",
       " u'unanimit\\xe0': 297,\n",
       " u'relativamente': 1005,\n",
       " u'garibaldi': 3698,\n",
       " u'lodo': 1663,\n",
       " u'nestech': 3171,\n",
       " u'aderisce': 3880,\n",
       " u'inderogabile': 1965,\n",
       " u'informati': 1331,\n",
       " u'provvisti': 1170,\n",
       " u'inderogabili': 2378,\n",
       " u'istanza': 1204,\n",
       " u'informato': 1409,\n",
       " u'simili': 3411,\n",
       " u'interni': 2167,\n",
       " u'avere': 838,\n",
       " u'compatibili': 133,\n",
       " u'improduttivi': 2693,\n",
       " u'compatibile': 2988,\n",
       " u'constatate': 1522,\n",
       " u'insacco': 3710,\n",
       " u'interne': 4216,\n",
       " u'inappellabile': 3787,\n",
       " u'rieleggibilit\\xe0': 3774,\n",
       " u'gli': 89,\n",
       " u'affittacamere': 652,\n",
       " u'condizioni': 221,\n",
       " u'rivestano': 3749,\n",
       " u'dissenziente': 1636,\n",
       " u'condizione': 1192,\n",
       " u'sopravvenuta': 3036,\n",
       " u'illimitata': 3002,\n",
       " u'dovuti': 2325,\n",
       " u'indicando': 1912,\n",
       " u'dovuto': 2327,\n",
       " u'guide': 4457,\n",
       " u'credit': 2453,\n",
       " u'appaia': 2901,\n",
       " u'generale': 500,\n",
       " u'natanti': 1776,\n",
       " u'economico': 2273,\n",
       " u'generali': 1540,\n",
       " u'resta': 1415,\n",
       " u'controllare': 3229,\n",
       " u'stefano': 4855,\n",
       " u'specifica': 1976,\n",
       " u'inattivit\\xe0': 1297,\n",
       " u'adeguamento': 3932,\n",
       " u'terapia': 4338,\n",
       " u'specifici': 3561,\n",
       " u'liquida': 4600,\n",
       " u'operanti': 3989,\n",
       " u'specifico': 1319,\n",
       " u'nistratori': 2760,\n",
       " u'minato': 4593,\n",
       " u'intendesse': 2499,\n",
       " u'scaduto': 3211,\n",
       " u'pulizia': 2114,\n",
       " u'riguardano': 2719,\n",
       " u'esemplificativa': 4048,\n",
       " u'pulizie': 2815,\n",
       " u'scadute': 3013,\n",
       " u'diversamente': 2611,\n",
       " u'esemplificativo': 1842,\n",
       " u'ntr': 4863,\n",
       " u'decisa': 2927,\n",
       " u'motivato': 1118,\n",
       " u'nessun': 1931,\n",
       " u'inviato': 1406,\n",
       " u'soncint': 4869,\n",
       " u'commercializzazione': 605,\n",
       " u'sublocazione': 4870,\n",
       " u'negativo': 560,\n",
       " u'contrada': 68,\n",
       " u'vietata': 3572,\n",
       " u'assem': 1969,\n",
       " u'qualunque': 896,\n",
       " u'inviati': 2546,\n",
       " u'resteranno': 4285,\n",
       " u'dnt': 4006,\n",
       " u'asporto': 3508,\n",
       " u'lucrativo': 3592,\n",
       " u'audioconferenza': 3839,\n",
       " u'proposizione': 3260,\n",
       " u'raggiungimento': 718,\n",
       " u'trasferite': 4275,\n",
       " u'consistenza': 2928,\n",
       " u'yeso': 3069,\n",
       " u'cinquantamila': 2465,\n",
       " u'inadempiente': 1224,\n",
       " u'appartenenza': 3927,\n",
       " u'consegna': 4184,\n",
       " u'giovanni': 3156,\n",
       " u'semprech\\xe9': 2386,\n",
       " u'pic': 4073,\n",
       " u'phone': 4092,\n",
       " u'semoli': 3294,\n",
       " u'quali': 188,\n",
       " u'concimi': 3722,\n",
       " u'compositore': 3996,\n",
       " u'affinch\\xe9': 2316,\n",
       " u'affinch\\xe8': 570,\n",
       " u'quale': 1557,\n",
       " u'me': 28,\n",
       " u'considerano': 3961,\n",
       " u'oppone': 1334,\n",
       " u'macinazione': 3708,\n",
       " u'debbano': 2537,\n",
       " u'mi': 4365,\n",
       " u'assicurare': 493,\n",
       " u'comunicazioni': 1145,\n",
       " u'millenovecentotrentatre': 4396,\n",
       " u'ms': 2638,\n",
       " u'agire': 120,\n",
       " u'occorrendo': 3272,\n",
       " u'intercorrenti': 2278,\n",
       " u'perdita': 1627,\n",
       " u'garantisce': 828,\n",
       " u'comunicazione': 490,\n",
       " u'perdite': 912,\n",
       " u'verbalizzazione': 2581,\n",
       " u'riguardo': 2162,\n",
       " u'millecento': 1767,\n",
       " u'sottoscrivono': 274,\n",
       " u'imprenditoriale': 4992,\n",
       " u'risultino': 1323,\n",
       " u'barbitta': 3352,\n",
       " u'ciale': 4868,\n",
       " u'riguarda': 2177,\n",
       " u'gianni': 3863,\n",
       " u'redazione': 2257,\n",
       " u'spiano': 4147,\n",
       " u'carica': 330,\n",
       " u'diretti': 3886,\n",
       " u'ferie': 3563,\n",
       " u'sostituisca': 2945,\n",
       " u'carico': 385,\n",
       " u'farsi': 1380,\n",
       " u'sostituisce': 3667,\n",
       " u'prevedere': 2990,\n",
       " u'individualmente': 4806,\n",
       " u'adeguarsi': 2186,\n",
       " u'landriani': 4361,\n",
       " u'sostituite': 2688,\n",
       " u'determinazioni': 2161,\n",
       " u'ministro': 3546,\n",
       " u'ordinari': 890,\n",
       " u'motoveicoli': 1823,\n",
       " u'ricostruzioni': 4978,\n",
       " u'importazione': 1801,\n",
       " u'remunerare': 1605,\n",
       " u'produttivo': 515,\n",
       " u'mediante': 489,\n",
       " u'uffici': 466,\n",
       " u'concorrenziale': 3837,\n",
       " u'produttive': 4035,\n",
       " u'indivisibilit\\xe0': 2376,\n",
       " u'provveda': 1484,\n",
       " u'modificative': 2125,\n",
       " u'provvede': 1501,\n",
       " u'accensioni': 4465,\n",
       " u'merito': 2200,\n",
       " u'movimentazione': 2822,\n",
       " u'effettuarsi': 2168,\n",
       " u'calde': 589,\n",
       " u'ricambi': 1805,\n",
       " u'erogazione': 633,\n",
       " u'morlino': 4294,\n",
       " u'dispensa': 1662,\n",
       " u'prestare': 1551,\n",
       " u'sede': 180,\n",
       " u'diritto': 341,\n",
       " u'esito': 3285,\n",
       " u'diritti': 878,\n",
       " u'applicazione': 743,\n",
       " u'ove': 1069,\n",
       " u'applicazioni': 4090,\n",
       " u'disciplinano': 3088,\n",
       " u'capuano': 4496,\n",
       " u'sedi': 467,\n",
       " u'mese': 19,\n",
       " u'approvati': 366,\n",
       " u'appartenenti': 1098,\n",
       " u'arbitrato': 1664,\n",
       " u'appartenente': 1294,\n",
       " u'ambienti': 3404,\n",
       " u'coordina': 2972,\n",
       " u'deutsche': 4306,\n",
       " u'durer\\xe0': 2803,\n",
       " u'cinque': 408,\n",
       " u'preventivo': 2494,\n",
       " u'centocinquanta': 288,\n",
       " u'pasticcerie': 582,\n",
       " u'rimarr\\xe0': 2734,\n",
       " u'danno': 1727,\n",
       " u'cred': 4405,\n",
       " u'preventiva': 1228,\n",
       " u'operata': 2985,\n",
       " u'direttivi': 766,\n",
       " u'zioni': 4468,\n",
       " u'castel': 1744,\n",
       " u'relazioni': 1578,\n",
       " u'fornire': 2676,\n",
       " u'addestramento': 4746,\n",
       " u'inabilitato': 1218,\n",
       " u'determinato': 902,\n",
       " u'proclama': 2735,\n",
       " u'ciascun': 1378,\n",
       " u'chiusura': 1157,\n",
       " u'modello': 3789,\n",
       " u'xi': 3280,\n",
       " u'vito': 2789,\n",
       " u'mobiliari': 712,\n",
       " u'mobiliare': 2437,\n",
       " u'vita': 564,\n",
       " u'presunto': 4060,\n",
       " u'ricade': 2349,\n",
       " u'relazione': 1200,\n",
       " u'cedute': 1106,\n",
       " u'venti': 2293,\n",
       " u'cataloghi': 4188,\n",
       " u'artigianato': 3520,\n",
       " u'vantaggi': 3889,\n",
       " u'alcuno': 1093,\n",
       " u'quater': 4491,\n",
       " u'alcuni': 1530,\n",
       " u'secondario': 3484,\n",
       " u'attinenza': 4458,\n",
       " u'vinicolo': 4669,\n",
       " u'ipoteche': 3129,\n",
       " u'fin': 2009,\n",
       " u'secondarie': 475,\n",
       " u'alcuna': 332,\n",
       " u'riscontro': 2728,\n",
       " u'inviarsi': 1139,\n",
       " u'esercita': 1566,\n",
       " u'violazione': 3624,\n",
       " u'realizzare': 735,\n",
       " u'eserciti': 1930,\n",
       " u'conferito': 916,\n",
       " u'enrico': 3490,\n",
       " u'ricostituire': 3637,\n",
       " u'individuale': 1395,\n",
       " u'ammissione': 769,\n",
       " u'concordemente': 2933,\n",
       " u'treviso': 4353,\n",
       " u'sceso': 2387,\n",
       " u'bank': 4307,\n",
       " u'classe': 4471,\n",
       " u'lucera': 2027,\n",
       " u'vetrate': 4218,\n",
       " u'spedizione': 3759,\n",
       " u'provvisorio': 3991,\n",
       " u'stabilit\\xe0': 2384,\n",
       " u'spedizioni': 4754,\n",
       " u'giusta': 1215,\n",
       " u'processi': 3380,\n",
       " u'l': 14,\n",
       " u'alloggio': 3562,\n",
       " u'contraddistinguere': 3554,\n",
       " u'scritti': 2967,\n",
       " u'associativo': 1255,\n",
       " u'internazionale': 2353,\n",
       " u'verifichi': 3990,\n",
       " u'tenute': 4117,\n",
       " u'promossa': 2205,\n",
       " u'internazionali': 645,\n",
       " u'associativa': 4808,\n",
       " u'ricomprese': 4448,\n",
       " u'adottati': 2202,\n",
       " u'appresso': 3358,\n",
       " u'analoghi': 2823,\n",
       " u'chieffo': 4005,\n",
       " u'compagine': 118,\n",
       " u'revisione': 1570,\n",
       " u'consolidato': 2259,\n",
       " u'annunziata': 1696,\n",
       " u'conferma': 2254,\n",
       " u'ditte': 3826,\n",
       " u'divisibili': 2267,\n",
       " u'consenta': 2220,\n",
       " u'esistono': 2055,\n",
       " u'sedici': 395,\n",
       " u'adeguatamente': 2579,\n",
       " u'vit\\xe0': 4574,\n",
       " u'descritto': 4952,\n",
       " u'datato': 2540,\n",
       " u'suscettibili': 1094,\n",
       " u'urbani': 2119,\n",
       " u'essenziali': 733,\n",
       " u'integrativa': 1583,\n",
       " u'immagini': 4337,\n",
       " u'poliambulatori': 4328,\n",
       " u'integrative': 2126,\n",
       " u'suscettibile': 2684,\n",
       " u'urbane': 4718,\n",
       " u'fieristiche': 4151,\n",
       " u're': 2407,\n",
       " u'sistemi': 1809,\n",
       " u'intender\\xe0': 482,\n",
       " u'rm': 4644,\n",
       " u'ricavi': 3543,\n",
       " u'opportune': 2831,\n",
       " u'ri': 2627,\n",
       " u'delegate': 2979,\n",
       " u'vincoleranno': 3045,\n",
       " u'associata': 2071,\n",
       " u'merchandising': 4110,\n",
       " u'associate': 4360,\n",
       " u'cessi': 4999,\n",
       " u'cibi': 620,\n",
       " u'legatoria': 4798,\n",
       " u'propone': 119,\n",
       " u'trascrizione': 1141,\n",
       " u'controfirmato': 2049,\n",
       " u'anziano': 1343,\n",
       " u'presuppongono': 4287,\n",
       " u'ntn': 72,\n",
       " u'assicurativa': 2606,\n",
       " u'onoranze': 4408,\n",
       " u'introduzione': 2924,\n",
       " u'largo': 2033,\n",
       " u'risulteranno': 1532,\n",
       " u'esercizi': 679,\n",
       " u'elencati': 4123,\n",
       " u'chiaro': 2959,\n",
       " u'informazione': 1314,\n",
       " u'dgs': 4383,\n",
       " u'investiti': 2311,\n",
       " u'informazioni': 2143,\n",
       " u'accetta': 329,\n",
       " u'riserva': 1012,\n",
       " u'provvedono': 1401,\n",
       " u'elencate': 725,\n",
       " u'professioni': 754,\n",
       " u'att': 1765,\n",
       " u'accettare': 2138,\n",
       " u'biologici': 3082,\n",
       " u'vincenzo': 3791,\n",
       " u'settecentoventicinque': 4403,\n",
       " u'trasporto': 1778,\n",
       " u'deferita': 2357,\n",
       " u'settanta': 3545,\n",
       " u'delegato': 1759,\n",
       " u'deferite': 1652,\n",
       " u'fatti': 1152,\n",
       " u'grado': 1398,\n",
       " u'vittorio': 4088,\n",
       " u'degenti': 4827,\n",
       " u'villorba': 4372,\n",
       " u'sicurezza': 1811,\n",
       " u'istituzionali': 3569,\n",
       " u'usufrutto': 1904,\n",
       " u'agro': 3392,\n",
       " u'lusso': 4238,\n",
       " u'biodiversit\\xe0': 4025,\n",
       " u'multimedlali': 4193,\n",
       " u'avverr\\xe0': 2908,\n",
       " u'genova': 4063,\n",
       " u'sostituto': 4900,\n",
       " u'dovute': 2189,\n",
       " u'coop': 4406,\n",
       " u'equilibrio': 2855,\n",
       " u'danzanti': 4704,\n",
       " u'gnt': 4643,\n",
       " u'indeterminato': 484,\n",
       " u'movimento': 2106,\n",
       " u'inserito': 2729,\n",
       " u'apparecchiature': 3179,\n",
       " u'costruiti': 4980,\n",
       " u'potere': 2598,\n",
       " u'quinto': 1282,\n",
       " u'partecipano': 1336,\n",
       " u'compiti': 918,\n",
       " u'fideiussioni': 2673,\n",
       " u'ragioni': 1550,\n",
       " u'avvalendosi': 294,\n",
       " u'fideiussione': 2686,\n",
       " u'ragione': 979,\n",
       " u'controllata': 3139,\n",
       " u'intrapresa': 4263,\n",
       " u'affitto': 675,\n",
       " u'indichi': 2953,\n",
       " u'biocosmetics': 3070,\n",
       " u'possiedano': 4820,\n",
       " u'trasferire': 865,\n",
       " u'perduto': 1227,\n",
       " u'quattro': 1051,\n",
       " u'disinfezioni': 4761,\n",
       " u'collaterale': 3835,\n",
       " u'contabilit\\xe0': 4033,\n",
       " u'dazione': 847,\n",
       " u'mobi': 4463,\n",
       " u'responsabilit': 2417,\n",
       " u'z': 4044,\n",
       " u'requisiti': 140,\n",
       " u'invalidi': 4823,\n",
       " u'avanzi': 1623,\n",
       " u'piazza': 24,\n",
       " u'autista': 4233,\n",
       " u'nominato': 1203,\n",
       " u'nominati': 920,\n",
       " u'mercato': 224,\n",
       " u'totaro': 3340,\n",
       " u'posteitaliane': 4268,\n",
       " u'aerea': 4182,\n",
       " u'matteo': 2404,\n",
       " u'dichiarando': 331,\n",
       " u'mercati': 3910,\n",
       " u'specifiche': 1280,\n",
       " u'project': 3401,\n",
       " u'merci': 1780,\n",
       " u'ci\\xf2': 2935,\n",
       " u'rosario': 2035,\n",
       " u'elezione': 1502,\n",
       " u'fruttiferi': 1602,\n",
       " u'andr\\xe0': 3250,\n",
       " u'documentate': 814,\n",
       " u'reintegrata': 1998,\n",
       " u'demandate': 2203,\n",
       " u'negozio': 2862,\n",
       " u'conforme': 1682,\n",
       " u'assumer\\xe0': 3441,\n",
       " u'proponibilit\\xe0': 2343,\n",
       " u'avvalersi': 233,\n",
       " u'inscritto': 4948,\n",
       " u'mina': 1962,\n",
       " u'pluralit\\xe0': 1174,\n",
       " u'senti': 1953,\n",
       " u'regime': 2793,\n",
       " u'rendiconto': 4927,\n",
       " u'sospesa': 3113,\n",
       " u'socio': 778,\n",
       " u'solido': 3051,\n",
       " u'rivolgersi': 3824,\n",
       " u'trovano': 2768,\n",
       " u'herzelia': 4076,\n",
       " u'socia': 3233,\n",
       " u'imperia': 4612,\n",
       " u'persegue': 498,\n",
       " u'reali': 2486,\n",
       " u'mangimi': 3724,\n",
       " u'conseguirlo': 3037,\n",
       " u'consorzi': 700,\n",
       " u'reale': 3008,\n",
       " u'isabella': 4381,\n",
       " u'diretta': 1283,\n",
       " u'immobiliari': 711,\n",
       " u'quantitativo': 3395,\n",
       " u'insorgenti': 2340,\n",
       " u'emesso': 1739,\n",
       " u'costitutivi': 2244,\n",
       " u'compensare': 2234,\n",
       " u'bonifica': 2100,\n",
       " u'ortofrutticoli': 4020,\n",
       " u'complessi': 1857,\n",
       " u'costitutivo': 5,\n",
       " u'altrui': 2943,\n",
       " u'molise': 4506,\n",
       " u'presiede': 3122,\n",
       " u'fondo': 914,\n",
       " u'oltre': 924,\n",
       " u'avviene': 1104,\n",
       " u'accesso': 4163,\n",
       " u'lucro': 213,\n",
       " u'prerogative': 4257,\n",
       " u'ceramica': 4784,\n",
       " u'mario': 3854,\n",
       " u'gravi': 3259,\n",
       " u'deliberata': 1004,\n",
       " u'visionare': 2583,\n",
       " u'rediger\\xe0': 2977,\n",
       " u'altrettanto': 3649,\n",
       " u'ratifica': 4627,\n",
       " u'grave': 3967,\n",
       " u'maria': 2034,\n",
       " u'laddove': 892,\n",
       " u'alimenti': 597,\n",
       " u'lavorative': 236,\n",
       " u'scheda': 1404,\n",
       " u'limitatamente': 947,\n",
       " u'ristrutturazione': 831,\n",
       " u'lavorativa': 2074,\n",
       " u'hanno': 1130,\n",
       " u'ristrutturazioni': 4221,\n",
       " u'sottopongono': 3000,\n",
       " u'm': 4036,\n",
       " u'dog': 4741,\n",
       " u'lavorativi': 3634,\n",
       " u'efficacia': 1165,\n",
       " u'cambio': 308,\n",
       " u'propor': 4923,\n",
       " u'esclusivo': 4314,\n",
       " u'esclusiva': 2623,\n",
       " u'funzionante': 3465,\n",
       " u'te': 4581,\n",
       " u'riviste': 651,\n",
       " u'tipografia': 4796,\n",
       " u'funzionale': 3821,\n",
       " u'virtuale': 2390,\n",
       " u'derattizzazione': 2113,\n",
       " u'sottoscrizione': 1047,\n",
       " u'provocato': 3638,\n",
       " u'recapiti': 470,\n",
       " u'teresa': 4322,\n",
       " u'recapito': 1320,\n",
       " u'coloro': 752,\n",
       " u'peraltro': 1081,\n",
       " u'notificata': 1239,\n",
       " u'ottaviano': 4299,\n",
       " u'carattere': 1577,\n",
       " u'solutions': 2044,\n",
       " u'riabilitazione': 4339,\n",
       " u'incluso': 3435,\n",
       " u'andrea': 4065,\n",
       " u'taluno': 2498,\n",
       " u'ancorch\\xe8': 2717,\n",
       " u'domicilio': 57,\n",
       " u'montecchio': 3064,\n",
       " u'assolutamente': 3823,\n",
       " u'ghini': 3298,\n",
       " u'terrestri': 4511,\n",
       " u'pesavento': 3162,\n",
       " u'trentamilaseicento': 4891,\n",
       " u'aldo': 3355,\n",
       " u'ricevuta': 2197,\n",
       " u'meno': 1624,\n",
       " u'integrati': 3726,\n",
       " u'ricevute': 2956,\n",
       " u'autorizzato': 2144,\n",
       " u'pegno': 2249,\n",
       " u'autorizzata': 1108,\n",
       " u'studiare': 4626,\n",
       " u'capacit\\xe0': 556,\n",
       " u'individuazione': 1672,\n",
       " u'ricevuto': 386,\n",
       " u'strumentali': 685,\n",
       " u'dl': 3788,\n",
       " u'dm': 2019,\n",
       " u'di': 6,\n",
       " u'accezione': 2859,\n",
       " u'compromettere': 3943,\n",
       " u'de': 3971,\n",
       " u'strumentale': 1892,\n",
       " u'partecipi': 1329,\n",
       " u'pulitura': 4913,\n",
       " u'incluse': 4452,\n",
       " u'considerato': 3781,\n",
       " u'priscila': 4530,\n",
       " u'considerata': 2090,\n",
       " u'ben': 3883,\n",
       " u'deliberativi': 2294,\n",
       " u'deliberativo': 1414,\n",
       " u'redditivit\\xe0': 1186,\n",
       " u'luciauccelli': 3847,\n",
       " u'valutata': 2358,\n",
       " u'bar': 581,\n",
       " u'situazione': 1184,\n",
       " u'rispetto': 175,\n",
       " u'ricettivit\\xe0': 3553,\n",
       " u'situazioni': 4834,\n",
       " u'mediazione': 3096,\n",
       " u'esclusivamente': 527,\n",
       " u'prosieguo': 184,\n",
       " u'fabbisogno': 2690,\n",
       " u'ordini': 3099,\n",
       " u'compera': 674,\n",
       " u'ordine': 702,\n",
       " u'collegamento': 3119,\n",
       " u'pertinenza': 4246,\n",
       " u'milleseicento': 3076,\n",
       " u'leasing': 4873,\n",
       " u'contraenti': 4926,\n",
       " u'duemilaquattrocento': 2660,\n",
       " u'prodolone': 2791,\n",
       " u'caboto': 3066,\n",
       " u'discussione': 1589,\n",
       " u'gentile': 4386,\n",
       " u'quaranta': 369,\n",
       " u'pescherie': 4694,\n",
       " u'sufficientemente': 2963,\n",
       " u'erika': 3299,\n",
       " u'distanti': 2569,\n",
       " u'pz': 3857,\n",
       " u'news': 4782,\n",
       " u'presumono': 3205,\n",
       " u'precisare': 1402,\n",
       " u'invitare': 3986,\n",
       " u'destinatario': 1322,\n",
       " u'stampa': 3762,\n",
       " u'assenti': 1668,\n",
       " u'cecco': 4390,\n",
       " u'stampe': 4195,\n",
       " u'identico': 2545,\n",
       " u'tratta': 1235,\n",
       " u'concorrenza': 1470,\n",
       " u'valorizzazione': 3499,\n",
       " u'consentano': 2275,\n",
       " u'future': 1900,\n",
       " u'svantaggiati': 791,\n",
       " u'dichiarazione': 967,\n",
       " u'svantaggiate': 543,\n",
       " u'dichiarazioni': 1449,\n",
       " u'mui': 1679,\n",
       " u'soluzioni': 1049,\n",
       " u'affidate': 2680,\n",
       " u'insorgere': 2620,\n",
       " u'lupo': 3297,\n",
       " u'natura': 938,\n",
       " u'vendita': 643,\n",
       " u'comportanti': 3237,\n",
       " u'segnatamente': 3830,\n",
       " u'novembre': 104,\n",
       " u'comportante': 4284,\n",
       " u'interessenze': 2442,\n",
       " u'creda': 2289,\n",
       " u'licenze': 4883,\n",
       " u'd\\xe0': 3049,\n",
       " u'souvenir': 3519,\n",
       " u'calzoleria': 4803,\n",
       " u'considerando': 2277,\n",
       " u'procuratore': 327,\n",
       " u'centrale': 4918,\n",
       " u'colturali': 3876,\n",
       " u'continuit\\xe0': 2072,\n",
       " u'agriturismo': 4700,\n",
       " u'perseguimento': 2435,\n",
       " u'sussistono': 2173,\n",
       " u'utilizzatore': 4874,\n",
       " u'magnetico': 4124,\n",
       " u'giardinaggio': 2115,\n",
       " u'terreni': 3894,\n",
       " u'professionali': 688,\n",
       " u'consiglio': 717,\n",
       " u'tratto': 4400,\n",
       " u'alimentati': 835,\n",
       " u'trasferita': 2875,\n",
       " u'elettromeccaniche': 3180,\n",
       " u'ill': 4921,\n",
       " u'questo': 2396,\n",
       " u'quiescenza': 2984,\n",
       " u'compromesso': 1651,\n",
       " u'stefania': 4384,\n",
       " u'destinazione': 1642,\n",
       " u'fnc': 2648,\n",
       " u'cod': 1732,\n",
       " u'convocare': 1481,\n",
       " u'studio': 22,\n",
       " u'futuri': 1039,\n",
       " u'com': 1924,\n",
       " u'con': 1209,\n",
       " u'rappresentato': 263,\n",
       " u'pianti': 1828,\n",
       " u'rappresentati': 1088,\n",
       " u'durante': 1046,\n",
       " u'rappresentata': 3706,\n",
       " u'possedere': 2610,\n",
       " u'concorsuale': 1222,\n",
       " u'funebri': 4359,\n",
       " u'separazione': 738,\n",
       " u'casagiove': 3796,\n",
       " u'ricorrano': 3137,\n",
       " u'trust': 4866,\n",
       " u'vouchers': 4443,\n",
       " u'concorsuali': 1289,\n",
       " u'dichiarato': 1216,\n",
       " u'procuratrice': 4387,\n",
       " u'fra': 2279,\n",
       " u'interes': 3777,\n",
       " u'conclusione': 2706,\n",
       " u'immobili': 841,\n",
       " u'rinunciato': 3656,\n",
       " u'autonomo': 3755,\n",
       " u'detengono': 3102,\n",
       " u'convocazioni': 1393,\n",
       " u'dichiarata': 2081,\n",
       " u'frs': 2642,\n",
       " u'privilegi': 881,\n",
       " u'alcun': 2896,\n",
       " u'dovessero': 346,\n",
       " u'passiva': 3126,\n",
       " u'pro': 1911,\n",
       " u'designato': 323,\n",
       " u'pubblicit\\xe0': 2941,\n",
       " u'restanti': 1479,\n",
       " u'dott': 29,\n",
       " u'alberghi': 1856,\n",
       " u'indicato': 1389,\n",
       " u'restante': 1050,\n",
       " u'svolgano': 1230,\n",
       " u'strettamente': 773,\n",
       " u'duemila': 2473,\n",
       " u'catering': 619,\n",
       " u'garantiti': 3768,\n",
       " u'chiarisce': 4261,\n",
       " u'cucina': 3506,\n",
       " u'illimitato': 746,\n",
       " u'efficace': 736,\n",
       " u'trasmissioni': 3758,\n",
       " u'sferibilit\\xe0': 1738,\n",
       " u'naval': 1712,\n",
       " u'subentro': 2223,\n",
       " u'commerce': 4097,\n",
       " u'guidate': 4711,\n",
       " u'spetter\\xe0': 1495,\n",
       " u'settantacinque': 2457,\n",
       " u'sanitaria': 167,\n",
       " u'guidati': 3542,\n",
       " u'n': 802,\n",
       " u'conservarsi': 1339,\n",
       " u'accoman': 4933,\n",
       " u'viii': 358,\n",
       " u'costituenda': 1749,\n",
       " u'attraverso': 514,\n",
       " u'procedura': 1221,\n",
       " u'delle': 83,\n",
       " u'congiuntiva': 3461,\n",
       " u'precede': 3108,\n",
       " u'procedure': 1288,\n",
       " u'della': 414,\n",
       " u'ix': 80,\n",
       " u'seven': 4393,\n",
       " u'glc': 4004,\n",
       " u'ritorno': 2198,\n",
       " u'tagliamento': 2790,\n",
       " u'periferica': 4919,\n",
       " u'urbanizzazione': 2428,\n",
       " u'iv': 249,\n",
       " u'ii': 179,\n",
       " u'stipula': 3923,\n",
       " u'trombetta': 4321,\n",
       " u'im': 1837,\n",
       " u'il': 254,\n",
       " u'risoluzioni': 3044,\n",
       " u'in': 480,\n",
       " u'scegliendoli': 1351,\n",
       " u'risoluzione': 1246,\n",
       " u'trattare': 1303,\n",
       " u'ogni': 212,\n",
       " u'guttuso': 3348,\n",
       " u'motivare': 2149,\n",
       " u'assolto': 2018,\n",
       " u'provinciali': 3881,\n",
       " u'dominicale': 4473,\n",
       " u'contrastanti': 1231,\n",
       " u'collegiale': 1974,\n",
       " u'assolta': 1677,\n",
       " u'principale': 1890,\n",
       " u'alcoliche': 4554,\n",
       " u'vigilanza': 3275,\n",
       " u'quant': 655,\n",
       " u'pubblicitaria': 4191,\n",
       " u'esatto': 2950,\n",
       " u'sanitari': 4223,\n",
       " u'global': 4071,\n",
       " u'godono': 3928,\n",
       " u'certificazione': 3907,\n",
       " u'furgoni': 4242,\n",
       " u'svolge': 3245,\n",
       " u'responsabili': 1259,\n",
       " u'sione': 4597,\n",
       " u'consente': 2711,\n",
       " u'social': 4924,\n",
       " u'esecutivamente': 1263,\n",
       " u'procedere': 909,\n",
       " u'servit\\xf9': 4478,\n",
       " u'toelettatura': 4745,\n",
       " u'passata': 3254,\n",
       " u'utenza': 579,\n",
       " u'economica': 2147,\n",
       " u'rappresenter\\xe0': 2216,\n",
       " u'studi': 3378,\n",
       " u'traffico': 4724,\n",
       " u'elicotteri': 4241,\n",
       " u'campi': 3915,\n",
       " u'assicurato': 3841,\n",
       " u'materiale': 872,\n",
       " u'funzionamento': 363,\n",
       " u'campo': 533,\n",
       " u'contestualmente': 2737,\n",
       " u'materiali': 1187,\n",
       " u'installazione': 1826,\n",
       " u'assicurata': 3842,\n",
       " u'prodotto': 2677,\n",
       " u'considerate': 2550,\n",
       " u'presenze': 2587,\n",
       " u'capo': 1437,\n",
       " u'ricorso': 3261,\n",
       " u'contemplato': 3481,\n",
       " u'roma': 3060,\n",
       " u'jean': 4433,\n",
       " u'sciacca': 3353,\n",
       " u'carbone': 4546,\n",
       " u'depretis': 4498,\n",
       " u'operante': 2194,\n",
       " u'professionista': 3833,\n",
       " u'psichiatrici': 4829,\n",
       " u'delibera': 352,\n",
       " u'tillon': 4481,\n",
       " u'etico': 3642,\n",
       " u'gianluca': 4003,\n",
       " u'diffusione': 3313,\n",
       " u'rilegatura': 4788,\n",
       " u'incendi': 3415,\n",
       " u'ridurre': 3636,\n",
       " u'gaeta': 1692,\n",
       " u'cartaceo': 1685,\n",
       " u'confezionamento': 603,\n",
       " u'apparecchi': 4094,\n",
       " u'citato': 205,\n",
       " u'eventualmente': 930,\n",
       " u'ragusa': 3487,\n",
       " u'decaduti': 1497,\n",
       " u'interpreti': 3540,\n",
       " u'adunanze': 1516,\n",
       " u'unipersonale': 3845,\n",
       " u'adunanza': 1302,\n",
       " u'esercitare': 1670,\n",
       " u'citata': 143,\n",
       " u'trasmissione': 3223,\n",
       " u'intestazione': 2515,\n",
       " u'negozi': 2121,\n",
       " u'affiliazione': 616,\n",
       " u'nonch\\xe8': 431,\n",
       " u'nonch\\xe9': 1268,\n",
       " u'massa': 2631,\n",
       " u'saune': 4446,\n",
       " u'designata': 982,\n",
       " u'passivi': 4467,\n",
       " u'presuntivamente': 2472,\n",
       " u'intervenendo': 4998,\n",
       " u'migliori': 2075,\n",
       " u'successivamente': 2085,\n",
       " u'migliore': 3939,\n",
       " u'contrarre': 3427,\n",
       " u'economici': 3981,\n",
       " u'previ': 4610,\n",
       " u'ottenuti': 3893,\n",
       " u'esportazione': 1802,\n",
       " u'scambiati': 3580,\n",
       " u'accrescere': 3438,\n",
       " u'bandi': 722,\n",
       " u'comunicher\\xe0': 2871,\n",
       " u'spiga': 4008,\n",
       " u'simultanea': 2582,\n",
       " u'klife': 3337,\n",
       " u'creazione': 3908,\n",
       " u'ritengano': 3247,\n",
       " u'editoriali': 3091,\n",
       " u'codice': 61,\n",
       " u'rientrano': 3598,\n",
       " u'tufaro': 3862,\n",
       " u'ottenuto': 3214,\n",
       " u'specie': 622,\n",
       " u'sottoscritti': 2652,\n",
       " u'obblighi': 1225,\n",
       " u'sperandeo': 2785,\n",
       " u'accresce': 2882,\n",
       " u'giugno': 2645,\n",
       " u'alice': 2650,\n",
       " u'nuda': 1906,\n",
       " u'presumere': 2361,\n",
       " u'ripartizioni': 4925,\n",
       " u'gradimento': 855,\n",
       " u'jmarisol': 4521,\n",
       " u'gastronomie': 4688,\n",
       " u'gelaterie': 583,\n",
       " u'sezione': 805,\n",
       " u'arbitri': 2338,\n",
       " u'documento': 1683,\n",
       " u'mansioni': 342,\n",
       " u'operare': 532,\n",
       " u'autorizzate': 2679,\n",
       " u'gerente': 4862,\n",
       " u'amministratori': 921,\n",
       " u'diffonde': 3493,\n",
       " u'detto': 1523,\n",
       " u'ricevo': 3147,\n",
       " u'bpm': 3733,\n",
       " u'autorit\\xe0': 166,\n",
       " u'spedirsi': 1513,\n",
       " u'inidoneo': 3962,\n",
       " u'realizzazione': 630,\n",
       " u'amministratore': 302,\n",
       " u'inclusa': 4442,\n",
       " u'aziende': 682,\n",
       " ...}"
      ]
     },
     "execution_count": 31,
     "metadata": {},
     "output_type": "execute_result"
    }
   ],
   "source": [
    "reduced_dictionary"
   ]
  },
  {
   "cell_type": "code",
   "execution_count": 34,
   "metadata": {
    "collapsed": false
   },
   "outputs": [],
   "source": [
    "with codecs.open('first_5000_words_extraction.json', 'w', encoding='utf-8') as o:\n",
    "    json.dump(reduced_dictionary,o)"
   ]
  },
  {
   "cell_type": "code",
   "execution_count": 30,
   "metadata": {
    "collapsed": false,
    "deletable": true,
    "editable": true
   },
   "outputs": [],
   "source": [
    "with open('../extraction/dataset.p', 'wb') as o:\n",
    "    pickle.dump([int_sentences, labels_sentences], o)"
   ]
  },
  {
   "cell_type": "markdown",
   "metadata": {},
   "source": [
    "## Random tests section"
   ]
  },
  {
   "cell_type": "code",
   "execution_count": null,
   "metadata": {
    "collapsed": false,
    "deletable": true,
    "editable": true
   },
   "outputs": [],
   "source": [
    "sdf = ldf.loc[ldf['label'] == 'scadenza']   #[['sentence','label']] # if u'primo esercizio' in l[0]"
   ]
  },
  {
   "cell_type": "code",
   "execution_count": null,
   "metadata": {
    "collapsed": false,
    "deletable": true,
    "editable": true
   },
   "outputs": [],
   "source": [
    "sdf"
   ]
  },
  {
   "cell_type": "code",
   "execution_count": null,
   "metadata": {
    "collapsed": true,
    "deletable": true,
    "editable": true
   },
   "outputs": [],
   "source": [
    "def is_scadenza(s):\n",
    "    return re.match(r'.*primo\\s+?esercizio.*', s) != None"
   ]
  },
  {
   "cell_type": "code",
   "execution_count": null,
   "metadata": {
    "collapsed": false,
    "deletable": true,
    "editable": true
   },
   "outputs": [],
   "source": [
    "len(ldf.loc[lambda s: [ is_scadenza(s) for s in ldf['sentence']]])"
   ]
  },
  {
   "cell_type": "code",
   "execution_count": null,
   "metadata": {
    "collapsed": false,
    "deletable": true,
    "editable": true
   },
   "outputs": [],
   "source": [
    "sentences_rows = {l:ldf.loc[ldf['label'] == l]['sentence'] for l in labels}\n",
    "\n",
    "splits = {l:splitted_words_lower(sentences_rows[l]) for l in labels}"
   ]
  },
  {
   "cell_type": "markdown",
   "metadata": {
    "deletable": true,
    "editable": true
   },
   "source": [
    "## Tf Idf\n"
   ]
  },
  {
   "cell_type": "code",
   "execution_count": null,
   "metadata": {
    "collapsed": true,
    "deletable": true,
    "editable": true
   },
   "outputs": [],
   "source": [
    "def tf(word, sentence):\n",
    "    '''Term frequency in the sentence'''\n",
    "    return sum(1 for w in sentence if w == word)/len(sentence)\n",
    "\n",
    "def idf(word, documents):\n",
    "    '''Inverse document frequency'''\n",
    "    D = len(documents)\n",
    "    den = 1+sum(1 for sentence in documents if word in sentence)\n",
    "    return math.log(D/den)\n",
    "\n",
    "def idf_memo(documents):\n",
    "    '''Defines a memoized version of idf with the given set of documents'''\n",
    "    word_idf = {}\n",
    "    def memoized_idf(word):\n",
    "        if not word in word_idf:\n",
    "            word_idf[word] = idf(word, documents)\n",
    "        return word_idf[word]\n",
    "    return memoized_idf\n",
    "\n",
    "def tf_idf(word, sentence, sentences):\n",
    "    '''Simple tf-idf index'''\n",
    "    return tf(word, sentence)*idf(word, sentences)\n",
    "\n",
    "def tf_idf_memo(documents):\n",
    "    '''Defines a memoized version of tf-idf with the given set of documents'''\n",
    "    idf_memoized = idf_memo(documents)\n",
    "    def tf_idf_memoized(word, sentence):\n",
    "        return tf(word, sentence)*idf_memoized(word)\n",
    "    return tf_idf_memoized\n",
    "    "
   ]
  },
  {
   "cell_type": "code",
   "execution_count": null,
   "metadata": {
    "collapsed": false,
    "deletable": true,
    "editable": true
   },
   "outputs": [],
   "source": [
    "# On all sentences\n",
    "split_sentences = [[w.lower() for w in wd.splitted_words_utf8(s)] for s in ldf['sentence']]\n",
    "\n",
    "tf_idf_memoized = tf_idf_memo(split_sentences)"
   ]
  },
  {
   "cell_type": "code",
   "execution_count": null,
   "metadata": {
    "collapsed": true,
    "deletable": true,
    "editable": true
   },
   "outputs": [],
   "source": [
    "def sorted_tfidf_words(splitted_sentences , tf_idf_memoized):\n",
    "    words = set(word for sent in splitted_sentences for word in sent)\n",
    "    words_mean_tfidf = [(word, np.mean([tf_idf_memoized(word, s) for s in splitted_sentences])) for word in words]\n",
    "    return sorted(words_mean_tfidf, key=operator.itemgetter(1), reverse=True)"
   ]
  },
  {
   "cell_type": "code",
   "execution_count": null,
   "metadata": {
    "collapsed": false,
    "deletable": true,
    "editable": true
   },
   "outputs": [],
   "source": [
    "sorted_words = {k:sorted_tfidf_words(v, tf_idf_memoized) for k,v in splits.items()}\n"
   ]
  },
  {
   "cell_type": "code",
   "execution_count": null,
   "metadata": {
    "collapsed": false,
    "deletable": true,
    "editable": true,
    "scrolled": true
   },
   "outputs": [],
   "source": [
    "def print_parole_tf_idf(sorted_words, n = -1):\n",
    "    print(u'{:20}\\t{:20}\\n'.format(u'parola',u'mean tf-idf'))\n",
    "    if n < 0:\n",
    "        n = len(sorted_words)\n",
    "    for w, score in sorted_words[:n]:\n",
    "        print(u'{:20}\\t{:1.4f}'.format(w,score))"
   ]
  },
  {
   "cell_type": "code",
   "execution_count": null,
   "metadata": {
    "collapsed": false,
    "deletable": true,
    "editable": true
   },
   "outputs": [],
   "source": [
    "for k,v in sorted_words.items():\n",
    "    print('{}:'.format(k))\n",
    "    print_parole_tf_idf(v, 40)\n",
    "    print()"
   ]
  },
  {
   "cell_type": "code",
   "execution_count": null,
   "metadata": {
    "collapsed": false,
    "deletable": true,
    "editable": true
   },
   "outputs": [],
   "source": [
    "'compromissoria' in [e[0] for e in sorted_words['clausola']]"
   ]
  },
  {
   "cell_type": "code",
   "execution_count": null,
   "metadata": {
    "collapsed": false,
    "deletable": true,
    "editable": true
   },
   "outputs": [],
   "source": [
    "most_relevant_poteri_words = OrderedDict(sorted_words['poteri']) #[:8]"
   ]
  },
  {
   "cell_type": "code",
   "execution_count": null,
   "metadata": {
    "collapsed": true,
    "deletable": true,
    "editable": true
   },
   "outputs": [],
   "source": [
    "def score_sentence_frequency(sentence, most_relevant_words):\n",
    "    '''cosine distance between frequency of words in sentence and the most relevant words tf-idf'''\n",
    "    counts = OrderedDict((w, 0) for w in most_relevant_words.keys())\n",
    "    for w in sentence:\n",
    "        if w in counts:\n",
    "            counts[w] += 1\n",
    "    l = len(sentence)\n",
    "    frequencies = [v/l for v in counts.values()]\n",
    "    if np.linalg.norm(frequencies) == 0 or np.linalg.norm(most_relevant_words.values()) == 0:\n",
    "        return 0\n",
    "    return cosine_similarity(np.array(frequencies), np.array(most_relevant_words.values())) \n",
    "    \n",
    "def score_sentence_tf_idf(sentence, most_relevant_words, tf_idf_memoized):\n",
    "    '''cosine distance between tf-idf of words in sentence and the most relevant words tf-idf'''\n",
    "    tfidfs = OrderedDict((w, 0) for w in most_relevant_words.keys())\n",
    "    for w in sentence:\n",
    "        tfidfs[w] = tf_idf_memoized(w, sentence)\n",
    "    if np.linalg.norm(tfidfs.values()) == 0 or np.linalg.norm(most_relevant_words.values()) == 0:\n",
    "        return 0\n",
    "    l = min(len(tfidfs), len(most_relevant_words))\n",
    "    return cosine_similarity(np.array(tfidfs.values())[:l], np.array(most_relevant_words.values())[:l])"
   ]
  },
  {
   "cell_type": "code",
   "execution_count": null,
   "metadata": {
    "collapsed": true,
    "deletable": true,
    "editable": true
   },
   "outputs": [],
   "source": [
    "[score_sentence_tf_idf(split, OrderedDict(sorted_words['poteri']), tf_idf_memoized) for split in splits['poteri']]"
   ]
  },
  {
   "cell_type": "markdown",
   "metadata": {
    "deletable": true,
    "editable": true
   },
   "source": [
    "## Embeddings test"
   ]
  },
  {
   "cell_type": "code",
   "execution_count": null,
   "metadata": {
    "collapsed": false,
    "deletable": true,
    "editable": true
   },
   "outputs": [],
   "source": [
    "txts_tokenized = [wd.tokenize_doc(txt) for txt in txts]"
   ]
  },
  {
   "cell_type": "code",
   "execution_count": null,
   "metadata": {
    "collapsed": true,
    "deletable": true,
    "editable": true
   },
   "outputs": [],
   "source": [
    "reduced_dictionary_filename = 'first_5000_words.json'\n",
    "with open(reduced_dictionary_filename) as f:\n",
    "    reduced_dictionary = set(json.load(f))\n",
    "\n",
    "gensim_model_filename = 'models/gensim_model_5000.d2v'\n",
    "gensim_model = Doc2Vec.load(gensim_model_filename)"
   ]
  },
  {
   "cell_type": "code",
   "execution_count": null,
   "metadata": {
    "collapsed": false,
    "deletable": true,
    "editable": true
   },
   "outputs": [],
   "source": [
    "embeddings = [em.embed_document(gensim_model, txt, reduced_dictionary) for txt in txts_tokenized]"
   ]
  },
  {
   "cell_type": "code",
   "execution_count": null,
   "metadata": {
    "collapsed": false,
    "deletable": true,
    "editable": true
   },
   "outputs": [],
   "source": [
    "sv = partial(em.sentence_vector, model=gensim_model, permitted_words=reduced_dictionary)"
   ]
  },
  {
   "cell_type": "code",
   "execution_count": null,
   "metadata": {
    "collapsed": false,
    "deletable": true,
    "editable": true
   },
   "outputs": [],
   "source": [
    "p1 = u'All\\'organo amministrativo sono conferiti i più ampi poteri, sia per la gestione ordinaria che straordinaria della Società'\n",
    "p2 = u'ARTICOLO 19 - POTERI DELL\\'ORGANO AMMINISTRATIVO 191 L\\'organo amministrativo ha tutti i poteri di ordinaria e straordinaria amministrazione'\n",
    "cosine_similarity(sv(sentence=p1.lower()),sv(sentence=p2.lower())) "
   ]
  },
  {
   "cell_type": "code",
   "execution_count": null,
   "metadata": {
    "collapsed": false,
    "deletable": true,
    "editable": true
   },
   "outputs": [],
   "source": [
    "mean_cosines_poteri = [np.mean([cosine_similarity(sv(sentence=split_poteri[i]), sv(sentence=split_poteri[j]))\n",
    "                               for i in range(len(split_poteri)) if i != j])\n",
    "                                   for j in range(len(split_poteri))]"
   ]
  },
  {
   "cell_type": "markdown",
   "metadata": {
    "deletable": true,
    "editable": true
   },
   "source": [
    "## Word2Vec\n"
   ]
  },
  {
   "cell_type": "code",
   "execution_count": null,
   "metadata": {
    "collapsed": true,
    "deletable": true,
    "editable": true
   },
   "outputs": [],
   "source": [
    "sentences_tokenized = [sent for doc in txts_tokenized for sent in doc] #i should reduce the dictionary also"
   ]
  },
  {
   "cell_type": "code",
   "execution_count": null,
   "metadata": {
    "collapsed": false,
    "deletable": true,
    "editable": true
   },
   "outputs": [],
   "source": [
    "w2v = Word2Vec(sentences_tokenized, size=100, window=5, min_count=5, workers=4)"
   ]
  },
  {
   "cell_type": "code",
   "execution_count": null,
   "metadata": {
    "collapsed": true,
    "deletable": true,
    "editable": true
   },
   "outputs": [],
   "source": [
    "w2v.wv['costitutivo']"
   ]
  },
  {
   "cell_type": "code",
   "execution_count": null,
   "metadata": {
    "collapsed": false,
    "deletable": true,
    "editable": true
   },
   "outputs": [],
   "source": [
    "cosine_similarity(w2v.wv['atto'], w2v.wv['costitutivo'])"
   ]
  },
  {
   "cell_type": "code",
   "execution_count": null,
   "metadata": {
    "collapsed": true,
    "deletable": true,
    "editable": true
   },
   "outputs": [],
   "source": [
    "w2v.most_similar('poteri')"
   ]
  },
  {
   "cell_type": "code",
   "execution_count": null,
   "metadata": {
    "collapsed": true,
    "deletable": true,
    "editable": true
   },
   "outputs": [],
   "source": [
    "w2v.most_similar(positive=['atto','costitutivo'])"
   ]
  },
  {
   "cell_type": "markdown",
   "metadata": {
    "deletable": true,
    "editable": true
   },
   "source": [
    "## Italian names"
   ]
  },
  {
   "cell_type": "code",
   "execution_count": null,
   "metadata": {
    "collapsed": true,
    "deletable": true,
    "editable": true
   },
   "outputs": [],
   "source": [
    "nomi = set(n.strip().lower() for n in open('lib/nomi_italiani.txt'))\n",
    "cognomi = set(n.strip().lower() for n in open('lib/cognomi.txt'))"
   ]
  },
  {
   "cell_type": "code",
   "execution_count": null,
   "metadata": {
    "collapsed": false,
    "deletable": true,
    "editable": true
   },
   "outputs": [],
   "source": [
    "docs = [wd.tokenize_doc(txt) for txt in txts]\n"
   ]
  },
  {
   "cell_type": "code",
   "execution_count": null,
   "metadata": {
    "collapsed": false,
    "deletable": true,
    "editable": true
   },
   "outputs": [],
   "source": [
    "for doc in docs:\n",
    "    print([n for sent in doc for n in sent if n in cognomi])"
   ]
  },
  {
   "cell_type": "code",
   "execution_count": null,
   "metadata": {
    "collapsed": true,
    "deletable": true,
    "editable": true
   },
   "outputs": [],
   "source": []
  }
 ],
 "metadata": {
  "kernelspec": {
   "display_name": "Python 2",
   "language": "python",
   "name": "python2"
  },
  "language_info": {
   "codemirror_mode": {
    "name": "ipython",
    "version": 2
   },
   "file_extension": ".py",
   "mimetype": "text/x-python",
   "name": "python",
   "nbconvert_exporter": "python",
   "pygments_lexer": "ipython2",
   "version": "2.7.12"
  }
 },
 "nbformat": 4,
 "nbformat_minor": 2
}

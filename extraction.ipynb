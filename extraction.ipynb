{
 "cells": [
  {
   "cell_type": "code",
   "execution_count": 2,
   "metadata": {
    "collapsed": false,
    "deletable": true,
    "editable": true
   },
   "outputs": [
    {
     "name": "stderr",
     "output_type": "stream",
     "text": [
      "Using TensorFlow backend.\n"
     ]
    }
   ],
   "source": [
    "from __future__ import print_function\n",
    "from __future__ import division\n",
    "from gensim.models import Doc2Vec, Word2Vec\n",
    "import lib.text_extraction as te\n",
    "from functools import partial\n",
    "import matplotlib.pyplot as plt\n",
    "import matplotlib\n",
    "from lib.parallelize import parallelize\n",
    "from collections import OrderedDict\n",
    "import lib.embedding as em\n",
    "import lib.words as wd\n",
    "import pandas as pd\n",
    "import numpy as np\n",
    "import operator\n",
    "import codecs\n",
    "import math\n",
    "import json\n",
    "import csv\n",
    "import os\n",
    "import re\n",
    "\n",
    "matplotlib.style.use('ggplot')"
   ]
  },
  {
   "cell_type": "markdown",
   "metadata": {
    "deletable": true,
    "editable": true
   },
   "source": [
    "## Sentencing"
   ]
  },
  {
   "cell_type": "code",
   "execution_count": 9,
   "metadata": {
    "collapsed": true
   },
   "outputs": [],
   "source": [
    "\n",
    "def list_dir(d):\n",
    "    return [os.path.join(d, f) for f in os.listdir(d)]"
   ]
  },
  {
   "cell_type": "code",
   "execution_count": null,
   "metadata": {
    "collapsed": false,
    "deletable": true,
    "editable": true
   },
   "outputs": [],
   "source": [
    "test_dir = '../extraction/esempi_descrizioni/'\n",
    "\n",
    "filenames = os.listdir(test_dir)\n",
    "full_filenames = list_dir(test_dir)\n",
    "\n",
    "txts = [te.extract_text(f, do_ocr=True, pages=-1) for f in full_filenames]\n",
    "\n",
    "#txts = parallelize(te.extract_text)(full_filenames, do_ocr=True, pages=-1) #Doesn't work with do_ocr=True"
   ]
  },
  {
   "cell_type": "code",
   "execution_count": null,
   "metadata": {
    "collapsed": true,
    "deletable": true,
    "editable": true
   },
   "outputs": [],
   "source": [
    "for i, txt in zip(filenames, txts):\n",
    "    print('Documento ', i)\n",
    "    print(txt[:1000])"
   ]
  },
  {
   "cell_type": "code",
   "execution_count": null,
   "metadata": {
    "collapsed": false,
    "deletable": true,
    "editable": true,
    "scrolled": true
   },
   "outputs": [],
   "source": [
    "extracted_txts_dir = '../extraction/esempi_extracted/'\n",
    "\n",
    "for fn, txt in zip(filenames, txts):\n",
    "    utxt = wd.to_utf8(txt)\n",
    "    with codecs.open(os.path.join(extracted_txts_dir, fn[:-3])+'txt', 'w', encoding='utf-8') as o:\n",
    "        o.write(utxt)\n"
   ]
  },
  {
   "cell_type": "code",
   "execution_count": null,
   "metadata": {
    "collapsed": false,
    "deletable": true,
    "editable": true
   },
   "outputs": [],
   "source": [
    "sentences_dir = '../extraction/esempi_sentences/'\n",
    "\n",
    "sentences = [wd.sentences_doc(txt) for txt in txts]\n",
    "\n",
    "for fn, txt in zip(filenames, sentences):\n",
    "    with codecs.open(os.path.join(sentences_dir, fn[:-3])+'txt', 'w', encoding='utf-8') as o:\n",
    "        o.write('\\n'.join(s.replace('\\n',' ').strip() for s in txt if s.strip()))"
   ]
  },
  {
   "cell_type": "markdown",
   "metadata": {
    "deletable": true,
    "editable": true
   },
   "source": [
    "## Saving sentences"
   ]
  },
  {
   "cell_type": "code",
   "execution_count": null,
   "metadata": {
    "collapsed": false,
    "deletable": true,
    "editable": true
   },
   "outputs": [],
   "source": [
    "sentenced_txts = [wd.sentences_doc(txt) for txt in txts]"
   ]
  },
  {
   "cell_type": "code",
   "execution_count": null,
   "metadata": {
    "collapsed": false,
    "deletable": true,
    "editable": true
   },
   "outputs": [],
   "source": [
    "def sentence_label_csv_empty(filenames, sentenced_txts, csv_out, sep=u'\\t', min_len=10):\n",
    "    csv_out.write(sep.join([u'filename',u'sent_index',u'sentence',u'label']) + u'\\n')\n",
    "    for f, sents in zip(filenames, sentenced_txts):\n",
    "        for i, sent in enumerate(sents):\n",
    "            clean_sent = sent.replace(sep,u'').replace(u'\\n',u' ').strip()\n",
    "            if len(clean_sent)>=min_len:\n",
    "                csv_out.write(sep.join([u'{}',u'{}',u'{}',u'non_rilevante']).format(f,i,clean_sent)+u'\\n')\n",
    "    "
   ]
  },
  {
   "cell_type": "code",
   "execution_count": null,
   "metadata": {
    "collapsed": false,
    "deletable": true,
    "editable": true
   },
   "outputs": [],
   "source": [
    "csv_filename = '../extraction/sentence_labels.csv'\n",
    "with codecs.open(csv_filename, 'w', encoding='utf-8') as csv_out:\n",
    "    sentence_label_csv_empty(os.listdir(test_dir), sentenced_txts, csv_out)"
   ]
  },
  {
   "cell_type": "code",
   "execution_count": null,
   "metadata": {
    "collapsed": false,
    "deletable": true,
    "editable": true,
    "scrolled": true
   },
   "outputs": [],
   "source": [
    "df = pd.read_csv(csv_filename, sep='\\t', encoding='utf-8', quoting=csv.QUOTE_NONE)"
   ]
  },
  {
   "cell_type": "code",
   "execution_count": null,
   "metadata": {
    "collapsed": false,
    "deletable": true,
    "editable": true
   },
   "outputs": [],
   "source": [
    "df"
   ]
  },
  {
   "cell_type": "code",
   "execution_count": null,
   "metadata": {
    "collapsed": true,
    "deletable": true,
    "editable": true
   },
   "outputs": [],
   "source": [
    "labelled_filename = '../extraction/sentence_manual_labels.csv'\n",
    "dfm = pd.read_csv(labelled_filename, sep='\\t', encoding='utf-8', quoting=csv.QUOTE_NONE)"
   ]
  },
  {
   "cell_type": "markdown",
   "metadata": {},
   "source": [
    "## Save to excel files"
   ]
  },
  {
   "cell_type": "code",
   "execution_count": 24,
   "metadata": {
    "collapsed": true
   },
   "outputs": [],
   "source": [
    "def sentences_to_excel(sentences, filename, out_dir, sep=u'\\t', min_len=10):\n",
    "    clean_sents = [sent.replace(sep,u'').replace(u'\\n',u' ').strip() for sent in sentences]\n",
    "    clean_sents = [sent for sent in clean_sents if len(sent)>=min_len]\n",
    "    df = pd.DataFrame({'sentence':clean_sents,'label':['non_rilevante']*len(clean_sents)})\n",
    "    df.to_excel(os.path.join(out_dir, os.path.basename(filename)[:-3]+'xlsx'), index=False, encoding='utf-8')"
   ]
  },
  {
   "cell_type": "code",
   "execution_count": 25,
   "metadata": {
    "collapsed": false
   },
   "outputs": [],
   "source": [
    "files_to_label = [f for f in list_dir('../extraction/files_to_label/') if f.endswith('.pdf')]\n",
    "txts_to_label = [te.extract_text(f, do_ocr=True, pages=-1) for f in files_to_label]\n",
    "sentences_to_label = [wd.sentences_doc(txt) for txt in txts_to_label]"
   ]
  },
  {
   "cell_type": "code",
   "execution_count": 26,
   "metadata": {
    "collapsed": false
   },
   "outputs": [],
   "source": [
    "for f, s in zip(files_to_label, sentences_to_label):\n",
    "    sentences_to_excel(s, f, '../extraction/excels_to_label/')"
   ]
  },
  {
   "cell_type": "code",
   "execution_count": 23,
   "metadata": {
    "collapsed": false
   },
   "outputs": [
    {
     "data": {
      "text/html": [
       "<div>\n",
       "<style>\n",
       "    .dataframe thead tr:only-child th {\n",
       "        text-align: right;\n",
       "    }\n",
       "\n",
       "    .dataframe thead th {\n",
       "        text-align: left;\n",
       "    }\n",
       "\n",
       "    .dataframe tbody tr th {\n",
       "        vertical-align: top;\n",
       "    }\n",
       "</style>\n",
       "<table border=\"1\" class=\"dataframe\">\n",
       "  <thead>\n",
       "    <tr style=\"text-align: right;\">\n",
       "      <th></th>\n",
       "      <th>label</th>\n",
       "      <th>sentence</th>\n",
       "    </tr>\n",
       "  </thead>\n",
       "  <tbody>\n",
       "    <tr>\n",
       "      <th>0</th>\n",
       "      <td>non_rilevante</td>\n",
       "      <td>Rep N 38477 Racc N 27559 COSTITUZIONE DI SOCIE...</td>\n",
       "    </tr>\n",
       "    <tr>\n",
       "      <th>1</th>\n",
       "      <td>non_rilevante</td>\n",
       "      <td>il quale interviene al presente atto sia in no...</td>\n",
       "    </tr>\n",
       "    <tr>\n",
       "      <th>2</th>\n",
       "      <td>non_rilevante</td>\n",
       "      <td>- CELLINI MASSIMO, nato a Roma il 25 marzo 196...</td>\n",
       "    </tr>\n",
       "    <tr>\n",
       "      <th>3</th>\n",
       "      <td>non_rilevante</td>\n",
       "      <td>Detti comparenti, della cui identità personale...</td>\n",
       "    </tr>\n",
       "    <tr>\n",
       "      <th>4</th>\n",
       "      <td>non_rilevante</td>\n",
       "      <td>Il primo esercizio sociale si chiude il 31 dic...</td>\n",
       "    </tr>\n",
       "    <tr>\n",
       "      <th>5</th>\n",
       "      <td>non_rilevante</td>\n",
       "      <td>I comparenti nominano Amministratore Unico a t...</td>\n",
       "    </tr>\n",
       "    <tr>\n",
       "      <th>6</th>\n",
       "      <td>non_rilevante</td>\n",
       "      <td>Viene versato il 25% del suddetto capitale all...</td>\n",
       "    </tr>\n",
       "    <tr>\n",
       "      <th>7</th>\n",
       "      <td>non_rilevante</td>\n",
       "      <td>- Euro 5000,00 (cinquemila virgola zero zero) ...</td>\n",
       "    </tr>\n",
       "    <tr>\n",
       "      <th>8</th>\n",
       "      <td>non_rilevante</td>\n",
       "      <td>- Euro 2500,00 (duemilacinquecento virgola zer...</td>\n",
       "    </tr>\n",
       "    <tr>\n",
       "      <th>9</th>\n",
       "      <td>non_rilevante</td>\n",
       "      <td>Intestato alla Società</td>\n",
       "    </tr>\n",
       "    <tr>\n",
       "      <th>10</th>\n",
       "      <td>non_rilevante</td>\n",
       "      <td>Le spese del presente atto e conseguenziali so...</td>\n",
       "    </tr>\n",
       "    <tr>\n",
       "      <th>11</th>\n",
       "      <td>non_rilevante</td>\n",
       "      <td>L'organizzazione, l'oggetto ed il funzionament...</td>\n",
       "    </tr>\n",
       "    <tr>\n",
       "      <th>12</th>\n",
       "      <td>non_rilevante</td>\n",
       "      <td>Articolo 2 - La Società ha per oggetto: La soc...</td>\n",
       "    </tr>\n",
       "    <tr>\n",
       "      <th>13</th>\n",
       "      <td>non_rilevante</td>\n",
       "      <td>Per il raggiungimento dell'oggetto sociale la ...</td>\n",
       "    </tr>\n",
       "    <tr>\n",
       "      <th>14</th>\n",
       "      <td>non_rilevante</td>\n",
       "      <td>la stipulazione di mutui con Istituti di Credi...</td>\n",
       "    </tr>\n",
       "    <tr>\n",
       "      <th>15</th>\n",
       "      <td>non_rilevante</td>\n",
       "      <td>l'assunzione e la concessione di garanzie real...</td>\n",
       "    </tr>\n",
       "    <tr>\n",
       "      <th>16</th>\n",
       "      <td>non_rilevante</td>\n",
       "      <td>Tutte tali attività devono essere svolte nei l...</td>\n",
       "    </tr>\n",
       "    <tr>\n",
       "      <th>17</th>\n",
       "      <td>non_rilevante</td>\n",
       "      <td>in particolare le attività di natura finanziar...</td>\n",
       "    </tr>\n",
       "    <tr>\n",
       "      <th>18</th>\n",
       "      <td>non_rilevante</td>\n",
       "      <td>- della legge 7 giugno 1974 n 216, in tema di ...</td>\n",
       "    </tr>\n",
       "    <tr>\n",
       "      <th>19</th>\n",
       "      <td>non_rilevante</td>\n",
       "      <td>- della legge 5 agosto 1981 n 416, in tema di ...</td>\n",
       "    </tr>\n",
       "    <tr>\n",
       "      <th>20</th>\n",
       "      <td>non_rilevante</td>\n",
       "      <td>- della legge 23 marzo 1983 n 77, in tema di f...</td>\n",
       "    </tr>\n",
       "    <tr>\n",
       "      <th>21</th>\n",
       "      <td>non_rilevante</td>\n",
       "      <td>- della legge 10 ottobre 1990 n 287, in tema d...</td>\n",
       "    </tr>\n",
       "    <tr>\n",
       "      <th>22</th>\n",
       "      <td>non_rilevante</td>\n",
       "      <td>- della legge 2 gennaio 1991 n 1, in tema di a...</td>\n",
       "    </tr>\n",
       "    <tr>\n",
       "      <th>23</th>\n",
       "      <td>non_rilevante</td>\n",
       "      <td>- del DLgs 1 settembre 1993 n 385, in materia ...</td>\n",
       "    </tr>\n",
       "    <tr>\n",
       "      <th>24</th>\n",
       "      <td>non_rilevante</td>\n",
       "      <td>- dell'articolo 26 legge 7 marzo 1996 n 108 in...</td>\n",
       "    </tr>\n",
       "    <tr>\n",
       "      <th>25</th>\n",
       "      <td>non_rilevante</td>\n",
       "      <td>- del DLsg 24 febbraio 1998 n 58 in materia di...</td>\n",
       "    </tr>\n",
       "    <tr>\n",
       "      <th>26</th>\n",
       "      <td>non_rilevante</td>\n",
       "      <td>- del DLgs 25 settembre 1999 n 374 (e DM 13 di...</td>\n",
       "    </tr>\n",
       "    <tr>\n",
       "      <th>27</th>\n",
       "      <td>non_rilevante</td>\n",
       "      <td>nonchè nel rispetto della normativa in tema di...</td>\n",
       "    </tr>\n",
       "    <tr>\n",
       "      <th>28</th>\n",
       "      <td>non_rilevante</td>\n",
       "      <td>Articolo 3 - La Società avrà durata fino al 31...</td>\n",
       "    </tr>\n",
       "    <tr>\n",
       "      <th>29</th>\n",
       "      <td>non_rilevante</td>\n",
       "      <td>potrà essere prorogata con deliberazione dell'...</td>\n",
       "    </tr>\n",
       "    <tr>\n",
       "      <th>...</th>\n",
       "      <td>...</td>\n",
       "      <td>...</td>\n",
       "    </tr>\n",
       "    <tr>\n",
       "      <th>58</th>\n",
       "      <td>non_rilevante</td>\n",
       "      <td>Articolo 11 - La Società, a scelta dell'Assemb...</td>\n",
       "    </tr>\n",
       "    <tr>\n",
       "      <th>59</th>\n",
       "      <td>non_rilevante</td>\n",
       "      <td>Tanto l'Amministratore Unico che i membri del ...</td>\n",
       "    </tr>\n",
       "    <tr>\n",
       "      <th>60</th>\n",
       "      <td>non_rilevante</td>\n",
       "      <td>Articolo 12 - Il Consiglio di Amministrazione,...</td>\n",
       "    </tr>\n",
       "    <tr>\n",
       "      <th>61</th>\n",
       "      <td>non_rilevante</td>\n",
       "      <td>Può nominare un Segretario scelto anche al di ...</td>\n",
       "    </tr>\n",
       "    <tr>\n",
       "      <th>62</th>\n",
       "      <td>non_rilevante</td>\n",
       "      <td>Articolo 13 - Il Consiglio di Amministrazione ...</td>\n",
       "    </tr>\n",
       "    <tr>\n",
       "      <th>63</th>\n",
       "      <td>non_rilevante</td>\n",
       "      <td>Esso può riunirsi così presso la sede sociale ...</td>\n",
       "    </tr>\n",
       "    <tr>\n",
       "      <th>64</th>\n",
       "      <td>non_rilevante</td>\n",
       "      <td>Le convocazioni si fanno per lettera raccomand...</td>\n",
       "    </tr>\n",
       "    <tr>\n",
       "      <th>65</th>\n",
       "      <td>non_rilevante</td>\n",
       "      <td>in casi di urgenza, mediante telegramma spedit...</td>\n",
       "    </tr>\n",
       "    <tr>\n",
       "      <th>66</th>\n",
       "      <td>non_rilevante</td>\n",
       "      <td>Le sedute sono presiedute dal Presidente o da ...</td>\n",
       "    </tr>\n",
       "    <tr>\n",
       "      <th>67</th>\n",
       "      <td>non_rilevante</td>\n",
       "      <td>Per la validità delle sedute del Consiglio di ...</td>\n",
       "    </tr>\n",
       "    <tr>\n",
       "      <th>68</th>\n",
       "      <td>non_rilevante</td>\n",
       "      <td>I membri potranno partecipare alle sedute anch...</td>\n",
       "    </tr>\n",
       "    <tr>\n",
       "      <th>69</th>\n",
       "      <td>non_rilevante</td>\n",
       "      <td>Le deliberazioni sono prese a maggioranza dei ...</td>\n",
       "    </tr>\n",
       "    <tr>\n",
       "      <th>70</th>\n",
       "      <td>non_rilevante</td>\n",
       "      <td>In caso di parità prevale il voto di chi presiede</td>\n",
       "    </tr>\n",
       "    <tr>\n",
       "      <th>71</th>\n",
       "      <td>non_rilevante</td>\n",
       "      <td>Articolo 14 - All'Organo Amministrativo spetta...</td>\n",
       "    </tr>\n",
       "    <tr>\n",
       "      <th>72</th>\n",
       "      <td>non_rilevante</td>\n",
       "      <td>L'organo amministrativo, tra l'altro, può comp...</td>\n",
       "    </tr>\n",
       "    <tr>\n",
       "      <th>73</th>\n",
       "      <td>non_rilevante</td>\n",
       "      <td>Articolo 15 - La firma sociale e la rappresent...</td>\n",
       "    </tr>\n",
       "    <tr>\n",
       "      <th>74</th>\n",
       "      <td>non_rilevante</td>\n",
       "      <td>Articolo 16 - Il Consiglio di Amministrazione ...</td>\n",
       "    </tr>\n",
       "    <tr>\n",
       "      <th>75</th>\n",
       "      <td>non_rilevante</td>\n",
       "      <td>Articolo 17 - Ove ricorrano gli estremi di leg...</td>\n",
       "    </tr>\n",
       "    <tr>\n",
       "      <th>76</th>\n",
       "      <td>non_rilevante</td>\n",
       "      <td>Articolo 18 - L'esercizio sociale si chiude al...</td>\n",
       "    </tr>\n",
       "    <tr>\n",
       "      <th>77</th>\n",
       "      <td>non_rilevante</td>\n",
       "      <td>Gli utili netti di esercizio, dedotto il cinqu...</td>\n",
       "    </tr>\n",
       "    <tr>\n",
       "      <th>78</th>\n",
       "      <td>non_rilevante</td>\n",
       "      <td>Agli Amministratori spetta un compenso, oltre ...</td>\n",
       "    </tr>\n",
       "    <tr>\n",
       "      <th>79</th>\n",
       "      <td>non_rilevante</td>\n",
       "      <td>Articolo 19 - La Società si scioglie nei casi ...</td>\n",
       "    </tr>\n",
       "    <tr>\n",
       "      <th>80</th>\n",
       "      <td>non_rilevante</td>\n",
       "      <td>In caso di scioglimento l'assemblea nominerà u...</td>\n",
       "    </tr>\n",
       "    <tr>\n",
       "      <th>81</th>\n",
       "      <td>non_rilevante</td>\n",
       "      <td>Articolo 20 - Qualunque controversia, comprome...</td>\n",
       "    </tr>\n",
       "    <tr>\n",
       "      <th>82</th>\n",
       "      <td>non_rilevante</td>\n",
       "      <td>Articolo 21 - Per quanto non previsto dal pres...</td>\n",
       "    </tr>\n",
       "    <tr>\n",
       "      <th>83</th>\n",
       "      <td>non_rilevante</td>\n",
       "      <td>Di quanto sopra richiesto ricevo il presente a...</td>\n",
       "    </tr>\n",
       "    <tr>\n",
       "      <th>84</th>\n",
       "      <td>non_rilevante</td>\n",
       "      <td>Dattiloscritto da persona di mia fiducia e com...</td>\n",
       "    </tr>\n",
       "    <tr>\n",
       "      <th>85</th>\n",
       "      <td>non_rilevante</td>\n",
       "      <td>La sottoscrizione avviene alle ore diciassette...</td>\n",
       "    </tr>\n",
       "    <tr>\n",
       "      <th>86</th>\n",
       "      <td>non_rilevante</td>\n",
       "      <td>Firmato all'originale: \" Giuseppe Matticari \" ...</td>\n",
       "    </tr>\n",
       "    <tr>\n",
       "      <th>87</th>\n",
       "      <td>non_rilevante</td>\n",
       "      <td>Bollo assolto ai sensi del decreto 22/02/2007 ...</td>\n",
       "    </tr>\n",
       "  </tbody>\n",
       "</table>\n",
       "<p>88 rows × 2 columns</p>\n",
       "</div>"
      ],
      "text/plain": [
       "            label                                           sentence\n",
       "0   non_rilevante  Rep N 38477 Racc N 27559 COSTITUZIONE DI SOCIE...\n",
       "1   non_rilevante  il quale interviene al presente atto sia in no...\n",
       "2   non_rilevante  - CELLINI MASSIMO, nato a Roma il 25 marzo 196...\n",
       "3   non_rilevante  Detti comparenti, della cui identità personale...\n",
       "4   non_rilevante  Il primo esercizio sociale si chiude il 31 dic...\n",
       "5   non_rilevante  I comparenti nominano Amministratore Unico a t...\n",
       "6   non_rilevante  Viene versato il 25% del suddetto capitale all...\n",
       "7   non_rilevante  - Euro 5000,00 (cinquemila virgola zero zero) ...\n",
       "8   non_rilevante  - Euro 2500,00 (duemilacinquecento virgola zer...\n",
       "9   non_rilevante                             Intestato alla Società\n",
       "10  non_rilevante  Le spese del presente atto e conseguenziali so...\n",
       "11  non_rilevante  L'organizzazione, l'oggetto ed il funzionament...\n",
       "12  non_rilevante  Articolo 2 - La Società ha per oggetto: La soc...\n",
       "13  non_rilevante  Per il raggiungimento dell'oggetto sociale la ...\n",
       "14  non_rilevante  la stipulazione di mutui con Istituti di Credi...\n",
       "15  non_rilevante  l'assunzione e la concessione di garanzie real...\n",
       "16  non_rilevante  Tutte tali attività devono essere svolte nei l...\n",
       "17  non_rilevante  in particolare le attività di natura finanziar...\n",
       "18  non_rilevante  - della legge 7 giugno 1974 n 216, in tema di ...\n",
       "19  non_rilevante  - della legge 5 agosto 1981 n 416, in tema di ...\n",
       "20  non_rilevante  - della legge 23 marzo 1983 n 77, in tema di f...\n",
       "21  non_rilevante  - della legge 10 ottobre 1990 n 287, in tema d...\n",
       "22  non_rilevante  - della legge 2 gennaio 1991 n 1, in tema di a...\n",
       "23  non_rilevante  - del DLgs 1 settembre 1993 n 385, in materia ...\n",
       "24  non_rilevante  - dell'articolo 26 legge 7 marzo 1996 n 108 in...\n",
       "25  non_rilevante  - del DLsg 24 febbraio 1998 n 58 in materia di...\n",
       "26  non_rilevante  - del DLgs 25 settembre 1999 n 374 (e DM 13 di...\n",
       "27  non_rilevante  nonchè nel rispetto della normativa in tema di...\n",
       "28  non_rilevante  Articolo 3 - La Società avrà durata fino al 31...\n",
       "29  non_rilevante  potrà essere prorogata con deliberazione dell'...\n",
       "..            ...                                                ...\n",
       "58  non_rilevante  Articolo 11 - La Società, a scelta dell'Assemb...\n",
       "59  non_rilevante  Tanto l'Amministratore Unico che i membri del ...\n",
       "60  non_rilevante  Articolo 12 - Il Consiglio di Amministrazione,...\n",
       "61  non_rilevante  Può nominare un Segretario scelto anche al di ...\n",
       "62  non_rilevante  Articolo 13 - Il Consiglio di Amministrazione ...\n",
       "63  non_rilevante  Esso può riunirsi così presso la sede sociale ...\n",
       "64  non_rilevante  Le convocazioni si fanno per lettera raccomand...\n",
       "65  non_rilevante  in casi di urgenza, mediante telegramma spedit...\n",
       "66  non_rilevante  Le sedute sono presiedute dal Presidente o da ...\n",
       "67  non_rilevante  Per la validità delle sedute del Consiglio di ...\n",
       "68  non_rilevante  I membri potranno partecipare alle sedute anch...\n",
       "69  non_rilevante  Le deliberazioni sono prese a maggioranza dei ...\n",
       "70  non_rilevante  In caso di parità prevale il voto di chi presiede\n",
       "71  non_rilevante  Articolo 14 - All'Organo Amministrativo spetta...\n",
       "72  non_rilevante  L'organo amministrativo, tra l'altro, può comp...\n",
       "73  non_rilevante  Articolo 15 - La firma sociale e la rappresent...\n",
       "74  non_rilevante  Articolo 16 - Il Consiglio di Amministrazione ...\n",
       "75  non_rilevante  Articolo 17 - Ove ricorrano gli estremi di leg...\n",
       "76  non_rilevante  Articolo 18 - L'esercizio sociale si chiude al...\n",
       "77  non_rilevante  Gli utili netti di esercizio, dedotto il cinqu...\n",
       "78  non_rilevante  Agli Amministratori spetta un compenso, oltre ...\n",
       "79  non_rilevante  Articolo 19 - La Società si scioglie nei casi ...\n",
       "80  non_rilevante  In caso di scioglimento l'assemblea nominerà u...\n",
       "81  non_rilevante  Articolo 20 - Qualunque controversia, comprome...\n",
       "82  non_rilevante  Articolo 21 - Per quanto non previsto dal pres...\n",
       "83  non_rilevante  Di quanto sopra richiesto ricevo il presente a...\n",
       "84  non_rilevante  Dattiloscritto da persona di mia fiducia e com...\n",
       "85  non_rilevante  La sottoscrizione avviene alle ore diciassette...\n",
       "86  non_rilevante  Firmato all'originale: \" Giuseppe Matticari \" ...\n",
       "87  non_rilevante  Bollo assolto ai sensi del decreto 22/02/2007 ...\n",
       "\n",
       "[88 rows x 2 columns]"
      ]
     },
     "execution_count": 23,
     "metadata": {},
     "output_type": "execute_result"
    }
   ],
   "source": []
  },
  {
   "cell_type": "markdown",
   "metadata": {
    "deletable": true,
    "editable": true
   },
   "source": [
    "## Experiments on labelled sentences"
   ]
  },
  {
   "cell_type": "code",
   "execution_count": 3,
   "metadata": {
    "collapsed": true,
    "deletable": true,
    "editable": true
   },
   "outputs": [],
   "source": [
    "def cosine_similarity(a,b):\n",
    "    return np.dot(a,b)/(np.linalg.norm(a)*np.linalg.norm(b))\n",
    "\n",
    "def splitted_words_lower(sentences):\n",
    "    return [[w.lower() for w in wd.splitted_words_utf8(s)] for s in sentences]\n"
   ]
  },
  {
   "cell_type": "code",
   "execution_count": 4,
   "metadata": {
    "collapsed": false,
    "deletable": true,
    "editable": true
   },
   "outputs": [],
   "source": [
    "labeled_csv_filename = '../extraction/sentence_manual_labels3.csv'\n",
    "\n",
    "ldf = pd.read_csv(labeled_csv_filename, sep='\\t', encoding='utf-8', quoting=csv.QUOTE_NONE)"
   ]
  },
  {
   "cell_type": "code",
   "execution_count": 5,
   "metadata": {
    "collapsed": false
   },
   "outputs": [
    {
     "data": {
      "text/html": [
       "<div>\n",
       "<style>\n",
       "    .dataframe thead tr:only-child th {\n",
       "        text-align: right;\n",
       "    }\n",
       "\n",
       "    .dataframe thead th {\n",
       "        text-align: left;\n",
       "    }\n",
       "\n",
       "    .dataframe tbody tr th {\n",
       "        vertical-align: top;\n",
       "    }\n",
       "</style>\n",
       "<table border=\"1\" class=\"dataframe\">\n",
       "  <thead>\n",
       "    <tr style=\"text-align: right;\">\n",
       "      <th></th>\n",
       "      <th>filename</th>\n",
       "      <th>sent_index</th>\n",
       "      <th>sentence</th>\n",
       "    </tr>\n",
       "    <tr>\n",
       "      <th>label</th>\n",
       "      <th></th>\n",
       "      <th></th>\n",
       "      <th></th>\n",
       "    </tr>\n",
       "  </thead>\n",
       "  <tbody>\n",
       "    <tr>\n",
       "      <th>clausola</th>\n",
       "      <td>166</td>\n",
       "      <td>166</td>\n",
       "      <td>166</td>\n",
       "    </tr>\n",
       "    <tr>\n",
       "      <th>finanziario</th>\n",
       "      <td>7</td>\n",
       "      <td>7</td>\n",
       "      <td>7</td>\n",
       "    </tr>\n",
       "    <tr>\n",
       "      <th>gestione</th>\n",
       "      <td>90</td>\n",
       "      <td>90</td>\n",
       "      <td>90</td>\n",
       "    </tr>\n",
       "    <tr>\n",
       "      <th>non_rilevante</th>\n",
       "      <td>2077</td>\n",
       "      <td>2077</td>\n",
       "      <td>2077</td>\n",
       "    </tr>\n",
       "    <tr>\n",
       "      <th>poteri</th>\n",
       "      <td>26</td>\n",
       "      <td>26</td>\n",
       "      <td>26</td>\n",
       "    </tr>\n",
       "  </tbody>\n",
       "</table>\n",
       "</div>"
      ],
      "text/plain": [
       "               filename  sent_index  sentence\n",
       "label                                        \n",
       "clausola            166         166       166\n",
       "finanziario           7           7         7\n",
       "gestione             90          90        90\n",
       "non_rilevante      2077        2077      2077\n",
       "poteri               26          26        26"
      ]
     },
     "execution_count": 5,
     "metadata": {},
     "output_type": "execute_result"
    }
   ],
   "source": [
    "ldf.groupby('label').count()"
   ]
  },
  {
   "cell_type": "code",
   "execution_count": null,
   "metadata": {
    "collapsed": false,
    "deletable": true,
    "editable": true
   },
   "outputs": [],
   "source": [
    "labels = ['poteri', 'gestione', 'finanziario', 'clausola']\n",
    "\n",
    "sentences_rows = {l:ldf.loc[ldf['label'] == l]['sentence'] for l in labels}\n",
    "\n",
    "splits = {l:splitted_words_lower(sentences_rows[l]) for l in labels}"
   ]
  },
  {
   "cell_type": "code",
   "execution_count": 1,
   "metadata": {
    "collapsed": false,
    "deletable": true,
    "editable": true
   },
   "outputs": [],
   "source": [
    "def word_counts(sentences):\n",
    "    d = dict()\n",
    "    for sentence in sentences:\n",
    "        for word in sentence:\n",
    "            if not word in d:\n",
    "                d[word] = 1\n",
    "            else:\n",
    "                d[word] += 1\n",
    "    return d\n",
    "\n",
    "def first_n_words(sentences, n):\n",
    "    wc = word_counts(sentences)\n",
    "    sorted_wc = sorted(wc.items(), key=operator.itemgetter(1))\n",
    "    return list(reversed([x for x in sorted_wc[-n:]]))\n"
   ]
  },
  {
   "cell_type": "code",
   "execution_count": null,
   "metadata": {
    "collapsed": true,
    "deletable": true,
    "editable": true
   },
   "outputs": [],
   "source": [
    "first_n_words(split_poteri, 50)"
   ]
  },
  {
   "cell_type": "markdown",
   "metadata": {
    "deletable": true,
    "editable": true
   },
   "source": [
    "## Tf Idf\n"
   ]
  },
  {
   "cell_type": "code",
   "execution_count": null,
   "metadata": {
    "collapsed": true,
    "deletable": true,
    "editable": true
   },
   "outputs": [],
   "source": [
    "def tf(word, sentence):\n",
    "    '''Term frequency in the sentence'''\n",
    "    return sum(1 for w in sentence if w == word)/len(sentence)\n",
    "\n",
    "def idf(word, documents):\n",
    "    '''Inverse document frequency'''\n",
    "    D = len(documents)\n",
    "    den = 1+sum(1 for sentence in documents if word in sentence)\n",
    "    return math.log(D/den)\n",
    "\n",
    "def idf_memo(documents):\n",
    "    '''Defines a memoized version of idf with the given set of documents'''\n",
    "    word_idf = {}\n",
    "    def memoized_idf(word):\n",
    "        if not word in word_idf:\n",
    "            word_idf[word] = idf(word, documents)\n",
    "        return word_idf[word]\n",
    "    return memoized_idf\n",
    "\n",
    "def tf_idf(word, sentence, sentences):\n",
    "    '''Simple tf-idf index'''\n",
    "    return tf(word, sentence)*idf(word, sentences)\n",
    "\n",
    "def tf_idf_memo(documents):\n",
    "    '''Defines a memoized version of tf-idf with the given set of documents'''\n",
    "    idf_memoized = idf_memo(documents)\n",
    "    def tf_idf_memoized(word, sentence):\n",
    "        return tf(word, sentence)*idf_memoized(word)\n",
    "    return tf_idf_memoized\n",
    "    "
   ]
  },
  {
   "cell_type": "code",
   "execution_count": null,
   "metadata": {
    "collapsed": false,
    "deletable": true,
    "editable": true
   },
   "outputs": [],
   "source": [
    "# On all sentences\n",
    "split_sentences = [[w.lower() for w in wd.splitted_words_utf8(s)] for s in ldf['sentence']]\n",
    "tf_idf_memoized = tf_idf_memo(split_sentences)"
   ]
  },
  {
   "cell_type": "code",
   "execution_count": null,
   "metadata": {
    "collapsed": true,
    "deletable": true,
    "editable": true
   },
   "outputs": [],
   "source": [
    "def sorted_tfidf_words(splitted_sentences , tf_idf_memoized):\n",
    "    words = set(word for sent in splitted_sentences for word in sent)\n",
    "    words_mean_tfidf = [(word, np.mean([tf_idf_memoized(word, s) for s in splitted_sentences])) for word in words]\n",
    "    return sorted(words_mean_tfidf, key=operator.itemgetter(1), reverse=True)"
   ]
  },
  {
   "cell_type": "code",
   "execution_count": null,
   "metadata": {
    "collapsed": true,
    "deletable": true,
    "editable": true
   },
   "outputs": [],
   "source": [
    "sorted_words = {k:sorted_tfidf_words(v, tf_idf_memoized) for k,v in splits.items()}\n"
   ]
  },
  {
   "cell_type": "code",
   "execution_count": null,
   "metadata": {
    "collapsed": false,
    "deletable": true,
    "editable": true,
    "scrolled": true
   },
   "outputs": [],
   "source": [
    "def print_parole_tf_idf(sorted_words, n = -1):\n",
    "    print(u'{:20}\\t{:20}\\n'.format(u'parola',u'mean tf-idf'))\n",
    "    if n < 0:\n",
    "        n = len(sorted_words)\n",
    "    for w, score in sorted_words[:n]:\n",
    "        print(u'{:20}\\t{:1.4f}'.format(w,score))"
   ]
  },
  {
   "cell_type": "code",
   "execution_count": null,
   "metadata": {
    "collapsed": false,
    "deletable": true,
    "editable": true
   },
   "outputs": [],
   "source": [
    "for k,v in sorted_words.items():\n",
    "    print('{}:'.format(k))\n",
    "    print_parole_tf_idf(v, 10)\n",
    "    print()"
   ]
  },
  {
   "cell_type": "code",
   "execution_count": null,
   "metadata": {
    "collapsed": false,
    "deletable": true,
    "editable": true
   },
   "outputs": [],
   "source": [
    "most_relevant_poteri_words = OrderedDict(sorted_words['poteri']) #[:8]"
   ]
  },
  {
   "cell_type": "code",
   "execution_count": null,
   "metadata": {
    "collapsed": true,
    "deletable": true,
    "editable": true
   },
   "outputs": [],
   "source": [
    "def score_sentence_frequency(sentence, most_relevant_words):\n",
    "    '''cosine distance between frequency of words in sentence and the most relevant words tf-idf'''\n",
    "    counts = OrderedDict((w, 0) for w in most_relevant_words.keys())\n",
    "    for w in sentence:\n",
    "        if w in counts:\n",
    "            counts[w] += 1\n",
    "    l = len(sentence)\n",
    "    frequencies = [v/l for v in counts.values()]\n",
    "    if np.linalg.norm(frequencies) == 0 or np.linalg.norm(most_relevant_words.values()) == 0:\n",
    "        return 0\n",
    "    return cosine_similarity(np.array(frequencies), np.array(most_relevant_words.values())) \n",
    "    \n",
    "def score_sentence_tf_idf(sentence, most_relevant_words, tf_idf_memoized):\n",
    "    '''cosine distance between tf-idf of words in sentence and the most relevant words tf-idf'''\n",
    "    tfidfs = OrderedDict((w, 0) for w in most_relevant_words.keys())\n",
    "    for w in sentence:\n",
    "        tfidfs[w] = tf_idf_memoized(w, sentence)\n",
    "    if np.linalg.norm(tfidfs.values()) == 0 or np.linalg.norm(most_relevant_words.values()) == 0:\n",
    "        return 0\n",
    "    l = min(len(tfidfs), len(most_relevant_words))\n",
    "    return cosine_similarity(np.array(tfidfs.values())[:l], np.array(most_relevant_words.values())[:l])"
   ]
  },
  {
   "cell_type": "code",
   "execution_count": null,
   "metadata": {
    "collapsed": false,
    "deletable": true,
    "editable": true
   },
   "outputs": [],
   "source": [
    "[score_sentence_tf_idf(split, OrderedDict(sorted_words['poteri']), tf_idf_memoized) for split in splits['poteri']]"
   ]
  },
  {
   "cell_type": "code",
   "execution_count": null,
   "metadata": {
    "collapsed": false,
    "deletable": true,
    "editable": true
   },
   "outputs": [],
   "source": [
    "score_sentence_tf_idf(split_sentences[1432], OrderedDict(sorted_words['poteri']), tf_idf_memoized)"
   ]
  },
  {
   "cell_type": "markdown",
   "metadata": {
    "deletable": true,
    "editable": true
   },
   "source": [
    "## Embeddings test"
   ]
  },
  {
   "cell_type": "code",
   "execution_count": null,
   "metadata": {
    "collapsed": false,
    "deletable": true,
    "editable": true
   },
   "outputs": [],
   "source": [
    "txts_tokenized = [wd.tokenize_doc(txt) for txt in txts]"
   ]
  },
  {
   "cell_type": "code",
   "execution_count": null,
   "metadata": {
    "collapsed": true,
    "deletable": true,
    "editable": true
   },
   "outputs": [],
   "source": [
    "reduced_dictionary_filename = 'first_5000_words.json'\n",
    "with open(reduced_dictionary_filename) as f:\n",
    "    reduced_dictionary = set(json.load(f))\n",
    "\n",
    "gensim_model_filename = 'models/gensim_model_5000.d2v'\n",
    "gensim_model = Doc2Vec.load(gensim_model_filename)"
   ]
  },
  {
   "cell_type": "code",
   "execution_count": null,
   "metadata": {
    "collapsed": false,
    "deletable": true,
    "editable": true
   },
   "outputs": [],
   "source": [
    "embeddings = [em.embed_document(gensim_model, txt, reduced_dictionary) for txt in txts_tokenized]"
   ]
  },
  {
   "cell_type": "code",
   "execution_count": null,
   "metadata": {
    "collapsed": false,
    "deletable": true,
    "editable": true
   },
   "outputs": [],
   "source": [
    "sv = partial(em.sentence_vector, model=gensim_model, permitted_words=reduced_dictionary)"
   ]
  },
  {
   "cell_type": "code",
   "execution_count": null,
   "metadata": {
    "collapsed": false,
    "deletable": true,
    "editable": true
   },
   "outputs": [],
   "source": [
    "p1 = u'All\\'organo amministrativo sono conferiti i più ampi poteri, sia per la gestione ordinaria che straordinaria della Società'\n",
    "p2 = u'ARTICOLO 19 - POTERI DELL\\'ORGANO AMMINISTRATIVO 191 L\\'organo amministrativo ha tutti i poteri di ordinaria e straordinaria amministrazione'\n",
    "cosine_similarity(sv(sentence=p1.lower()),sv(sentence=p2.lower())) "
   ]
  },
  {
   "cell_type": "code",
   "execution_count": null,
   "metadata": {
    "collapsed": false,
    "deletable": true,
    "editable": true
   },
   "outputs": [],
   "source": [
    "mean_cosines_poteri = [np.mean([cosine_similarity(sv(sentence=split_poteri[i]), sv(sentence=split_poteri[j]))\n",
    "                               for i in range(len(split_poteri)) if i != j])\n",
    "                                   for j in range(len(split_poteri))]"
   ]
  },
  {
   "cell_type": "code",
   "execution_count": null,
   "metadata": {
    "collapsed": false,
    "deletable": true,
    "editable": true,
    "scrolled": true
   },
   "outputs": [],
   "source": [
    "mean_cosines_poteri"
   ]
  },
  {
   "cell_type": "markdown",
   "metadata": {
    "deletable": true,
    "editable": true
   },
   "source": [
    "## Word2Vec\n"
   ]
  },
  {
   "cell_type": "code",
   "execution_count": null,
   "metadata": {
    "collapsed": true,
    "deletable": true,
    "editable": true
   },
   "outputs": [],
   "source": [
    "sentences_tokenized = [sent for doc in txts_tokenized for sent in doc] #i should reduce the dictionary also"
   ]
  },
  {
   "cell_type": "code",
   "execution_count": null,
   "metadata": {
    "collapsed": false,
    "deletable": true,
    "editable": true
   },
   "outputs": [],
   "source": [
    "w2v = Word2Vec(sentences_tokenized, size=100, window=5, min_count=5, workers=4)"
   ]
  },
  {
   "cell_type": "code",
   "execution_count": null,
   "metadata": {
    "collapsed": true,
    "deletable": true,
    "editable": true
   },
   "outputs": [],
   "source": [
    "w2v.wv['costitutivo']"
   ]
  },
  {
   "cell_type": "code",
   "execution_count": null,
   "metadata": {
    "collapsed": false,
    "deletable": true,
    "editable": true
   },
   "outputs": [],
   "source": [
    "cosine_similarity(w2v.wv['atto'], w2v.wv['costitutivo'])"
   ]
  },
  {
   "cell_type": "code",
   "execution_count": null,
   "metadata": {
    "collapsed": true,
    "deletable": true,
    "editable": true
   },
   "outputs": [],
   "source": [
    "w2v.most_similar('poteri')"
   ]
  },
  {
   "cell_type": "code",
   "execution_count": null,
   "metadata": {
    "collapsed": true,
    "deletable": true,
    "editable": true
   },
   "outputs": [],
   "source": [
    "w2v.most_similar(positive=['atto','costitutivo'])"
   ]
  },
  {
   "cell_type": "code",
   "execution_count": null,
   "metadata": {
    "collapsed": true,
    "deletable": true,
    "editable": true
   },
   "outputs": [],
   "source": []
  }
 ],
 "metadata": {
  "kernelspec": {
   "display_name": "Python 2",
   "language": "python",
   "name": "python2"
  },
  "language_info": {
   "codemirror_mode": {
    "name": "ipython",
    "version": 2
   },
   "file_extension": ".py",
   "mimetype": "text/x-python",
   "name": "python",
   "nbconvert_exporter": "python",
   "pygments_lexer": "ipython2",
   "version": "2.7.12"
  }
 },
 "nbformat": 4,
 "nbformat_minor": 2
}

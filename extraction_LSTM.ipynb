{
 "cells": [
  {
   "cell_type": "code",
   "execution_count": 1,
   "metadata": {
    "collapsed": false,
    "deletable": true,
    "editable": true
   },
   "outputs": [
    {
     "name": "stderr",
     "output_type": "stream",
     "text": [
      "Using TensorFlow backend.\n"
     ]
    }
   ],
   "source": [
    "from __future__ import print_function\n",
    "from __future__ import division\n",
    "from keras.models import Sequential, model_from_json\n",
    "from keras.utils.np_utils import to_categorical\n",
    "from keras.layers import Dense, LSTM, Embedding, Dropout\n",
    "from keras.preprocessing import sequence\n",
    "from sklearn.model_selection import train_test_split\n",
    "\n",
    "from lib.pretty_testing import predict_test\n",
    "import pickle\n",
    "import numpy as np\n",
    "import pandas as pd\n",
    "import matplotlib.pyplot as plt\n",
    "import matplotlib\n",
    "matplotlib.style.use('ggplot')\n",
    "%matplotlib inline"
   ]
  },
  {
   "cell_type": "code",
   "execution_count": 2,
   "metadata": {
    "collapsed": false,
    "deletable": true,
    "editable": true
   },
   "outputs": [],
   "source": [
    "top_words = 5000\n",
    "embedding_vector_length = 32\n",
    "maxlen = 100\n",
    "epochs = 20\n",
    "classes = ['poteri', 'scadenza', 'assemblea', 'clausola', 'non_riconducibile']"
   ]
  },
  {
   "cell_type": "code",
   "execution_count": 3,
   "metadata": {
    "collapsed": true
   },
   "outputs": [],
   "source": [
    "# load prepared data\n",
    "with open('../extraction/dataset.p') as f:\n",
    "    data, labels = pickle.load(f)"
   ]
  },
  {
   "cell_type": "code",
   "execution_count": 4,
   "metadata": {
    "collapsed": true,
    "deletable": true,
    "editable": true
   },
   "outputs": [],
   "source": [
    "padded_data = sequence.pad_sequences(data, maxlen, padding=\"pre\", truncating=\"post\", value=0, dtype='uint32')\n",
    "labels = np.array(labels)"
   ]
  },
  {
   "cell_type": "code",
   "execution_count": 5,
   "metadata": {
    "collapsed": false
   },
   "outputs": [
    {
     "name": "stdout",
     "output_type": "stream",
     "text": [
      "_________________________________________________________________\n",
      "Layer (type)                 Output Shape              Param #   \n",
      "=================================================================\n",
      "embedding_1 (Embedding)      (None, 100, 32)           160000    \n",
      "_________________________________________________________________\n",
      "lstm_1 (LSTM)                (None, 32)                8320      \n",
      "_________________________________________________________________\n",
      "dense_1 (Dense)              (None, 5)                 165       \n",
      "=================================================================\n",
      "Total params: 168,485\n",
      "Trainable params: 168,485\n",
      "Non-trainable params: 0\n",
      "_________________________________________________________________\n"
     ]
    }
   ],
   "source": [
    "model = Sequential()\n",
    "model.add(Embedding(top_words, embedding_vector_length, input_length=maxlen, mask_zero=True))\n",
    "model.add(LSTM(32, dropout=0.2))\n",
    "model.add(Dense(len(classes), activation='softmax'))\n",
    "model.compile(loss='categorical_crossentropy', optimizer='adam', metrics=['categorical_accuracy'])\n",
    "model.summary()"
   ]
  },
  {
   "cell_type": "code",
   "execution_count": 6,
   "metadata": {
    "collapsed": false
   },
   "outputs": [
    {
     "name": "stderr",
     "output_type": "stream",
     "text": [
      "/usr/local/lib/python2.7/dist-packages/sklearn/model_selection/_split.py:2010: FutureWarning: From version 0.21, test_size will always complement train_size unless both are specified.\n",
      "  FutureWarning)\n"
     ]
    }
   ],
   "source": [
    "X_train, X_test, y_train, y_test = train_test_split(padded_data, labels, train_size=0.9, stratify=labels)\n",
    "y_train_cat = to_categorical(y_train, num_classes=len(classes))\n",
    "y_test_cat = to_categorical(y_test, num_classes=len(classes))"
   ]
  },
  {
   "cell_type": "code",
   "execution_count": 7,
   "metadata": {
    "collapsed": false
   },
   "outputs": [
    {
     "data": {
      "text/plain": [
       "[(5000, 32), (32, 128), (32, 5)]"
      ]
     },
     "execution_count": 7,
     "metadata": {},
     "output_type": "execute_result"
    }
   ],
   "source": [
    "[l.get_weights()[0].shape for l in model.layers]"
   ]
  },
  {
   "cell_type": "code",
   "execution_count": 8,
   "metadata": {
    "collapsed": true
   },
   "outputs": [
    {
     "data": {
      "text/plain": [
       "{'categorical_accuracy': [0.61764705882352944,\n",
       "  0.64856711942505874,\n",
       "  0.66742081474934234,\n",
       "  0.73378582229082046,\n",
       "  0.81523378564221827,\n",
       "  0.86123680241327305,\n",
       "  0.87405731496408157,\n",
       "  0.88386123680241324,\n",
       "  0.90271493212669685,\n",
       "  0.92156862718127608,\n",
       "  0.95022624416408852,\n",
       "  0.97209653092006032,\n",
       "  0.97435897435897434,\n",
       "  0.97888386096709812,\n",
       "  0.95475113122171951,\n",
       "  0.97963800904977372,\n",
       "  0.9773755656108597,\n",
       "  0.98567119155354455,\n",
       "  0.98491704374057321,\n",
       "  0.98717948690978286],\n",
       " 'loss': [1.4055968781941617,\n",
       "  1.0831057480557471,\n",
       "  0.89607109698055376,\n",
       "  0.71155703319503527,\n",
       "  0.55825173072685486,\n",
       "  0.40504027387270558,\n",
       "  0.32607907348988102,\n",
       "  0.27740407446301002,\n",
       "  0.23588556506380237,\n",
       "  0.21841068732163127,\n",
       "  0.17782971671983308,\n",
       "  0.14115346119729283,\n",
       "  0.12362834447109861,\n",
       "  0.095812014392598177,\n",
       "  0.16785526786387236,\n",
       "  0.085015177108673304,\n",
       "  0.078531105459006129,\n",
       "  0.071829375275726776,\n",
       "  0.063006109306602817,\n",
       "  0.053079789389222636]}"
      ]
     },
     "execution_count": 8,
     "metadata": {},
     "output_type": "execute_result"
    }
   ],
   "source": [
    "h = model.fit(X_train,  y_train_cat, epochs=epochs, batch_size=32, verbose=0)\n",
    "h.history"
   ]
  },
  {
   "cell_type": "code",
   "execution_count": 9,
   "metadata": {
    "collapsed": false
   },
   "outputs": [
    {
     "data": {
      "text/plain": [
       "<matplotlib.axes._subplots.AxesSubplot at 0x7ff9c855f210>"
      ]
     },
     "execution_count": 9,
     "metadata": {},
     "output_type": "execute_result"
    },
    {
     "data": {
      "image/png": "[encoded data removed]",
      "text/plain": [
       "<matplotlib.figure.Figure at 0x7ffa2c587a10>"
      ]
     },
     "metadata": {},
     "output_type": "display_data"
    }
   ],
   "source": [
    "df = pd.DataFrame(h.history)\n",
    "df.plot(figsize=(16,8))"
   ]
  },
  {
   "cell_type": "code",
   "execution_count": 10,
   "metadata": {
    "collapsed": false
   },
   "outputs": [
    {
     "name": "stdout",
     "output_type": "stream",
     "text": [
      "()\n",
      "Test classification report\n",
      "Accuracy: 0.750000\n",
      "             precision    recall  f1-score   support\n",
      "\n",
      "          0       0.62      0.59      0.60        22\n",
      "          1       0.00      0.00      0.00         1\n",
      "          2       0.40      0.33      0.36        12\n",
      "          3       0.78      0.82      0.80        17\n",
      "          4       0.81      0.83      0.82        96\n",
      "\n",
      "avg / total       0.74      0.75      0.74       148\n",
      "\n",
      "Test confusion Matrix\n",
      "                                 poteri          scadenza         assemblea          clausola non_riconducibile\n",
      "               poteri              13.0               0.0               0.0               0.0               9.0\n",
      "             scadenza               0.0               0.0               0.0               0.0               1.0\n",
      "            assemblea               1.0               0.0               4.0               1.0               6.0\n",
      "             clausola               0.0               0.0               0.0              14.0               3.0\n",
      "    non_riconducibile               7.0               0.0               6.0               3.0              80.0\n"
     ]
    },
    {
     "name": "stderr",
     "output_type": "stream",
     "text": [
      "/usr/local/lib/python2.7/dist-packages/sklearn/metrics/classification.py:1135: UndefinedMetricWarning: Precision and F-score are ill-defined and being set to 0.0 in labels with no predicted samples.\n",
      "  'precision', 'predicted', average, warn_for)\n"
     ]
    },
    {
     "data": {
      "text/plain": [
       "0.75"
      ]
     },
     "execution_count": 10,
     "metadata": {},
     "output_type": "execute_result"
    }
   ],
   "source": [
    "predict_test(model, X_test, y_test, classes)"
   ]
  }
 ],
 "metadata": {
  "kernelspec": {
   "display_name": "Python 2",
   "language": "python",
   "name": "python2"
  },
  "language_info": {
   "codemirror_mode": {
    "name": "ipython",
    "version": 2
   },
   "file_extension": ".py",
   "mimetype": "text/x-python",
   "name": "python",
   "nbconvert_exporter": "python",
   "pygments_lexer": "ipython2",
   "version": "2.7.12"
  }
 },
 "nbformat": 4,
 "nbformat_minor": 2
}
